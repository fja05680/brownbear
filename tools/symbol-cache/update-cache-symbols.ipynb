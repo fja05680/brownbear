{
 "cells": [
  {
   "cell_type": "markdown",
   "metadata": {},
   "source": [
    "# Update Cache Symbols\n",
    "\n",
    "A useful utility for demonstating the use of the update/remove cache symbols functions.\n",
    "    "
   ]
  },
  {
   "cell_type": "code",
   "execution_count": 1,
   "metadata": {
    "ExecuteTime": {
     "end_time": "2020-02-15T23:14:35.785032Z",
     "start_time": "2020-02-15T23:14:34.966914Z"
    }
   },
   "outputs": [],
   "source": [
    "import pandas as pd\n",
    "import brownbear as bb"
   ]
  },
  {
   "cell_type": "markdown",
   "metadata": {},
   "source": [
    "Update time series for the symbols below.  \n",
    "Time series will be fetched for any symbols not already cached."
   ]
  },
  {
   "cell_type": "code",
   "execution_count": 2,
   "metadata": {
    "ExecuteTime": {
     "end_time": "2020-02-15T23:14:39.514651Z",
     "start_time": "2020-02-15T23:14:35.794760Z"
    }
   },
   "outputs": [
    {
     "name": "stdout",
     "output_type": "stream",
     "text": [
      "...\n"
     ]
    }
   ],
   "source": [
    "bb.update_cache_symbols(symbols=['msft', 'orcl', 'tsla'])"
   ]
  },
  {
   "cell_type": "markdown",
   "metadata": {},
   "source": [
    "Remove the time series for TSLA"
   ]
  },
  {
   "cell_type": "code",
   "execution_count": 3,
   "metadata": {
    "ExecuteTime": {
     "end_time": "2020-02-15T23:14:39.535037Z",
     "start_time": "2020-02-15T23:14:39.521363Z"
    }
   },
   "outputs": [
    {
     "name": "stdout",
     "output_type": "stream",
     "text": [
      "removing symbols:\n",
      "CY \n",
      "(CY.csv not found)\n",
      "FII \n",
      "(FII.csv not found)\n",
      "POL \n",
      "(POL.csv not found)\n",
      "LOGM \n",
      "(LOGM.csv not found)\n",
      "HPT \n",
      "(HPT.csv not found)\n",
      "AMAG \n",
      "(AMAG.csv not found)\n",
      "VSM \n",
      "(VSM.csv not found)\n",
      "APY \n",
      "(APY.csv not found)\n",
      "AVP \n",
      "(AVP.csv not found)\n",
      "MYL \n",
      "(MYL.csv not found)\n",
      "ISCA \n",
      "\n",
      "(ISCA.csv not found)\n",
      "AKRX \n",
      "(AKRX.csv not found)\n",
      "LPT \n",
      "(LPT.csv not found)\n",
      "AKS \n",
      "(AKS.csv not found)\n",
      "\n"
     ]
    }
   ],
   "source": [
    "bb.remove_cache_symbols(symbols=['CY', 'FII', 'POL', 'LOGM', 'HPT', 'AMAG', 'VSM', 'APY', 'AVP', 'MYL', 'ISCA', 'AKRX', 'LPT', 'AKS'])"
   ]
  },
  {
   "cell_type": "markdown",
   "metadata": {},
   "source": [
    "Update time series for all symbols in the cache directory"
   ]
  },
  {
   "cell_type": "code",
   "execution_count": null,
   "metadata": {
    "ExecuteTime": {
     "end_time": "2020-02-15T23:16:05.937873Z",
     "start_time": "2020-02-15T23:14:39.540755Z"
    }
   },
   "outputs": [],
   "source": [
    "bb.update_cache_symbols()"
   ]
  },
  {
   "cell_type": "markdown",
   "metadata": {},
   "source": [
    "Remove time series for all symbols in the cache directory"
   ]
  },
  {
   "cell_type": "code",
   "execution_count": null,
   "metadata": {
    "ExecuteTime": {
     "end_time": "2020-02-15T23:16:05.951276Z",
     "start_time": "2020-02-15T23:16:05.941884Z"
    }
   },
   "outputs": [],
   "source": [
    "# WARNING!!! - if you uncomment the line below, you'll wipe out\n",
    "# all the symbols in your cache directory\n",
    "#pf.remove_cache_symbols()"
   ]
  },
  {
   "cell_type": "code",
   "execution_count": null,
   "metadata": {},
   "outputs": [],
   "source": []
  }
 ],
 "metadata": {
  "kernelspec": {
   "display_name": "Python 3",
   "language": "python",
   "name": "python3"
  },
  "language_info": {
   "codemirror_mode": {
    "name": "ipython",
    "version": 3
   },
   "file_extension": ".py",
   "mimetype": "text/x-python",
   "name": "python",
   "nbconvert_exporter": "python",
   "pygments_lexer": "ipython3",
   "version": "3.8.5"
  },
  "latex_envs": {
   "LaTeX_envs_menu_present": true,
   "autoclose": false,
   "autocomplete": true,
   "bibliofile": "biblio.bib",
   "cite_by": "apalike",
   "current_citInitial": 1,
   "eqLabelWithNumbers": true,
   "eqNumInitial": 1,
   "hotkeys": {
    "equation": "Ctrl-E",
    "itemize": "Ctrl-I"
   },
   "labels_anchors": false,
   "latex_user_defs": false,
   "report_style_numbering": false,
   "user_envs_cfg": false
  }
 },
 "nbformat": 4,
 "nbformat_minor": 1
}
