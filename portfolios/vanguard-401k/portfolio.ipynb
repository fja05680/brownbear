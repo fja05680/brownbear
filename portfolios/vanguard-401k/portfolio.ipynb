{
 "cells": [
  {
   "cell_type": "markdown",
   "metadata": {},
   "source": [
    "\n",
    "<img src=\"../../images/brownbear.png\" width=\"400\">\n",
    "\n",
    "## A financial tool that can analyze and maximize investment portfolios on a risk adjusted basis  \n",
    "\n",
    "\n",
    "Description: This notebook is useful for examining potfolios comprised of investments options from the S&C Vanguard 401K.  Construct portfolios from the Investment Options in the S&C Vanguard 401K and examine the results of different weighting schemes.  See \n"
   ]
  },
  {
   "cell_type": "code",
   "execution_count": 1,
   "metadata": {
    "ExecuteTime": {
     "end_time": "2019-08-05T19:30:28.821735Z",
     "start_time": "2019-08-05T19:30:28.795344Z"
    }
   },
   "outputs": [
    {
     "data": {
      "application/javascript": [
       "IPython.OutputArea.prototype._should_scroll = function(lines) {\n",
       "    return false;\n",
       "}\n"
      ],
      "text/plain": [
       "<IPython.core.display.Javascript object>"
      ]
     },
     "metadata": {},
     "output_type": "display_data"
    }
   ],
   "source": [
    "%%javascript\n",
    "IPython.OutputArea.prototype._should_scroll = function(lines) {\n",
    "    return false;\n",
    "}"
   ]
  },
  {
   "cell_type": "code",
   "execution_count": 2,
   "metadata": {
    "ExecuteTime": {
     "end_time": "2019-08-05T19:30:29.630182Z",
     "start_time": "2019-08-05T19:30:28.824991Z"
    }
   },
   "outputs": [],
   "source": [
    "import pandas as pd\n",
    "import matplotlib.pyplot as plt\n",
    "import brownbear as bb\n",
    "\n",
    "# Format price data.\n",
    "pd.options.display.float_format = '{:0.2f}'.format\n",
    "\n",
    "# Display all rows.\n",
    "pd.set_option('display.max_rows', None)\n",
    "\n",
    "# Do not truncate column names.\n",
    "pd.set_option('display.max_colwidth', None)\n",
    "\n",
    "%matplotlib inline"
   ]
  },
  {
   "cell_type": "code",
   "execution_count": 3,
   "metadata": {
    "ExecuteTime": {
     "end_time": "2019-08-05T19:30:29.646391Z",
     "start_time": "2019-08-05T19:30:29.636429Z"
    }
   },
   "outputs": [],
   "source": [
    "# Set size of inline plots.\n",
    "'''note: rcParams can't be in same cell as import matplotlib\n",
    "   or %matplotlib inline\n",
    "   \n",
    "   %matplotlib notebook: will lead to interactive plots embedded within\n",
    "   the notebook, you can zoom and resize the figure\n",
    "   \n",
    "   %matplotlib inline: only draw static images in the notebook\n",
    "'''\n",
    "plt.rcParams[\"figure.figsize\"] = (10, 7)"
   ]
  },
  {
   "cell_type": "markdown",
   "metadata": {},
   "source": [
    "### Some Globals"
   ]
  },
  {
   "cell_type": "code",
   "execution_count": 4,
   "metadata": {},
   "outputs": [],
   "source": [
    "investment_universe = ['securian-401k']\n",
    "risk_free_rate = 1.10\n",
    "annual_returns = '5 Yr'"
   ]
  },
  {
   "cell_type": "markdown",
   "metadata": {},
   "source": [
    "##### Fetch Investment Options - all values annualized.\n",
    "df = bb.fetch(investment_universe, risk_free_rate, annual_returns)\n",
    "df"
   ]
  },
  {
   "cell_type": "code",
   "execution_count": 5,
   "metadata": {
    "scrolled": true
   },
   "outputs": [
    {
     "ename": "NameError",
     "evalue": "name 'df' is not defined",
     "output_type": "error",
     "traceback": [
      "\u001b[0;31m---------------------------------------------------------------------------\u001b[0m",
      "\u001b[0;31mNameError\u001b[0m                                 Traceback (most recent call last)",
      "Input \u001b[0;32mIn [5]\u001b[0m, in \u001b[0;36m<cell line: 2>\u001b[0;34m()\u001b[0m\n\u001b[1;32m      1\u001b[0m \u001b[38;5;66;03m# Rank.\u001b[39;00m\n\u001b[0;32m----> 2\u001b[0m rank \u001b[38;5;241m=\u001b[39m bb\u001b[38;5;241m.\u001b[39mrank(\u001b[43mdf\u001b[49m, rank_by\u001b[38;5;241m=\u001b[39m\u001b[38;5;124m'\u001b[39m\u001b[38;5;124mSharpe Ratio\u001b[39m\u001b[38;5;124m'\u001b[39m, group_by\u001b[38;5;241m=\u001b[39m\u001b[38;5;124m'\u001b[39m\u001b[38;5;124mAsset Class\u001b[39m\u001b[38;5;124m'\u001b[39m, num_per_group\u001b[38;5;241m=\u001b[39m\u001b[38;5;241m3\u001b[39m)\n\u001b[1;32m      3\u001b[0m rank\n",
      "\u001b[0;31mNameError\u001b[0m: name 'df' is not defined"
     ]
    }
   ],
   "source": [
    "# Rank.\n",
    "rank = bb.rank(df, rank_by='Sharpe Ratio', group_by='Asset Class', num_per_group=3)\n",
    "rank"
   ]
  },
  {
   "cell_type": "markdown",
   "metadata": {},
   "source": [
    "### Sample Portfolios\n",
    "Format 'Investment option': weight"
   ]
  },
  {
   "cell_type": "code",
   "execution_count": null,
   "metadata": {},
   "outputs": [],
   "source": [
    "# Put your \"age\" in bonds and the rest in stocks.\n",
    "age_portfolio = {\n",
    "    'Title': 'Age Portfolio',\n",
    "    'Securian AM S&P 500 Index': 0.50,\n",
    "    'Metropolitan West Total Return Bd Admin': 0.50\n",
    "}\n",
    "\n",
    "# Put your \"age\" in Short Term Treasuries and the rest in stocks.\n",
    "age2_portfolio = {\n",
    "    'Title': 'Age2 Portfolio',\n",
    "    'Securian AM S&P 500 Index': 0.50,\n",
    "    'Minnesota Life General Account': 0.50\n",
    "}\n",
    "\n",
    "# Top dogs - top performer by sharpe ratio in each Asset Class, equal weights.\n",
    "top_dog_portfolio = {\n",
    "    'Title': 'Top Dog Portfolio',\n",
    "    'Securian AM S&P 500 Index': 1/7,\n",
    "    'Loomis Sayles Investment Grade Bond Adm': 1/7,\n",
    "    'Minnesota Life General Account': 1/7,\n",
    "    'Delaware Ivy Securian Real Estate Sec Y': 1/7,\n",
    "    'TIAA-CREF International Eq Idx Instl': 1/7,\n",
    "    'Securian AM Money Market': 1/7,\n",
    "    'Vanguard LifeStrategy Growth Inv': 1/7\n",
    "}\n",
    "\n",
    "# 50% S&P 500, 50% bonds\n",
    "fifty_fifty_portfolio = {\n",
    "    'Title': 'Fifty Fifty Portfolio',\n",
    "    'Securian AM S&P 500 Index': 1/2,\n",
    "    'Metropolitan West Total Return Bd Admin': 1/2\n",
    "}\n",
    "\n",
    "# 1/3 S&P 500, 1/3 bonds, 1/3 fixed income.\n",
    "thirds_portfolio = {\n",
    "    'Title': 'Thirds Portfolio',\n",
    "    'Securian AM S&P 500 Index': 1/3,\n",
    "    'Metropolitan West Total Return Bd Admin': 1/3,\n",
    "    'Minnesota Life General Account': 1/3\n",
    "}\n",
    "\n",
    "# Dave Ramsey: 25% Growth and income, 25% Growth, 25% Aggressive growth, 25% International.\n",
    "dave_ramsey_portfolio = {\n",
    "    'Title': 'Dave Ramsey Portfolio',\n",
    "    'Securian AM S&P 500 Index': 1/4,\n",
    "    'ClearBridge Large Cap Growth': 1/4,\n",
    "    'Morgan Stanley Advantage Large Growth': 1/4,\n",
    "    'Invesco Oppenheimer International Gr R5': 1/4   \n",
    "}\n",
    "\n",
    "# Warren Buffett Retirement Fund: 90% S&P500, 10% Short Term Treasuries (sub General Account).\n",
    "warren_buffett_portfolio = {\n",
    "    'Title': 'Warren Buffet Portfolio',\n",
    "    'Securian AM S&P 500 Index': 0.90,\n",
    "    'Minnesota Life General Account': 0.10\n",
    "}\n",
    "\n",
    "# https://www.forbes.com/sites/baldwin/2016/07/25/eight-famous-portfolios/#42c50d7d5cce\n",
    "# american households: 25% real estate, 30% stocks, 30% fixed income, 5% cash, 10% alternatives\n",
    "american_households_portfolio = {\n",
    "    'Title': 'American Households Portfolio',\n",
    "    'Delaware Ivy Securian Real Estate Sec Y': 0.25,\n",
    "    'Securian AM S&P 500 Index': 0.30,\n",
    "    'Minnesota Life General Account': 0.30,\n",
    "    'Securian AM Money Market': 0.05,\n",
    "    'Fidelity Emerging Markets Idx': 0.10\n",
    "}\n",
    "\n",
    "# Janet Yellen: 50% fixed income, 40% S&P500, 10% cash.\n",
    "janet_yellen_portfolio = {\n",
    "    'Title': 'Janet Yellen Portfolio',\n",
    "    'Minnesota Life General Account': 0.50,\n",
    "    'Securian AM S&P 500 Index': 0.40,\n",
    "    'Securian AM Money Market': 0.10\n",
    "}\n",
    "\n",
    "# securian-401k, risk off: 100% fixed income divided between risk free asset, bond fund, and money market..\n",
    "risk_off_portfolio = {\n",
    "    'Title': 'Risk Off Portfolio',\n",
    "    'Minnesota Life General Account': 1/3,\n",
    "    'Metropolitan West Total Return Bd Admin': 1/3,\n",
    "    'Securian AM Money Market': 1/3\n",
    "}\n",
    "\n",
    "# securian-401k, risk on: 100% US stocks bevided between large, emerging markets, and small cap\n",
    "risk_on_portfolio = {\n",
    "    'Title': 'Risk On Portfolio',\n",
    "    'Morgan Stanley Advantage Large Growth': 1/3,\n",
    "    'Invesco Oppenheimer International Gr R5':1/3,\n",
    "    'Vanguard Small Cap Growth Index Admiral': 1/3\n",
    "}\n",
    "\n",
    "# Everything ranked.\n",
    "ranked_portfolio = {\n",
    "    'Title': 'Ranked Portfolio'\n",
    "}\n",
    "everything = list(rank['Investment Option'])\n",
    "ranked_portfolio.update(dict.fromkeys(everything, 1/len(everything)))"
   ]
  },
  {
   "cell_type": "markdown",
   "metadata": {},
   "source": [
    "### Custom Portfolios"
   ]
  },
  {
   "cell_type": "code",
   "execution_count": null,
   "metadata": {},
   "outputs": [],
   "source": [
    "# My portfolio.\n",
    "my_portfolio = {\n",
    "    'Title': 'My Portfolio',\n",
    "\n",
    "}\n",
    "\n",
    "# fja0568 current allocations.\n",
    "fja_portfolio = {\n",
    "    'Title': 'Farrell Portfolio',\n",
    "    'Minnesota Life General Account': 0.10,\n",
    "    'Metropolitan West Total Return Bd Admin': 0.40,\n",
    "    'Securian AM S&P 500 Index': 0.50\n",
    "}"
   ]
  },
  {
   "cell_type": "markdown",
   "metadata": {},
   "source": [
    "### Choose Portfolio Option"
   ]
  },
  {
   "cell_type": "code",
   "execution_count": null,
   "metadata": {},
   "outputs": [],
   "source": [
    "# Select one of the portfolios from above.\n",
    "portfolio_option = ranked_portfolio"
   ]
  },
  {
   "cell_type": "code",
   "execution_count": null,
   "metadata": {},
   "outputs": [],
   "source": [
    "# Make a copy so that the original portfolio is preserved.\n",
    "portfolio_option = portfolio_option.copy()"
   ]
  },
  {
   "cell_type": "markdown",
   "metadata": {},
   "source": [
    "### Analysis Options"
   ]
  },
  {
   "cell_type": "code",
   "execution_count": null,
   "metadata": {},
   "outputs": [],
   "source": [
    "# Specify the weighting scheme.  It will replace the weights specified in the portfolio.\n",
    "# You can also fix the weights on some Investent Options, Asset Classes, and Asset Subclasses,\n",
    "# while the others are automatically calculated.\n",
    "\n",
    "# 'Equal' - will use equal weights.\n",
    "\n",
    "# 'Sharpe Ratio' - will use proportionally weighted # allocations based on the percent\n",
    "#  of an investment option's sharpe ratio to the sum of all the sharpe ratios in the portfolio.\n",
    "\n",
    "# 'Std Dev' - will use standard deviation adjusted weights\n",
    "\n",
    "# 'Annual Returns' - will use return adjusted weights\n",
    "\n",
    "# 'Vola' - will use volatility adjusted weights\n",
    "\n",
    "# 'DS Vola' - will use downside volatility adjusted weights\n",
    "\n",
    "# None: 'Investment Option' means use user specified weights\n",
    "#       'Asset Class' means do not group by Asset Class\n",
    "#       'Asset Subclass means do not group by Asset Subclass \n",
    "\n",
    "weight_by = {\n",
    "    'Asset Class':       {'weight_by': 'Equal',\n",
    "                          'US Stocks': 0.50,\n",
    "                          'US Bonds': 0.40,\n",
    "                          'Risk-Free Asset': 0.10},\n",
    "    'Asset Subclass':    {'weight_by': None},\n",
    "    'Investment Option': {'weight_by': 'Annual Returns'},\n",
    "}\n",
    "#weight_by = None"
   ]
  },
  {
   "cell_type": "code",
   "execution_count": null,
   "metadata": {
    "scrolled": false
   },
   "outputs": [],
   "source": [
    "bb.DEBUG = False\n",
    "\n",
    "# Analyze portfolio.\n",
    "annual_ret, std_dev, sharpe_ratio = \\\n",
    "    bb.analyze(df, portfolio_option, weight_by)"
   ]
  },
  {
   "cell_type": "code",
   "execution_count": null,
   "metadata": {
    "jupyter": {
     "outputs_hidden": true
    },
    "scrolled": false
   },
   "outputs": [],
   "source": [
    "# Display Results.\n",
    "summary = bb.summary(df, portfolio_option, annual_ret, std_dev, sharpe_ratio)\n",
    "summary"
   ]
  },
  {
   "cell_type": "code",
   "execution_count": null,
   "metadata": {
    "scrolled": true
   },
   "outputs": [],
   "source": [
    "# Show pie charts of investment and asset class weights\n",
    "bb.show_pie_charts(df, portfolio_option, charts=['Investment Option', 'Asset Class'])"
   ]
  },
  {
   "cell_type": "code",
   "execution_count": null,
   "metadata": {},
   "outputs": [],
   "source": [
    "# Show exact weights\n",
    "bb.print_portfolio(portfolio_option)"
   ]
  },
  {
   "cell_type": "markdown",
   "metadata": {},
   "source": [
    "### Optimize Portfolio"
   ]
  },
  {
   "cell_type": "code",
   "execution_count": null,
   "metadata": {},
   "outputs": [],
   "source": [
    "# Run_portfolio_optimizer = True will run portfolio optimizer after portfolio analysis is complete.\n",
    "run_portfolio_optimizer = True"
   ]
  },
  {
   "cell_type": "code",
   "execution_count": null,
   "metadata": {
    "scrolled": true
   },
   "outputs": [],
   "source": [
    "# Optimize sharpe ratio while specifying Annual Rate, Worst Typical Down Year,\n",
    "# and Black Swan.  Setting a constraint to None optimizes absolute Sharpe Ratio\n",
    "# without regard to that constraint.\n",
    "\n",
    "'''\n",
    "constraints = {\n",
    "    'Annual Return': 12,\n",
    "    'Worst Typical Down Year': -5,\n",
    "    'Black Swan': -20\n",
    "}\n",
    "'''\n",
    "\n",
    "constraints = {\n",
    "    'Annual Return': 8,\n",
    "    'Worst Typical Down Year': None,\n",
    "    'Black Swan': -40\n",
    "}\n",
    "\n",
    "if run_portfolio_optimizer:\n",
    "    bb.optimizer(df, portfolio_option, constraints)"
   ]
  },
  {
   "cell_type": "markdown",
   "metadata": {},
   "source": [
    "### Use Sharpe Ratio adjusted weights\n",
    "Recommend that you also try using Sharpe Ratio adjusted weights and compare those results with the Optimized Portflio.  \n",
    "It tends to produce a higher Annual Return while keeping the allocations more balanced than the Optimizer.  (See 'Analysis Options' section)."
   ]
  },
  {
   "cell_type": "code",
   "execution_count": null,
   "metadata": {},
   "outputs": [],
   "source": []
  }
 ],
 "metadata": {
  "kernelspec": {
   "display_name": "Python 3 (ipykernel)",
   "language": "python",
   "name": "python3"
  },
  "language_info": {
   "codemirror_mode": {
    "name": "ipython",
    "version": 3
   },
   "file_extension": ".py",
   "mimetype": "text/x-python",
   "name": "python",
   "nbconvert_exporter": "python",
   "pygments_lexer": "ipython3",
   "version": "3.8.10"
  },
  "latex_envs": {
   "LaTeX_envs_menu_present": true,
   "autoclose": false,
   "autocomplete": true,
   "bibliofile": "biblio.bib",
   "cite_by": "apalike",
   "current_citInitial": 1,
   "eqLabelWithNumbers": true,
   "eqNumInitial": 1,
   "hotkeys": {
    "equation": "Ctrl-E",
    "itemize": "Ctrl-I"
   },
   "labels_anchors": false,
   "latex_user_defs": false,
   "report_style_numbering": false,
   "user_envs_cfg": false
  }
 },
 "nbformat": 4,
 "nbformat_minor": 4
}
