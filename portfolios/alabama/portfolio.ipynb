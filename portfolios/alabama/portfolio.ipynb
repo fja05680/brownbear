{
 "cells": [
  {
   "cell_type": "markdown",
   "metadata": {},
   "source": [
    "\n",
    "<img src=\"../../images/brownbear.png\" width=\"400\">\n",
    "\n",
    "## A financial tool that can analyze and maximize investment portfolios on a risk adjusted basis  \n",
    "\n",
    "\n",
    "Description: This notebook is useful for examining potfolios comprised of investments options from the alabama galaxy.  Construct portfolios from the Investment Options in the alabama galaxy and examine the results of different weighting schemes.\n"
   ]
  },
  {
   "cell_type": "code",
   "execution_count": 1,
   "metadata": {
    "ExecuteTime": {
     "end_time": "2019-08-05T19:30:28.821735Z",
     "start_time": "2019-08-05T19:30:28.795344Z"
    }
   },
   "outputs": [
    {
     "data": {
      "application/javascript": [
       "IPython.OutputArea.prototype._should_scroll = function(lines) {\n",
       "    return false;\n",
       "}\n"
      ],
      "text/plain": [
       "<IPython.core.display.Javascript object>"
      ]
     },
     "metadata": {},
     "output_type": "display_data"
    }
   ],
   "source": [
    "%%javascript\n",
    "IPython.OutputArea.prototype._should_scroll = function(lines) {\n",
    "    return false;\n",
    "}"
   ]
  },
  {
   "cell_type": "code",
   "execution_count": 2,
   "metadata": {
    "ExecuteTime": {
     "end_time": "2019-08-05T19:30:29.630182Z",
     "start_time": "2019-08-05T19:30:28.824991Z"
    }
   },
   "outputs": [],
   "source": [
    "# imports\n",
    "import pandas as pd\n",
    "import matplotlib.pyplot as plt\n",
    "import brownbear as bb\n",
    "\n",
    "# format price data\n",
    "pd.options.display.float_format = '{:0.2f}'.format\n",
    "\n",
    "# display all rows\n",
    "pd.set_option('display.max_rows', None)\n",
    "\n",
    "# do not truncate column names\n",
    "pd.set_option('display.max_colwidth', None)\n",
    "\n",
    "%matplotlib inline"
   ]
  },
  {
   "cell_type": "code",
   "execution_count": 3,
   "metadata": {
    "ExecuteTime": {
     "end_time": "2019-08-05T19:30:29.646391Z",
     "start_time": "2019-08-05T19:30:29.636429Z"
    }
   },
   "outputs": [],
   "source": [
    "# set size of inline plots\n",
    "'''note: rcParams can't be in same cell as import matplotlib\n",
    "   or %matplotlib inline\n",
    "   \n",
    "   %matplotlib notebook: will lead to interactive plots embedded within\n",
    "   the notebook, you can zoom and resize the figure\n",
    "   \n",
    "   %matplotlib inline: only draw static images in the notebook\n",
    "'''\n",
    "plt.rcParams[\"figure.figsize\"] = (10, 7)"
   ]
  },
  {
   "cell_type": "markdown",
   "metadata": {},
   "source": [
    "### Some Globals"
   ]
  },
  {
   "cell_type": "code",
   "execution_count": 4,
   "metadata": {},
   "outputs": [],
   "source": [
    "investment_universe = ['alabama-galaxy']"
   ]
  },
  {
   "cell_type": "code",
   "execution_count": 5,
   "metadata": {},
   "outputs": [
    {
     "data": {
      "text/html": [
       "<div>\n",
       "<style scoped>\n",
       "    .dataframe tbody tr th:only-of-type {\n",
       "        vertical-align: middle;\n",
       "    }\n",
       "\n",
       "    .dataframe tbody tr th {\n",
       "        vertical-align: top;\n",
       "    }\n",
       "\n",
       "    .dataframe thead th {\n",
       "        text-align: right;\n",
       "    }\n",
       "</style>\n",
       "<table border=\"1\" class=\"dataframe\">\n",
       "  <thead>\n",
       "    <tr style=\"text-align: right;\">\n",
       "      <th></th>\n",
       "      <th>Investment Option</th>\n",
       "      <th>Description</th>\n",
       "      <th>Asset Class</th>\n",
       "      <th>1 mo</th>\n",
       "      <th>3 mo</th>\n",
       "      <th>1 Yr</th>\n",
       "      <th>3 Yr</th>\n",
       "      <th>5 Yr</th>\n",
       "      <th>Vola</th>\n",
       "      <th>DS Vola</th>\n",
       "      <th>SD 1 Yr</th>\n",
       "      <th>SD 3 Yr</th>\n",
       "      <th>SD 5 Yr</th>\n",
       "      <th>Annual Returns</th>\n",
       "      <th>Std Dev</th>\n",
       "      <th>Sharpe Ratio</th>\n",
       "    </tr>\n",
       "  </thead>\n",
       "  <tbody>\n",
       "    <tr>\n",
       "      <th>0</th>\n",
       "      <td>ROAD</td>\n",
       "      <td>Construction Partners Inc</td>\n",
       "      <td>US Stocks:Industrials</td>\n",
       "      <td>574.26</td>\n",
       "      <td>54.04</td>\n",
       "      <td>73.45</td>\n",
       "      <td>51.62</td>\n",
       "      <td>37.04</td>\n",
       "      <td>62.91</td>\n",
       "      <td>21.21</td>\n",
       "      <td>42.07</td>\n",
       "      <td>36.73</td>\n",
       "      <td>34.85</td>\n",
       "      <td>37.04</td>\n",
       "      <td>36.73</td>\n",
       "      <td>1.01</td>\n",
       "    </tr>\n",
       "    <tr>\n",
       "      <th>1</th>\n",
       "      <td>EHC</td>\n",
       "      <td>Encompass Health</td>\n",
       "      <td>US Stocks:Healthcare</td>\n",
       "      <td>395.32</td>\n",
       "      <td>91.88</td>\n",
       "      <td>40.88</td>\n",
       "      <td>32.31</td>\n",
       "      <td>18.25</td>\n",
       "      <td>55.63</td>\n",
       "      <td>26.76</td>\n",
       "      <td>20.78</td>\n",
       "      <td>26.81</td>\n",
       "      <td>29.97</td>\n",
       "      <td>18.25</td>\n",
       "      <td>26.81</td>\n",
       "      <td>0.68</td>\n",
       "    </tr>\n",
       "    <tr>\n",
       "      <th>2</th>\n",
       "      <td>RF</td>\n",
       "      <td>Regions Financial</td>\n",
       "      <td>US Stocks:Financials</td>\n",
       "      <td>-41.76</td>\n",
       "      <td>-44.43</td>\n",
       "      <td>14.04</td>\n",
       "      <td>4.09</td>\n",
       "      <td>19.28</td>\n",
       "      <td>46.10</td>\n",
       "      <td>23.50</td>\n",
       "      <td>25.92</td>\n",
       "      <td>32.34</td>\n",
       "      <td>30.64</td>\n",
       "      <td>19.28</td>\n",
       "      <td>32.34</td>\n",
       "      <td>0.60</td>\n",
       "    </tr>\n",
       "    <tr>\n",
       "      <th>3</th>\n",
       "      <td>VMC</td>\n",
       "      <td>Vulcan Materials Company</td>\n",
       "      <td>US Stocks:Materials</td>\n",
       "      <td>258.43</td>\n",
       "      <td>-9.16</td>\n",
       "      <td>4.45</td>\n",
       "      <td>16.74</td>\n",
       "      <td>20.29</td>\n",
       "      <td>39.61</td>\n",
       "      <td>15.09</td>\n",
       "      <td>27.98</td>\n",
       "      <td>27.80</td>\n",
       "      <td>25.43</td>\n",
       "      <td>20.29</td>\n",
       "      <td>27.80</td>\n",
       "      <td>0.73</td>\n",
       "    </tr>\n",
       "    <tr>\n",
       "      <th>4</th>\n",
       "      <td>ADTN</td>\n",
       "      <td>ADTRAN</td>\n",
       "      <td>US Stocks:Technology</td>\n",
       "      <td>-68.23</td>\n",
       "      <td>-66.66</td>\n",
       "      <td>79.91</td>\n",
       "      <td>-21.89</td>\n",
       "      <td>-3.13</td>\n",
       "      <td>64.75</td>\n",
       "      <td>33.40</td>\n",
       "      <td>60.28</td>\n",
       "      <td>63.82</td>\n",
       "      <td>54.35</td>\n",
       "      <td>-3.13</td>\n",
       "      <td>63.82</td>\n",
       "      <td>-199.76</td>\n",
       "    </tr>\n",
       "    <tr>\n",
       "      <th>5</th>\n",
       "      <td>PRA</td>\n",
       "      <td>ProAssurance Corporation</td>\n",
       "      <td>US Stocks:Financials</td>\n",
       "      <td>-17.00</td>\n",
       "      <td>458.71</td>\n",
       "      <td>72.16</td>\n",
       "      <td>-2.14</td>\n",
       "      <td>2.10</td>\n",
       "      <td>7.83</td>\n",
       "      <td>5.17</td>\n",
       "      <td>52.90</td>\n",
       "      <td>47.69</td>\n",
       "      <td>43.77</td>\n",
       "      <td>2.10</td>\n",
       "      <td>47.69</td>\n",
       "      <td>0.04</td>\n",
       "    </tr>\n",
       "  </tbody>\n",
       "</table>\n",
       "</div>"
      ],
      "text/plain": [
       "  Investment Option                Description            Asset Class   1 mo  \\\n",
       "0              ROAD  Construction Partners Inc  US Stocks:Industrials 574.26   \n",
       "1               EHC           Encompass Health   US Stocks:Healthcare 395.32   \n",
       "2                RF          Regions Financial   US Stocks:Financials -41.76   \n",
       "3               VMC   Vulcan Materials Company    US Stocks:Materials 258.43   \n",
       "4              ADTN                     ADTRAN   US Stocks:Technology -68.23   \n",
       "5               PRA   ProAssurance Corporation   US Stocks:Financials -17.00   \n",
       "\n",
       "    3 mo  1 Yr   3 Yr  5 Yr  Vola  DS Vola  SD 1 Yr  SD 3 Yr  SD 5 Yr  \\\n",
       "0  54.04 73.45  51.62 37.04 62.91    21.21    42.07    36.73    34.85   \n",
       "1  91.88 40.88  32.31 18.25 55.63    26.76    20.78    26.81    29.97   \n",
       "2 -44.43 14.04   4.09 19.28 46.10    23.50    25.92    32.34    30.64   \n",
       "3  -9.16  4.45  16.74 20.29 39.61    15.09    27.98    27.80    25.43   \n",
       "4 -66.66 79.91 -21.89 -3.13 64.75    33.40    60.28    63.82    54.35   \n",
       "5 458.71 72.16  -2.14  2.10  7.83     5.17    52.90    47.69    43.77   \n",
       "\n",
       "   Annual Returns  Std Dev  Sharpe Ratio  \n",
       "0           37.04    36.73          1.01  \n",
       "1           18.25    26.81          0.68  \n",
       "2           19.28    32.34          0.60  \n",
       "3           20.29    27.80          0.73  \n",
       "4           -3.13    63.82       -199.76  \n",
       "5            2.10    47.69          0.04  "
      ]
     },
     "execution_count": 5,
     "metadata": {},
     "output_type": "execute_result"
    }
   ],
   "source": [
    "# Fetch Investment Options - all values annualized\n",
    "df = bb.fetch(investment_universe, risk_free_rate=0, annual_returns='5 Yr', standard_deviation='SD 3 Yr')\n",
    "df"
   ]
  },
  {
   "cell_type": "code",
   "execution_count": 6,
   "metadata": {
    "scrolled": true
   },
   "outputs": [
    {
     "data": {
      "text/html": [
       "<div>\n",
       "<style scoped>\n",
       "    .dataframe tbody tr th:only-of-type {\n",
       "        vertical-align: middle;\n",
       "    }\n",
       "\n",
       "    .dataframe tbody tr th {\n",
       "        vertical-align: top;\n",
       "    }\n",
       "\n",
       "    .dataframe thead th {\n",
       "        text-align: right;\n",
       "    }\n",
       "</style>\n",
       "<table border=\"1\" class=\"dataframe\">\n",
       "  <thead>\n",
       "    <tr style=\"text-align: right;\">\n",
       "      <th></th>\n",
       "      <th>Investment Option</th>\n",
       "      <th>Description</th>\n",
       "      <th>Asset Class</th>\n",
       "      <th>1 mo</th>\n",
       "      <th>3 mo</th>\n",
       "      <th>1 Yr</th>\n",
       "      <th>3 Yr</th>\n",
       "      <th>5 Yr</th>\n",
       "      <th>Vola</th>\n",
       "      <th>DS Vola</th>\n",
       "      <th>SD 1 Yr</th>\n",
       "      <th>SD 3 Yr</th>\n",
       "      <th>SD 5 Yr</th>\n",
       "      <th>Annual Returns</th>\n",
       "      <th>Std Dev</th>\n",
       "      <th>Sharpe Ratio</th>\n",
       "    </tr>\n",
       "  </thead>\n",
       "  <tbody>\n",
       "    <tr>\n",
       "      <th>0</th>\n",
       "      <td>ROAD</td>\n",
       "      <td>Construction Partners Inc</td>\n",
       "      <td>US Stocks:Industrials</td>\n",
       "      <td>574.26</td>\n",
       "      <td>54.04</td>\n",
       "      <td>73.45</td>\n",
       "      <td>51.62</td>\n",
       "      <td>37.04</td>\n",
       "      <td>62.91</td>\n",
       "      <td>21.21</td>\n",
       "      <td>42.07</td>\n",
       "      <td>36.73</td>\n",
       "      <td>34.85</td>\n",
       "      <td>37.04</td>\n",
       "      <td>36.73</td>\n",
       "      <td>1.01</td>\n",
       "    </tr>\n",
       "    <tr>\n",
       "      <th>3</th>\n",
       "      <td>VMC</td>\n",
       "      <td>Vulcan Materials Company</td>\n",
       "      <td>US Stocks:Materials</td>\n",
       "      <td>258.43</td>\n",
       "      <td>-9.16</td>\n",
       "      <td>4.45</td>\n",
       "      <td>16.74</td>\n",
       "      <td>20.29</td>\n",
       "      <td>39.61</td>\n",
       "      <td>15.09</td>\n",
       "      <td>27.98</td>\n",
       "      <td>27.80</td>\n",
       "      <td>25.43</td>\n",
       "      <td>20.29</td>\n",
       "      <td>27.80</td>\n",
       "      <td>0.73</td>\n",
       "    </tr>\n",
       "    <tr>\n",
       "      <th>1</th>\n",
       "      <td>EHC</td>\n",
       "      <td>Encompass Health</td>\n",
       "      <td>US Stocks:Healthcare</td>\n",
       "      <td>395.32</td>\n",
       "      <td>91.88</td>\n",
       "      <td>40.88</td>\n",
       "      <td>32.31</td>\n",
       "      <td>18.25</td>\n",
       "      <td>55.63</td>\n",
       "      <td>26.76</td>\n",
       "      <td>20.78</td>\n",
       "      <td>26.81</td>\n",
       "      <td>29.97</td>\n",
       "      <td>18.25</td>\n",
       "      <td>26.81</td>\n",
       "      <td>0.68</td>\n",
       "    </tr>\n",
       "    <tr>\n",
       "      <th>2</th>\n",
       "      <td>RF</td>\n",
       "      <td>Regions Financial</td>\n",
       "      <td>US Stocks:Financials</td>\n",
       "      <td>-41.76</td>\n",
       "      <td>-44.43</td>\n",
       "      <td>14.04</td>\n",
       "      <td>4.09</td>\n",
       "      <td>19.28</td>\n",
       "      <td>46.10</td>\n",
       "      <td>23.50</td>\n",
       "      <td>25.92</td>\n",
       "      <td>32.34</td>\n",
       "      <td>30.64</td>\n",
       "      <td>19.28</td>\n",
       "      <td>32.34</td>\n",
       "      <td>0.60</td>\n",
       "    </tr>\n",
       "    <tr>\n",
       "      <th>5</th>\n",
       "      <td>PRA</td>\n",
       "      <td>ProAssurance Corporation</td>\n",
       "      <td>US Stocks:Financials</td>\n",
       "      <td>-17.00</td>\n",
       "      <td>458.71</td>\n",
       "      <td>72.16</td>\n",
       "      <td>-2.14</td>\n",
       "      <td>2.10</td>\n",
       "      <td>7.83</td>\n",
       "      <td>5.17</td>\n",
       "      <td>52.90</td>\n",
       "      <td>47.69</td>\n",
       "      <td>43.77</td>\n",
       "      <td>2.10</td>\n",
       "      <td>47.69</td>\n",
       "      <td>0.04</td>\n",
       "    </tr>\n",
       "    <tr>\n",
       "      <th>4</th>\n",
       "      <td>ADTN</td>\n",
       "      <td>ADTRAN</td>\n",
       "      <td>US Stocks:Technology</td>\n",
       "      <td>-68.23</td>\n",
       "      <td>-66.66</td>\n",
       "      <td>79.91</td>\n",
       "      <td>-21.89</td>\n",
       "      <td>-3.13</td>\n",
       "      <td>64.75</td>\n",
       "      <td>33.40</td>\n",
       "      <td>60.28</td>\n",
       "      <td>63.82</td>\n",
       "      <td>54.35</td>\n",
       "      <td>-3.13</td>\n",
       "      <td>63.82</td>\n",
       "      <td>-199.76</td>\n",
       "    </tr>\n",
       "  </tbody>\n",
       "</table>\n",
       "</div>"
      ],
      "text/plain": [
       "  Investment Option                Description            Asset Class   1 mo  \\\n",
       "0              ROAD  Construction Partners Inc  US Stocks:Industrials 574.26   \n",
       "3               VMC   Vulcan Materials Company    US Stocks:Materials 258.43   \n",
       "1               EHC           Encompass Health   US Stocks:Healthcare 395.32   \n",
       "2                RF          Regions Financial   US Stocks:Financials -41.76   \n",
       "5               PRA   ProAssurance Corporation   US Stocks:Financials -17.00   \n",
       "4              ADTN                     ADTRAN   US Stocks:Technology -68.23   \n",
       "\n",
       "    3 mo  1 Yr   3 Yr  5 Yr  Vola  DS Vola  SD 1 Yr  SD 3 Yr  SD 5 Yr  \\\n",
       "0  54.04 73.45  51.62 37.04 62.91    21.21    42.07    36.73    34.85   \n",
       "3  -9.16  4.45  16.74 20.29 39.61    15.09    27.98    27.80    25.43   \n",
       "1  91.88 40.88  32.31 18.25 55.63    26.76    20.78    26.81    29.97   \n",
       "2 -44.43 14.04   4.09 19.28 46.10    23.50    25.92    32.34    30.64   \n",
       "5 458.71 72.16  -2.14  2.10  7.83     5.17    52.90    47.69    43.77   \n",
       "4 -66.66 79.91 -21.89 -3.13 64.75    33.40    60.28    63.82    54.35   \n",
       "\n",
       "   Annual Returns  Std Dev  Sharpe Ratio  \n",
       "0           37.04    36.73          1.01  \n",
       "3           20.29    27.80          0.73  \n",
       "1           18.25    26.81          0.68  \n",
       "2           19.28    32.34          0.60  \n",
       "5            2.10    47.69          0.04  \n",
       "4           -3.13    63.82       -199.76  "
      ]
     },
     "execution_count": 6,
     "metadata": {},
     "output_type": "execute_result"
    }
   ],
   "source": [
    "# rank\n",
    "rank = bb.rank(df, rank_by='Sharpe Ratio')\n",
    "rank_filtered = rank\n",
    "#rank_filtered = rank.loc[(rank['3 mo'] > 0) & rank['1 Yr'] > 0]\n",
    "rank_filtered"
   ]
  },
  {
   "cell_type": "markdown",
   "metadata": {},
   "source": [
    "### Sample Portfolios\n",
    "Format 'Investment option': weight"
   ]
  },
  {
   "cell_type": "code",
   "execution_count": 7,
   "metadata": {},
   "outputs": [],
   "source": [
    "# everything ranked\n",
    "ranked_portfolio = {\n",
    "    'Title': 'Ranked Portfolio'\n",
    "}\n",
    "everything = list(rank_filtered['Investment Option'])[:20]\n",
    "ranked_portfolio.update(dict.fromkeys(everything, 1/len(everything)))\n",
    "\n",
    "# top 10\n",
    "top10_portfolio = {\n",
    "    'Title': 'Top10 Portfolio'\n",
    "}\n",
    "top10 = list(rank['Investment Option'])[:10]\n",
    "top10_portfolio.update(dict.fromkeys(top10, 1/len(top10)))"
   ]
  },
  {
   "cell_type": "markdown",
   "metadata": {},
   "source": [
    "### Custom Portfolios"
   ]
  },
  {
   "cell_type": "code",
   "execution_count": 8,
   "metadata": {},
   "outputs": [],
   "source": [
    "# My portfolio\n",
    "my_portfolio = {\n",
    "    'Title': 'My Portfolio',\n",
    "\n",
    "}"
   ]
  },
  {
   "cell_type": "markdown",
   "metadata": {},
   "source": [
    "### Choose Portfolio Option"
   ]
  },
  {
   "cell_type": "code",
   "execution_count": 9,
   "metadata": {},
   "outputs": [],
   "source": [
    "# Select one of the portfolios from above\n",
    "portfolio_option = ranked_portfolio"
   ]
  },
  {
   "cell_type": "code",
   "execution_count": 10,
   "metadata": {},
   "outputs": [
    {
     "data": {
      "text/plain": [
       "{'Title': 'Ranked Portfolio',\n",
       " 'ROAD': 0.16666666666666666,\n",
       " 'VMC': 0.16666666666666666,\n",
       " 'EHC': 0.16666666666666666,\n",
       " 'RF': 0.16666666666666666,\n",
       " 'PRA': 0.16666666666666666,\n",
       " 'ADTN': 0.16666666666666666}"
      ]
     },
     "execution_count": 10,
     "metadata": {},
     "output_type": "execute_result"
    }
   ],
   "source": [
    "# Make a copy so that the original portfolio is preserved\n",
    "portfolio_option = portfolio_option.copy()\n",
    "portfolio_option"
   ]
  },
  {
   "cell_type": "markdown",
   "metadata": {},
   "source": [
    "### Analysis Options"
   ]
  },
  {
   "cell_type": "code",
   "execution_count": 11,
   "metadata": {},
   "outputs": [],
   "source": [
    "# Specify the weighting scheme.  It will replace the weights specified in the portfolio\n",
    "# You can also fix the weights on some Investent Options, Asset Classes, and Asset Subclasses\n",
    "# while the others are automatically calculated.\n",
    "\n",
    "# 'Equal' - will use equal weights.\n",
    "\n",
    "# 'Sharpe Ratio' - will use proportionally weighted # allocations based on the percent\n",
    "#  of an investment option's sharpe ratio to the sum of all the sharpe ratios in the portfolio.\n",
    "\n",
    "# 'Std Dev' - will use standard deviation adjusted weights\n",
    "\n",
    "# 'Annual Returns' - will use return adjusted weights\n",
    "\n",
    "# 'Vola' - will use volatility adjusted weights\n",
    "\n",
    "# 'DS Vola' - will use downside volatility adjusted weights\n",
    "\n",
    "# None: 'Investment Option' means use user specified weights\n",
    "#       'Asset Class' means do not group by Asset Class\n",
    "#       'Asset Subclass means do not group by Asset Subclass \n",
    "\n",
    "weight_by = {\n",
    "    'Asset Class':       {'weight_by': None},\n",
    "    'Asset Subclass':    {'weight_by': 'Sharpe Ratio'},\n",
    "    'Investment Option': {'weight_by': 'Equal'},\n",
    "}\n",
    "#weight_by = None"
   ]
  },
  {
   "cell_type": "code",
   "execution_count": 12,
   "metadata": {
    "scrolled": false
   },
   "outputs": [],
   "source": [
    "bb.DEBUG = False\n",
    "\n",
    "# Analyze portfolio\n",
    "annual_ret, std_dev, sharpe_ratio = \\\n",
    "    bb.analyze(df, portfolio_option, weight_by)"
   ]
  },
  {
   "cell_type": "code",
   "execution_count": 13,
   "metadata": {
    "jupyter": {
     "outputs_hidden": true
    },
    "scrolled": false
   },
   "outputs": [
    {
     "data": {
      "text/html": [
       "<div>\n",
       "<style scoped>\n",
       "    .dataframe tbody tr th:only-of-type {\n",
       "        vertical-align: middle;\n",
       "    }\n",
       "\n",
       "    .dataframe tbody tr th {\n",
       "        vertical-align: top;\n",
       "    }\n",
       "\n",
       "    .dataframe thead th {\n",
       "        text-align: right;\n",
       "    }\n",
       "</style>\n",
       "<table border=\"1\" class=\"dataframe\">\n",
       "  <thead>\n",
       "    <tr style=\"text-align: right;\">\n",
       "      <th></th>\n",
       "      <th>ROAD</th>\n",
       "      <th>VMC</th>\n",
       "      <th>EHC</th>\n",
       "      <th>RF</th>\n",
       "      <th>PRA</th>\n",
       "      <th>ADTN</th>\n",
       "      <th>Ranked Portfolio</th>\n",
       "    </tr>\n",
       "  </thead>\n",
       "  <tbody>\n",
       "    <tr>\n",
       "      <th>Annual Returns</th>\n",
       "      <td>37.04</td>\n",
       "      <td>20.29</td>\n",
       "      <td>18.25</td>\n",
       "      <td>19.28</td>\n",
       "      <td>2.10</td>\n",
       "      <td>-3.13</td>\n",
       "      <td>15.99</td>\n",
       "    </tr>\n",
       "    <tr>\n",
       "      <th>Std Dev</th>\n",
       "      <td>36.73</td>\n",
       "      <td>27.80</td>\n",
       "      <td>26.81</td>\n",
       "      <td>32.34</td>\n",
       "      <td>47.69</td>\n",
       "      <td>63.82</td>\n",
       "      <td>36.21</td>\n",
       "    </tr>\n",
       "    <tr>\n",
       "      <th>Sharpe Ratio</th>\n",
       "      <td>1.01</td>\n",
       "      <td>0.73</td>\n",
       "      <td>0.68</td>\n",
       "      <td>0.60</td>\n",
       "      <td>0.04</td>\n",
       "      <td>-199.76</td>\n",
       "      <td>0.44</td>\n",
       "    </tr>\n",
       "    <tr>\n",
       "      <th>Weight</th>\n",
       "      <td>0.23</td>\n",
       "      <td>0.15</td>\n",
       "      <td>0.16</td>\n",
       "      <td>0.12</td>\n",
       "      <td>0.12</td>\n",
       "      <td>0.23</td>\n",
       "      <td>1.00</td>\n",
       "    </tr>\n",
       "    <tr>\n",
       "      <th>Worst Typical Down Year</th>\n",
       "      <td>-36.42</td>\n",
       "      <td>-35.31</td>\n",
       "      <td>-35.37</td>\n",
       "      <td>-45.40</td>\n",
       "      <td>-93.28</td>\n",
       "      <td>-130.77</td>\n",
       "      <td>-56.44</td>\n",
       "    </tr>\n",
       "    <tr>\n",
       "      <th>Black Swan</th>\n",
       "      <td>-73.15</td>\n",
       "      <td>-63.11</td>\n",
       "      <td>-62.18</td>\n",
       "      <td>-77.74</td>\n",
       "      <td>-140.97</td>\n",
       "      <td>-194.59</td>\n",
       "      <td>-92.66</td>\n",
       "    </tr>\n",
       "  </tbody>\n",
       "</table>\n",
       "</div>"
      ],
      "text/plain": [
       "                          ROAD    VMC    EHC     RF     PRA    ADTN  \\\n",
       "Annual Returns           37.04  20.29  18.25  19.28    2.10   -3.13   \n",
       "Std Dev                  36.73  27.80  26.81  32.34   47.69   63.82   \n",
       "Sharpe Ratio              1.01   0.73   0.68   0.60    0.04 -199.76   \n",
       "Weight                    0.23   0.15   0.16   0.12    0.12    0.23   \n",
       "Worst Typical Down Year -36.42 -35.31 -35.37 -45.40  -93.28 -130.77   \n",
       "Black Swan              -73.15 -63.11 -62.18 -77.74 -140.97 -194.59   \n",
       "\n",
       "                         Ranked Portfolio  \n",
       "Annual Returns                      15.99  \n",
       "Std Dev                             36.21  \n",
       "Sharpe Ratio                         0.44  \n",
       "Weight                               1.00  \n",
       "Worst Typical Down Year            -56.44  \n",
       "Black Swan                         -92.66  "
      ]
     },
     "execution_count": 13,
     "metadata": {},
     "output_type": "execute_result"
    },
    {
     "data": {
      "image/png": "[encoded data removed]",
      "text/plain": [
       "<Figure size 1000x700 with 1 Axes>"
      ]
     },
     "metadata": {},
     "output_type": "display_data"
    }
   ],
   "source": [
    "# Display Results\n",
    "summary = bb.summary(df, portfolio_option, annual_ret, std_dev, sharpe_ratio)\n",
    "summary"
   ]
  },
  {
   "cell_type": "code",
   "execution_count": 14,
   "metadata": {},
   "outputs": [
    {
     "data": {
      "image/png": "[encoded data removed]",
      "text/plain": [
       "<Figure size 1000x700 with 1 Axes>"
      ]
     },
     "metadata": {},
     "output_type": "display_data"
    },
    {
     "name": "stdout",
     "output_type": "stream",
     "text": [
      "RF     0.12\n",
      "PRA    0.12\n",
      "EHC    0.16\n",
      "ROAD   0.23\n",
      "VMC    0.15\n",
      "ADTN   0.23\n",
      "\n"
     ]
    }
   ],
   "source": [
    "# Show pie charts of investment and asset class weights\n",
    "bb.show_pie_charts(df, portfolio_option, charts=['Investment Option'])"
   ]
  },
  {
   "cell_type": "code",
   "execution_count": 15,
   "metadata": {},
   "outputs": [
    {
     "name": "stdout",
     "output_type": "stream",
     "text": [
      "Ranked Portfolio Weights:\n",
      "    ROAD                           0.2262\n",
      "    VMC                            0.1452\n",
      "    EHC                            0.1557\n",
      "    RF                             0.1194\n",
      "    PRA                            0.1194\n",
      "    ADTN                           0.2340\n"
     ]
    }
   ],
   "source": [
    "# Show exact weights\n",
    "bb.print_portfolio(portfolio_option)"
   ]
  },
  {
   "cell_type": "markdown",
   "metadata": {},
   "source": [
    "### Optimize Portfolio"
   ]
  },
  {
   "cell_type": "code",
   "execution_count": 16,
   "metadata": {},
   "outputs": [],
   "source": [
    "# Run_portfolio_optimizer = True will run portfolio optimizer after portfolio analysis is complete\n",
    "run_portfolio_optimizer = True"
   ]
  },
  {
   "cell_type": "code",
   "execution_count": 17,
   "metadata": {
    "scrolled": true
   },
   "outputs": [
    {
     "name": "stdout",
     "output_type": "stream",
     "text": [
      "Running optimizer\n",
      "\n",
      "Impossible criteria specified, lower your expectations!!!\n"
     ]
    }
   ],
   "source": [
    "# Optimize sharpe ratio while specifying Annual Rate, Worst Typical Down Year,\n",
    "# and Black Swan.  Setting a constraint to None optimizes absolute Sharpe Ratio\n",
    "# without regard to that constraint.\n",
    "\n",
    "'''\n",
    "constraints = {\n",
    "    'Annual Return': 12,\n",
    "    'Worst Typical Down Year': -5,\n",
    "    'Black Swan': -20\n",
    "}\n",
    "'''\n",
    "\n",
    "constraints = {\n",
    "    'Annual Return': 8,\n",
    "    'Worst Typical Down Year': None,\n",
    "    'Black Swan': -40\n",
    "}\n",
    "\n",
    "if run_portfolio_optimizer:\n",
    "    bb.optimizer(df, portfolio_option, constraints)"
   ]
  },
  {
   "cell_type": "markdown",
   "metadata": {},
   "source": [
    "### Use Sharpe Ratio adjusted weights\n",
    "Recommend that you also try using Sharpe Ratio adjusted weights and compare those results with the Optimized Portflio.  \n",
    "It tends to produce a higher Annual Return while keeping the allocations more balanced than the Optimizer.  (See 'Analysis Options' section)."
   ]
  },
  {
   "cell_type": "code",
   "execution_count": null,
   "metadata": {},
   "outputs": [],
   "source": []
  }
 ],
 "metadata": {
  "kernelspec": {
   "display_name": "Python 3 (ipykernel)",
   "language": "python",
   "name": "python3"
  },
  "language_info": {
   "codemirror_mode": {
    "name": "ipython",
    "version": 3
   },
   "file_extension": ".py",
   "mimetype": "text/x-python",
   "name": "python",
   "nbconvert_exporter": "python",
   "pygments_lexer": "ipython3",
   "version": "3.12.3"
  },
  "latex_envs": {
   "LaTeX_envs_menu_present": true,
   "autoclose": false,
   "autocomplete": true,
   "bibliofile": "biblio.bib",
   "cite_by": "apalike",
   "current_citInitial": 1,
   "eqLabelWithNumbers": true,
   "eqNumInitial": 1,
   "hotkeys": {
    "equation": "Ctrl-E",
    "itemize": "Ctrl-I"
   },
   "labels_anchors": false,
   "latex_user_defs": false,
   "report_style_numbering": false,
   "user_envs_cfg": false
  }
 },
 "nbformat": 4,
 "nbformat_minor": 4
}
