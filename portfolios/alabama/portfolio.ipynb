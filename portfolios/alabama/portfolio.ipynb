{
 "cells": [
  {
   "cell_type": "markdown",
   "metadata": {},
   "source": [
    "\n",
    "<img src=\"../../images/brownbear.png\" width=\"400\">\n",
    "\n",
    "## A financial tool that can analyze and maximize investment portfolios on a risk adjusted basis  \n",
    "\n",
    "\n",
    "Description: This notebook is useful for examining potfolios comprised of investments options from the dow30 and alabama.  Construct portfolios from the Investment Options in the dow30+alabama and examine the results of different weighting schemes.\n"
   ]
  },
  {
   "cell_type": "code",
   "execution_count": 1,
   "metadata": {
    "ExecuteTime": {
     "end_time": "2019-08-05T19:30:28.821735Z",
     "start_time": "2019-08-05T19:30:28.795344Z"
    }
   },
   "outputs": [
    {
     "data": {
      "application/javascript": [
       "IPython.OutputArea.prototype._should_scroll = function(lines) {\n",
       "    return false;\n",
       "}\n"
      ],
      "text/plain": [
       "<IPython.core.display.Javascript object>"
      ]
     },
     "metadata": {},
     "output_type": "display_data"
    }
   ],
   "source": [
    "%%javascript\n",
    "IPython.OutputArea.prototype._should_scroll = function(lines) {\n",
    "    return false;\n",
    "}"
   ]
  },
  {
   "cell_type": "code",
   "execution_count": 2,
   "metadata": {
    "ExecuteTime": {
     "end_time": "2019-08-05T19:30:29.630182Z",
     "start_time": "2019-08-05T19:30:28.824991Z"
    }
   },
   "outputs": [],
   "source": [
    "# imports\n",
    "import pandas as pd\n",
    "import matplotlib.pyplot as plt\n",
    "import brownbear as bb\n",
    "\n",
    "# format price data\n",
    "pd.options.display.float_format = '{:0.2f}'.format\n",
    "\n",
    "# display all rows\n",
    "pd.set_option('display.max_rows', None)\n",
    "\n",
    "# do not truncate column names\n",
    "pd.set_option('display.max_colwidth', None)\n",
    "\n",
    "%matplotlib inline"
   ]
  },
  {
   "cell_type": "code",
   "execution_count": 3,
   "metadata": {
    "ExecuteTime": {
     "end_time": "2019-08-05T19:30:29.646391Z",
     "start_time": "2019-08-05T19:30:29.636429Z"
    }
   },
   "outputs": [],
   "source": [
    "# set size of inline plots\n",
    "'''note: rcParams can't be in same cell as import matplotlib\n",
    "   or %matplotlib inline\n",
    "   \n",
    "   %matplotlib notebook: will lead to interactive plots embedded within\n",
    "   the notebook, you can zoom and resize the figure\n",
    "   \n",
    "   %matplotlib inline: only draw static images in the notebook\n",
    "'''\n",
    "plt.rcParams[\"figure.figsize\"] = (10, 7)"
   ]
  },
  {
   "cell_type": "markdown",
   "metadata": {},
   "source": [
    "### Some Globals"
   ]
  },
  {
   "cell_type": "code",
   "execution_count": 4,
   "metadata": {},
   "outputs": [],
   "source": [
    "investment_universe = ['alabama-galaxy']"
   ]
  },
  {
   "cell_type": "code",
   "execution_count": 5,
   "metadata": {},
   "outputs": [
    {
     "data": {
      "text/html": [
       "<div>\n",
       "<style scoped>\n",
       "    .dataframe tbody tr th:only-of-type {\n",
       "        vertical-align: middle;\n",
       "    }\n",
       "\n",
       "    .dataframe tbody tr th {\n",
       "        vertical-align: top;\n",
       "    }\n",
       "\n",
       "    .dataframe thead th {\n",
       "        text-align: right;\n",
       "    }\n",
       "</style>\n",
       "<table border=\"1\" class=\"dataframe\">\n",
       "  <thead>\n",
       "    <tr style=\"text-align: right;\">\n",
       "      <th></th>\n",
       "      <th>Investment Option</th>\n",
       "      <th>Description</th>\n",
       "      <th>Asset Class</th>\n",
       "      <th>1 mo</th>\n",
       "      <th>3 mo</th>\n",
       "      <th>1 Yr</th>\n",
       "      <th>3 Yr</th>\n",
       "      <th>5 Yr</th>\n",
       "      <th>Vola</th>\n",
       "      <th>DS Vola</th>\n",
       "      <th>SD 1 Yr</th>\n",
       "      <th>SD 3 Yr</th>\n",
       "      <th>SD 5 Yr</th>\n",
       "      <th>Annual Returns</th>\n",
       "      <th>Std Dev</th>\n",
       "      <th>Sharpe Ratio</th>\n",
       "    </tr>\n",
       "  </thead>\n",
       "  <tbody>\n",
       "    <tr>\n",
       "      <th>0</th>\n",
       "      <td>ROAD</td>\n",
       "      <td>Construction Partners Inc</td>\n",
       "      <td>US Stocks:Industrials</td>\n",
       "      <td>-75.93</td>\n",
       "      <td>-70.04</td>\n",
       "      <td>40.05</td>\n",
       "      <td>39.48</td>\n",
       "      <td>36.65</td>\n",
       "      <td>42.67</td>\n",
       "      <td>25.87</td>\n",
       "      <td>42.98</td>\n",
       "      <td>37.25</td>\n",
       "      <td>34.61</td>\n",
       "      <td>36.65</td>\n",
       "      <td>37.25</td>\n",
       "      <td>0.98</td>\n",
       "    </tr>\n",
       "    <tr>\n",
       "      <th>1</th>\n",
       "      <td>EHC</td>\n",
       "      <td>Encompass Health</td>\n",
       "      <td>US Stocks:Healthcare</td>\n",
       "      <td>-22.40</td>\n",
       "      <td>-18.78</td>\n",
       "      <td>25.64</td>\n",
       "      <td>21.83</td>\n",
       "      <td>12.39</td>\n",
       "      <td>23.02</td>\n",
       "      <td>13.93</td>\n",
       "      <td>16.81</td>\n",
       "      <td>26.38</td>\n",
       "      <td>29.68</td>\n",
       "      <td>12.39</td>\n",
       "      <td>26.38</td>\n",
       "      <td>0.47</td>\n",
       "    </tr>\n",
       "    <tr>\n",
       "      <th>2</th>\n",
       "      <td>RF</td>\n",
       "      <td>Regions Financial</td>\n",
       "      <td>US Stocks:Financials</td>\n",
       "      <td>-70.68</td>\n",
       "      <td>-46.55</td>\n",
       "      <td>15.62</td>\n",
       "      <td>3.10</td>\n",
       "      <td>18.03</td>\n",
       "      <td>24.69</td>\n",
       "      <td>17.30</td>\n",
       "      <td>27.02</td>\n",
       "      <td>32.66</td>\n",
       "      <td>31.56</td>\n",
       "      <td>18.03</td>\n",
       "      <td>32.66</td>\n",
       "      <td>0.55</td>\n",
       "    </tr>\n",
       "    <tr>\n",
       "      <th>3</th>\n",
       "      <td>VMC</td>\n",
       "      <td>Vulcan Materials Company</td>\n",
       "      <td>US Stocks:Materials</td>\n",
       "      <td>-78.79</td>\n",
       "      <td>-50.44</td>\n",
       "      <td>-13.54</td>\n",
       "      <td>10.29</td>\n",
       "      <td>14.46</td>\n",
       "      <td>33.37</td>\n",
       "      <td>24.74</td>\n",
       "      <td>25.68</td>\n",
       "      <td>27.66</td>\n",
       "      <td>25.18</td>\n",
       "      <td>14.46</td>\n",
       "      <td>27.66</td>\n",
       "      <td>0.52</td>\n",
       "    </tr>\n",
       "    <tr>\n",
       "      <th>4</th>\n",
       "      <td>ADTN</td>\n",
       "      <td>ADTRAN</td>\n",
       "      <td>US Stocks:Technology</td>\n",
       "      <td>-90.37</td>\n",
       "      <td>27.72</td>\n",
       "      <td>54.50</td>\n",
       "      <td>-21.80</td>\n",
       "      <td>6.18</td>\n",
       "      <td>57.67</td>\n",
       "      <td>44.13</td>\n",
       "      <td>65.19</td>\n",
       "      <td>63.36</td>\n",
       "      <td>55.94</td>\n",
       "      <td>6.18</td>\n",
       "      <td>63.36</td>\n",
       "      <td>0.10</td>\n",
       "    </tr>\n",
       "    <tr>\n",
       "      <th>5</th>\n",
       "      <td>PRA</td>\n",
       "      <td>ProAssurance Corporation</td>\n",
       "      <td>US Stocks:Financials</td>\n",
       "      <td>157.34</td>\n",
       "      <td>-21.31</td>\n",
       "      <td>31.91</td>\n",
       "      <td>-14.01</td>\n",
       "      <td>-6.34</td>\n",
       "      <td>56.58</td>\n",
       "      <td>16.52</td>\n",
       "      <td>26.24</td>\n",
       "      <td>39.06</td>\n",
       "      <td>41.91</td>\n",
       "      <td>-6.34</td>\n",
       "      <td>39.06</td>\n",
       "      <td>-247.64</td>\n",
       "    </tr>\n",
       "  </tbody>\n",
       "</table>\n",
       "</div>"
      ],
      "text/plain": [
       "  Investment Option                Description            Asset Class   1 mo  \\\n",
       "0              ROAD  Construction Partners Inc  US Stocks:Industrials -75.93   \n",
       "1               EHC           Encompass Health   US Stocks:Healthcare -22.40   \n",
       "2                RF          Regions Financial   US Stocks:Financials -70.68   \n",
       "3               VMC   Vulcan Materials Company    US Stocks:Materials -78.79   \n",
       "4              ADTN                     ADTRAN   US Stocks:Technology -90.37   \n",
       "5               PRA   ProAssurance Corporation   US Stocks:Financials 157.34   \n",
       "\n",
       "    3 mo   1 Yr   3 Yr  5 Yr  Vola  DS Vola  SD 1 Yr  SD 3 Yr  SD 5 Yr  \\\n",
       "0 -70.04  40.05  39.48 36.65 42.67    25.87    42.98    37.25    34.61   \n",
       "1 -18.78  25.64  21.83 12.39 23.02    13.93    16.81    26.38    29.68   \n",
       "2 -46.55  15.62   3.10 18.03 24.69    17.30    27.02    32.66    31.56   \n",
       "3 -50.44 -13.54  10.29 14.46 33.37    24.74    25.68    27.66    25.18   \n",
       "4  27.72  54.50 -21.80  6.18 57.67    44.13    65.19    63.36    55.94   \n",
       "5 -21.31  31.91 -14.01 -6.34 56.58    16.52    26.24    39.06    41.91   \n",
       "\n",
       "   Annual Returns  Std Dev  Sharpe Ratio  \n",
       "0           36.65    37.25          0.98  \n",
       "1           12.39    26.38          0.47  \n",
       "2           18.03    32.66          0.55  \n",
       "3           14.46    27.66          0.52  \n",
       "4            6.18    63.36          0.10  \n",
       "5           -6.34    39.06       -247.64  "
      ]
     },
     "execution_count": 5,
     "metadata": {},
     "output_type": "execute_result"
    }
   ],
   "source": [
    "# Fetch Investment Options - all values annualized\n",
    "df = bb.fetch(investment_universe, risk_free_rate=0, annual_returns='5 Yr', standard_deviation='SD 3 Yr')\n",
    "df"
   ]
  },
  {
   "cell_type": "code",
   "execution_count": 6,
   "metadata": {
    "scrolled": true
   },
   "outputs": [
    {
     "data": {
      "text/html": [
       "<div>\n",
       "<style scoped>\n",
       "    .dataframe tbody tr th:only-of-type {\n",
       "        vertical-align: middle;\n",
       "    }\n",
       "\n",
       "    .dataframe tbody tr th {\n",
       "        vertical-align: top;\n",
       "    }\n",
       "\n",
       "    .dataframe thead th {\n",
       "        text-align: right;\n",
       "    }\n",
       "</style>\n",
       "<table border=\"1\" class=\"dataframe\">\n",
       "  <thead>\n",
       "    <tr style=\"text-align: right;\">\n",
       "      <th></th>\n",
       "      <th>Investment Option</th>\n",
       "      <th>Description</th>\n",
       "      <th>Asset Class</th>\n",
       "      <th>1 mo</th>\n",
       "      <th>3 mo</th>\n",
       "      <th>1 Yr</th>\n",
       "      <th>3 Yr</th>\n",
       "      <th>5 Yr</th>\n",
       "      <th>Vola</th>\n",
       "      <th>DS Vola</th>\n",
       "      <th>SD 1 Yr</th>\n",
       "      <th>SD 3 Yr</th>\n",
       "      <th>SD 5 Yr</th>\n",
       "      <th>Annual Returns</th>\n",
       "      <th>Std Dev</th>\n",
       "      <th>Sharpe Ratio</th>\n",
       "    </tr>\n",
       "  </thead>\n",
       "  <tbody>\n",
       "    <tr>\n",
       "      <th>0</th>\n",
       "      <td>ROAD</td>\n",
       "      <td>Construction Partners Inc</td>\n",
       "      <td>US Stocks:Industrials</td>\n",
       "      <td>-75.93</td>\n",
       "      <td>-70.04</td>\n",
       "      <td>40.05</td>\n",
       "      <td>39.48</td>\n",
       "      <td>36.65</td>\n",
       "      <td>42.67</td>\n",
       "      <td>25.87</td>\n",
       "      <td>42.98</td>\n",
       "      <td>37.25</td>\n",
       "      <td>34.61</td>\n",
       "      <td>36.65</td>\n",
       "      <td>37.25</td>\n",
       "      <td>0.98</td>\n",
       "    </tr>\n",
       "    <tr>\n",
       "      <th>2</th>\n",
       "      <td>RF</td>\n",
       "      <td>Regions Financial</td>\n",
       "      <td>US Stocks:Financials</td>\n",
       "      <td>-70.68</td>\n",
       "      <td>-46.55</td>\n",
       "      <td>15.62</td>\n",
       "      <td>3.10</td>\n",
       "      <td>18.03</td>\n",
       "      <td>24.69</td>\n",
       "      <td>17.30</td>\n",
       "      <td>27.02</td>\n",
       "      <td>32.66</td>\n",
       "      <td>31.56</td>\n",
       "      <td>18.03</td>\n",
       "      <td>32.66</td>\n",
       "      <td>0.55</td>\n",
       "    </tr>\n",
       "    <tr>\n",
       "      <th>3</th>\n",
       "      <td>VMC</td>\n",
       "      <td>Vulcan Materials Company</td>\n",
       "      <td>US Stocks:Materials</td>\n",
       "      <td>-78.79</td>\n",
       "      <td>-50.44</td>\n",
       "      <td>-13.54</td>\n",
       "      <td>10.29</td>\n",
       "      <td>14.46</td>\n",
       "      <td>33.37</td>\n",
       "      <td>24.74</td>\n",
       "      <td>25.68</td>\n",
       "      <td>27.66</td>\n",
       "      <td>25.18</td>\n",
       "      <td>14.46</td>\n",
       "      <td>27.66</td>\n",
       "      <td>0.52</td>\n",
       "    </tr>\n",
       "    <tr>\n",
       "      <th>1</th>\n",
       "      <td>EHC</td>\n",
       "      <td>Encompass Health</td>\n",
       "      <td>US Stocks:Healthcare</td>\n",
       "      <td>-22.40</td>\n",
       "      <td>-18.78</td>\n",
       "      <td>25.64</td>\n",
       "      <td>21.83</td>\n",
       "      <td>12.39</td>\n",
       "      <td>23.02</td>\n",
       "      <td>13.93</td>\n",
       "      <td>16.81</td>\n",
       "      <td>26.38</td>\n",
       "      <td>29.68</td>\n",
       "      <td>12.39</td>\n",
       "      <td>26.38</td>\n",
       "      <td>0.47</td>\n",
       "    </tr>\n",
       "    <tr>\n",
       "      <th>4</th>\n",
       "      <td>ADTN</td>\n",
       "      <td>ADTRAN</td>\n",
       "      <td>US Stocks:Technology</td>\n",
       "      <td>-90.37</td>\n",
       "      <td>27.72</td>\n",
       "      <td>54.50</td>\n",
       "      <td>-21.80</td>\n",
       "      <td>6.18</td>\n",
       "      <td>57.67</td>\n",
       "      <td>44.13</td>\n",
       "      <td>65.19</td>\n",
       "      <td>63.36</td>\n",
       "      <td>55.94</td>\n",
       "      <td>6.18</td>\n",
       "      <td>63.36</td>\n",
       "      <td>0.10</td>\n",
       "    </tr>\n",
       "    <tr>\n",
       "      <th>5</th>\n",
       "      <td>PRA</td>\n",
       "      <td>ProAssurance Corporation</td>\n",
       "      <td>US Stocks:Financials</td>\n",
       "      <td>157.34</td>\n",
       "      <td>-21.31</td>\n",
       "      <td>31.91</td>\n",
       "      <td>-14.01</td>\n",
       "      <td>-6.34</td>\n",
       "      <td>56.58</td>\n",
       "      <td>16.52</td>\n",
       "      <td>26.24</td>\n",
       "      <td>39.06</td>\n",
       "      <td>41.91</td>\n",
       "      <td>-6.34</td>\n",
       "      <td>39.06</td>\n",
       "      <td>-247.64</td>\n",
       "    </tr>\n",
       "  </tbody>\n",
       "</table>\n",
       "</div>"
      ],
      "text/plain": [
       "  Investment Option                Description            Asset Class   1 mo  \\\n",
       "0              ROAD  Construction Partners Inc  US Stocks:Industrials -75.93   \n",
       "2                RF          Regions Financial   US Stocks:Financials -70.68   \n",
       "3               VMC   Vulcan Materials Company    US Stocks:Materials -78.79   \n",
       "1               EHC           Encompass Health   US Stocks:Healthcare -22.40   \n",
       "4              ADTN                     ADTRAN   US Stocks:Technology -90.37   \n",
       "5               PRA   ProAssurance Corporation   US Stocks:Financials 157.34   \n",
       "\n",
       "    3 mo   1 Yr   3 Yr  5 Yr  Vola  DS Vola  SD 1 Yr  SD 3 Yr  SD 5 Yr  \\\n",
       "0 -70.04  40.05  39.48 36.65 42.67    25.87    42.98    37.25    34.61   \n",
       "2 -46.55  15.62   3.10 18.03 24.69    17.30    27.02    32.66    31.56   \n",
       "3 -50.44 -13.54  10.29 14.46 33.37    24.74    25.68    27.66    25.18   \n",
       "1 -18.78  25.64  21.83 12.39 23.02    13.93    16.81    26.38    29.68   \n",
       "4  27.72  54.50 -21.80  6.18 57.67    44.13    65.19    63.36    55.94   \n",
       "5 -21.31  31.91 -14.01 -6.34 56.58    16.52    26.24    39.06    41.91   \n",
       "\n",
       "   Annual Returns  Std Dev  Sharpe Ratio  \n",
       "0           36.65    37.25          0.98  \n",
       "2           18.03    32.66          0.55  \n",
       "3           14.46    27.66          0.52  \n",
       "1           12.39    26.38          0.47  \n",
       "4            6.18    63.36          0.10  \n",
       "5           -6.34    39.06       -247.64  "
      ]
     },
     "execution_count": 6,
     "metadata": {},
     "output_type": "execute_result"
    }
   ],
   "source": [
    "# rank\n",
    "rank = bb.rank(df, rank_by='Sharpe Ratio')\n",
    "rank_filtered = rank\n",
    "#rank_filtered = rank.loc[(rank['3 mo'] > 0) & rank['1 Yr'] > 0]\n",
    "rank_filtered"
   ]
  },
  {
   "cell_type": "markdown",
   "metadata": {},
   "source": [
    "### Sample Portfolios\n",
    "Format 'Investment option': weight"
   ]
  },
  {
   "cell_type": "code",
   "execution_count": 7,
   "metadata": {},
   "outputs": [],
   "source": [
    "# everything ranked\n",
    "ranked_portfolio = {\n",
    "    'Title': 'Ranked Portfolio'\n",
    "}\n",
    "everything = list(rank_filtered['Investment Option'])[:20]\n",
    "ranked_portfolio.update(dict.fromkeys(everything, 1/len(everything)))\n",
    "\n",
    "# top 10\n",
    "top10_portfolio = {\n",
    "    'Title': 'Top10 Portfolio'\n",
    "}\n",
    "top10 = list(rank['Investment Option'])[:10]\n",
    "top10_portfolio.update(dict.fromkeys(top10, 1/len(top10)))"
   ]
  },
  {
   "cell_type": "markdown",
   "metadata": {},
   "source": [
    "### Custom Portfolios"
   ]
  },
  {
   "cell_type": "code",
   "execution_count": 8,
   "metadata": {},
   "outputs": [],
   "source": [
    "# My portfolio\n",
    "my_portfolio = {\n",
    "    'Title': 'My Portfolio',\n",
    "\n",
    "}"
   ]
  },
  {
   "cell_type": "markdown",
   "metadata": {},
   "source": [
    "### Choose Portfolio Option"
   ]
  },
  {
   "cell_type": "code",
   "execution_count": 9,
   "metadata": {},
   "outputs": [],
   "source": [
    "# Select one of the portfolios from above\n",
    "portfolio_option = ranked_portfolio"
   ]
  },
  {
   "cell_type": "code",
   "execution_count": 10,
   "metadata": {},
   "outputs": [
    {
     "data": {
      "text/plain": [
       "{'Title': 'Ranked Portfolio',\n",
       " 'ROAD': 0.16666666666666666,\n",
       " 'RF': 0.16666666666666666,\n",
       " 'VMC': 0.16666666666666666,\n",
       " 'EHC': 0.16666666666666666,\n",
       " 'ADTN': 0.16666666666666666,\n",
       " 'PRA': 0.16666666666666666}"
      ]
     },
     "execution_count": 10,
     "metadata": {},
     "output_type": "execute_result"
    }
   ],
   "source": [
    "# Make a copy so that the original portfolio is preserved\n",
    "portfolio_option = portfolio_option.copy()\n",
    "portfolio_option"
   ]
  },
  {
   "cell_type": "markdown",
   "metadata": {},
   "source": [
    "### Analysis Options"
   ]
  },
  {
   "cell_type": "code",
   "execution_count": 11,
   "metadata": {},
   "outputs": [],
   "source": [
    "# Specify the weighting scheme.  It will replace the weights specified in the portfolio\n",
    "# You can also fix the weights on some Investent Options, Asset Classes, and Asset Subclasses\n",
    "# while the others are automatically calculated.\n",
    "\n",
    "# 'Equal' - will use equal weights.\n",
    "\n",
    "# 'Sharpe Ratio' - will use proportionally weighted # allocations based on the percent\n",
    "#  of an investment option's sharpe ratio to the sum of all the sharpe ratios in the portfolio.\n",
    "\n",
    "# 'Std Dev' - will use standard deviation adjusted weights\n",
    "\n",
    "# 'Annual Returns' - will use return adjusted weights\n",
    "\n",
    "# 'Vola' - will use volatility adjusted weights\n",
    "\n",
    "# 'DS Vola' - will use downside volatility adjusted weights\n",
    "\n",
    "# None: 'Investment Option' means use user specified weights\n",
    "#       'Asset Class' means do not group by Asset Class\n",
    "#       'Asset Subclass means do not group by Asset Subclass \n",
    "\n",
    "weight_by = {\n",
    "    'Asset Class':       {'weight_by': None},\n",
    "    'Asset Subclass':    {'weight_by': 'Sharpe Ratio'},\n",
    "    'Investment Option': {'weight_by': 'Equal'},\n",
    "}\n",
    "#weight_by = None"
   ]
  },
  {
   "cell_type": "code",
   "execution_count": 12,
   "metadata": {
    "scrolled": false
   },
   "outputs": [],
   "source": [
    "bb.DEBUG = False\n",
    "\n",
    "# Analyze portfolio\n",
    "annual_ret, std_dev, sharpe_ratio = \\\n",
    "    bb.analyze(df, portfolio_option, weight_by)"
   ]
  },
  {
   "cell_type": "code",
   "execution_count": 13,
   "metadata": {
    "jupyter": {
     "outputs_hidden": true
    },
    "scrolled": false
   },
   "outputs": [
    {
     "data": {
      "text/html": [
       "<div>\n",
       "<style scoped>\n",
       "    .dataframe tbody tr th:only-of-type {\n",
       "        vertical-align: middle;\n",
       "    }\n",
       "\n",
       "    .dataframe tbody tr th {\n",
       "        vertical-align: top;\n",
       "    }\n",
       "\n",
       "    .dataframe thead th {\n",
       "        text-align: right;\n",
       "    }\n",
       "</style>\n",
       "<table border=\"1\" class=\"dataframe\">\n",
       "  <thead>\n",
       "    <tr style=\"text-align: right;\">\n",
       "      <th></th>\n",
       "      <th>ROAD</th>\n",
       "      <th>RF</th>\n",
       "      <th>VMC</th>\n",
       "      <th>EHC</th>\n",
       "      <th>ADTN</th>\n",
       "      <th>PRA</th>\n",
       "      <th>Ranked Portfolio</th>\n",
       "    </tr>\n",
       "  </thead>\n",
       "  <tbody>\n",
       "    <tr>\n",
       "      <th>Annual Returns</th>\n",
       "      <td>36.65</td>\n",
       "      <td>18.03</td>\n",
       "      <td>14.46</td>\n",
       "      <td>12.39</td>\n",
       "      <td>6.18</td>\n",
       "      <td>-6.34</td>\n",
       "      <td>14.72</td>\n",
       "    </tr>\n",
       "    <tr>\n",
       "      <th>Std Dev</th>\n",
       "      <td>37.25</td>\n",
       "      <td>32.66</td>\n",
       "      <td>27.66</td>\n",
       "      <td>26.38</td>\n",
       "      <td>63.36</td>\n",
       "      <td>39.06</td>\n",
       "      <td>31.78</td>\n",
       "    </tr>\n",
       "    <tr>\n",
       "      <th>Sharpe Ratio</th>\n",
       "      <td>0.98</td>\n",
       "      <td>0.55</td>\n",
       "      <td>0.52</td>\n",
       "      <td>0.47</td>\n",
       "      <td>0.10</td>\n",
       "      <td>-247.64</td>\n",
       "      <td>0.46</td>\n",
       "    </tr>\n",
       "    <tr>\n",
       "      <th>Weight</th>\n",
       "      <td>0.20</td>\n",
       "      <td>0.10</td>\n",
       "      <td>0.16</td>\n",
       "      <td>0.20</td>\n",
       "      <td>0.23</td>\n",
       "      <td>0.10</td>\n",
       "      <td>1.00</td>\n",
       "    </tr>\n",
       "    <tr>\n",
       "      <th>Worst Typical Down Year</th>\n",
       "      <td>-37.85</td>\n",
       "      <td>-47.29</td>\n",
       "      <td>-40.86</td>\n",
       "      <td>-40.37</td>\n",
       "      <td>-120.54</td>\n",
       "      <td>-84.46</td>\n",
       "      <td>-48.85</td>\n",
       "    </tr>\n",
       "    <tr>\n",
       "      <th>Black Swan</th>\n",
       "      <td>-75.10</td>\n",
       "      <td>-79.95</td>\n",
       "      <td>-68.52</td>\n",
       "      <td>-66.75</td>\n",
       "      <td>-183.90</td>\n",
       "      <td>-123.52</td>\n",
       "      <td>-80.64</td>\n",
       "    </tr>\n",
       "  </tbody>\n",
       "</table>\n",
       "</div>"
      ],
      "text/plain": [
       "                          ROAD     RF    VMC    EHC    ADTN     PRA  \\\n",
       "Annual Returns           36.65  18.03  14.46  12.39    6.18   -6.34   \n",
       "Std Dev                  37.25  32.66  27.66  26.38   63.36   39.06   \n",
       "Sharpe Ratio              0.98   0.55   0.52   0.47    0.10 -247.64   \n",
       "Weight                    0.20   0.10   0.16   0.20    0.23    0.10   \n",
       "Worst Typical Down Year -37.85 -47.29 -40.86 -40.37 -120.54  -84.46   \n",
       "Black Swan              -75.10 -79.95 -68.52 -66.75 -183.90 -123.52   \n",
       "\n",
       "                         Ranked Portfolio  \n",
       "Annual Returns                      14.72  \n",
       "Std Dev                             31.78  \n",
       "Sharpe Ratio                         0.46  \n",
       "Weight                               1.00  \n",
       "Worst Typical Down Year            -48.85  \n",
       "Black Swan                         -80.64  "
      ]
     },
     "execution_count": 13,
     "metadata": {},
     "output_type": "execute_result"
    },
    {
     "data": {
      "image/png": "[encoded data removed]",
      "text/plain": [
       "<Figure size 1000x700 with 1 Axes>"
      ]
     },
     "metadata": {},
     "output_type": "display_data"
    }
   ],
   "source": [
    "# Display Results\n",
    "summary = bb.summary(df, portfolio_option, annual_ret, std_dev, sharpe_ratio)\n",
    "summary"
   ]
  },
  {
   "cell_type": "code",
   "execution_count": 14,
   "metadata": {},
   "outputs": [
    {
     "data": {
      "image/png": "[encoded data removed]",
      "text/plain": [
       "<Figure size 1000x700 with 1 Axes>"
      ]
     },
     "metadata": {},
     "output_type": "display_data"
    },
    {
     "name": "stdout",
     "output_type": "stream",
     "text": [
      "RF     0.10\n",
      "PRA    0.10\n",
      "EHC    0.20\n",
      "ROAD   0.20\n",
      "VMC    0.16\n",
      "ADTN   0.23\n",
      "\n"
     ]
    }
   ],
   "source": [
    "# Show pie charts of investment and asset class weights\n",
    "bb.show_pie_charts(df, portfolio_option, charts=['Investment Option'])"
   ]
  },
  {
   "cell_type": "code",
   "execution_count": 15,
   "metadata": {},
   "outputs": [
    {
     "name": "stdout",
     "output_type": "stream",
     "text": [
      "Ranked Portfolio Weights:\n",
      "    ROAD                           0.1983\n",
      "    RF                             0.1047\n",
      "    VMC                            0.1625\n",
      "    EHC                            0.1962\n",
      "    ADTN                           0.2336\n",
      "    PRA                            0.1047\n"
     ]
    }
   ],
   "source": [
    "# Show exact weights\n",
    "bb.print_portfolio(portfolio_option)"
   ]
  },
  {
   "cell_type": "markdown",
   "metadata": {},
   "source": [
    "### Optimize Portfolio"
   ]
  },
  {
   "cell_type": "code",
   "execution_count": 16,
   "metadata": {},
   "outputs": [],
   "source": [
    "# Run_portfolio_optimizer = True will run portfolio optimizer after portfolio analysis is complete\n",
    "run_portfolio_optimizer = True"
   ]
  },
  {
   "cell_type": "code",
   "execution_count": 17,
   "metadata": {
    "scrolled": true
   },
   "outputs": [
    {
     "name": "stdout",
     "output_type": "stream",
     "text": [
      "Running optimizer\n",
      "\n",
      "Impossible criteria specified, lower your expectations!!!\n"
     ]
    }
   ],
   "source": [
    "# Optimize sharpe ratio while specifying Annual Rate, Worst Typical Down Year,\n",
    "# and Black Swan.  Setting a constraint to None optimizes absolute Sharpe Ratio\n",
    "# without regard to that constraint.\n",
    "\n",
    "'''\n",
    "constraints = {\n",
    "    'Annual Return': 12,\n",
    "    'Worst Typical Down Year': -5,\n",
    "    'Black Swan': -20\n",
    "}\n",
    "'''\n",
    "\n",
    "constraints = {\n",
    "    'Annual Return': 8,\n",
    "    'Worst Typical Down Year': None,\n",
    "    'Black Swan': -40\n",
    "}\n",
    "\n",
    "if run_portfolio_optimizer:\n",
    "    bb.optimizer(df, portfolio_option, constraints)"
   ]
  },
  {
   "cell_type": "markdown",
   "metadata": {},
   "source": [
    "### Use Sharpe Ratio adjusted weights\n",
    "Recommend that you also try using Sharpe Ratio adjusted weights and compare those results with the Optimized Portflio.  \n",
    "It tends to produce a higher Annual Return while keeping the allocations more balanced than the Optimizer.  (See 'Analysis Options' section)."
   ]
  },
  {
   "cell_type": "code",
   "execution_count": null,
   "metadata": {},
   "outputs": [],
   "source": []
  }
 ],
 "metadata": {
  "kernelspec": {
   "display_name": "Python 3 (ipykernel)",
   "language": "python",
   "name": "python3"
  },
  "language_info": {
   "codemirror_mode": {
    "name": "ipython",
    "version": 3
   },
   "file_extension": ".py",
   "mimetype": "text/x-python",
   "name": "python",
   "nbconvert_exporter": "python",
   "pygments_lexer": "ipython3",
   "version": "3.10.12"
  },
  "latex_envs": {
   "LaTeX_envs_menu_present": true,
   "autoclose": false,
   "autocomplete": true,
   "bibliofile": "biblio.bib",
   "cite_by": "apalike",
   "current_citInitial": 1,
   "eqLabelWithNumbers": true,
   "eqNumInitial": 1,
   "hotkeys": {
    "equation": "Ctrl-E",
    "itemize": "Ctrl-I"
   },
   "labels_anchors": false,
   "latex_user_defs": false,
   "report_style_numbering": false,
   "user_envs_cfg": false
  }
 },
 "nbformat": 4,
 "nbformat_minor": 4
}
