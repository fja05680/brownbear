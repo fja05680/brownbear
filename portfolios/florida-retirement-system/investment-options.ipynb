{
 "cells": [
  {
   "cell_type": "markdown",
   "metadata": {},
   "source": [
    "Use this utlity to update investment-options.csv\n",
    "\n",
    "See https://www.myfrs.com/InvestmentFundTabs.htm\n",
    "\n",
    "Values as of Jan 29, 2023"
   ]
  },
  {
   "cell_type": "code",
   "execution_count": 19,
   "metadata": {
    "ExecuteTime": {
     "end_time": "2019-08-05T19:30:28.821735Z",
     "start_time": "2019-08-05T19:30:28.795344Z"
    }
   },
   "outputs": [
    {
     "data": {
      "application/javascript": [
       "IPython.OutputArea.prototype._should_scroll = function(lines) {\n",
       "    return false;\n",
       "}\n"
      ],
      "text/plain": [
       "<IPython.core.display.Javascript object>"
      ]
     },
     "metadata": {},
     "output_type": "display_data"
    }
   ],
   "source": [
    "%%javascript\n",
    "IPython.OutputArea.prototype._should_scroll = function(lines) {\n",
    "    return false;\n",
    "}"
   ]
  },
  {
   "cell_type": "code",
   "execution_count": 11,
   "metadata": {
    "ExecuteTime": {
     "end_time": "2019-08-05T19:30:29.630182Z",
     "start_time": "2019-08-05T19:30:28.824991Z"
    }
   },
   "outputs": [],
   "source": [
    "import csv\n",
    "from datetime import datetime\n",
    "from shutil import copyfile\n",
    "\n",
    "import ipywidgets as widgets\n",
    "import matplotlib.pyplot as plt\n",
    "import pandas as pd\n",
    "import qgrid\n",
    "\n",
    "import brownbear as bb\n",
    "\n",
    "# Format price data.\n",
    "pd.options.display.float_format = '{:0.2f}'.format\n",
    "\n",
    "%matplotlib inline"
   ]
  },
  {
   "cell_type": "code",
   "execution_count": 12,
   "metadata": {
    "ExecuteTime": {
     "end_time": "2019-08-05T19:30:29.646391Z",
     "start_time": "2019-08-05T19:30:29.636429Z"
    }
   },
   "outputs": [],
   "source": [
    "# Set size of inline plots.\n",
    "'''note: rcParams can't be in same cell as import matplotlib\n",
    "   or %matplotlib inline\n",
    "   \n",
    "   %matplotlib notebook: will lead to interactive plots embedded within\n",
    "   the notebook, you can zoom and resize the figure\n",
    "   \n",
    "   %matplotlib inline: only draw static images in the notebook\n",
    "'''\n",
    "plt.rcParams[\"figure.figsize\"] = (10, 7)"
   ]
  },
  {
   "cell_type": "markdown",
   "metadata": {},
   "source": [
    "Globals"
   ]
  },
  {
   "cell_type": "code",
   "execution_count": 13,
   "metadata": {},
   "outputs": [],
   "source": [
    "filename = 'investment-options.csv'"
   ]
  },
  {
   "cell_type": "code",
   "execution_count": 14,
   "metadata": {},
   "outputs": [],
   "source": [
    "# Read in investment options input csv.\n",
    "header = None\n",
    "with open('investment-options-header.csv', 'r') as f:\n",
    "    header = f.read() + '\\n'\n",
    "df = pd.read_csv(filename, skip_blank_lines=True, comment='#')\n",
    "symbols = list(df['Investment Option'])"
   ]
  },
  {
   "cell_type": "code",
   "execution_count": 15,
   "metadata": {},
   "outputs": [],
   "source": [
    "# Get list of all asset classes.\n",
    "filepath = bb.ROOT / 'universe' / 'asset-class-galaxy' / 'asset-classes.csv'\n",
    "asset_classes = pd.read_csv(filepath, skip_blank_lines=True, comment='#')\n",
    "asset_classes = list(asset_classes['Asset Class A'])                \n",
    "asset_classes = set(asset_classes)\n",
    "asset_classes = sorted(asset_classes)"
   ]
  },
  {
   "cell_type": "code",
   "execution_count": 16,
   "metadata": {},
   "outputs": [
    {
     "data": {
      "application/vnd.jupyter.widget-view+json": {
       "model_id": "c03743fdf4344d5594307f9c66a56b2f",
       "version_major": 2,
       "version_minor": 0
      },
      "text/plain": [
       "QgridWidget(grid_options={'fullWidthRows': True, 'syncColumnCellResize': True, 'forceFitColumns': True, 'defau…"
      ]
     },
     "metadata": {},
     "output_type": "display_data"
    }
   ],
   "source": [
    "# Create qgrid widget.\n",
    "df['Asset Class'] = pd.Categorical(df['Asset Class'], asset_classes)\n",
    "column_definitions = {\n",
    "    'Investment Option': {\n",
    "        'width': 800,\n",
    "    },\n",
    "    'Description': {\n",
    "        'width': 800,\n",
    "    },\n",
    "    'Asset Class': {\n",
    "        # SlickGrid column options.\n",
    "        'defaultSortAsc': True,\n",
    "        'maxWidth': None,\n",
    "        'minWidth': 50,\n",
    "        'resizable': True,\n",
    "        'sortable': True,\n",
    "        'toolTip': \"\",\n",
    "        'width': 800,\n",
    "        # Qgrid column options.\n",
    "        'editable': True,\n",
    "    }\n",
    "}\n",
    "\n",
    "qgrid_widget = qgrid.show_grid(df, show_toolbar=True, column_definitions=column_definitions)\n",
    "qgrid_widget"
   ]
  },
  {
   "cell_type": "code",
   "execution_count": 22,
   "metadata": {},
   "outputs": [],
   "source": [
    "# Update df_orig with user changes, YOU MUST RUN THIS CELL AFTER MAKING CHANGES.\n",
    "df = qgrid_widget.get_changed_df()"
   ]
  },
  {
   "cell_type": "code",
   "execution_count": 23,
   "metadata": {},
   "outputs": [
    {
     "data": {
      "application/vnd.jupyter.widget-view+json": {
       "model_id": "95427ebb23a7458092acc1f87f431179",
       "version_major": 2,
       "version_minor": 0
      },
      "text/plain": [
       "VBox(children=(Button(description='SAVE', style=ButtonStyle()), Output()))"
      ]
     },
     "metadata": {},
     "output_type": "display_data"
    },
    {
     "name": "stdout",
     "output_type": "stream",
     "text": [
      "Saved changes to \"investment-options.csv\"\n"
     ]
    }
   ],
   "source": [
    "# Create save button.\n",
    "def on_button_clicked(_):\n",
    "    # backup current file\n",
    "    timestamp = datetime.now().strftime(\"%Y-%m-%d-%H-%M-%S\")\n",
    "    backup = filename + '-' + timestamp\n",
    "    copyfile(filename, backup)\n",
    "    \n",
    "    # Save changes.\n",
    "    with open(filename, 'w') as f:\n",
    "        f.write(header)\n",
    "    df.to_csv(filename, mode='a', index=False, header=False, quoting=csv.QUOTE_ALL)\n",
    "    print('Saved changes to \"{}\"'.format(filename))\n",
    "\n",
    "# Creates a button that allows us to save our changes.\n",
    "button = widgets.Button(description='SAVE')\n",
    "out = widgets.Output()\n",
    "    \n",
    "# Linking button and function together using a button's method.\n",
    "button.on_click(on_button_clicked)\n",
    "\n",
    "# Displaying button and its output together.\n",
    "widgets.VBox([button,out])"
   ]
  },
  {
   "cell_type": "code",
   "execution_count": null,
   "metadata": {},
   "outputs": [],
   "source": []
  }
 ],
 "metadata": {
  "kernelspec": {
   "display_name": "Python 3 (ipykernel)",
   "language": "python",
   "name": "python3"
  },
  "language_info": {
   "codemirror_mode": {
    "name": "ipython",
    "version": 3
   },
   "file_extension": ".py",
   "mimetype": "text/x-python",
   "name": "python",
   "nbconvert_exporter": "python",
   "pygments_lexer": "ipython3",
   "version": "3.8.10"
  },
  "latex_envs": {
   "LaTeX_envs_menu_present": true,
   "autoclose": false,
   "autocomplete": true,
   "bibliofile": "biblio.bib",
   "cite_by": "apalike",
   "current_citInitial": 1,
   "eqLabelWithNumbers": true,
   "eqNumInitial": 1,
   "hotkeys": {
    "equation": "Ctrl-E",
    "itemize": "Ctrl-I"
   },
   "labels_anchors": false,
   "latex_user_defs": false,
   "report_style_numbering": false,
   "user_envs_cfg": false
  }
 },
 "nbformat": 4,
 "nbformat_minor": 1
}
