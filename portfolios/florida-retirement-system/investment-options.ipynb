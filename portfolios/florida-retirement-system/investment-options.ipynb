{
 "cells": [
  {
   "cell_type": "markdown",
   "metadata": {},
   "source": [
    "Update investment-options.csv manually first, then run this notebook.\n",
    "\n",
    "See https://www.myfrs.com/InvestmentFundTabs.htm\n",
    "\n",
    "Values as of Jan 29, 2023"
   ]
  },
  {
   "cell_type": "code",
   "execution_count": 6,
   "metadata": {
    "ExecuteTime": {
     "end_time": "2019-08-05T19:30:28.821735Z",
     "start_time": "2019-08-05T19:30:28.795344Z"
    }
   },
   "outputs": [
    {
     "data": {
      "application/javascript": [
       "IPython.OutputArea.prototype._should_scroll = function(lines) {\n",
       "    return false;\n",
       "}\n"
      ],
      "text/plain": [
       "<IPython.core.display.Javascript object>"
      ]
     },
     "metadata": {},
     "output_type": "display_data"
    }
   ],
   "source": [
    "%%javascript\n",
    "IPython.OutputArea.prototype._should_scroll = function(lines) {\n",
    "    return false;\n",
    "}"
   ]
  },
  {
   "cell_type": "code",
   "execution_count": 7,
   "metadata": {
    "ExecuteTime": {
     "end_time": "2019-08-05T19:30:29.630182Z",
     "start_time": "2019-08-05T19:30:28.824991Z"
    }
   },
   "outputs": [],
   "source": [
    "import matplotlib.pyplot as plt\n",
    "import pandas as pd\n",
    "\n",
    "import brownbear as bb\n",
    "\n",
    "# Format price data.\n",
    "pd.options.display.float_format = '{:0.2f}'.format\n",
    "\n",
    "%matplotlib inline"
   ]
  },
  {
   "cell_type": "code",
   "execution_count": 8,
   "metadata": {
    "ExecuteTime": {
     "end_time": "2019-08-05T19:30:29.646391Z",
     "start_time": "2019-08-05T19:30:29.636429Z"
    }
   },
   "outputs": [],
   "source": [
    "# Set size of inline plots.\n",
    "'''note: rcParams can't be in same cell as import matplotlib\n",
    "   or %matplotlib inline\n",
    "   \n",
    "   %matplotlib notebook: will lead to interactive plots embedded within\n",
    "   the notebook, you can zoom and resize the figure\n",
    "   \n",
    "   %matplotlib inline: only draw static images in the notebook\n",
    "'''\n",
    "plt.rcParams[\"figure.figsize\"] = (10, 7)"
   ]
  },
  {
   "cell_type": "markdown",
   "metadata": {},
   "source": [
    "Globals"
   ]
  },
  {
   "cell_type": "code",
   "execution_count": 9,
   "metadata": {},
   "outputs": [],
   "source": [
    "filename = 'investment-options.csv'"
   ]
  },
  {
   "cell_type": "code",
   "execution_count": 10,
   "metadata": {},
   "outputs": [
    {
     "data": {
      "text/html": [
       "<div>\n",
       "<style scoped>\n",
       "    .dataframe tbody tr th:only-of-type {\n",
       "        vertical-align: middle;\n",
       "    }\n",
       "\n",
       "    .dataframe tbody tr th {\n",
       "        vertical-align: top;\n",
       "    }\n",
       "\n",
       "    .dataframe thead th {\n",
       "        text-align: right;\n",
       "    }\n",
       "</style>\n",
       "<table border=\"1\" class=\"dataframe\">\n",
       "  <thead>\n",
       "    <tr style=\"text-align: right;\">\n",
       "      <th></th>\n",
       "      <th>Investment Option</th>\n",
       "      <th>Asset Class</th>\n",
       "      <th>1 Yr</th>\n",
       "      <th>3 Yr</th>\n",
       "      <th>5 Yr</th>\n",
       "      <th>SD 1 Yr</th>\n",
       "      <th>SD 3 Yr</th>\n",
       "      <th>SD 5 Yr</th>\n",
       "    </tr>\n",
       "  </thead>\n",
       "  <tbody>\n",
       "    <tr>\n",
       "      <th>0</th>\n",
       "      <td>FRS Inflation Sensitive Fund (300)</td>\n",
       "      <td>US Bonds:Treasury Inflation-Protected Securiti...</td>\n",
       "      <td>-7.70</td>\n",
       "      <td>2.70</td>\n",
       "      <td>2.94</td>\n",
       "      <td>10.87</td>\n",
       "      <td>10.87</td>\n",
       "      <td>10.87</td>\n",
       "    </tr>\n",
       "    <tr>\n",
       "      <th>1</th>\n",
       "      <td>FRS U.S. Bond Enhanced Index Fund (80)</td>\n",
       "      <td>US Bonds</td>\n",
       "      <td>-13.11</td>\n",
       "      <td>-2.71</td>\n",
       "      <td>3.25</td>\n",
       "      <td>5.94</td>\n",
       "      <td>5.94</td>\n",
       "      <td>5.94</td>\n",
       "    </tr>\n",
       "    <tr>\n",
       "      <th>2</th>\n",
       "      <td>FRS Core Plus Bond Fund (310)</td>\n",
       "      <td>US Bonds</td>\n",
       "      <td>-13.16</td>\n",
       "      <td>-1.97</td>\n",
       "      <td>0.80</td>\n",
       "      <td>6.92</td>\n",
       "      <td>6.92</td>\n",
       "      <td>6.92</td>\n",
       "    </tr>\n",
       "    <tr>\n",
       "      <th>3</th>\n",
       "      <td>FRS U.S. Stock Market Index Fund (120)</td>\n",
       "      <td>US Stocks</td>\n",
       "      <td>-19.19</td>\n",
       "      <td>7.11</td>\n",
       "      <td>8.84</td>\n",
       "      <td>21.79</td>\n",
       "      <td>21.79</td>\n",
       "      <td>21.79</td>\n",
       "    </tr>\n",
       "    <tr>\n",
       "      <th>4</th>\n",
       "      <td>FRS U.S. Stock Fund (340)</td>\n",
       "      <td>US Stocks</td>\n",
       "      <td>-22.39</td>\n",
       "      <td>4.31</td>\n",
       "      <td>6.12</td>\n",
       "      <td>24.02</td>\n",
       "      <td>24.02</td>\n",
       "      <td>24.02</td>\n",
       "    </tr>\n",
       "    <tr>\n",
       "      <th>5</th>\n",
       "      <td>FRS Foreign Stock Index Fund (200)</td>\n",
       "      <td>Global Stocks</td>\n",
       "      <td>-16.58</td>\n",
       "      <td>0.34</td>\n",
       "      <td>1.06</td>\n",
       "      <td>20.41</td>\n",
       "      <td>20.41</td>\n",
       "      <td>20.41</td>\n",
       "    </tr>\n",
       "    <tr>\n",
       "      <th>6</th>\n",
       "      <td>FRS Global Stock Fund (210)</td>\n",
       "      <td>Global Stocks</td>\n",
       "      <td>-25.64</td>\n",
       "      <td>5.51</td>\n",
       "      <td>7.67</td>\n",
       "      <td>22.43</td>\n",
       "      <td>22.43</td>\n",
       "      <td>22.43</td>\n",
       "    </tr>\n",
       "    <tr>\n",
       "      <th>7</th>\n",
       "      <td>FRS Foreign Stock Fund (220)</td>\n",
       "      <td>Global Stocks</td>\n",
       "      <td>-22.72</td>\n",
       "      <td>-0.15</td>\n",
       "      <td>1.54</td>\n",
       "      <td>21.45</td>\n",
       "      <td>21.45</td>\n",
       "      <td>21.45</td>\n",
       "    </tr>\n",
       "    <tr>\n",
       "      <th>8</th>\n",
       "      <td>FRS Stable Value Fund (350)</td>\n",
       "      <td>Cash Equivalents</td>\n",
       "      <td>1.84</td>\n",
       "      <td>1.93</td>\n",
       "      <td>2.06</td>\n",
       "      <td>0.08</td>\n",
       "      <td>0.08</td>\n",
       "      <td>0.08</td>\n",
       "    </tr>\n",
       "  </tbody>\n",
       "</table>\n",
       "</div>"
      ],
      "text/plain": [
       "                        Investment Option  \\\n",
       "0      FRS Inflation Sensitive Fund (300)   \n",
       "1  FRS U.S. Bond Enhanced Index Fund (80)   \n",
       "2           FRS Core Plus Bond Fund (310)   \n",
       "3  FRS U.S. Stock Market Index Fund (120)   \n",
       "4               FRS U.S. Stock Fund (340)   \n",
       "5      FRS Foreign Stock Index Fund (200)   \n",
       "6             FRS Global Stock Fund (210)   \n",
       "7            FRS Foreign Stock Fund (220)   \n",
       "8             FRS Stable Value Fund (350)   \n",
       "\n",
       "                                         Asset Class   1 Yr  3 Yr  5 Yr  \\\n",
       "0  US Bonds:Treasury Inflation-Protected Securiti...  -7.70  2.70  2.94   \n",
       "1                                           US Bonds -13.11 -2.71  3.25   \n",
       "2                                           US Bonds -13.16 -1.97  0.80   \n",
       "3                                          US Stocks -19.19  7.11  8.84   \n",
       "4                                          US Stocks -22.39  4.31  6.12   \n",
       "5                                      Global Stocks -16.58  0.34  1.06   \n",
       "6                                      Global Stocks -25.64  5.51  7.67   \n",
       "7                                      Global Stocks -22.72 -0.15  1.54   \n",
       "8                                   Cash Equivalents   1.84  1.93  2.06   \n",
       "\n",
       "   SD 1 Yr  SD 3 Yr  SD 5 Yr  \n",
       "0    10.87    10.87    10.87  \n",
       "1     5.94     5.94     5.94  \n",
       "2     6.92     6.92     6.92  \n",
       "3    21.79    21.79    21.79  \n",
       "4    24.02    24.02    24.02  \n",
       "5    20.41    20.41    20.41  \n",
       "6    22.43    22.43    22.43  \n",
       "7    21.45    21.45    21.45  \n",
       "8     0.08     0.08     0.08  "
      ]
     },
     "execution_count": 10,
     "metadata": {},
     "output_type": "execute_result"
    }
   ],
   "source": [
    "# Read in investment options input csv.\n",
    "df = pd.read_csv(filename, skip_blank_lines=True, comment='#')\n",
    "df"
   ]
  },
  {
   "cell_type": "code",
   "execution_count": null,
   "metadata": {},
   "outputs": [],
   "source": []
  }
 ],
 "metadata": {
  "kernelspec": {
   "display_name": "Python 3 (ipykernel)",
   "language": "python",
   "name": "python3"
  },
  "language_info": {
   "codemirror_mode": {
    "name": "ipython",
    "version": 3
   },
   "file_extension": ".py",
   "mimetype": "text/x-python",
   "name": "python",
   "nbconvert_exporter": "python",
   "pygments_lexer": "ipython3",
   "version": "3.10.12"
  },
  "latex_envs": {
   "LaTeX_envs_menu_present": true,
   "autoclose": false,
   "autocomplete": true,
   "bibliofile": "biblio.bib",
   "cite_by": "apalike",
   "current_citInitial": 1,
   "eqLabelWithNumbers": true,
   "eqNumInitial": 1,
   "hotkeys": {
    "equation": "Ctrl-E",
    "itemize": "Ctrl-I"
   },
   "labels_anchors": false,
   "latex_user_defs": false,
   "report_style_numbering": false,
   "user_envs_cfg": false
  }
 },
 "nbformat": 4,
 "nbformat_minor": 1
}
