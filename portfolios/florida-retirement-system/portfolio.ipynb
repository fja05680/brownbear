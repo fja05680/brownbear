{
 "cells": [
  {
   "cell_type": "markdown",
   "metadata": {},
   "source": [
    "\n",
    "<img src=\"../../images/brownbear.png\" width=\"400\">\n",
    "\n",
    "## A financial tool that can analyze and maximize investment portfolios on a risk adjusted basis  \n",
    "\n",
    "\n",
    "Description: This notebook is useful for examining potfolios comprised of investments options from the Florida Retirement System.  Construct portfolios from the Investment Options in the Florida Retirement System and examine the results of different weighting schemes.  See https://www.myfrs.com/InvestmentFundTabs.htm\n"
   ]
  },
  {
   "cell_type": "code",
   "execution_count": 1,
   "metadata": {
    "ExecuteTime": {
     "end_time": "2019-08-05T19:30:28.821735Z",
     "start_time": "2019-08-05T19:30:28.795344Z"
    }
   },
   "outputs": [
    {
     "data": {
      "application/javascript": [
       "IPython.OutputArea.prototype._should_scroll = function(lines) {\n",
       "    return false;\n",
       "}\n"
      ],
      "text/plain": [
       "<IPython.core.display.Javascript object>"
      ]
     },
     "metadata": {},
     "output_type": "display_data"
    }
   ],
   "source": [
    "%%javascript\n",
    "IPython.OutputArea.prototype._should_scroll = function(lines) {\n",
    "    return false;\n",
    "}"
   ]
  },
  {
   "cell_type": "code",
   "execution_count": 2,
   "metadata": {
    "ExecuteTime": {
     "end_time": "2019-08-05T19:30:29.630182Z",
     "start_time": "2019-08-05T19:30:28.824991Z"
    }
   },
   "outputs": [],
   "source": [
    "import pandas as pd\n",
    "import matplotlib.pyplot as plt\n",
    "import brownbear as bb\n",
    "\n",
    "# Format price data.\n",
    "pd.options.display.float_format = '{:0.2f}'.format\n",
    "\n",
    "# Display all rows.\n",
    "pd.set_option('display.max_rows', None)\n",
    "\n",
    "# Do not truncate column names.\n",
    "pd.set_option('display.max_colwidth', None)\n",
    "\n",
    "%matplotlib inline"
   ]
  },
  {
   "cell_type": "code",
   "execution_count": 3,
   "metadata": {
    "ExecuteTime": {
     "end_time": "2019-08-05T19:30:29.646391Z",
     "start_time": "2019-08-05T19:30:29.636429Z"
    }
   },
   "outputs": [],
   "source": [
    "# Set size of inline plots.\n",
    "'''note: rcParams can't be in same cell as import matplotlib\n",
    "   or %matplotlib inline\n",
    "   \n",
    "   %matplotlib notebook: will lead to interactive plots embedded within\n",
    "   the notebook, you can zoom and resize the figure\n",
    "   \n",
    "   %matplotlib inline: only draw static images in the notebook\n",
    "'''\n",
    "plt.rcParams[\"figure.figsize\"] = (10, 7)"
   ]
  },
  {
   "cell_type": "markdown",
   "metadata": {},
   "source": [
    "### Some Globals"
   ]
  },
  {
   "cell_type": "code",
   "execution_count": 4,
   "metadata": {},
   "outputs": [],
   "source": [
    "investment_universe = ['florida-retirement-system']\n",
    "risk_free_rate = 0\n",
    "annual_returns = '5 Yr'"
   ]
  },
  {
   "cell_type": "code",
   "execution_count": 5,
   "metadata": {},
   "outputs": [
    {
     "data": {
      "text/html": [
       "<div>\n",
       "<style scoped>\n",
       "    .dataframe tbody tr th:only-of-type {\n",
       "        vertical-align: middle;\n",
       "    }\n",
       "\n",
       "    .dataframe tbody tr th {\n",
       "        vertical-align: top;\n",
       "    }\n",
       "\n",
       "    .dataframe thead th {\n",
       "        text-align: right;\n",
       "    }\n",
       "</style>\n",
       "<table border=\"1\" class=\"dataframe\">\n",
       "  <thead>\n",
       "    <tr style=\"text-align: right;\">\n",
       "      <th></th>\n",
       "      <th>Investment Option</th>\n",
       "      <th>Asset Class</th>\n",
       "      <th>1 Yr</th>\n",
       "      <th>3 Yr</th>\n",
       "      <th>5 Yr</th>\n",
       "      <th>Std Dev</th>\n",
       "      <th>Annual Returns</th>\n",
       "      <th>Sharpe Ratio</th>\n",
       "    </tr>\n",
       "  </thead>\n",
       "  <tbody>\n",
       "    <tr>\n",
       "      <th>0</th>\n",
       "      <td>FRS Inflation Sensitive Fund (300)</td>\n",
       "      <td>US Bonds:Treasury Inflation-Protected Securities (TIPS)</td>\n",
       "      <td>-7.70</td>\n",
       "      <td>2.70</td>\n",
       "      <td>2.94</td>\n",
       "      <td>10.87</td>\n",
       "      <td>2.94</td>\n",
       "      <td>0.27</td>\n",
       "    </tr>\n",
       "    <tr>\n",
       "      <th>1</th>\n",
       "      <td>FRS U.S. Bond Enhanced Index Fund (80)</td>\n",
       "      <td>US Bonds</td>\n",
       "      <td>-13.11</td>\n",
       "      <td>-2.71</td>\n",
       "      <td>3.25</td>\n",
       "      <td>5.94</td>\n",
       "      <td>3.25</td>\n",
       "      <td>0.55</td>\n",
       "    </tr>\n",
       "    <tr>\n",
       "      <th>2</th>\n",
       "      <td>FRS Core Plus Bond Fund (310)</td>\n",
       "      <td>US Bonds</td>\n",
       "      <td>-13.16</td>\n",
       "      <td>-1.97</td>\n",
       "      <td>0.80</td>\n",
       "      <td>6.92</td>\n",
       "      <td>0.80</td>\n",
       "      <td>0.12</td>\n",
       "    </tr>\n",
       "    <tr>\n",
       "      <th>3</th>\n",
       "      <td>FRS U.S. Stock Market Index Fund (120)</td>\n",
       "      <td>US Stocks</td>\n",
       "      <td>-19.19</td>\n",
       "      <td>7.11</td>\n",
       "      <td>8.84</td>\n",
       "      <td>21.79</td>\n",
       "      <td>8.84</td>\n",
       "      <td>0.41</td>\n",
       "    </tr>\n",
       "    <tr>\n",
       "      <th>4</th>\n",
       "      <td>FRS U.S. Stock Fund (340)</td>\n",
       "      <td>US Stocks</td>\n",
       "      <td>-22.39</td>\n",
       "      <td>4.31</td>\n",
       "      <td>6.12</td>\n",
       "      <td>24.02</td>\n",
       "      <td>6.12</td>\n",
       "      <td>0.25</td>\n",
       "    </tr>\n",
       "    <tr>\n",
       "      <th>5</th>\n",
       "      <td>FRS Foreign Stock Index Fund (200)</td>\n",
       "      <td>Global Stocks</td>\n",
       "      <td>-16.58</td>\n",
       "      <td>0.34</td>\n",
       "      <td>1.06</td>\n",
       "      <td>20.41</td>\n",
       "      <td>1.06</td>\n",
       "      <td>0.05</td>\n",
       "    </tr>\n",
       "    <tr>\n",
       "      <th>6</th>\n",
       "      <td>FRS Global Stock Fund (210)</td>\n",
       "      <td>Global Stocks</td>\n",
       "      <td>-25.64</td>\n",
       "      <td>5.51</td>\n",
       "      <td>7.67</td>\n",
       "      <td>22.43</td>\n",
       "      <td>7.67</td>\n",
       "      <td>0.34</td>\n",
       "    </tr>\n",
       "    <tr>\n",
       "      <th>7</th>\n",
       "      <td>FRS Foreign Stock Fund (220)</td>\n",
       "      <td>Global Stocks</td>\n",
       "      <td>-22.72</td>\n",
       "      <td>-0.15</td>\n",
       "      <td>1.54</td>\n",
       "      <td>21.45</td>\n",
       "      <td>1.54</td>\n",
       "      <td>0.07</td>\n",
       "    </tr>\n",
       "    <tr>\n",
       "      <th>8</th>\n",
       "      <td>FRS Stable Value Fund (350)</td>\n",
       "      <td>Cash Equivalents</td>\n",
       "      <td>1.84</td>\n",
       "      <td>1.93</td>\n",
       "      <td>2.06</td>\n",
       "      <td>0.08</td>\n",
       "      <td>2.06</td>\n",
       "      <td>25.75</td>\n",
       "    </tr>\n",
       "  </tbody>\n",
       "</table>\n",
       "</div>"
      ],
      "text/plain": [
       "                        Investment Option  \\\n",
       "0      FRS Inflation Sensitive Fund (300)   \n",
       "1  FRS U.S. Bond Enhanced Index Fund (80)   \n",
       "2           FRS Core Plus Bond Fund (310)   \n",
       "3  FRS U.S. Stock Market Index Fund (120)   \n",
       "4               FRS U.S. Stock Fund (340)   \n",
       "5      FRS Foreign Stock Index Fund (200)   \n",
       "6             FRS Global Stock Fund (210)   \n",
       "7            FRS Foreign Stock Fund (220)   \n",
       "8             FRS Stable Value Fund (350)   \n",
       "\n",
       "                                               Asset Class   1 Yr  3 Yr  5 Yr  \\\n",
       "0  US Bonds:Treasury Inflation-Protected Securities (TIPS)  -7.70  2.70  2.94   \n",
       "1                                                 US Bonds -13.11 -2.71  3.25   \n",
       "2                                                 US Bonds -13.16 -1.97  0.80   \n",
       "3                                                US Stocks -19.19  7.11  8.84   \n",
       "4                                                US Stocks -22.39  4.31  6.12   \n",
       "5                                            Global Stocks -16.58  0.34  1.06   \n",
       "6                                            Global Stocks -25.64  5.51  7.67   \n",
       "7                                            Global Stocks -22.72 -0.15  1.54   \n",
       "8                                         Cash Equivalents   1.84  1.93  2.06   \n",
       "\n",
       "   Std Dev  Annual Returns  Sharpe Ratio  \n",
       "0    10.87            2.94          0.27  \n",
       "1     5.94            3.25          0.55  \n",
       "2     6.92            0.80          0.12  \n",
       "3    21.79            8.84          0.41  \n",
       "4    24.02            6.12          0.25  \n",
       "5    20.41            1.06          0.05  \n",
       "6    22.43            7.67          0.34  \n",
       "7    21.45            1.54          0.07  \n",
       "8     0.08            2.06         25.75  "
      ]
     },
     "execution_count": 5,
     "metadata": {},
     "output_type": "execute_result"
    }
   ],
   "source": [
    "# Fetch Investment Options - all values annualized.\n",
    "df = bb.fetch(investment_universe, risk_free_rate, annual_returns)\n",
    "df"
   ]
  },
  {
   "cell_type": "code",
   "execution_count": 6,
   "metadata": {
    "scrolled": true
   },
   "outputs": [
    {
     "data": {
      "text/html": [
       "<div>\n",
       "<style scoped>\n",
       "    .dataframe tbody tr th:only-of-type {\n",
       "        vertical-align: middle;\n",
       "    }\n",
       "\n",
       "    .dataframe tbody tr th {\n",
       "        vertical-align: top;\n",
       "    }\n",
       "\n",
       "    .dataframe thead th {\n",
       "        text-align: right;\n",
       "    }\n",
       "</style>\n",
       "<table border=\"1\" class=\"dataframe\">\n",
       "  <thead>\n",
       "    <tr style=\"text-align: right;\">\n",
       "      <th></th>\n",
       "      <th>Investment Option</th>\n",
       "      <th>Asset Class</th>\n",
       "      <th>1 Yr</th>\n",
       "      <th>3 Yr</th>\n",
       "      <th>5 Yr</th>\n",
       "      <th>Std Dev</th>\n",
       "      <th>Annual Returns</th>\n",
       "      <th>Sharpe Ratio</th>\n",
       "    </tr>\n",
       "  </thead>\n",
       "  <tbody>\n",
       "    <tr>\n",
       "      <th>3</th>\n",
       "      <td>FRS U.S. Stock Market Index Fund (120)</td>\n",
       "      <td>US Stocks</td>\n",
       "      <td>-19.19</td>\n",
       "      <td>7.11</td>\n",
       "      <td>8.84</td>\n",
       "      <td>21.79</td>\n",
       "      <td>8.84</td>\n",
       "      <td>0.41</td>\n",
       "    </tr>\n",
       "    <tr>\n",
       "      <th>4</th>\n",
       "      <td>FRS U.S. Stock Fund (340)</td>\n",
       "      <td>US Stocks</td>\n",
       "      <td>-22.39</td>\n",
       "      <td>4.31</td>\n",
       "      <td>6.12</td>\n",
       "      <td>24.02</td>\n",
       "      <td>6.12</td>\n",
       "      <td>0.25</td>\n",
       "    </tr>\n",
       "    <tr>\n",
       "      <th>1</th>\n",
       "      <td>FRS U.S. Bond Enhanced Index Fund (80)</td>\n",
       "      <td>US Bonds</td>\n",
       "      <td>-13.11</td>\n",
       "      <td>-2.71</td>\n",
       "      <td>3.25</td>\n",
       "      <td>5.94</td>\n",
       "      <td>3.25</td>\n",
       "      <td>0.55</td>\n",
       "    </tr>\n",
       "    <tr>\n",
       "      <th>0</th>\n",
       "      <td>FRS Inflation Sensitive Fund (300)</td>\n",
       "      <td>US Bonds:Treasury Inflation-Protected Securities (TIPS)</td>\n",
       "      <td>-7.70</td>\n",
       "      <td>2.70</td>\n",
       "      <td>2.94</td>\n",
       "      <td>10.87</td>\n",
       "      <td>2.94</td>\n",
       "      <td>0.27</td>\n",
       "    </tr>\n",
       "    <tr>\n",
       "      <th>2</th>\n",
       "      <td>FRS Core Plus Bond Fund (310)</td>\n",
       "      <td>US Bonds</td>\n",
       "      <td>-13.16</td>\n",
       "      <td>-1.97</td>\n",
       "      <td>0.80</td>\n",
       "      <td>6.92</td>\n",
       "      <td>0.80</td>\n",
       "      <td>0.12</td>\n",
       "    </tr>\n",
       "    <tr>\n",
       "      <th>6</th>\n",
       "      <td>FRS Global Stock Fund (210)</td>\n",
       "      <td>Global Stocks</td>\n",
       "      <td>-25.64</td>\n",
       "      <td>5.51</td>\n",
       "      <td>7.67</td>\n",
       "      <td>22.43</td>\n",
       "      <td>7.67</td>\n",
       "      <td>0.34</td>\n",
       "    </tr>\n",
       "    <tr>\n",
       "      <th>7</th>\n",
       "      <td>FRS Foreign Stock Fund (220)</td>\n",
       "      <td>Global Stocks</td>\n",
       "      <td>-22.72</td>\n",
       "      <td>-0.15</td>\n",
       "      <td>1.54</td>\n",
       "      <td>21.45</td>\n",
       "      <td>1.54</td>\n",
       "      <td>0.07</td>\n",
       "    </tr>\n",
       "    <tr>\n",
       "      <th>5</th>\n",
       "      <td>FRS Foreign Stock Index Fund (200)</td>\n",
       "      <td>Global Stocks</td>\n",
       "      <td>-16.58</td>\n",
       "      <td>0.34</td>\n",
       "      <td>1.06</td>\n",
       "      <td>20.41</td>\n",
       "      <td>1.06</td>\n",
       "      <td>0.05</td>\n",
       "    </tr>\n",
       "    <tr>\n",
       "      <th>8</th>\n",
       "      <td>FRS Stable Value Fund (350)</td>\n",
       "      <td>Cash Equivalents</td>\n",
       "      <td>1.84</td>\n",
       "      <td>1.93</td>\n",
       "      <td>2.06</td>\n",
       "      <td>0.08</td>\n",
       "      <td>2.06</td>\n",
       "      <td>25.75</td>\n",
       "    </tr>\n",
       "  </tbody>\n",
       "</table>\n",
       "</div>"
      ],
      "text/plain": [
       "                        Investment Option  \\\n",
       "3  FRS U.S. Stock Market Index Fund (120)   \n",
       "4               FRS U.S. Stock Fund (340)   \n",
       "1  FRS U.S. Bond Enhanced Index Fund (80)   \n",
       "0      FRS Inflation Sensitive Fund (300)   \n",
       "2           FRS Core Plus Bond Fund (310)   \n",
       "6             FRS Global Stock Fund (210)   \n",
       "7            FRS Foreign Stock Fund (220)   \n",
       "5      FRS Foreign Stock Index Fund (200)   \n",
       "8             FRS Stable Value Fund (350)   \n",
       "\n",
       "                                               Asset Class   1 Yr  3 Yr  5 Yr  \\\n",
       "3                                                US Stocks -19.19  7.11  8.84   \n",
       "4                                                US Stocks -22.39  4.31  6.12   \n",
       "1                                                 US Bonds -13.11 -2.71  3.25   \n",
       "0  US Bonds:Treasury Inflation-Protected Securities (TIPS)  -7.70  2.70  2.94   \n",
       "2                                                 US Bonds -13.16 -1.97  0.80   \n",
       "6                                            Global Stocks -25.64  5.51  7.67   \n",
       "7                                            Global Stocks -22.72 -0.15  1.54   \n",
       "5                                            Global Stocks -16.58  0.34  1.06   \n",
       "8                                         Cash Equivalents   1.84  1.93  2.06   \n",
       "\n",
       "   Std Dev  Annual Returns  Sharpe Ratio  \n",
       "3    21.79            8.84          0.41  \n",
       "4    24.02            6.12          0.25  \n",
       "1     5.94            3.25          0.55  \n",
       "0    10.87            2.94          0.27  \n",
       "2     6.92            0.80          0.12  \n",
       "6    22.43            7.67          0.34  \n",
       "7    21.45            1.54          0.07  \n",
       "5    20.41            1.06          0.05  \n",
       "8     0.08            2.06         25.75  "
      ]
     },
     "execution_count": 6,
     "metadata": {},
     "output_type": "execute_result"
    }
   ],
   "source": [
    "# Rank.\n",
    "rank = bb.rank(df, rank_by='Sharpe Ratio', group_by='Asset Class', num_per_group=3)\n",
    "rank"
   ]
  },
  {
   "cell_type": "markdown",
   "metadata": {},
   "source": [
    "### Sample Portfolios\n",
    "Format 'Investment option': weight"
   ]
  },
  {
   "cell_type": "code",
   "execution_count": 7,
   "metadata": {},
   "outputs": [],
   "source": [
    "# Put your \"age\" in bonds and the rest in stocks.\n",
    "age_portfolio = {\n",
    "    'Title': 'Age Portfolio',\n",
    "    'FRS U.S. Stock Market Index Fund (120)': 1/2,\n",
    "    'FRS U.S.Bond Enhanced Index Fund (80)': 1/2\n",
    "}\n",
    "\n",
    "# Put your \"age\" in Short Term Treasuries and the rest in stocks.\n",
    "age2_portfolio = {\n",
    "    'Title': 'Age2 Portfolio',\n",
    "    'Securian AM S&P 500 Index': 0.50,\n",
    "    'FRS Inflation Sensitive Fund (300)': 0.50\n",
    "}\n",
    "\n",
    "# Top dogs - top performer by sharpe ratio in each Asset Class, equal weights.\n",
    "top_dog_portfolio = {\n",
    "    'Title': 'Top Dog Portfolio',\n",
    "    'FRS U.S. Stock Market Index Fund (120)': 1/4,\n",
    "    'FRS Stable Value Fund (350)': 1/4,\n",
    "    'FRS Global Stock Fund (210)': 1/4,\n",
    "    'FRS Stable Value Fund (350)': 1/4\n",
    "}\n",
    "\n",
    "# 50% S&P 500, 50% bonds.\n",
    "fifty_fifty_portfolio = {\n",
    "    'Title': 'Fifty Fifty Portfolio',\n",
    "    'FRS U.S. Stock Market Index Fund (120)': 1/2,\n",
    "    'FRS U.S.Bond Enhanced Index Fund (80)': 1/2\n",
    "}\n",
    "\n",
    "# 1/3 S&P 500, 1/3 bonds, 1/3 fixed income.\n",
    "thirds_portfolio = {\n",
    "    'Title': 'Thirds Portfolio',\n",
    "    'FRS U.S. Stock Market Index Fund (120)': 1/3,\n",
    "    'FRS U.S.Bond Enhanced Index Fund (80)': 1/3,\n",
    "    'FRS Stable Value Fund (350)': 1/3\n",
    "}\n",
    "\n",
    "# Dave Ramsey: 25% Growth and income, 25% Growth, 25% Aggressive growth, 25% International.\n",
    "dave_ramsey_portfolio = {\n",
    "    'Title': 'Dave Ramsey Portfolio',\n",
    "    'FRS U.S. Stock Market Index Fund (120)': 1/2,\n",
    "    'FRS U.S. Stock Fund (340)': 1/4,\n",
    "    'FRS Global Stock Fund (210)': 1/4 \n",
    "}\n",
    "\n",
    "# Warren Buffett Retirement Fund: 90% S&P500, 10% Short Term Treasuries (sub General Account).\n",
    "warren_buffett_portfolio = {\n",
    "    'Title': 'Warren Buffet Portfolio',\n",
    "    'FRS U.S. Stock Market Index Fund (120)': 0.90,\n",
    "    'FRS Inflation Sensitive Fund (300)': 0.10\n",
    "}\n",
    "\n",
    "# Janet Yellen: 50% fixed income, 40% S&P500, 10% cash.\n",
    "janet_yellen_portfolio = {\n",
    "    'Title': 'Janet Yellen Portfolio',\n",
    "    'FRS Inflation Sensitive Fund (300)': 0.50,\n",
    "    'FRS U.S. Stock Market Index Fund (120)': 0.40,\n",
    "    'FRS Stable Value Fund (350)': 0.10\n",
    "}\n",
    "\n",
    "# FRS-401k, risk off: 100% fixed income divided between risk free asset, bond fund, and money market.\n",
    "risk_off_portfolio = {\n",
    "    'Title': 'Risk Off Portfolio',\n",
    "    'FRS Inflation Sensitive Fund (300)': 1/3,\n",
    "    'FRS U.S.Bond Enhanced Index Fund (80)': 1/3,\n",
    "    'FRS Stable Value Fund (350)': 1/3\n",
    "}\n",
    "\n",
    "# FRS-401k, risk on: 100% US stocks bevided between large, emerging markets, and small cap.\n",
    "risk_on_portfolio = {\n",
    "    'Title': 'Risk On Portfolio',\n",
    "    'FRS U.S. Stock Market Index Fund (120)': 1/3,\n",
    "    'FRS Global Stock Fund (210)':1/3,\n",
    "    'FRS U.S. Stock Fund (340)': 1/3\n",
    "}\n",
    "\n",
    "# Everything ranked.\n",
    "ranked_portfolio = {\n",
    "    'Title': 'Ranked Portfolio'\n",
    "}\n",
    "everything = list(rank['Investment Option'])\n",
    "ranked_portfolio.update(dict.fromkeys(everything, 1/len(everything)))"
   ]
  },
  {
   "cell_type": "markdown",
   "metadata": {},
   "source": [
    "### Custom Portfolios"
   ]
  },
  {
   "cell_type": "code",
   "execution_count": 8,
   "metadata": {},
   "outputs": [],
   "source": [
    "# My portfolio.\n",
    "my_portfolio = {\n",
    "    'Title': 'My Portfolio',\n",
    "\n",
    "}"
   ]
  },
  {
   "cell_type": "markdown",
   "metadata": {},
   "source": [
    "### Choose Portfolio Option"
   ]
  },
  {
   "cell_type": "code",
   "execution_count": 9,
   "metadata": {},
   "outputs": [],
   "source": [
    "# Select one of the portfolios from above.\n",
    "portfolio_option = top_dog_portfolio"
   ]
  },
  {
   "cell_type": "code",
   "execution_count": 10,
   "metadata": {},
   "outputs": [],
   "source": [
    "# Make a copy so that the original portfolio is preserved.\n",
    "portfolio_option = portfolio_option.copy()"
   ]
  },
  {
   "cell_type": "markdown",
   "metadata": {},
   "source": [
    "### Analysis Options"
   ]
  },
  {
   "cell_type": "code",
   "execution_count": 11,
   "metadata": {},
   "outputs": [],
   "source": [
    "# Specify the weighting scheme.  It will replace the weights specified in the portfolio\n",
    "# You can also fix the weights on some Investent Options, Asset Classes, and Asset Subclasses\n",
    "# while the others are automatically calculated.\n",
    "\n",
    "# 'Equal' - will use equal weights.\n",
    "\n",
    "# 'Sharpe Ratio' - will use proportionally weighted # allocations based on the percent\n",
    "#  of an investment option's sharpe ratio to the sum of all the sharpe ratios in the portfolio.\n",
    "\n",
    "# 'Std Dev' - will use standard deviation adjusted weights\n",
    "\n",
    "# 'Annual Returns' - will use return adjusted weights\n",
    "\n",
    "# 'Vola' - will use volatility adjusted weights\n",
    "\n",
    "# 'DS Vola' - will use downside volatility adjusted weights\n",
    "\n",
    "# None: 'Investment Option' means use user specified weights\n",
    "#       'Asset Class' means do not group by Asset Class\n",
    "#       'Asset Subclass means do not group by Asset Subclass \n",
    "\n",
    "weight_by = {\n",
    "    'Asset Class':       {'weight_by': None},\n",
    "    'Asset Subclass':    {'weight_by': None},\n",
    "    'Investment Option': {'weight_by': 'Annual Returns'},\n",
    "}\n",
    "#weight_by = None"
   ]
  },
  {
   "cell_type": "code",
   "execution_count": 12,
   "metadata": {
    "scrolled": false
   },
   "outputs": [],
   "source": [
    "bb.DEBUG = False\n",
    "\n",
    "# Analyze portfolio.\n",
    "annual_ret, std_dev, sharpe_ratio = \\\n",
    "    bb.analyze(df, portfolio_option, weight_by)"
   ]
  },
  {
   "cell_type": "code",
   "execution_count": 13,
   "metadata": {
    "jupyter": {
     "outputs_hidden": true
    },
    "scrolled": false
   },
   "outputs": [
    {
     "data": {
      "text/html": [
       "<div>\n",
       "<style scoped>\n",
       "    .dataframe tbody tr th:only-of-type {\n",
       "        vertical-align: middle;\n",
       "    }\n",
       "\n",
       "    .dataframe tbody tr th {\n",
       "        vertical-align: top;\n",
       "    }\n",
       "\n",
       "    .dataframe thead th {\n",
       "        text-align: right;\n",
       "    }\n",
       "</style>\n",
       "<table border=\"1\" class=\"dataframe\">\n",
       "  <thead>\n",
       "    <tr style=\"text-align: right;\">\n",
       "      <th></th>\n",
       "      <th>FRS U.S. Stock Market Index Fund (120)</th>\n",
       "      <th>FRS Stable Value Fund (350)</th>\n",
       "      <th>FRS Global Stock Fund (210)</th>\n",
       "      <th>Top Dog Portfolio</th>\n",
       "    </tr>\n",
       "  </thead>\n",
       "  <tbody>\n",
       "    <tr>\n",
       "      <th>Annual Returns</th>\n",
       "      <td>8.84</td>\n",
       "      <td>2.06</td>\n",
       "      <td>7.67</td>\n",
       "      <td>7.60</td>\n",
       "    </tr>\n",
       "    <tr>\n",
       "      <th>Std Dev</th>\n",
       "      <td>21.79</td>\n",
       "      <td>0.08</td>\n",
       "      <td>22.43</td>\n",
       "      <td>18.58</td>\n",
       "    </tr>\n",
       "    <tr>\n",
       "      <th>Sharpe Ratio</th>\n",
       "      <td>0.41</td>\n",
       "      <td>25.75</td>\n",
       "      <td>0.34</td>\n",
       "      <td>0.41</td>\n",
       "    </tr>\n",
       "    <tr>\n",
       "      <th>Weight</th>\n",
       "      <td>0.48</td>\n",
       "      <td>0.11</td>\n",
       "      <td>0.41</td>\n",
       "      <td>1.00</td>\n",
       "    </tr>\n",
       "    <tr>\n",
       "      <th>Worst Typical Down Year</th>\n",
       "      <td>-34.74</td>\n",
       "      <td>1.90</td>\n",
       "      <td>-37.19</td>\n",
       "      <td>-29.56</td>\n",
       "    </tr>\n",
       "    <tr>\n",
       "      <th>Black Swan</th>\n",
       "      <td>-56.53</td>\n",
       "      <td>1.82</td>\n",
       "      <td>-59.62</td>\n",
       "      <td>-48.14</td>\n",
       "    </tr>\n",
       "  </tbody>\n",
       "</table>\n",
       "</div>"
      ],
      "text/plain": [
       "                         FRS U.S. Stock Market Index Fund (120)  \\\n",
       "Annual Returns                                             8.84   \n",
       "Std Dev                                                   21.79   \n",
       "Sharpe Ratio                                               0.41   \n",
       "Weight                                                     0.48   \n",
       "Worst Typical Down Year                                  -34.74   \n",
       "Black Swan                                               -56.53   \n",
       "\n",
       "                         FRS Stable Value Fund (350)  \\\n",
       "Annual Returns                                  2.06   \n",
       "Std Dev                                         0.08   \n",
       "Sharpe Ratio                                   25.75   \n",
       "Weight                                          0.11   \n",
       "Worst Typical Down Year                         1.90   \n",
       "Black Swan                                      1.82   \n",
       "\n",
       "                         FRS Global Stock Fund (210)  Top Dog Portfolio  \n",
       "Annual Returns                                  7.67               7.60  \n",
       "Std Dev                                        22.43              18.58  \n",
       "Sharpe Ratio                                    0.34               0.41  \n",
       "Weight                                          0.41               1.00  \n",
       "Worst Typical Down Year                       -37.19             -29.56  \n",
       "Black Swan                                    -59.62             -48.14  "
      ]
     },
     "execution_count": 13,
     "metadata": {},
     "output_type": "execute_result"
    },
    {
     "data": {
      "image/png": "[encoded data removed]",
      "text/plain": [
       "<Figure size 1000x700 with 1 Axes>"
      ]
     },
     "metadata": {},
     "output_type": "display_data"
    }
   ],
   "source": [
    "# Display Results.\n",
    "summary = bb.summary(df, portfolio_option, annual_ret, std_dev, sharpe_ratio)\n",
    "summary"
   ]
  },
  {
   "cell_type": "code",
   "execution_count": 14,
   "metadata": {},
   "outputs": [
    {
     "data": {
      "image/png": "[encoded data removed]",
      "text/plain": [
       "<Figure size 1000x700 with 1 Axes>"
      ]
     },
     "metadata": {},
     "output_type": "display_data"
    },
    {
     "name": "stdout",
     "output_type": "stream",
     "text": [
      "FRS Stable Value Fund (350)              0.11\n",
      "FRS Global Stock Fund (210)              0.41\n",
      "FRS U.S. Stock Market Index Fund (120)   0.48\n",
      "\n"
     ]
    }
   ],
   "source": [
    "# Show pie charts of investment and asset class weights.\n",
    "bb.show_pie_charts(df, portfolio_option, charts=['Investment Option'])"
   ]
  },
  {
   "cell_type": "code",
   "execution_count": 15,
   "metadata": {},
   "outputs": [
    {
     "name": "stdout",
     "output_type": "stream",
     "text": [
      "Top Dog Portfolio Weights:\n",
      "    FRS U.S. Stock Market Index Fund (120) 0.4760\n",
      "    FRS Stable Value Fund (350)    0.1109\n",
      "    FRS Global Stock Fund (210)    0.4130\n"
     ]
    }
   ],
   "source": [
    "# Show exact weights.\n",
    "bb.print_portfolio(portfolio_option)"
   ]
  },
  {
   "cell_type": "markdown",
   "metadata": {},
   "source": [
    "### Optimize Portfolio"
   ]
  },
  {
   "cell_type": "code",
   "execution_count": 16,
   "metadata": {},
   "outputs": [],
   "source": [
    "# Run_portfolio_optimizer = True will run portfolio optimizer after portfolio analysis is complete.\n",
    "run_portfolio_optimizer = True"
   ]
  },
  {
   "cell_type": "code",
   "execution_count": 18,
   "metadata": {
    "scrolled": true
   },
   "outputs": [
    {
     "name": "stdout",
     "output_type": "stream",
     "text": [
      "Running optimizer....\n",
      "\n",
      "Top Dog Portfolio Metrics:          \n",
      "    max_sharpe_ratio            0.48\n",
      "    annual_return               5.92\n",
      "    std_dev                    12.42\n",
      "    worst typical down year   -18.91\n",
      "    black_swan                -31.33\n",
      "\n",
      "\n",
      "Top Dog Portfolio Weights:\n",
      "    FRS U.S. Stock Market Index Fund (120) 0.5700\n",
      "    FRS Stable Value Fund (350)    0.4300\n",
      "    FRS Global Stock Fund (210)    0.0000\n",
      "\n"
     ]
    }
   ],
   "source": [
    "# Optimize sharpe ratio while specifying Annual Rate, Worst Typical Down Year,\n",
    "# and Black Swan.  Setting a constraint to None optimizes absolute Sharpe Ratio\n",
    "# without regard to that constraint.\n",
    "\n",
    "'''\n",
    "constraints = {\n",
    "    'Annual Return': 12,\n",
    "    'Worst Typical Down Year': -5,\n",
    "    'Black Swan': None\n",
    "}\n",
    "'''\n",
    "\n",
    "constraints = {\n",
    "    'Annual Return': 6,\n",
    "    'Worst Typical Down Year': None,\n",
    "    'Black Swan': -40\n",
    "}\n",
    "\n",
    "if run_portfolio_optimizer:\n",
    "    bb.optimizer(df, portfolio_option, constraints)"
   ]
  },
  {
   "cell_type": "markdown",
   "metadata": {},
   "source": [
    "### Use Sharpe Ratio adjusted weights\n",
    "Recommend that you also try using Sharpe Ratio adjusted weights and compare those results with the Optimized Portflio.  \n",
    "It tends to produce a higher Annual Return while keeping the allocations more balanced than the Optimizer.  (See 'Analysis Options' section)."
   ]
  },
  {
   "cell_type": "code",
   "execution_count": null,
   "metadata": {},
   "outputs": [],
   "source": []
  }
 ],
 "metadata": {
  "kernelspec": {
   "display_name": "Python 3 (ipykernel)",
   "language": "python",
   "name": "python3"
  },
  "language_info": {
   "codemirror_mode": {
    "name": "ipython",
    "version": 3
   },
   "file_extension": ".py",
   "mimetype": "text/x-python",
   "name": "python",
   "nbconvert_exporter": "python",
   "pygments_lexer": "ipython3",
   "version": "3.10.12"
  },
  "latex_envs": {
   "LaTeX_envs_menu_present": true,
   "autoclose": false,
   "autocomplete": true,
   "bibliofile": "biblio.bib",
   "cite_by": "apalike",
   "current_citInitial": 1,
   "eqLabelWithNumbers": true,
   "eqNumInitial": 1,
   "hotkeys": {
    "equation": "Ctrl-E",
    "itemize": "Ctrl-I"
   },
   "labels_anchors": false,
   "latex_user_defs": false,
   "report_style_numbering": false,
   "user_envs_cfg": false
  }
 },
 "nbformat": 4,
 "nbformat_minor": 4
}
