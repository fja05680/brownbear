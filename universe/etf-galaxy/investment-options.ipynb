{
 "cells": [
  {
   "cell_type": "markdown",
   "metadata": {},
   "source": [
    "Use this utlity to update the returns and std_dev fields within investment-options.csv"
   ]
  },
  {
   "cell_type": "code",
   "execution_count": 1,
   "metadata": {
    "ExecuteTime": {
     "end_time": "2019-08-05T19:30:28.821735Z",
     "start_time": "2019-08-05T19:30:28.795344Z"
    }
   },
   "outputs": [
    {
     "data": {
      "application/javascript": [
       "IPython.OutputArea.prototype._should_scroll = function(lines) {\n",
       "    return false;\n",
       "}\n"
      ],
      "text/plain": [
       "<IPython.core.display.Javascript object>"
      ]
     },
     "metadata": {},
     "output_type": "display_data"
    }
   ],
   "source": [
    "%%javascript\n",
    "IPython.OutputArea.prototype._should_scroll = function(lines) {\n",
    "    return false;\n",
    "}"
   ]
  },
  {
   "cell_type": "code",
   "execution_count": 2,
   "metadata": {
    "ExecuteTime": {
     "end_time": "2019-08-05T19:30:29.630182Z",
     "start_time": "2019-08-05T19:30:28.824991Z"
    }
   },
   "outputs": [
    {
     "name": "stdout",
     "output_type": "stream",
     "text": [
      "/home/fja0568/src/brownbear\n",
      "/home/fja0568/src/brownbear/universe/etf-galaxy\n"
     ]
    }
   ],
   "source": [
    "# imports\n",
    "import pandas as pd\n",
    "import numpy as np\n",
    "import matplotlib.pyplot as plt\n",
    "from pathlib import Path\n",
    "import brownbear as bb\n",
    "\n",
    "# format price data\n",
    "pd.options.display.float_format = '{:0.2f}'.format\n",
    "\n",
    "%matplotlib inline"
   ]
  },
  {
   "cell_type": "code",
   "execution_count": 3,
   "metadata": {
    "ExecuteTime": {
     "end_time": "2019-08-05T19:30:29.646391Z",
     "start_time": "2019-08-05T19:30:29.636429Z"
    }
   },
   "outputs": [],
   "source": [
    "# set size of inline plots\n",
    "'''note: rcParams can't be in same cell as import matplotlib\n",
    "   or %matplotlib inline\n",
    "   \n",
    "   %matplotlib notebook: will lead to interactive plots embedded within\n",
    "   the notebook, you can zoom and resize the figure\n",
    "   \n",
    "   %matplotlib inline: only draw static images in the notebook\n",
    "'''\n",
    "plt.rcParams[\"figure.figsize\"] = (10, 7)"
   ]
  },
  {
   "cell_type": "markdown",
   "metadata": {},
   "source": [
    "Globals"
   ]
  },
  {
   "cell_type": "code",
   "execution_count": 4,
   "metadata": {},
   "outputs": [],
   "source": [
    "# set refresh_timeseries=True to download timeseries.  Otherwise /symbol-cache is used.\n",
    "refresh_timeseries = True"
   ]
  },
  {
   "cell_type": "code",
   "execution_count": 5,
   "metadata": {},
   "outputs": [],
   "source": [
    "# read in investment options input csv\n",
    "etfs = pd.read_csv('investment-options-in.csv', skip_blank_lines=True, comment='#')\n",
    "etfs = list(etfs['Investment Option'])"
   ]
  },
  {
   "cell_type": "code",
   "execution_count": 6,
   "metadata": {},
   "outputs": [],
   "source": [
    "# eliminate repeat symbols\n",
    "symbols = set(etfs)"
   ]
  },
  {
   "cell_type": "code",
   "execution_count": 7,
   "metadata": {},
   "outputs": [
    {
     "name": "stdout",
     "output_type": "stream",
     "text": [
      "......................................................................\n"
     ]
    }
   ],
   "source": [
    "# get the timeseries for the symbols and compile into a single csv\n",
    "bb.fetch_timeseries(symbols, refresh=refresh_timeseries)\n",
    "bb.compile_timeseries(symbols)"
   ]
  },
  {
   "cell_type": "code",
   "execution_count": 8,
   "metadata": {},
   "outputs": [],
   "source": [
    "# read symbols timeseries into a dataframe\n",
    "df = pd.read_csv('symbols-timeseries.csv', skip_blank_lines=True, comment='#')\n",
    "df.set_index(\"Date\", inplace=True)"
   ]
  },
  {
   "cell_type": "code",
   "execution_count": 9,
   "metadata": {},
   "outputs": [
    {
     "data": {
      "text/plain": [
       "20.826285940457435"
      ]
     },
     "execution_count": 9,
     "metadata": {},
     "output_type": "execute_result"
    }
   ],
   "source": [
    "annual_returns = bb.annualize_returns(df, timeperiod='daily', years=1)\n",
    "annual_returns['SPY']"
   ]
  },
  {
   "cell_type": "code",
   "execution_count": 10,
   "metadata": {},
   "outputs": [],
   "source": [
    "# calculate annualized returns\n",
    "annual_returns_1mo = bb.annualize_returns(df, timeperiod='daily', years=1/12)\n",
    "annual_returns_3mo = bb.annualize_returns(df, timeperiod='daily', years=3/12)\n",
    "annual_returns_1yr = bb.annualize_returns(df, timeperiod='daily', years=1)\n",
    "annual_returns_3yr = bb.annualize_returns(df, timeperiod='daily', years=3)\n",
    "annual_returns_5yr = bb.annualize_returns(df, timeperiod='daily', years=5)"
   ]
  },
  {
   "cell_type": "code",
   "execution_count": 11,
   "metadata": {},
   "outputs": [
    {
     "data": {
      "text/plain": [
       "0.1263342686281806"
      ]
     },
     "execution_count": 11,
     "metadata": {},
     "output_type": "execute_result"
    }
   ],
   "source": [
    "# calculate volatility\n",
    "daily_returns = df.pct_change()\n",
    "years = bb.TRADING_DAYS_PER_MONTH / bb.TRADING_DAYS_PER_YEAR\n",
    "vola = bb.annualized_standard_deviation(daily_returns, timeperiod='daily', years=years)\n",
    "vola['SPY']"
   ]
  },
  {
   "cell_type": "code",
   "execution_count": 12,
   "metadata": {},
   "outputs": [
    {
     "data": {
      "text/plain": [
       "0.056264271902764874"
      ]
     },
     "execution_count": 12,
     "metadata": {},
     "output_type": "execute_result"
    }
   ],
   "source": [
    "# calculate downside volatility\n",
    "ds_vola = bb.annualized_standard_deviation(daily_returns, timeperiod='daily', years=years, downside=True)\n",
    "ds_vola['SPY']"
   ]
  },
  {
   "cell_type": "code",
   "execution_count": 13,
   "metadata": {},
   "outputs": [
    {
     "name": "stdout",
     "output_type": "stream",
     "text": [
      "Date\n",
      "2015-01-31   178.18\n",
      "2015-02-28   188.20\n",
      "2015-03-31   185.24\n",
      "2015-04-30   187.06\n",
      "2015-05-31   189.47\n",
      "2015-06-30   185.62\n",
      "2015-07-31   189.81\n",
      "2015-08-31   178.24\n",
      "2015-09-30   173.70\n",
      "2015-10-31   188.47\n",
      "2015-11-30   189.16\n",
      "2015-12-31   185.89\n",
      "2016-01-31   176.64\n",
      "2016-02-29   176.49\n",
      "2016-03-31   188.36\n",
      "2016-04-30   189.10\n",
      "2016-05-31   192.32\n",
      "2016-06-30   192.99\n",
      "2016-07-31   200.03\n",
      "2016-08-31   200.27\n",
      "2016-09-30   200.28\n",
      "2016-10-31   196.81\n",
      "2016-11-30   204.06\n",
      "2016-12-31   208.19\n",
      "2017-01-31   211.92\n",
      "2017-02-28   220.25\n",
      "2017-03-31   220.52\n",
      "2017-04-30   222.71\n",
      "2017-05-31   225.85\n",
      "2017-06-30   227.29\n",
      "2017-07-31   231.96\n",
      "2017-08-31   232.64\n",
      "2017-09-30   237.33\n",
      "2017-10-31   242.92\n",
      "2017-11-30   250.35\n",
      "2017-12-31   253.38\n",
      "2018-01-31   267.66\n",
      "2018-02-28   257.93\n",
      "2018-03-31   250.86\n",
      "2018-04-30   252.16\n",
      "2018-05-31   258.29\n",
      "2018-06-30   259.77\n",
      "2018-07-31   269.40\n",
      "2018-08-31   277.99\n",
      "2018-09-30   279.65\n",
      "2018-10-31   260.32\n",
      "2018-11-30   265.15\n",
      "2018-12-31   241.81\n",
      "2019-01-31   261.17\n",
      "2019-02-28   269.63\n",
      "2019-03-31   274.51\n",
      "2019-04-30   285.73\n",
      "2019-05-31   267.51\n",
      "2019-06-30   286.12\n",
      "2019-07-31   290.45\n",
      "2019-08-31   285.58\n",
      "2019-09-30   291.14\n",
      "2019-10-31   297.58\n",
      "2019-11-30   308.35\n",
      "2019-12-31   317.31\n",
      "2020-01-31   317.18\n",
      "2020-02-29   292.07\n",
      "2020-03-31   255.60\n",
      "2020-04-30   288.05\n",
      "2020-05-31   301.78\n",
      "2020-06-30   307.13\n",
      "2020-07-31   325.22\n",
      "2020-08-31   347.92\n",
      "2020-09-30   334.89\n",
      "2020-10-31   326.54\n",
      "2020-11-30   362.06\n",
      "2020-12-31   369.85\n",
      "Freq: M, Name: SPY, dtype: float64\n"
     ]
    }
   ],
   "source": [
    "# resample df on a monthly basis\n",
    "df.index = pd.to_datetime(df.index)\n",
    "monthly = df.resample('M').ffill()\n",
    "bb.print_full(monthly['SPY'])"
   ]
  },
  {
   "cell_type": "code",
   "execution_count": 14,
   "metadata": {},
   "outputs": [
    {
     "data": {
      "text/plain": [
       "Date\n",
       "2015-01-31     nan\n",
       "2015-02-28    0.06\n",
       "2015-03-31   -0.02\n",
       "2015-04-30    0.01\n",
       "2015-05-31    0.01\n",
       "              ... \n",
       "2020-08-31    0.07\n",
       "2020-09-30   -0.04\n",
       "2020-10-31   -0.02\n",
       "2020-11-30    0.11\n",
       "2020-12-31    0.02\n",
       "Freq: M, Name: SPY, Length: 72, dtype: float64"
      ]
     },
     "execution_count": 14,
     "metadata": {},
     "output_type": "execute_result"
    }
   ],
   "source": [
    "# calculate monthly returns\n",
    "monthly_returns = monthly.pct_change()\n",
    "monthly_returns['SPY']"
   ]
  },
  {
   "cell_type": "code",
   "execution_count": 15,
   "metadata": {},
   "outputs": [
    {
     "data": {
      "text/plain": [
       "0.18363275195421486"
      ]
     },
     "execution_count": 15,
     "metadata": {},
     "output_type": "execute_result"
    }
   ],
   "source": [
    "# calculate standard deviation\n",
    "std_dev = bb.annualized_standard_deviation(monthly_returns, timeperiod='monthly', years=3)\n",
    "std_dev['SPY']"
   ]
  },
  {
   "cell_type": "code",
   "execution_count": 16,
   "metadata": {},
   "outputs": [],
   "source": [
    "# read investment-options-in.csv\n",
    "lines = []\n",
    "with open('investment-options-in.csv', 'r') as f:\n",
    "    lines = [line.strip() for line in f]\n",
    "#lines"
   ]
  },
  {
   "cell_type": "code",
   "execution_count": 17,
   "metadata": {},
   "outputs": [],
   "source": [
    "# for each etf, write out the 1 Yr, 3 Yr, 5 Yr, and std dev\n",
    "out = []\n",
    "for line in lines:\n",
    "    # copy empty and comment lines\n",
    "    if not line or line.startswith('#'):\n",
    "        out.append(line)\n",
    "        continue\n",
    "    # split line by comma delimiter; strip the fields\n",
    "    fields = line.split(',')\n",
    "    fields = [field.strip() for field in fields]\n",
    "    symbol = fields[0].strip('\\\"')\n",
    "    # copy header\n",
    "    if symbol == 'Investment Option':\n",
    "        out.append(line)\n",
    "        continue\n",
    "    ret_1mo = annual_returns_1mo[symbol]\n",
    "    ret_3mo = annual_returns_3mo[symbol]\n",
    "    ret_1yr = annual_returns_1yr[symbol]\n",
    "    ret_3yr = annual_returns_3yr[symbol]\n",
    "    ret_5yr = annual_returns_5yr[symbol]\n",
    "\n",
    "    _vola = vola[symbol]*100\n",
    "    _ds_vola = ds_vola[symbol]*100\n",
    "    sd = std_dev[symbol]*100\n",
    "\n",
    "    out.append('{},{},{},\"{:0.2f}\",\"{:0.2f}\",\"{:0.2f}\",\"{:0.2f}\",\"{:0.2f}\",\"{:0.2f}\",\"{:0.2f}\",\"{:0.2f}\"'\n",
    "               .format(fields[0], fields[1], fields[2],\n",
    "                       ret_1mo, ret_3mo, ret_1yr, ret_3yr, ret_5yr, _vola, _ds_vola, sd)) "
   ]
  },
  {
   "cell_type": "code",
   "execution_count": 18,
   "metadata": {},
   "outputs": [],
   "source": [
    "# write out asset-classes.csv\n",
    "with open('investment-options.csv', 'w') as f:\n",
    "    for line in out:\n",
    "        f.write(line + '\\n')"
   ]
  },
  {
   "cell_type": "code",
   "execution_count": null,
   "metadata": {},
   "outputs": [],
   "source": []
  }
 ],
 "metadata": {
  "kernelspec": {
   "display_name": "Python 3",
   "language": "python",
   "name": "python3"
  },
  "language_info": {
   "codemirror_mode": {
    "name": "ipython",
    "version": 3
   },
   "file_extension": ".py",
   "mimetype": "text/x-python",
   "name": "python",
   "nbconvert_exporter": "python",
   "pygments_lexer": "ipython3",
   "version": "3.8.5"
  },
  "latex_envs": {
   "LaTeX_envs_menu_present": true,
   "autoclose": false,
   "autocomplete": true,
   "bibliofile": "biblio.bib",
   "cite_by": "apalike",
   "current_citInitial": 1,
   "eqLabelWithNumbers": true,
   "eqNumInitial": 1,
   "hotkeys": {
    "equation": "Ctrl-E",
    "itemize": "Ctrl-I"
   },
   "labels_anchors": false,
   "latex_user_defs": false,
   "report_style_numbering": false,
   "user_envs_cfg": false
  }
 },
 "nbformat": 4,
 "nbformat_minor": 1
}
