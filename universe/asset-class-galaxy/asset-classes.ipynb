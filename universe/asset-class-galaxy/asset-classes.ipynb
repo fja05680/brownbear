{
 "cells": [
  {
   "cell_type": "markdown",
   "metadata": {},
   "source": [
    "Use this utlity to update the correlations between asset classes in universe/asset-prices.csv\n",
    "\n",
    "input files:\n",
    "- asset-classes-2-etf.csv: mapping of asset classes to a representative ETF to use for calculating correlations\n",
    "- asset-classes-in.csv: asset pairs for which to calculate correlations\n",
    "\n",
    "output files:\n",
    "- symbols-cache/'symbol'.csv: timeseries for each symbol \n",
    "- symbols-timeseries.csv: compiled timeseries for symbols\n",
    "- universe/asset-classes.csv: asset class pairs with correlations"
   ]
  },
  {
   "cell_type": "code",
   "execution_count": 1,
   "metadata": {
    "ExecuteTime": {
     "end_time": "2019-08-05T19:30:28.821735Z",
     "start_time": "2019-08-05T19:30:28.795344Z"
    }
   },
   "outputs": [
    {
     "data": {
      "application/javascript": [
       "IPython.OutputArea.prototype._should_scroll = function(lines) {\n",
       "    return false;\n",
       "}\n"
      ],
      "text/plain": [
       "<IPython.core.display.Javascript object>"
      ]
     },
     "metadata": {},
     "output_type": "display_data"
    }
   ],
   "source": [
    "%%javascript\n",
    "IPython.OutputArea.prototype._should_scroll = function(lines) {\n",
    "    return false;\n",
    "}"
   ]
  },
  {
   "cell_type": "code",
   "execution_count": 2,
   "metadata": {
    "ExecuteTime": {
     "end_time": "2019-08-05T19:30:29.630182Z",
     "start_time": "2019-08-05T19:30:28.824991Z"
    }
   },
   "outputs": [],
   "source": [
    "# imports\n",
    "import pandas as pd\n",
    "import numpy as np\n",
    "import matplotlib.pyplot as plt\n",
    "from pathlib import Path\n",
    "import brownbear as bb\n",
    "\n",
    "# format price data\n",
    "pd.options.display.float_format = '{:0.2f}'.format\n",
    "\n",
    "%matplotlib inline"
   ]
  },
  {
   "cell_type": "code",
   "execution_count": 3,
   "metadata": {
    "ExecuteTime": {
     "end_time": "2019-08-05T19:30:29.646391Z",
     "start_time": "2019-08-05T19:30:29.636429Z"
    }
   },
   "outputs": [],
   "source": [
    "# set size of inline plots\n",
    "'''note: rcParams can't be in same cell as import matplotlib\n",
    "   or %matplotlib inline\n",
    "   \n",
    "   %matplotlib notebook: will lead to interactive plots embedded within\n",
    "   the notebook, you can zoom and resize the figure\n",
    "   \n",
    "   %matplotlib inline: only draw static images in the notebook\n",
    "'''\n",
    "plt.rcParams[\"figure.figsize\"] = (10, 7)"
   ]
  },
  {
   "cell_type": "markdown",
   "metadata": {},
   "source": [
    "Globals"
   ]
  },
  {
   "cell_type": "code",
   "execution_count": 4,
   "metadata": {},
   "outputs": [],
   "source": [
    "# set refresh_timeseries=True to download timeseries.  Otherwise /symbol-cache is used.\n",
    "refresh_timeseries = True"
   ]
  },
  {
   "cell_type": "code",
   "execution_count": 5,
   "metadata": {},
   "outputs": [
    {
     "data": {
      "text/plain": [
       "{'US Stocks': 'VTSMX',\n",
       " 'Global Stocks': 'VXUS',\n",
       " 'Bonds': 'AGG',\n",
       " 'Cash Equivalents': 'BIL',\n",
       " 'Real Estate': 'VNQ',\n",
       " 'Commodities': 'DBC',\n",
       " 'Currencies': 'DBV',\n",
       " 'Managed Futures': 'FUT',\n",
       " 'Balanced': 'AOM',\n",
       " 'US Stocks:Large Cap': 'SPY',\n",
       " 'US Stocks:Mid Cap': 'MDY',\n",
       " 'US Stocks:Small Cap': 'IWM',\n",
       " 'US Stocks:Growth': 'QQQ',\n",
       " 'US Stocks:Value': 'IWD',\n",
       " 'US Stocks:Total Stock Market': 'VTI',\n",
       " 'US Stocks:Materials': 'XLB',\n",
       " 'US Stocks:Communication Services': 'XLC',\n",
       " 'US Stocks:Energy': 'XLE',\n",
       " 'US Stocks:Financials': 'XLF',\n",
       " 'US Stocks:Industrials': 'XLI',\n",
       " 'US Stocks:Technology': 'XLK',\n",
       " 'US Stocks:Consumer Staples': 'XLP',\n",
       " 'US Stocks:Real Estate': 'XLRE',\n",
       " 'US Stocks:Utilities': 'XLU',\n",
       " 'US Stocks:Healthcare': 'XLV',\n",
       " 'US Stocks:Consumer Discretionary': 'XLY',\n",
       " 'Global Stocks:Asia': 'VPL',\n",
       " 'Global Stocks:Developed Markets': 'EFA',\n",
       " 'Global Stocks:Emerging Markets': 'EEM',\n",
       " 'Global Stocks:Europe': 'IEUR',\n",
       " 'Global Stocks:EX-US': 'VXUS',\n",
       " 'Bonds:Investment Grade': 'LQD',\n",
       " 'Bonds:Long Term Treasury': 'TLT',\n",
       " 'Bonds:High Yield': 'JNK',\n",
       " 'Bonds:Global': 'IBND',\n",
       " 'Bonds:Preferred Stock': 'PFF',\n",
       " 'Cash Equivalents:Money Markets': 'JPST',\n",
       " 'Cash Equivalents:Treasury Bills': 'BIL',\n",
       " 'Cash Equivalents:Short Term Gov Bonds': 'SHV',\n",
       " 'Real Estate:REIT': 'IYR',\n",
       " 'Real Estate:Real Estate Funds': 'VNQ',\n",
       " 'Commodities:Gold': 'GLD',\n",
       " 'Commodities:Silver': 'SLV',\n",
       " 'Commodities:Cooper': 'CPER',\n",
       " 'Commodities:Platinum': 'PPLT',\n",
       " 'Commodities:Palladium': 'PALL',\n",
       " 'Commodities:Oil': 'USO',\n",
       " 'Commodities:Natural Gas': 'UNG',\n",
       " 'Commodities:Gasoline': 'UGA',\n",
       " 'Commodities:Corn': 'CORN',\n",
       " 'Commodities:Sugar': 'CANE',\n",
       " 'Commodities:Agriculture': 'DBA',\n",
       " 'Commodities:Base Metals': 'DBB',\n",
       " 'Commodities:Energy': 'DBE',\n",
       " 'Commodities:Precious Metals': 'DBP',\n",
       " 'Currencies:US Dollar': 'UUP',\n",
       " 'Currencies:Euro': 'FXE',\n",
       " 'Currencies:Japanese Yen': 'FXY',\n",
       " 'Currencies:Swiss Franc': 'FXF',\n",
       " 'Currencies:Australian Dollar': 'FXA',\n",
       " 'Currencies:Canadian Dollar': 'FXC',\n",
       " 'Currencies:British Pound': 'FXB',\n",
       " 'Currencies:Chinese Yuan': 'CYB',\n",
       " 'Balanced:Conservative Allocation (30/70)': 'AOK',\n",
       " 'Balanced:Moderate Allocation (40/60)': 'AOM',\n",
       " 'Balanced:Growth Allocation (60/40)': 'AOR',\n",
       " 'Balanced:Aggressive Allocation (80/20)': 'AOA'}"
      ]
     },
     "execution_count": 5,
     "metadata": {},
     "output_type": "execute_result"
    }
   ],
   "source": [
    "# asset2etf dict provides a mapping from the asset name to a representative etf\n",
    "asset2etf = pd.read_csv('asset-classes-2-etf.csv', skip_blank_lines=True, comment='#')\n",
    "asset2etf = asset2etf.set_index(['Asset Class'])\n",
    "asset2etf = asset2etf['ETF'].to_dict()\n",
    "asset2etf"
   ]
  },
  {
   "cell_type": "code",
   "execution_count": 6,
   "metadata": {},
   "outputs": [],
   "source": [
    "symbols = set(asset2etf.values())"
   ]
  },
  {
   "cell_type": "code",
   "execution_count": 7,
   "metadata": {},
   "outputs": [
    {
     "name": "stdout",
     "output_type": "stream",
     "text": [
      "...............................................................\n"
     ]
    }
   ],
   "source": [
    "bb.fetch_timeseries(symbols, refresh=refresh_timeseries)\n",
    "bb.compile_timeseries(symbols)"
   ]
  },
  {
   "cell_type": "code",
   "execution_count": 8,
   "metadata": {},
   "outputs": [
    {
     "data": {
      "text/plain": [
       "Date\n",
       "2015-01-02    46.33\n",
       "2015-01-05    45.51\n",
       "2015-01-06    45.07\n",
       "2015-01-07    45.61\n",
       "2015-01-08    46.41\n",
       "              ...  \n",
       "2021-02-04    98.72\n",
       "2021-02-05    99.28\n",
       "2021-02-08   100.20\n",
       "2021-02-09   100.22\n",
       "2021-02-10   100.17\n",
       "Name: VTSMX, Length: 1538, dtype: float64"
      ]
     },
     "execution_count": 8,
     "metadata": {},
     "output_type": "execute_result"
    }
   ],
   "source": [
    "df = pd.read_csv('symbols-timeseries.csv', skip_blank_lines=True, comment='#')\n",
    "df.set_index(\"Date\", inplace=True)\n",
    "df['VTSMX']"
   ]
  },
  {
   "cell_type": "code",
   "execution_count": 9,
   "metadata": {},
   "outputs": [
    {
     "data": {
      "text/plain": [
       "0.926104255363544"
      ]
     },
     "execution_count": 9,
     "metadata": {},
     "output_type": "execute_result"
    },
    {
     "data": {
      "image/png": "[encoded data removed]",
      "text/plain": [
       "<Figure size 1152x864 with 2 Axes>"
      ]
     },
     "metadata": {
      "needs_background": "light"
     },
     "output_type": "display_data"
    }
   ],
   "source": [
    "corr_map = bb.correlation_map(df, method='log', days=bb.TRADING_DAYS_PER_YEAR)\n",
    "corr_map['SPY']['VXUS']"
   ]
  },
  {
   "cell_type": "code",
   "execution_count": 10,
   "metadata": {},
   "outputs": [],
   "source": [
    "# read asset-classes-in.csv\n",
    "lines = []\n",
    "with open('asset-classes-in.csv', 'r') as f:\n",
    "    lines = [line.strip() for line in f]\n",
    "#lines"
   ]
  },
  {
   "cell_type": "code",
   "execution_count": 11,
   "metadata": {},
   "outputs": [],
   "source": [
    "# calculate the pair correlations between the assets and write\n",
    "# the resuls to a list\n",
    "out = []\n",
    "for line in lines:\n",
    "    # copy empty and comment lines\n",
    "    if not line or line.startswith('#'):\n",
    "        out.append(line)\n",
    "        continue\n",
    "    # split line by comma delimiter; strip the fields\n",
    "    fields = line.split(',')\n",
    "    fields = [field.strip() for field in fields]\n",
    "    assetA = fields[0].strip('\\\"')\n",
    "    assetB = fields[1].strip('\\\"')\n",
    "    # copy same asset lines and header\n",
    "    if assetA == assetB or assetA == 'Asset Class A':\n",
    "        out.append(line)\n",
    "        continue\n",
    "    # use asset2etf to get a representative etf for the asset,\n",
    "    # then calculate the correlation.  The etf pair correlation is\n",
    "    # a proxy for the correlation of an asset pair\n",
    "    etfA = asset2etf[assetA]\n",
    "    etfB = asset2etf[assetB]\n",
    "    corrAB = corr_map.loc[etfA, etfB]\n",
    "    out.append('\"{}\",\"{}\",\"{:0.2f}\"'.format(assetA, assetB,corrAB))   "
   ]
  },
  {
   "cell_type": "code",
   "execution_count": 12,
   "metadata": {},
   "outputs": [],
   "source": [
    "# write out asset-classes.csv\n",
    "with open('asset-classes.csv', 'w') as f:\n",
    "    for line in out:\n",
    "        f.write(line + '\\n')"
   ]
  },
  {
   "cell_type": "code",
   "execution_count": 13,
   "metadata": {},
   "outputs": [],
   "source": [
    "# sample symbol\n",
    "symbol = 'SPY'"
   ]
  },
  {
   "cell_type": "code",
   "execution_count": 14,
   "metadata": {},
   "outputs": [
    {
     "data": {
      "text/plain": [
       "18.52432628862255"
      ]
     },
     "execution_count": 14,
     "metadata": {},
     "output_type": "execute_result"
    }
   ],
   "source": [
    "annual_returns = bb.annualize_returns(df, timeperiod='daily', years=1)\n",
    "annual_returns[symbol]"
   ]
  },
  {
   "cell_type": "code",
   "execution_count": 15,
   "metadata": {},
   "outputs": [],
   "source": [
    "# calculate annualized returns\n",
    "annual_returns_1mo = bb.annualize_returns(df, timeperiod='daily', years=1/12)\n",
    "annual_returns_3mo = bb.annualize_returns(df, timeperiod='daily', years=3/12)\n",
    "annual_returns_1yr = bb.annualize_returns(df, timeperiod='daily', years=1)\n",
    "annual_returns_3yr = bb.annualize_returns(df, timeperiod='daily', years=3)\n",
    "annual_returns_5yr = bb.annualize_returns(df, timeperiod='daily', years=5)"
   ]
  },
  {
   "cell_type": "code",
   "execution_count": 16,
   "metadata": {},
   "outputs": [
    {
     "data": {
      "text/plain": [
       "0.16102825981460356"
      ]
     },
     "execution_count": 16,
     "metadata": {},
     "output_type": "execute_result"
    }
   ],
   "source": [
    "# calculate volatility\n",
    "daily_returns = df.pct_change()\n",
    "years = bb.TRADING_DAYS_PER_MONTH / bb.TRADING_DAYS_PER_YEAR\n",
    "vola = bb.annualized_standard_deviation(daily_returns, timeperiod='daily', years=years)\n",
    "vola[symbol]"
   ]
  },
  {
   "cell_type": "code",
   "execution_count": 17,
   "metadata": {},
   "outputs": [
    {
     "data": {
      "text/plain": [
       "0.10591513912439243"
      ]
     },
     "execution_count": 17,
     "metadata": {},
     "output_type": "execute_result"
    }
   ],
   "source": [
    "# calculate downside volatility\n",
    "ds_vola = bb.annualized_standard_deviation(daily_returns, timeperiod='daily', years=years, downside=True)\n",
    "ds_vola[symbol]"
   ]
  },
  {
   "cell_type": "code",
   "execution_count": 18,
   "metadata": {},
   "outputs": [
    {
     "name": "stdout",
     "output_type": "stream",
     "text": [
      "Date\n",
      "2015-01-31   177.43\n",
      "2015-02-28   187.40\n",
      "2015-03-31   184.46\n",
      "2015-04-30   186.27\n",
      "2015-05-31   188.66\n",
      "2015-06-30   184.83\n",
      "2015-07-31   189.01\n",
      "2015-08-31   177.49\n",
      "2015-09-30   172.96\n",
      "2015-10-31   187.67\n",
      "2015-11-30   188.36\n",
      "2015-12-31   185.10\n",
      "2016-01-31   175.89\n",
      "2016-02-29   175.74\n",
      "2016-03-31   187.56\n",
      "2016-04-30   188.30\n",
      "2016-05-31   191.50\n",
      "2016-06-30   192.17\n",
      "2016-07-31   199.18\n",
      "2016-08-31   199.42\n",
      "2016-09-30   199.43\n",
      "2016-10-31   195.97\n",
      "2016-11-30   203.19\n",
      "2016-12-31   207.31\n",
      "2017-01-31   211.02\n",
      "2017-02-28   219.31\n",
      "2017-03-31   219.58\n",
      "2017-04-30   221.76\n",
      "2017-05-31   224.89\n",
      "2017-06-30   226.33\n",
      "2017-07-31   230.98\n",
      "2017-08-31   231.65\n",
      "2017-09-30   236.32\n",
      "2017-10-31   241.89\n",
      "2017-11-30   249.28\n",
      "2017-12-31   252.31\n",
      "2018-01-31   266.53\n",
      "2018-02-28   256.84\n",
      "2018-03-31   249.80\n",
      "2018-04-30   251.09\n",
      "2018-05-31   257.19\n",
      "2018-06-30   258.67\n",
      "2018-07-31   268.25\n",
      "2018-08-31   276.81\n",
      "2018-09-30   278.46\n",
      "2018-10-31   259.22\n",
      "2018-11-30   264.03\n",
      "2018-12-31   240.78\n",
      "2019-01-31   260.06\n",
      "2019-02-28   268.49\n",
      "2019-03-31   273.35\n",
      "2019-04-30   284.51\n",
      "2019-05-31   266.37\n",
      "2019-06-30   284.91\n",
      "2019-07-31   289.21\n",
      "2019-08-31   284.37\n",
      "2019-09-30   289.90\n",
      "2019-10-31   296.31\n",
      "2019-11-30   307.04\n",
      "2019-12-31   315.96\n",
      "2020-01-31   315.83\n",
      "2020-02-29   290.83\n",
      "2020-03-31   254.51\n",
      "2020-04-30   286.83\n",
      "2020-05-31   300.50\n",
      "2020-06-30   305.83\n",
      "2020-07-31   323.84\n",
      "2020-08-31   346.44\n",
      "2020-09-30   333.47\n",
      "2020-10-31   325.15\n",
      "2020-11-30   360.52\n",
      "2020-12-31   373.88\n",
      "2021-01-31   370.07\n",
      "2021-02-28   390.08\n",
      "Freq: M, Name: SPY, dtype: float64\n"
     ]
    }
   ],
   "source": [
    "# resample df on a monthly basis\n",
    "df.index = pd.to_datetime(df.index)\n",
    "monthly = df.resample('M').ffill()\n",
    "bb.print_full(monthly[symbol])"
   ]
  },
  {
   "cell_type": "code",
   "execution_count": 19,
   "metadata": {},
   "outputs": [
    {
     "data": {
      "text/plain": [
       "Date\n",
       "2015-01-31     nan\n",
       "2015-02-28    0.06\n",
       "2015-03-31   -0.02\n",
       "2015-04-30    0.01\n",
       "2015-05-31    0.01\n",
       "              ... \n",
       "2020-10-31   -0.02\n",
       "2020-11-30    0.11\n",
       "2020-12-31    0.04\n",
       "2021-01-31   -0.01\n",
       "2021-02-28    0.05\n",
       "Freq: M, Name: SPY, Length: 74, dtype: float64"
      ]
     },
     "execution_count": 19,
     "metadata": {},
     "output_type": "execute_result"
    }
   ],
   "source": [
    "# calculate monthly returns\n",
    "monthly_returns = monthly.pct_change()\n",
    "monthly_returns['SPY']"
   ]
  },
  {
   "cell_type": "code",
   "execution_count": 20,
   "metadata": {},
   "outputs": [
    {
     "data": {
      "text/plain": [
       "0.18222199964279595"
      ]
     },
     "execution_count": 20,
     "metadata": {},
     "output_type": "execute_result"
    }
   ],
   "source": [
    "# calculate standard deviation\n",
    "std_dev = bb.annualized_standard_deviation(monthly_returns, timeperiod='monthly', years=3)\n",
    "std_dev[symbol]"
   ]
  },
  {
   "cell_type": "code",
   "execution_count": 21,
   "metadata": {},
   "outputs": [
    {
     "data": {
      "text/plain": [
       "['# Description: S&P 500 investment options. 09/29/2020',\n",
       " '',\n",
       " '# Format',\n",
       " '\"Investment Option\",\"Asset Class\",\"1 mo\",\"3 mo\",\"1 Yr\",\"3 Yr\",\"5 Yr\",\"Vola\",\"DS Vola\",\"Std Dev\"',\n",
       " '# Note: \"Description\" field is optional']"
      ]
     },
     "execution_count": 21,
     "metadata": {},
     "output_type": "execute_result"
    }
   ],
   "source": [
    "# read investment-options-header.csv\n",
    "lines = []\n",
    "with open('investment-options-in.csv', 'r') as f:\n",
    "    lines = [line.strip() for line in f]\n",
    "lines"
   ]
  },
  {
   "cell_type": "code",
   "execution_count": 22,
   "metadata": {},
   "outputs": [],
   "source": [
    "# for each symbol, write out the 1 Yr, 3 Yr, 5 Yr, and std dev\n",
    "out = lines.copy()\n",
    "\n",
    "# This is still slow (2.53 s)\n",
    "for key, value in asset2etf.items():\n",
    "\n",
    "    symbol = value\n",
    "    asset_class = key\n",
    "\n",
    "    ret_1mo = annual_returns_1mo[symbol]\n",
    "    ret_3mo = annual_returns_3mo[symbol]\n",
    "    ret_1yr = annual_returns_1yr[symbol]\n",
    "    ret_3yr = annual_returns_3yr[symbol]\n",
    "    ret_5yr = annual_returns_5yr[symbol]\n",
    "\n",
    "    _vola = vola[symbol]*100\n",
    "    _ds_vola = ds_vola[symbol]*100\n",
    "    sd = std_dev[symbol]*100\n",
    "\n",
    "    out.append(\n",
    "        '\"{}\",\"{}\",\"{:0.2f}\",\"{:0.2f}\",\"{:0.2f}\",\"{:0.2f}\",\"{:0.2f}\",\"{:0.2f}\",\"{:0.2f}\",\"{:0.2f}\"'\n",
    "        .format(asset_class, asset_class,\n",
    "                ret_1mo, ret_3mo, ret_1yr, ret_3yr, ret_5yr, _vola, _ds_vola, sd)) "
   ]
  },
  {
   "cell_type": "code",
   "execution_count": 23,
   "metadata": {},
   "outputs": [],
   "source": [
    "# write out asset-classes.csv\n",
    "with open('investment-options.csv', 'w') as f:\n",
    "    for line in out:\n",
    "        f.write(line + '\\n')"
   ]
  },
  {
   "cell_type": "code",
   "execution_count": null,
   "metadata": {},
   "outputs": [],
   "source": []
  }
 ],
 "metadata": {
  "kernelspec": {
   "display_name": "Python 3",
   "language": "python",
   "name": "python3"
  },
  "language_info": {
   "codemirror_mode": {
    "name": "ipython",
    "version": 3
   },
   "file_extension": ".py",
   "mimetype": "text/x-python",
   "name": "python",
   "nbconvert_exporter": "python",
   "pygments_lexer": "ipython3",
   "version": "3.8.5"
  },
  "latex_envs": {
   "LaTeX_envs_menu_present": true,
   "autoclose": false,
   "autocomplete": true,
   "bibliofile": "biblio.bib",
   "cite_by": "apalike",
   "current_citInitial": 1,
   "eqLabelWithNumbers": true,
   "eqNumInitial": 1,
   "hotkeys": {
    "equation": "Ctrl-E",
    "itemize": "Ctrl-I"
   },
   "labels_anchors": false,
   "latex_user_defs": false,
   "report_style_numbering": false,
   "user_envs_cfg": false
  }
 },
 "nbformat": 4,
 "nbformat_minor": 1
}
