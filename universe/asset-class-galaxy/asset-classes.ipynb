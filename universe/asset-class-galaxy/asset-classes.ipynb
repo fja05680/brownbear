{
 "cells": [
  {
   "cell_type": "markdown",
   "metadata": {},
   "source": [
    "Use this utlity to update the correlations between asset classes in universe/asset-prices.csv\n",
    "\n",
    "input files:\n",
    "- asset-classes-2-etf.csv: mapping of asset classes to a representative ETF to use for calculating correlations\n",
    "- asset-classes-in.csv: asset pairs for which to calculate correlations\n",
    "\n",
    "output files:\n",
    "- symbols-cache/'symbol'.csv: timeseries for each symbol \n",
    "- symbols-timeseries.csv: compiled timeseries for symbols\n",
    "- asset-classes.csv: asset class pairs with correlations"
   ]
  },
  {
   "cell_type": "code",
   "execution_count": 1,
   "metadata": {
    "ExecuteTime": {
     "end_time": "2019-08-05T19:30:28.821735Z",
     "start_time": "2019-08-05T19:30:28.795344Z"
    }
   },
   "outputs": [
    {
     "data": {
      "application/javascript": [
       "IPython.OutputArea.prototype._should_scroll = function(lines) {\n",
       "    return false;\n",
       "}\n"
      ],
      "text/plain": [
       "<IPython.core.display.Javascript object>"
      ]
     },
     "metadata": {},
     "output_type": "display_data"
    }
   ],
   "source": [
    "%%javascript\n",
    "IPython.OutputArea.prototype._should_scroll = function(lines) {\n",
    "    return false;\n",
    "}"
   ]
  },
  {
   "cell_type": "code",
   "execution_count": 2,
   "metadata": {
    "ExecuteTime": {
     "end_time": "2019-08-05T19:30:29.630182Z",
     "start_time": "2019-08-05T19:30:28.824991Z"
    }
   },
   "outputs": [],
   "source": [
    "import matplotlib.pyplot as plt\n",
    "import numpy as np\n",
    "import pandas as pd\n",
    "\n",
    "import brownbear as bb\n",
    "\n",
    "# Format price data.\n",
    "pd.options.display.float_format = '{:0.2f}'.format\n",
    "\n",
    "%matplotlib inline"
   ]
  },
  {
   "cell_type": "code",
   "execution_count": 3,
   "metadata": {},
   "outputs": [],
   "source": [
    "# Set size of inline plots.\n",
    "'''note: rcParams can't be in same cell as import matplotlib\n",
    "   or %matplotlib inline\n",
    "   \n",
    "   %matplotlib notebook: will lead to interactive plots embedded within\n",
    "   the notebook, you can zoom and resize the figure\n",
    "   \n",
    "   %matplotlib inline: only draw static images in the notebook\n",
    "'''\n",
    "plt.rcParams[\"figure.figsize\"] = (10, 7)"
   ]
  },
  {
   "cell_type": "markdown",
   "metadata": {},
   "source": [
    "Globals"
   ]
  },
  {
   "cell_type": "code",
   "execution_count": 4,
   "metadata": {},
   "outputs": [],
   "source": [
    "# Set refresh_timeseries=True to download timeseries.  Otherwise /symbol-cache is used.\n",
    "refresh_timeseries = True"
   ]
  },
  {
   "cell_type": "code",
   "execution_count": 5,
   "metadata": {},
   "outputs": [
    {
     "data": {
      "text/plain": [
       "{'US Stocks': 'VTSMX',\n",
       " 'Global Stocks': 'VXUS',\n",
       " 'US Bonds': 'AGG',\n",
       " 'Global Bonds': 'BNDX',\n",
       " 'Cash Equivalents': 'BIL',\n",
       " 'Real Estate': 'VNQ',\n",
       " 'Commodities': 'DBC',\n",
       " 'Currencies': 'UUP',\n",
       " 'Managed Futures': 'CTA',\n",
       " 'Balanced': 'AOM',\n",
       " 'Risk-Free Asset': 'BIL',\n",
       " 'US Stocks:Large Cap': 'SPY',\n",
       " 'US Stocks:Mid Cap': 'MDY',\n",
       " 'US Stocks:Small Cap': 'IWM',\n",
       " 'US Stocks:Growth': 'QQQ',\n",
       " 'US Stocks:Growth and Income': 'VOO',\n",
       " 'US Stocks:Value': 'IWD',\n",
       " 'US Stocks:Total Stock Market': 'VTI',\n",
       " 'US Stocks:Materials': 'XLB',\n",
       " 'US Stocks:Communication Services': 'XLC',\n",
       " 'US Stocks:Energy': 'XLE',\n",
       " 'US Stocks:Financials': 'XLF',\n",
       " 'US Stocks:Industrials': 'XLI',\n",
       " 'US Stocks:Technology': 'XLK',\n",
       " 'US Stocks:Consumer Staples': 'XLP',\n",
       " 'US Stocks:Real Estate': 'XLRE',\n",
       " 'US Stocks:Utilities': 'XLU',\n",
       " 'US Stocks:Healthcare': 'XLV',\n",
       " 'US Stocks:Consumer Discretionary': 'XLY',\n",
       " 'Global Stocks:Asia': 'VPL',\n",
       " 'Global Stocks:Developed Markets': 'EFA',\n",
       " 'Global Stocks:Emerging Markets': 'EEM',\n",
       " 'Global Stocks:Europe': 'IEUR',\n",
       " 'Global Stocks:EX-US': 'VXUS',\n",
       " 'US Bonds:Investment Grade': 'LQD',\n",
       " 'US Bonds:High Yield': 'JNK',\n",
       " 'US Bonds:Preferred Stock': 'PFF',\n",
       " 'US Bonds:Treasury Bills (T-bills)': 'BIL',\n",
       " 'US Bonds:Treasury Notes (T-notes)': 'IEI',\n",
       " 'US Bonds:Treasury Bonds (T-bonds)': 'TLT',\n",
       " 'US Bonds:Treasury Inflation-Protected Securities (TIPS)': 'TIP',\n",
       " 'Global Bonds:Investment Grade Corp': 'IBND',\n",
       " 'Global Bonds:Investment Grade Treasury': 'BWX',\n",
       " 'Global Bonds:Emerging Markets Gov': 'EBND',\n",
       " 'Global Bonds:Short Term Treasury': 'BWZ',\n",
       " 'Cash Equivalents:Money Markets': 'JPST',\n",
       " 'Cash Equivalents:Treasury Bills (T-bills)': 'BIL',\n",
       " 'Real Estate:REIT': 'IYR',\n",
       " 'Real Estate:Real Estate Funds': 'VNQ',\n",
       " 'Commodities:Gold': 'GLD',\n",
       " 'Commodities:Silver': 'SLV',\n",
       " 'Commodities:Cooper': 'CPER',\n",
       " 'Commodities:Platinum': 'PPLT',\n",
       " 'Commodities:Palladium': 'PALL',\n",
       " 'Commodities:Oil': 'USO',\n",
       " 'Commodities:Natural Gas': 'UNG',\n",
       " 'Commodities:Gasoline': 'UGA',\n",
       " 'Commodities:Corn': 'CORN',\n",
       " 'Commodities:Sugar': 'CANE',\n",
       " 'Commodities:Agriculture': 'DBA',\n",
       " 'Commodities:Base Metals': 'DBB',\n",
       " 'Commodities:Energy': 'DBE',\n",
       " 'Commodities:Precious Metals': 'DBP',\n",
       " 'Currencies:US Dollar': 'UUP',\n",
       " 'Currencies:Euro': 'FXE',\n",
       " 'Currencies:Japanese Yen': 'FXY',\n",
       " 'Currencies:Swiss Franc': 'FXF',\n",
       " 'Currencies:Australian Dollar': 'FXA',\n",
       " 'Currencies:Canadian Dollar': 'FXC',\n",
       " 'Currencies:British Pound': 'FXB',\n",
       " 'Currencies:Chinese Yuan': 'CYB',\n",
       " 'Balanced:Conservative Allocation (30/70)': 'AOK',\n",
       " 'Balanced:Moderate Allocation (40/60)': 'AOM',\n",
       " 'Balanced:Growth Allocation (60/40)': 'AOR',\n",
       " 'Balanced:Aggressive Allocation (80/20)': 'AOA'}"
      ]
     },
     "execution_count": 5,
     "metadata": {},
     "output_type": "execute_result"
    }
   ],
   "source": [
    "# asset2etf dict provides a mapping from the asset name to a representative ETF.\n",
    "asset2etf = pd.read_csv('asset-classes-2-etf.csv', skip_blank_lines=True, comment='#')\n",
    "asset2etf = asset2etf.set_index(['Asset Class'])\n",
    "asset2etf = asset2etf['ETF'].to_dict()\n",
    "asset2etf"
   ]
  },
  {
   "cell_type": "code",
   "execution_count": 6,
   "metadata": {},
   "outputs": [],
   "source": [
    "symbols = set(asset2etf.values())"
   ]
  },
  {
   "cell_type": "code",
   "execution_count": 7,
   "metadata": {},
   "outputs": [
    {
     "name": "stdout",
     "output_type": "stream",
     "text": [
      "VPL VXUS BWX PPLT SPY FXB XLC UUP XLF EBND XLP PFF AOK MDY LQD EEM IBND UGA DBB AOM XLB IYR BIL AGG JNK DBE DBP BNDX BWZ GLD CORN FXC XLE XLI JPST FXE TLT USO IWM IEI XLV EFA SLV FXF FXA VOO PALL TIP IEUR CYB IWD XLU AOA VTSMX UNG AOR DBA VTI VNQ DBC QQQ CANE CPER CTA FXY XLRE XLK XLY \n"
     ]
    }
   ],
   "source": [
    "bb.fetch_timeseries(symbols, refresh=refresh_timeseries)\n",
    "bb.compile_timeseries(symbols)"
   ]
  },
  {
   "cell_type": "code",
   "execution_count": 8,
   "metadata": {},
   "outputs": [
    {
     "data": {
      "text/html": [
       "<div>\n",
       "<style scoped>\n",
       "    .dataframe tbody tr th:only-of-type {\n",
       "        vertical-align: middle;\n",
       "    }\n",
       "\n",
       "    .dataframe tbody tr th {\n",
       "        vertical-align: top;\n",
       "    }\n",
       "\n",
       "    .dataframe thead th {\n",
       "        text-align: right;\n",
       "    }\n",
       "</style>\n",
       "<table border=\"1\" class=\"dataframe\">\n",
       "  <thead>\n",
       "    <tr style=\"text-align: right;\">\n",
       "      <th></th>\n",
       "      <th>VPL</th>\n",
       "      <th>VXUS</th>\n",
       "      <th>BWX</th>\n",
       "      <th>PPLT</th>\n",
       "      <th>SPY</th>\n",
       "      <th>FXB</th>\n",
       "      <th>XLC</th>\n",
       "      <th>UUP</th>\n",
       "      <th>XLF</th>\n",
       "      <th>EBND</th>\n",
       "      <th>...</th>\n",
       "      <th>VNQ</th>\n",
       "      <th>DBC</th>\n",
       "      <th>QQQ</th>\n",
       "      <th>CANE</th>\n",
       "      <th>CPER</th>\n",
       "      <th>CTA</th>\n",
       "      <th>FXY</th>\n",
       "      <th>XLRE</th>\n",
       "      <th>XLK</th>\n",
       "      <th>XLY</th>\n",
       "    </tr>\n",
       "    <tr>\n",
       "      <th>Date</th>\n",
       "      <th></th>\n",
       "      <th></th>\n",
       "      <th></th>\n",
       "      <th></th>\n",
       "      <th></th>\n",
       "      <th></th>\n",
       "      <th></th>\n",
       "      <th></th>\n",
       "      <th></th>\n",
       "      <th></th>\n",
       "      <th></th>\n",
       "      <th></th>\n",
       "      <th></th>\n",
       "      <th></th>\n",
       "      <th></th>\n",
       "      <th></th>\n",
       "      <th></th>\n",
       "      <th></th>\n",
       "      <th></th>\n",
       "      <th></th>\n",
       "      <th></th>\n",
       "    </tr>\n",
       "  </thead>\n",
       "  <tbody>\n",
       "    <tr>\n",
       "      <th>2015-01-02</th>\n",
       "      <td>43.04</td>\n",
       "      <td>35.78</td>\n",
       "      <td>25.04</td>\n",
       "      <td>116.57</td>\n",
       "      <td>172.59</td>\n",
       "      <td>141.87</td>\n",
       "      <td>NaN</td>\n",
       "      <td>20.91</td>\n",
       "      <td>16.59</td>\n",
       "      <td>19.99</td>\n",
       "      <td>...</td>\n",
       "      <td>55.20</td>\n",
       "      <td>15.93</td>\n",
       "      <td>95.27</td>\n",
       "      <td>11.59</td>\n",
       "      <td>19.02</td>\n",
       "      <td>NaN</td>\n",
       "      <td>80.72</td>\n",
       "      <td>NaN</td>\n",
       "      <td>36.44</td>\n",
       "      <td>63.95</td>\n",
       "    </tr>\n",
       "    <tr>\n",
       "      <th>2015-01-05</th>\n",
       "      <td>42.50</td>\n",
       "      <td>34.99</td>\n",
       "      <td>24.98</td>\n",
       "      <td>117.60</td>\n",
       "      <td>169.48</td>\n",
       "      <td>141.13</td>\n",
       "      <td>NaN</td>\n",
       "      <td>20.95</td>\n",
       "      <td>16.24</td>\n",
       "      <td>19.80</td>\n",
       "      <td>...</td>\n",
       "      <td>55.50</td>\n",
       "      <td>15.70</td>\n",
       "      <td>93.87</td>\n",
       "      <td>11.45</td>\n",
       "      <td>19.02</td>\n",
       "      <td>NaN</td>\n",
       "      <td>81.31</td>\n",
       "      <td>NaN</td>\n",
       "      <td>35.88</td>\n",
       "      <td>62.73</td>\n",
       "    </tr>\n",
       "    <tr>\n",
       "      <th>2015-01-06</th>\n",
       "      <td>42.06</td>\n",
       "      <td>34.72</td>\n",
       "      <td>25.06</td>\n",
       "      <td>118.54</td>\n",
       "      <td>167.88</td>\n",
       "      <td>140.18</td>\n",
       "      <td>NaN</td>\n",
       "      <td>20.99</td>\n",
       "      <td>15.99</td>\n",
       "      <td>19.72</td>\n",
       "      <td>...</td>\n",
       "      <td>56.05</td>\n",
       "      <td>15.56</td>\n",
       "      <td>92.61</td>\n",
       "      <td>11.86</td>\n",
       "      <td>18.74</td>\n",
       "      <td>NaN</td>\n",
       "      <td>82.11</td>\n",
       "      <td>NaN</td>\n",
       "      <td>35.45</td>\n",
       "      <td>62.10</td>\n",
       "    </tr>\n",
       "    <tr>\n",
       "      <th>2015-01-07</th>\n",
       "      <td>42.61</td>\n",
       "      <td>35.13</td>\n",
       "      <td>24.99</td>\n",
       "      <td>118.32</td>\n",
       "      <td>169.97</td>\n",
       "      <td>139.76</td>\n",
       "      <td>NaN</td>\n",
       "      <td>21.07</td>\n",
       "      <td>16.16</td>\n",
       "      <td>19.97</td>\n",
       "      <td>...</td>\n",
       "      <td>56.91</td>\n",
       "      <td>15.46</td>\n",
       "      <td>93.80</td>\n",
       "      <td>11.71</td>\n",
       "      <td>18.74</td>\n",
       "      <td>NaN</td>\n",
       "      <td>81.66</td>\n",
       "      <td>NaN</td>\n",
       "      <td>35.75</td>\n",
       "      <td>63.08</td>\n",
       "    </tr>\n",
       "    <tr>\n",
       "      <th>2015-01-08</th>\n",
       "      <td>43.13</td>\n",
       "      <td>35.58</td>\n",
       "      <td>24.95</td>\n",
       "      <td>118.11</td>\n",
       "      <td>172.99</td>\n",
       "      <td>139.54</td>\n",
       "      <td>NaN</td>\n",
       "      <td>21.16</td>\n",
       "      <td>16.40</td>\n",
       "      <td>20.04</td>\n",
       "      <td>...</td>\n",
       "      <td>57.13</td>\n",
       "      <td>15.52</td>\n",
       "      <td>95.60</td>\n",
       "      <td>12.07</td>\n",
       "      <td>18.68</td>\n",
       "      <td>NaN</td>\n",
       "      <td>81.32</td>\n",
       "      <td>NaN</td>\n",
       "      <td>36.54</td>\n",
       "      <td>64.03</td>\n",
       "    </tr>\n",
       "    <tr>\n",
       "      <th>...</th>\n",
       "      <td>...</td>\n",
       "      <td>...</td>\n",
       "      <td>...</td>\n",
       "      <td>...</td>\n",
       "      <td>...</td>\n",
       "      <td>...</td>\n",
       "      <td>...</td>\n",
       "      <td>...</td>\n",
       "      <td>...</td>\n",
       "      <td>...</td>\n",
       "      <td>...</td>\n",
       "      <td>...</td>\n",
       "      <td>...</td>\n",
       "      <td>...</td>\n",
       "      <td>...</td>\n",
       "      <td>...</td>\n",
       "      <td>...</td>\n",
       "      <td>...</td>\n",
       "      <td>...</td>\n",
       "      <td>...</td>\n",
       "      <td>...</td>\n",
       "    </tr>\n",
       "    <tr>\n",
       "      <th>2024-12-26</th>\n",
       "      <td>71.49</td>\n",
       "      <td>59.53</td>\n",
       "      <td>21.49</td>\n",
       "      <td>85.85</td>\n",
       "      <td>601.34</td>\n",
       "      <td>120.60</td>\n",
       "      <td>99.04</td>\n",
       "      <td>29.31</td>\n",
       "      <td>49.11</td>\n",
       "      <td>19.62</td>\n",
       "      <td>...</td>\n",
       "      <td>89.65</td>\n",
       "      <td>20.98</td>\n",
       "      <td>529.60</td>\n",
       "      <td>11.41</td>\n",
       "      <td>25.89</td>\n",
       "      <td>27.70</td>\n",
       "      <td>58.40</td>\n",
       "      <td>40.87</td>\n",
       "      <td>240.69</td>\n",
       "      <td>233.60</td>\n",
       "    </tr>\n",
       "    <tr>\n",
       "      <th>2024-12-27</th>\n",
       "      <td>71.64</td>\n",
       "      <td>59.40</td>\n",
       "      <td>21.41</td>\n",
       "      <td>84.22</td>\n",
       "      <td>595.01</td>\n",
       "      <td>121.07</td>\n",
       "      <td>98.16</td>\n",
       "      <td>29.26</td>\n",
       "      <td>48.75</td>\n",
       "      <td>19.60</td>\n",
       "      <td>...</td>\n",
       "      <td>88.75</td>\n",
       "      <td>21.08</td>\n",
       "      <td>522.56</td>\n",
       "      <td>11.44</td>\n",
       "      <td>25.79</td>\n",
       "      <td>27.48</td>\n",
       "      <td>58.46</td>\n",
       "      <td>40.54</td>\n",
       "      <td>237.49</td>\n",
       "      <td>229.74</td>\n",
       "    </tr>\n",
       "    <tr>\n",
       "      <th>2024-12-30</th>\n",
       "      <td>71.16</td>\n",
       "      <td>59.00</td>\n",
       "      <td>21.46</td>\n",
       "      <td>82.66</td>\n",
       "      <td>588.22</td>\n",
       "      <td>120.80</td>\n",
       "      <td>97.13</td>\n",
       "      <td>29.29</td>\n",
       "      <td>48.28</td>\n",
       "      <td>19.58</td>\n",
       "      <td>...</td>\n",
       "      <td>88.31</td>\n",
       "      <td>21.27</td>\n",
       "      <td>515.61</td>\n",
       "      <td>11.38</td>\n",
       "      <td>25.63</td>\n",
       "      <td>27.77</td>\n",
       "      <td>58.81</td>\n",
       "      <td>40.35</td>\n",
       "      <td>234.47</td>\n",
       "      <td>226.05</td>\n",
       "    </tr>\n",
       "    <tr>\n",
       "      <th>2024-12-31</th>\n",
       "      <td>71.04</td>\n",
       "      <td>58.93</td>\n",
       "      <td>21.39</td>\n",
       "      <td>83.05</td>\n",
       "      <td>586.08</td>\n",
       "      <td>120.55</td>\n",
       "      <td>96.81</td>\n",
       "      <td>29.42</td>\n",
       "      <td>48.33</td>\n",
       "      <td>19.53</td>\n",
       "      <td>...</td>\n",
       "      <td>89.08</td>\n",
       "      <td>21.38</td>\n",
       "      <td>511.23</td>\n",
       "      <td>11.43</td>\n",
       "      <td>25.16</td>\n",
       "      <td>27.89</td>\n",
       "      <td>58.62</td>\n",
       "      <td>40.67</td>\n",
       "      <td>232.52</td>\n",
       "      <td>224.35</td>\n",
       "    </tr>\n",
       "    <tr>\n",
       "      <th>2025-01-02</th>\n",
       "      <td>71.01</td>\n",
       "      <td>58.83</td>\n",
       "      <td>21.27</td>\n",
       "      <td>84.59</td>\n",
       "      <td>584.64</td>\n",
       "      <td>118.94</td>\n",
       "      <td>97.28</td>\n",
       "      <td>29.67</td>\n",
       "      <td>48.21</td>\n",
       "      <td>19.58</td>\n",
       "      <td>...</td>\n",
       "      <td>88.29</td>\n",
       "      <td>21.59</td>\n",
       "      <td>510.23</td>\n",
       "      <td>11.67</td>\n",
       "      <td>25.32</td>\n",
       "      <td>27.98</td>\n",
       "      <td>58.55</td>\n",
       "      <td>40.29</td>\n",
       "      <td>231.97</td>\n",
       "      <td>221.40</td>\n",
       "    </tr>\n",
       "  </tbody>\n",
       "</table>\n",
       "<p>2517 rows × 68 columns</p>\n",
       "</div>"
      ],
      "text/plain": [
       "             VPL  VXUS   BWX   PPLT    SPY    FXB   XLC   UUP   XLF  EBND  \\\n",
       "Date                                                                        \n",
       "2015-01-02 43.04 35.78 25.04 116.57 172.59 141.87   NaN 20.91 16.59 19.99   \n",
       "2015-01-05 42.50 34.99 24.98 117.60 169.48 141.13   NaN 20.95 16.24 19.80   \n",
       "2015-01-06 42.06 34.72 25.06 118.54 167.88 140.18   NaN 20.99 15.99 19.72   \n",
       "2015-01-07 42.61 35.13 24.99 118.32 169.97 139.76   NaN 21.07 16.16 19.97   \n",
       "2015-01-08 43.13 35.58 24.95 118.11 172.99 139.54   NaN 21.16 16.40 20.04   \n",
       "...          ...   ...   ...    ...    ...    ...   ...   ...   ...   ...   \n",
       "2024-12-26 71.49 59.53 21.49  85.85 601.34 120.60 99.04 29.31 49.11 19.62   \n",
       "2024-12-27 71.64 59.40 21.41  84.22 595.01 121.07 98.16 29.26 48.75 19.60   \n",
       "2024-12-30 71.16 59.00 21.46  82.66 588.22 120.80 97.13 29.29 48.28 19.58   \n",
       "2024-12-31 71.04 58.93 21.39  83.05 586.08 120.55 96.81 29.42 48.33 19.53   \n",
       "2025-01-02 71.01 58.83 21.27  84.59 584.64 118.94 97.28 29.67 48.21 19.58   \n",
       "\n",
       "            ...   VNQ   DBC    QQQ  CANE  CPER   CTA   FXY  XLRE    XLK    XLY  \n",
       "Date        ...                                                                 \n",
       "2015-01-02  ... 55.20 15.93  95.27 11.59 19.02   NaN 80.72   NaN  36.44  63.95  \n",
       "2015-01-05  ... 55.50 15.70  93.87 11.45 19.02   NaN 81.31   NaN  35.88  62.73  \n",
       "2015-01-06  ... 56.05 15.56  92.61 11.86 18.74   NaN 82.11   NaN  35.45  62.10  \n",
       "2015-01-07  ... 56.91 15.46  93.80 11.71 18.74   NaN 81.66   NaN  35.75  63.08  \n",
       "2015-01-08  ... 57.13 15.52  95.60 12.07 18.68   NaN 81.32   NaN  36.54  64.03  \n",
       "...         ...   ...   ...    ...   ...   ...   ...   ...   ...    ...    ...  \n",
       "2024-12-26  ... 89.65 20.98 529.60 11.41 25.89 27.70 58.40 40.87 240.69 233.60  \n",
       "2024-12-27  ... 88.75 21.08 522.56 11.44 25.79 27.48 58.46 40.54 237.49 229.74  \n",
       "2024-12-30  ... 88.31 21.27 515.61 11.38 25.63 27.77 58.81 40.35 234.47 226.05  \n",
       "2024-12-31  ... 89.08 21.38 511.23 11.43 25.16 27.89 58.62 40.67 232.52 224.35  \n",
       "2025-01-02  ... 88.29 21.59 510.23 11.67 25.32 27.98 58.55 40.29 231.97 221.40  \n",
       "\n",
       "[2517 rows x 68 columns]"
      ]
     },
     "execution_count": 8,
     "metadata": {},
     "output_type": "execute_result"
    }
   ],
   "source": [
    "df = pd.read_csv('symbols-timeseries.csv', skip_blank_lines=True, comment='#')\n",
    "df.set_index(\"Date\", inplace=True)\n",
    "df"
   ]
  },
  {
   "cell_type": "code",
   "execution_count": 9,
   "metadata": {},
   "outputs": [
    {
     "data": {
      "text/plain": [
       "np.float64(0.6969859942462039)"
      ]
     },
     "execution_count": 9,
     "metadata": {},
     "output_type": "execute_result"
    },
    {
     "data": {
      "image/png": "[encoded data removed]",
      "text/plain": [
       "<Figure size 1600x1200 with 2 Axes>"
      ]
     },
     "metadata": {},
     "output_type": "display_data"
    }
   ],
   "source": [
    "corr_map = bb.correlation_map(df, method='log', days=bb.TRADING_DAYS_PER_YEAR)\n",
    "# Sample correlation value.\n",
    "corr_map['SPY']['VXUS']"
   ]
  },
  {
   "cell_type": "code",
   "execution_count": 10,
   "metadata": {},
   "outputs": [],
   "source": [
    "# Read asset-classes-in.csv\n",
    "lines = []\n",
    "with open('asset-classes-in.csv', 'r') as f:\n",
    "    lines = [line.strip() for line in f]\n",
    "#lines"
   ]
  },
  {
   "cell_type": "code",
   "execution_count": 11,
   "metadata": {
    "scrolled": true
   },
   "outputs": [],
   "source": [
    "# Calculate the pair correlations between the assets and write the resuls to a list.\n",
    "out = []\n",
    "for line in lines:\n",
    "    # Copy empty and comment lines.\n",
    "    if not line or line.startswith('#'):\n",
    "        out.append(line)\n",
    "        continue\n",
    "    # Split line by comma delimiter; strip the fields.\n",
    "    fields = line.split(',')\n",
    "    fields = [field.strip() for field in fields]\n",
    "    assetA = fields[0].strip('\\\"')\n",
    "    assetB = fields[1].strip('\\\"')\n",
    "    # copy same asset lines and header\n",
    "    if assetA == assetB or assetA == 'Asset Class A':\n",
    "        out.append(line)\n",
    "        continue\n",
    "    # Use asset2etf to get a representative ETF for the asset,\n",
    "    # then calculate the correlation.  The ETF pair correlation is\n",
    "    # a proxy for the correlation of an asset pair.\n",
    "    etfA = asset2etf[assetA]\n",
    "    etfB = asset2etf[assetB]\n",
    "    corrAB = corr_map.loc[etfA, etfB]\n",
    "    out.append(f'\"{assetA}\",\"{assetB}\",\"{corrAB:0.2f}\"')   "
   ]
  },
  {
   "cell_type": "code",
   "execution_count": 12,
   "metadata": {},
   "outputs": [],
   "source": [
    "# Write out asset-classes.csv\n",
    "with open('asset-classes.csv', 'w') as f:\n",
    "    for line in out:\n",
    "        f.write(line + '\\n')"
   ]
  },
  {
   "cell_type": "code",
   "execution_count": 13,
   "metadata": {},
   "outputs": [],
   "source": [
    "# Sample symbol.\n",
    "symbol = 'SPY'"
   ]
  },
  {
   "cell_type": "code",
   "execution_count": 14,
   "metadata": {},
   "outputs": [
    {
     "data": {
      "text/plain": [
       "np.float64(25.280735021035028)"
      ]
     },
     "execution_count": 14,
     "metadata": {},
     "output_type": "execute_result"
    }
   ],
   "source": [
    "annual_returns = bb.annualized_returns(df, timeperiod='daily', years=1)\n",
    "annual_returns[symbol]"
   ]
  },
  {
   "cell_type": "code",
   "execution_count": 15,
   "metadata": {},
   "outputs": [],
   "source": [
    "# Calculate 1 month, 3 months, 1 year, 3 year, and 5 year annualized returns.\n",
    "annual_returns_1mo = bb.annualized_returns(df, timeperiod='daily', years=1/12)\n",
    "annual_returns_3mo = bb.annualized_returns(df, timeperiod='daily', years=3/12)\n",
    "annual_returns_1yr = bb.annualized_returns(df, timeperiod='daily', years=1)\n",
    "annual_returns_3yr = bb.annualized_returns(df, timeperiod='daily', years=3)\n",
    "annual_returns_5yr = bb.annualized_returns(df, timeperiod='daily', years=5)"
   ]
  },
  {
   "cell_type": "code",
   "execution_count": 16,
   "metadata": {},
   "outputs": [
    {
     "data": {
      "text/plain": [
       "np.float64(0.142652994848746)"
      ]
     },
     "execution_count": 16,
     "metadata": {},
     "output_type": "execute_result"
    }
   ],
   "source": [
    "# Calculate 20 day annualized volatility.\n",
    "daily_returns = df.pct_change(fill_method=None)\n",
    "years = bb.TRADING_DAYS_PER_MONTH / bb.TRADING_DAYS_PER_YEAR\n",
    "vola = bb.annualized_standard_deviation(daily_returns, timeperiod='daily', years=years)\n",
    "vola[symbol]"
   ]
  },
  {
   "cell_type": "code",
   "execution_count": 17,
   "metadata": {},
   "outputs": [
    {
     "data": {
      "text/plain": [
       "np.float64(0.10828700749646404)"
      ]
     },
     "execution_count": 17,
     "metadata": {},
     "output_type": "execute_result"
    }
   ],
   "source": [
    "# Calculate 20 day annualized downside volatility.\n",
    "ds_vola = bb.annualized_standard_deviation(daily_returns, timeperiod='daily', years=years, downside=True)\n",
    "ds_vola[symbol]"
   ]
  },
  {
   "cell_type": "code",
   "execution_count": 18,
   "metadata": {},
   "outputs": [
    {
     "name": "stdout",
     "output_type": "stream",
     "text": [
      "Date\n",
      "2015-01-31   167.57\n",
      "2015-02-28   176.99\n",
      "2015-03-31   174.21\n",
      "2015-04-30   175.92\n",
      "2015-05-31   178.18\n",
      "2015-06-30   174.56\n",
      "2015-07-31   178.51\n",
      "2015-08-31   167.63\n",
      "2015-09-30   163.35\n",
      "2015-10-31   177.24\n",
      "2015-11-30   177.89\n",
      "2015-12-31   174.82\n",
      "2016-01-31   166.11\n",
      "2016-02-29   165.98\n",
      "2016-03-31   177.14\n",
      "2016-04-30   177.84\n",
      "2016-05-31   180.86\n",
      "2016-06-30   181.49\n",
      "2016-07-31   188.11\n",
      "2016-08-31   188.34\n",
      "2016-09-30   188.35\n",
      "2016-10-31   185.08\n",
      "2016-11-30   191.90\n",
      "2016-12-31   195.79\n",
      "2017-01-31   199.29\n",
      "2017-02-28   207.13\n",
      "2017-03-31   207.38\n",
      "2017-04-30   209.44\n",
      "2017-05-31   212.40\n",
      "2017-06-30   213.75\n",
      "2017-07-31   218.15\n",
      "2017-08-31   218.78\n",
      "2017-09-30   223.19\n",
      "2017-10-31   228.45\n",
      "2017-11-30   235.43\n",
      "2017-12-31   238.29\n",
      "2018-01-31   251.72\n",
      "2018-02-28   242.57\n",
      "2018-03-31   235.92\n",
      "2018-04-30   237.14\n",
      "2018-05-31   242.90\n",
      "2018-06-30   244.30\n",
      "2018-07-31   253.35\n",
      "2018-08-31   261.43\n",
      "2018-09-30   262.99\n",
      "2018-10-31   244.82\n",
      "2018-11-30   249.36\n",
      "2018-12-31   227.40\n",
      "2019-01-31   245.61\n",
      "2019-02-28   253.57\n",
      "2019-03-31   258.16\n",
      "2019-04-30   268.71\n",
      "2019-05-31   251.57\n",
      "2019-06-30   269.08\n",
      "2019-07-31   273.14\n",
      "2019-08-31   268.57\n",
      "2019-09-30   273.80\n",
      "2019-10-31   279.85\n",
      "2019-11-30   289.98\n",
      "2019-12-31   298.40\n",
      "2020-01-31   298.28\n",
      "2020-02-29   274.67\n",
      "2020-03-31   240.37\n",
      "2020-04-30   270.89\n",
      "2020-05-31   283.80\n",
      "2020-06-30   288.83\n",
      "2020-07-31   305.84\n",
      "2020-08-31   327.19\n",
      "2020-09-30   314.94\n",
      "2020-10-31   307.09\n",
      "2020-11-30   340.49\n",
      "2020-12-31   353.11\n",
      "2021-01-31   349.51\n",
      "2021-02-28   359.23\n",
      "2021-03-31   375.54\n",
      "2021-04-30   395.40\n",
      "2021-05-31   398.00\n",
      "2021-06-30   406.93\n",
      "2021-07-31   416.86\n",
      "2021-08-31   429.27\n",
      "2021-09-30   409.26\n",
      "2021-10-31   437.98\n",
      "2021-11-30   434.46\n",
      "2021-12-31   454.55\n",
      "2022-01-31   430.58\n",
      "2022-02-28   417.87\n",
      "2022-03-31   433.57\n",
      "2022-04-30   395.52\n",
      "2022-05-31   396.41\n",
      "2022-06-30   363.72\n",
      "2022-07-31   397.22\n",
      "2022-08-31   381.01\n",
      "2022-09-30   345.79\n",
      "2022-10-31   373.89\n",
      "2022-11-30   394.68\n",
      "2022-12-31   371.93\n",
      "2023-01-31   395.32\n",
      "2023-02-28   385.38\n",
      "2023-03-31   399.67\n",
      "2023-04-30   406.06\n",
      "2023-05-31   407.93\n",
      "2023-06-30   434.37\n",
      "2023-07-31   448.58\n",
      "2023-08-31   441.29\n",
      "2023-09-30   420.36\n",
      "2023-10-31   411.24\n",
      "2023-11-30   448.80\n",
      "2023-12-31   469.29\n",
      "2024-01-31   476.76\n",
      "2024-02-29   501.65\n",
      "2024-03-31   518.05\n",
      "2024-04-30   497.16\n",
      "2024-05-31   522.31\n",
      "2024-06-30   540.74\n",
      "2024-07-31   547.28\n",
      "2024-08-31   560.07\n",
      "2024-09-30   571.84\n",
      "2024-10-31   566.73\n",
      "2024-11-30   600.53\n",
      "2024-12-31   586.08\n",
      "2025-01-31   584.64\n",
      "Freq: ME, Name: SPY, dtype: float64\n"
     ]
    }
   ],
   "source": [
    "# Resample df on a monthly basis.\n",
    "df.index = pd.to_datetime(df.index)\n",
    "monthly = df.resample('ME').ffill()\n",
    "bb.print_full(monthly[symbol])"
   ]
  },
  {
   "cell_type": "code",
   "execution_count": 19,
   "metadata": {},
   "outputs": [
    {
     "data": {
      "text/plain": [
       "Date\n",
       "2015-01-31     NaN\n",
       "2015-02-28    0.06\n",
       "2015-03-31   -0.02\n",
       "2015-04-30    0.01\n",
       "2015-05-31    0.01\n",
       "              ... \n",
       "2024-09-30    0.02\n",
       "2024-10-31   -0.01\n",
       "2024-11-30    0.06\n",
       "2024-12-31   -0.02\n",
       "2025-01-31   -0.00\n",
       "Freq: ME, Name: SPY, Length: 121, dtype: float64"
      ]
     },
     "execution_count": 19,
     "metadata": {},
     "output_type": "execute_result"
    }
   ],
   "source": [
    "# Calculate monthly returns.\n",
    "monthly_returns = monthly.pct_change(fill_method=None)\n",
    "monthly_returns['SPY']"
   ]
  },
  {
   "cell_type": "code",
   "execution_count": 20,
   "metadata": {},
   "outputs": [
    {
     "data": {
      "text/plain": [
       "np.float64(0.16818111892665208)"
      ]
     },
     "execution_count": 20,
     "metadata": {},
     "output_type": "execute_result"
    }
   ],
   "source": [
    "# Calculate 3 year annualized standard deviation.\n",
    "std_dev = bb.annualized_standard_deviation(monthly_returns, timeperiod='monthly', years=3)\n",
    "std_dev[symbol]"
   ]
  },
  {
   "cell_type": "code",
   "execution_count": 21,
   "metadata": {},
   "outputs": [
    {
     "data": {
      "text/plain": [
       "['# Description: Asset Class investment options. 09/29/2020',\n",
       " '',\n",
       " '# Format',\n",
       " '\"Investment Option\",\"Asset Class\",\"1 mo\",\"3 mo\",\"1 Yr\",\"3 Yr\",\"5 Yr\",\"Vola\",\"DS Vola\",\"Std Dev\"',\n",
       " '# Note: \"Description\" field is optional']"
      ]
     },
     "execution_count": 21,
     "metadata": {},
     "output_type": "execute_result"
    }
   ],
   "source": [
    "# Read investment-options-header.csv\n",
    "lines = []\n",
    "with open('investment-options-in.csv', 'r') as f:\n",
    "    lines = [line.strip() for line in f]\n",
    "lines"
   ]
  },
  {
   "cell_type": "code",
   "execution_count": 22,
   "metadata": {},
   "outputs": [],
   "source": [
    "# For each symbol, write out the 1 Yr, 3 Yr, 5 Yr, and std dev.\n",
    "out = lines.copy()\n",
    "\n",
    "# This is still slow (2.53 s)\n",
    "for key, value in asset2etf.items():\n",
    "\n",
    "    symbol = value\n",
    "    asset_class = key\n",
    "\n",
    "    ret_1mo = annual_returns_1mo[symbol]\n",
    "    ret_3mo = annual_returns_3mo[symbol]\n",
    "    ret_1yr = annual_returns_1yr[symbol]\n",
    "    ret_3yr = annual_returns_3yr[symbol]\n",
    "    ret_5yr = annual_returns_5yr[symbol]\n",
    "\n",
    "    if np.isnan(ret_3yr): ret_3yr = ret_1yr\n",
    "    if np.isnan(ret_5yr): ret_5yr = ret_3yr\n",
    "    \n",
    "    _vola = vola[symbol]*100\n",
    "    _ds_vola = ds_vola[symbol]*100\n",
    "    sd = std_dev[symbol]*100\n",
    "\n",
    "    out.append(\n",
    "        '\"{}\",\"{}\",\"{:0.2f}\",\"{:0.2f}\",\"{:0.2f}\",\"{:0.2f}\",\"{:0.2f}\",\"{:0.2f}\",\"{:0.2f}\",\"{:0.2f}\"'\n",
    "        .format(asset_class, asset_class,\n",
    "                ret_1mo, ret_3mo, ret_1yr, ret_3yr, ret_5yr, _vola, _ds_vola, sd)) "
   ]
  },
  {
   "cell_type": "code",
   "execution_count": 23,
   "metadata": {},
   "outputs": [],
   "source": [
    "# Write out asset-classes.csv\n",
    "with open('investment-options.csv', 'w') as f:\n",
    "    for line in out:\n",
    "        f.write(line + '\\n')"
   ]
  },
  {
   "cell_type": "code",
   "execution_count": null,
   "metadata": {},
   "outputs": [],
   "source": []
  }
 ],
 "metadata": {
  "kernelspec": {
   "display_name": "Python 3 (ipykernel)",
   "language": "python",
   "name": "python3"
  },
  "language_info": {
   "codemirror_mode": {
    "name": "ipython",
    "version": 3
   },
   "file_extension": ".py",
   "mimetype": "text/x-python",
   "name": "python",
   "nbconvert_exporter": "python",
   "pygments_lexer": "ipython3",
   "version": "3.10.12"
  },
  "latex_envs": {
   "LaTeX_envs_menu_present": true,
   "autoclose": false,
   "autocomplete": true,
   "bibliofile": "biblio.bib",
   "cite_by": "apalike",
   "current_citInitial": 1,
   "eqLabelWithNumbers": true,
   "eqNumInitial": 1,
   "hotkeys": {
    "equation": "Ctrl-E",
    "itemize": "Ctrl-I"
   },
   "labels_anchors": false,
   "latex_user_defs": false,
   "report_style_numbering": false,
   "user_envs_cfg": false
  }
 },
 "nbformat": 4,
 "nbformat_minor": 4
}
