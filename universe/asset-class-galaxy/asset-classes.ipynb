{
 "cells": [
  {
   "cell_type": "markdown",
   "metadata": {},
   "source": [
    "Use this utlity to update the correlations between asset classes in universe/asset-prices.csv\n",
    "\n",
    "input files:\n",
    "- asset-classes-2-etf.csv: mapping of asset classes to a representative ETF to use for calculating correlations\n",
    "- asset-classes-in.csv: asset pairs for which to calculate correlations\n",
    "\n",
    "output files:\n",
    "- symbols-cache/'symbol'.csv: timeseries for each symbol \n",
    "- symbols-timeseries.csv: compiled timeseries for symbols\n",
    "- asset-classes.csv: asset class pairs with correlations"
   ]
  },
  {
   "cell_type": "code",
   "execution_count": 1,
   "metadata": {
    "ExecuteTime": {
     "end_time": "2019-08-05T19:30:28.821735Z",
     "start_time": "2019-08-05T19:30:28.795344Z"
    }
   },
   "outputs": [
    {
     "data": {
      "application/javascript": [
       "IPython.OutputArea.prototype._should_scroll = function(lines) {\n",
       "    return false;\n",
       "}\n"
      ],
      "text/plain": [
       "<IPython.core.display.Javascript object>"
      ]
     },
     "metadata": {},
     "output_type": "display_data"
    }
   ],
   "source": [
    "%%javascript\n",
    "IPython.OutputArea.prototype._should_scroll = function(lines) {\n",
    "    return false;\n",
    "}"
   ]
  },
  {
   "cell_type": "code",
   "execution_count": 2,
   "metadata": {
    "ExecuteTime": {
     "end_time": "2019-08-05T19:30:29.630182Z",
     "start_time": "2019-08-05T19:30:28.824991Z"
    }
   },
   "outputs": [],
   "source": [
    "import matplotlib.pyplot as plt\n",
    "import numpy as np\n",
    "import pandas as pd\n",
    "\n",
    "import brownbear as bb\n",
    "\n",
    "# Format price data.\n",
    "pd.options.display.float_format = '{:0.2f}'.format\n",
    "\n",
    "%matplotlib inline"
   ]
  },
  {
   "cell_type": "code",
   "execution_count": 3,
   "metadata": {},
   "outputs": [],
   "source": [
    "# Set size of inline plots.\n",
    "'''note: rcParams can't be in same cell as import matplotlib\n",
    "   or %matplotlib inline\n",
    "   \n",
    "   %matplotlib notebook: will lead to interactive plots embedded within\n",
    "   the notebook, you can zoom and resize the figure\n",
    "   \n",
    "   %matplotlib inline: only draw static images in the notebook\n",
    "'''\n",
    "plt.rcParams[\"figure.figsize\"] = (10, 7)"
   ]
  },
  {
   "cell_type": "markdown",
   "metadata": {},
   "source": [
    "Globals"
   ]
  },
  {
   "cell_type": "code",
   "execution_count": 4,
   "metadata": {},
   "outputs": [],
   "source": [
    "# Set refresh_timeseries=True to download timeseries.  Otherwise /symbol-cache is used.\n",
    "refresh_timeseries = True"
   ]
  },
  {
   "cell_type": "code",
   "execution_count": 5,
   "metadata": {},
   "outputs": [
    {
     "data": {
      "text/plain": [
       "{'US Stocks': 'VTSMX',\n",
       " 'Global Stocks': 'VXUS',\n",
       " 'US Bonds': 'AGG',\n",
       " 'Global Bonds': 'BNDX',\n",
       " 'Cash Equivalents': 'BIL',\n",
       " 'Real Estate': 'VNQ',\n",
       " 'Commodities': 'DBC',\n",
       " 'Currencies': 'DBV',\n",
       " 'Managed Futures': 'FUT',\n",
       " 'Balanced': 'AOM',\n",
       " 'Risk-Free Asset': 'BIL',\n",
       " 'US Stocks:Large Cap': 'SPY',\n",
       " 'US Stocks:Mid Cap': 'MDY',\n",
       " 'US Stocks:Small Cap': 'IWM',\n",
       " 'US Stocks:Growth': 'QQQ',\n",
       " 'US Stocks:Growth and Income': 'VOO',\n",
       " 'US Stocks:Value': 'IWD',\n",
       " 'US Stocks:Total Stock Market': 'VTI',\n",
       " 'US Stocks:Materials': 'XLB',\n",
       " 'US Stocks:Communication Services': 'XLC',\n",
       " 'US Stocks:Energy': 'XLE',\n",
       " 'US Stocks:Financials': 'XLF',\n",
       " 'US Stocks:Industrials': 'XLI',\n",
       " 'US Stocks:Technology': 'XLK',\n",
       " 'US Stocks:Consumer Staples': 'XLP',\n",
       " 'US Stocks:Real Estate': 'XLRE',\n",
       " 'US Stocks:Utilities': 'XLU',\n",
       " 'US Stocks:Healthcare': 'XLV',\n",
       " 'US Stocks:Consumer Discretionary': 'XLY',\n",
       " 'Global Stocks:Asia': 'VPL',\n",
       " 'Global Stocks:Developed Markets': 'EFA',\n",
       " 'Global Stocks:Emerging Markets': 'EEM',\n",
       " 'Global Stocks:Europe': 'IEUR',\n",
       " 'Global Stocks:EX-US': 'VXUS',\n",
       " 'US Bonds:Investment Grade': 'LQD',\n",
       " 'US Bonds:High Yield': 'JNK',\n",
       " 'US Bonds:Preferred Stock': 'PFF',\n",
       " 'US Bonds:Treasury Bills (T-bills)': 'BIL',\n",
       " 'US Bonds:Treasury Notes (T-notes)': 'IEI',\n",
       " 'US Bonds:Treasury Bonds (T-bonds)': 'TLT',\n",
       " 'US Bonds:Treasury Inflation-Protected Securities (TIPS)': 'TIP',\n",
       " 'Global Bonds:Investment Grade Corp': 'IBND',\n",
       " 'Global Bonds:Investment Grade Treasury': 'BWX',\n",
       " 'Global Bonds:Emerging Markets Gov': 'EBND',\n",
       " 'Global Bonds:Short Term Treasury': 'BWZ',\n",
       " 'Cash Equivalents:Money Markets': 'JPST',\n",
       " 'Cash Equivalents:Treasury Bills (T-bills)': 'BIL',\n",
       " 'Real Estate:REIT': 'IYR',\n",
       " 'Real Estate:Real Estate Funds': 'VNQ',\n",
       " 'Commodities:Gold': 'GLD',\n",
       " 'Commodities:Silver': 'SLV',\n",
       " 'Commodities:Cooper': 'CPER',\n",
       " 'Commodities:Platinum': 'PPLT',\n",
       " 'Commodities:Palladium': 'PALL',\n",
       " 'Commodities:Oil': 'USO',\n",
       " 'Commodities:Natural Gas': 'UNG',\n",
       " 'Commodities:Gasoline': 'UGA',\n",
       " 'Commodities:Corn': 'CORN',\n",
       " 'Commodities:Sugar': 'CANE',\n",
       " 'Commodities:Agriculture': 'DBA',\n",
       " 'Commodities:Base Metals': 'DBB',\n",
       " 'Commodities:Energy': 'DBE',\n",
       " 'Commodities:Precious Metals': 'DBP',\n",
       " 'Currencies:US Dollar': 'UUP',\n",
       " 'Currencies:Euro': 'FXE',\n",
       " 'Currencies:Japanese Yen': 'FXY',\n",
       " 'Currencies:Swiss Franc': 'FXF',\n",
       " 'Currencies:Australian Dollar': 'FXA',\n",
       " 'Currencies:Canadian Dollar': 'FXC',\n",
       " 'Currencies:British Pound': 'FXB',\n",
       " 'Currencies:Chinese Yuan': 'CYB',\n",
       " 'Balanced:Conservative Allocation (30/70)': 'AOK',\n",
       " 'Balanced:Moderate Allocation (40/60)': 'AOM',\n",
       " 'Balanced:Growth Allocation (60/40)': 'AOR',\n",
       " 'Balanced:Aggressive Allocation (80/20)': 'AOA'}"
      ]
     },
     "execution_count": 5,
     "metadata": {},
     "output_type": "execute_result"
    }
   ],
   "source": [
    "# asset2etf dict provides a mapping from the asset name to a representative ETF.\n",
    "asset2etf = pd.read_csv('asset-classes-2-etf.csv', skip_blank_lines=True, comment='#')\n",
    "asset2etf = asset2etf.set_index(['Asset Class'])\n",
    "asset2etf = asset2etf['ETF'].to_dict()\n",
    "asset2etf"
   ]
  },
  {
   "cell_type": "code",
   "execution_count": 6,
   "metadata": {},
   "outputs": [],
   "source": [
    "symbols = set(asset2etf.values())"
   ]
  },
  {
   "cell_type": "code",
   "execution_count": 7,
   "metadata": {},
   "outputs": [
    {
     "name": "stdout",
     "output_type": "stream",
     "text": [
      "FXA VOO XLI XLP USO AOR PFF QQQ BWX JPST EEM UUP VTI JNK FXF IYR GLD FXB CYB AOK PPLT DBB FXE XLB XLRE BNDX DBE DBP XLC XLY IWD DBA FXY IEI SPY PALL XLE VPL EFA MDY FXC XLF AOA IBND TLT DBC XLU CPER UGA IWM VTSMX FUT XLK AOM XLV TIP BIL EBND BWZ DBV AGG SLV UNG LQD CANE CORN IEUR VXUS VNQ \n"
     ]
    }
   ],
   "source": [
    "bb.fetch_timeseries(symbols, refresh=refresh_timeseries)\n",
    "bb.compile_timeseries(symbols)"
   ]
  },
  {
   "cell_type": "code",
   "execution_count": 8,
   "metadata": {},
   "outputs": [
    {
     "data": {
      "text/html": [
       "<div>\n",
       "<style scoped>\n",
       "    .dataframe tbody tr th:only-of-type {\n",
       "        vertical-align: middle;\n",
       "    }\n",
       "\n",
       "    .dataframe tbody tr th {\n",
       "        vertical-align: top;\n",
       "    }\n",
       "\n",
       "    .dataframe thead th {\n",
       "        text-align: right;\n",
       "    }\n",
       "</style>\n",
       "<table border=\"1\" class=\"dataframe\">\n",
       "  <thead>\n",
       "    <tr style=\"text-align: right;\">\n",
       "      <th></th>\n",
       "      <th>FXA</th>\n",
       "      <th>VOO</th>\n",
       "      <th>XLI</th>\n",
       "      <th>XLP</th>\n",
       "      <th>USO</th>\n",
       "      <th>AOR</th>\n",
       "      <th>PFF</th>\n",
       "      <th>QQQ</th>\n",
       "      <th>BWX</th>\n",
       "      <th>JPST</th>\n",
       "      <th>...</th>\n",
       "      <th>DBV</th>\n",
       "      <th>AGG</th>\n",
       "      <th>SLV</th>\n",
       "      <th>UNG</th>\n",
       "      <th>LQD</th>\n",
       "      <th>CANE</th>\n",
       "      <th>CORN</th>\n",
       "      <th>IEUR</th>\n",
       "      <th>VXUS</th>\n",
       "      <th>VNQ</th>\n",
       "    </tr>\n",
       "    <tr>\n",
       "      <th>Date</th>\n",
       "      <th></th>\n",
       "      <th></th>\n",
       "      <th></th>\n",
       "      <th></th>\n",
       "      <th></th>\n",
       "      <th></th>\n",
       "      <th></th>\n",
       "      <th></th>\n",
       "      <th></th>\n",
       "      <th></th>\n",
       "      <th></th>\n",
       "      <th></th>\n",
       "      <th></th>\n",
       "      <th></th>\n",
       "      <th></th>\n",
       "      <th></th>\n",
       "      <th></th>\n",
       "      <th></th>\n",
       "      <th></th>\n",
       "      <th></th>\n",
       "      <th></th>\n",
       "    </tr>\n",
       "  </thead>\n",
       "  <tbody>\n",
       "    <tr>\n",
       "      <th>2015-01-02</th>\n",
       "      <td>77.19</td>\n",
       "      <td>162.27</td>\n",
       "      <td>48.52</td>\n",
       "      <td>39.10</td>\n",
       "      <td>159.12</td>\n",
       "      <td>33.08</td>\n",
       "      <td>25.85</td>\n",
       "      <td>96.49</td>\n",
       "      <td>25.92</td>\n",
       "      <td>nan</td>\n",
       "      <td>...</td>\n",
       "      <td>24.45</td>\n",
       "      <td>91.11</td>\n",
       "      <td>15.11</td>\n",
       "      <td>59.84</td>\n",
       "      <td>93.05</td>\n",
       "      <td>11.59</td>\n",
       "      <td>26.48</td>\n",
       "      <td>34.42</td>\n",
       "      <td>38.23</td>\n",
       "      <td>59.92</td>\n",
       "    </tr>\n",
       "    <tr>\n",
       "      <th>2015-01-05</th>\n",
       "      <td>77.12</td>\n",
       "      <td>159.42</td>\n",
       "      <td>47.39</td>\n",
       "      <td>38.83</td>\n",
       "      <td>150.32</td>\n",
       "      <td>32.69</td>\n",
       "      <td>25.75</td>\n",
       "      <td>95.08</td>\n",
       "      <td>25.86</td>\n",
       "      <td>nan</td>\n",
       "      <td>...</td>\n",
       "      <td>24.44</td>\n",
       "      <td>91.31</td>\n",
       "      <td>15.50</td>\n",
       "      <td>59.48</td>\n",
       "      <td>93.44</td>\n",
       "      <td>11.45</td>\n",
       "      <td>27.12</td>\n",
       "      <td>33.39</td>\n",
       "      <td>37.39</td>\n",
       "      <td>60.25</td>\n",
       "    </tr>\n",
       "    <tr>\n",
       "      <th>2015-01-06</th>\n",
       "      <td>77.20</td>\n",
       "      <td>157.86</td>\n",
       "      <td>46.81</td>\n",
       "      <td>38.78</td>\n",
       "      <td>144.40</td>\n",
       "      <td>32.50</td>\n",
       "      <td>25.77</td>\n",
       "      <td>93.80</td>\n",
       "      <td>25.94</td>\n",
       "      <td>nan</td>\n",
       "      <td>...</td>\n",
       "      <td>24.34</td>\n",
       "      <td>91.54</td>\n",
       "      <td>15.83</td>\n",
       "      <td>59.72</td>\n",
       "      <td>93.82</td>\n",
       "      <td>11.86</td>\n",
       "      <td>27.05</td>\n",
       "      <td>33.06</td>\n",
       "      <td>37.10</td>\n",
       "      <td>60.85</td>\n",
       "    </tr>\n",
       "    <tr>\n",
       "      <th>2015-01-07</th>\n",
       "      <td>76.96</td>\n",
       "      <td>159.83</td>\n",
       "      <td>47.16</td>\n",
       "      <td>39.44</td>\n",
       "      <td>146.96</td>\n",
       "      <td>32.79</td>\n",
       "      <td>25.83</td>\n",
       "      <td>95.01</td>\n",
       "      <td>25.87</td>\n",
       "      <td>nan</td>\n",
       "      <td>...</td>\n",
       "      <td>24.53</td>\n",
       "      <td>91.52</td>\n",
       "      <td>15.85</td>\n",
       "      <td>58.32</td>\n",
       "      <td>93.94</td>\n",
       "      <td>11.71</td>\n",
       "      <td>26.52</td>\n",
       "      <td>33.36</td>\n",
       "      <td>37.54</td>\n",
       "      <td>61.78</td>\n",
       "    </tr>\n",
       "    <tr>\n",
       "      <th>2015-01-08</th>\n",
       "      <td>77.38</td>\n",
       "      <td>162.64</td>\n",
       "      <td>48.10</td>\n",
       "      <td>40.04</td>\n",
       "      <td>148.40</td>\n",
       "      <td>33.10</td>\n",
       "      <td>25.87</td>\n",
       "      <td>96.83</td>\n",
       "      <td>25.84</td>\n",
       "      <td>nan</td>\n",
       "      <td>...</td>\n",
       "      <td>24.81</td>\n",
       "      <td>91.38</td>\n",
       "      <td>15.64</td>\n",
       "      <td>59.76</td>\n",
       "      <td>93.64</td>\n",
       "      <td>12.07</td>\n",
       "      <td>26.38</td>\n",
       "      <td>33.80</td>\n",
       "      <td>38.02</td>\n",
       "      <td>62.01</td>\n",
       "    </tr>\n",
       "    <tr>\n",
       "      <th>...</th>\n",
       "      <td>...</td>\n",
       "      <td>...</td>\n",
       "      <td>...</td>\n",
       "      <td>...</td>\n",
       "      <td>...</td>\n",
       "      <td>...</td>\n",
       "      <td>...</td>\n",
       "      <td>...</td>\n",
       "      <td>...</td>\n",
       "      <td>...</td>\n",
       "      <td>...</td>\n",
       "      <td>...</td>\n",
       "      <td>...</td>\n",
       "      <td>...</td>\n",
       "      <td>...</td>\n",
       "      <td>...</td>\n",
       "      <td>...</td>\n",
       "      <td>...</td>\n",
       "      <td>...</td>\n",
       "      <td>...</td>\n",
       "      <td>...</td>\n",
       "    </tr>\n",
       "    <tr>\n",
       "      <th>2023-01-27</th>\n",
       "      <td>70.33</td>\n",
       "      <td>372.87</td>\n",
       "      <td>101.14</td>\n",
       "      <td>72.86</td>\n",
       "      <td>69.50</td>\n",
       "      <td>50.14</td>\n",
       "      <td>33.21</td>\n",
       "      <td>296.26</td>\n",
       "      <td>23.28</td>\n",
       "      <td>50.16</td>\n",
       "      <td>...</td>\n",
       "      <td>25.19</td>\n",
       "      <td>99.84</td>\n",
       "      <td>21.68</td>\n",
       "      <td>9.81</td>\n",
       "      <td>110.16</td>\n",
       "      <td>9.98</td>\n",
       "      <td>26.54</td>\n",
       "      <td>51.96</td>\n",
       "      <td>56.52</td>\n",
       "      <td>90.34</td>\n",
       "    </tr>\n",
       "    <tr>\n",
       "      <th>2023-01-30</th>\n",
       "      <td>69.85</td>\n",
       "      <td>368.21</td>\n",
       "      <td>100.15</td>\n",
       "      <td>72.95</td>\n",
       "      <td>68.10</td>\n",
       "      <td>49.69</td>\n",
       "      <td>33.22</td>\n",
       "      <td>290.27</td>\n",
       "      <td>23.11</td>\n",
       "      <td>50.17</td>\n",
       "      <td>...</td>\n",
       "      <td>25.14</td>\n",
       "      <td>99.57</td>\n",
       "      <td>21.66</td>\n",
       "      <td>9.12</td>\n",
       "      <td>109.74</td>\n",
       "      <td>10.11</td>\n",
       "      <td>26.58</td>\n",
       "      <td>51.66</td>\n",
       "      <td>55.93</td>\n",
       "      <td>89.19</td>\n",
       "    </tr>\n",
       "    <tr>\n",
       "      <th>2023-01-31</th>\n",
       "      <td>69.86</td>\n",
       "      <td>373.44</td>\n",
       "      <td>101.85</td>\n",
       "      <td>73.74</td>\n",
       "      <td>69.32</td>\n",
       "      <td>50.07</td>\n",
       "      <td>33.41</td>\n",
       "      <td>294.62</td>\n",
       "      <td>23.20</td>\n",
       "      <td>50.19</td>\n",
       "      <td>...</td>\n",
       "      <td>25.04</td>\n",
       "      <td>99.97</td>\n",
       "      <td>21.83</td>\n",
       "      <td>9.32</td>\n",
       "      <td>110.53</td>\n",
       "      <td>10.38</td>\n",
       "      <td>26.58</td>\n",
       "      <td>51.98</td>\n",
       "      <td>56.21</td>\n",
       "      <td>91.06</td>\n",
       "    </tr>\n",
       "    <tr>\n",
       "      <th>2023-02-01</th>\n",
       "      <td>70.58</td>\n",
       "      <td>377.53</td>\n",
       "      <td>102.59</td>\n",
       "      <td>74.33</td>\n",
       "      <td>67.36</td>\n",
       "      <td>50.65</td>\n",
       "      <td>33.60</td>\n",
       "      <td>300.92</td>\n",
       "      <td>23.47</td>\n",
       "      <td>50.21</td>\n",
       "      <td>...</td>\n",
       "      <td>25.00</td>\n",
       "      <td>100.68</td>\n",
       "      <td>22.08</td>\n",
       "      <td>8.50</td>\n",
       "      <td>111.65</td>\n",
       "      <td>10.22</td>\n",
       "      <td>26.69</td>\n",
       "      <td>52.56</td>\n",
       "      <td>56.74</td>\n",
       "      <td>91.62</td>\n",
       "    </tr>\n",
       "    <tr>\n",
       "      <th>2023-02-02</th>\n",
       "      <td>70.09</td>\n",
       "      <td>382.94</td>\n",
       "      <td>103.39</td>\n",
       "      <td>73.69</td>\n",
       "      <td>66.57</td>\n",
       "      <td>50.91</td>\n",
       "      <td>33.81</td>\n",
       "      <td>311.72</td>\n",
       "      <td>23.65</td>\n",
       "      <td>50.23</td>\n",
       "      <td>...</td>\n",
       "      <td>25.02</td>\n",
       "      <td>100.79</td>\n",
       "      <td>21.57</td>\n",
       "      <td>8.38</td>\n",
       "      <td>111.81</td>\n",
       "      <td>10.38</td>\n",
       "      <td>26.49</td>\n",
       "      <td>52.66</td>\n",
       "      <td>56.60</td>\n",
       "      <td>93.70</td>\n",
       "    </tr>\n",
       "  </tbody>\n",
       "</table>\n",
       "<p>2036 rows × 69 columns</p>\n",
       "</div>"
      ],
      "text/plain": [
       "             FXA    VOO    XLI   XLP    USO   AOR   PFF    QQQ   BWX  JPST  \\\n",
       "Date                                                                         \n",
       "2015-01-02 77.19 162.27  48.52 39.10 159.12 33.08 25.85  96.49 25.92   nan   \n",
       "2015-01-05 77.12 159.42  47.39 38.83 150.32 32.69 25.75  95.08 25.86   nan   \n",
       "2015-01-06 77.20 157.86  46.81 38.78 144.40 32.50 25.77  93.80 25.94   nan   \n",
       "2015-01-07 76.96 159.83  47.16 39.44 146.96 32.79 25.83  95.01 25.87   nan   \n",
       "2015-01-08 77.38 162.64  48.10 40.04 148.40 33.10 25.87  96.83 25.84   nan   \n",
       "...          ...    ...    ...   ...    ...   ...   ...    ...   ...   ...   \n",
       "2023-01-27 70.33 372.87 101.14 72.86  69.50 50.14 33.21 296.26 23.28 50.16   \n",
       "2023-01-30 69.85 368.21 100.15 72.95  68.10 49.69 33.22 290.27 23.11 50.17   \n",
       "2023-01-31 69.86 373.44 101.85 73.74  69.32 50.07 33.41 294.62 23.20 50.19   \n",
       "2023-02-01 70.58 377.53 102.59 74.33  67.36 50.65 33.60 300.92 23.47 50.21   \n",
       "2023-02-02 70.09 382.94 103.39 73.69  66.57 50.91 33.81 311.72 23.65 50.23   \n",
       "\n",
       "            ...   DBV    AGG   SLV   UNG    LQD  CANE  CORN  IEUR  VXUS   VNQ  \n",
       "Date        ...                                                                \n",
       "2015-01-02  ... 24.45  91.11 15.11 59.84  93.05 11.59 26.48 34.42 38.23 59.92  \n",
       "2015-01-05  ... 24.44  91.31 15.50 59.48  93.44 11.45 27.12 33.39 37.39 60.25  \n",
       "2015-01-06  ... 24.34  91.54 15.83 59.72  93.82 11.86 27.05 33.06 37.10 60.85  \n",
       "2015-01-07  ... 24.53  91.52 15.85 58.32  93.94 11.71 26.52 33.36 37.54 61.78  \n",
       "2015-01-08  ... 24.81  91.38 15.64 59.76  93.64 12.07 26.38 33.80 38.02 62.01  \n",
       "...         ...   ...    ...   ...   ...    ...   ...   ...   ...   ...   ...  \n",
       "2023-01-27  ... 25.19  99.84 21.68  9.81 110.16  9.98 26.54 51.96 56.52 90.34  \n",
       "2023-01-30  ... 25.14  99.57 21.66  9.12 109.74 10.11 26.58 51.66 55.93 89.19  \n",
       "2023-01-31  ... 25.04  99.97 21.83  9.32 110.53 10.38 26.58 51.98 56.21 91.06  \n",
       "2023-02-01  ... 25.00 100.68 22.08  8.50 111.65 10.22 26.69 52.56 56.74 91.62  \n",
       "2023-02-02  ... 25.02 100.79 21.57  8.38 111.81 10.38 26.49 52.66 56.60 93.70  \n",
       "\n",
       "[2036 rows x 69 columns]"
      ]
     },
     "execution_count": 8,
     "metadata": {},
     "output_type": "execute_result"
    }
   ],
   "source": [
    "df = pd.read_csv('symbols-timeseries.csv', skip_blank_lines=True, comment='#')\n",
    "df.set_index(\"Date\", inplace=True)\n",
    "df"
   ]
  },
  {
   "cell_type": "code",
   "execution_count": 9,
   "metadata": {},
   "outputs": [
    {
     "data": {
      "text/plain": [
       "0.8579722151221179"
      ]
     },
     "execution_count": 9,
     "metadata": {},
     "output_type": "execute_result"
    },
    {
     "data": {
      "image/png": "[encoded data removed]",
      "text/plain": [
       "<Figure size 1152x864 with 2 Axes>"
      ]
     },
     "metadata": {
      "needs_background": "light"
     },
     "output_type": "display_data"
    }
   ],
   "source": [
    "corr_map = bb.correlation_map(df, method='log', days=bb.TRADING_DAYS_PER_YEAR)\n",
    "# Sample correlation value.\n",
    "corr_map['SPY']['VXUS']"
   ]
  },
  {
   "cell_type": "code",
   "execution_count": 10,
   "metadata": {},
   "outputs": [],
   "source": [
    "# Read asset-classes-in.csv\n",
    "lines = []\n",
    "with open('asset-classes-in.csv', 'r') as f:\n",
    "    lines = [line.strip() for line in f]\n",
    "#lines"
   ]
  },
  {
   "cell_type": "code",
   "execution_count": 11,
   "metadata": {
    "scrolled": true
   },
   "outputs": [],
   "source": [
    "# Calculate the pair correlations between the assets and write the resuls to a list.\n",
    "out = []\n",
    "for line in lines:\n",
    "    # Copy empty and comment lines.\n",
    "    if not line or line.startswith('#'):\n",
    "        out.append(line)\n",
    "        continue\n",
    "    # Split line by comma delimiter; strip the fields.\n",
    "    fields = line.split(',')\n",
    "    fields = [field.strip() for field in fields]\n",
    "    assetA = fields[0].strip('\\\"')\n",
    "    assetB = fields[1].strip('\\\"')\n",
    "    # copy same asset lines and header\n",
    "    if assetA == assetB or assetA == 'Asset Class A':\n",
    "        out.append(line)\n",
    "        continue\n",
    "    # Use asset2etf to get a representative ETF for the asset,\n",
    "    # then calculate the correlation.  The ETF pair correlation is\n",
    "    # a proxy for the correlation of an asset pair.\n",
    "    etfA = asset2etf[assetA]\n",
    "    etfB = asset2etf[assetB]\n",
    "    corrAB = corr_map.loc[etfA, etfB]\n",
    "    out.append(f'\"{assetA}\",\"{assetB}\",\"{corrAB:0.2f}\"')   "
   ]
  },
  {
   "cell_type": "code",
   "execution_count": 12,
   "metadata": {},
   "outputs": [],
   "source": [
    "# Write out asset-classes.csv\n",
    "with open('asset-classes.csv', 'w') as f:\n",
    "    for line in out:\n",
    "        f.write(line + '\\n')"
   ]
  },
  {
   "cell_type": "code",
   "execution_count": 13,
   "metadata": {},
   "outputs": [],
   "source": [
    "# Sample symbol.\n",
    "symbol = 'SPY'"
   ]
  },
  {
   "cell_type": "code",
   "execution_count": 14,
   "metadata": {},
   "outputs": [
    {
     "data": {
      "text/plain": [
       "-6.492654731289694"
      ]
     },
     "execution_count": 14,
     "metadata": {},
     "output_type": "execute_result"
    }
   ],
   "source": [
    "annual_returns = bb.annualized_returns(df, timeperiod='daily', years=1)\n",
    "annual_returns[symbol]"
   ]
  },
  {
   "cell_type": "code",
   "execution_count": 15,
   "metadata": {},
   "outputs": [],
   "source": [
    "# Calculate 1 month, 3 months, 1 year, 3 year, and 5 year annualized returns.\n",
    "annual_returns_1mo = bb.annualized_returns(df, timeperiod='daily', years=1/12)\n",
    "annual_returns_3mo = bb.annualized_returns(df, timeperiod='daily', years=3/12)\n",
    "annual_returns_1yr = bb.annualized_returns(df, timeperiod='daily', years=1)\n",
    "annual_returns_3yr = bb.annualized_returns(df, timeperiod='daily', years=3)\n",
    "annual_returns_5yr = bb.annualized_returns(df, timeperiod='daily', years=5)"
   ]
  },
  {
   "cell_type": "code",
   "execution_count": 16,
   "metadata": {},
   "outputs": [
    {
     "data": {
      "text/plain": [
       "0.1651757004462286"
      ]
     },
     "execution_count": 16,
     "metadata": {},
     "output_type": "execute_result"
    }
   ],
   "source": [
    "# Calculate 20 day annualized volatility.\n",
    "daily_returns = df.pct_change()\n",
    "years = bb.TRADING_DAYS_PER_MONTH / bb.TRADING_DAYS_PER_YEAR\n",
    "vola = bb.annualized_standard_deviation(daily_returns, timeperiod='daily', years=years)\n",
    "vola[symbol]"
   ]
  },
  {
   "cell_type": "code",
   "execution_count": 17,
   "metadata": {},
   "outputs": [
    {
     "data": {
      "text/plain": [
       "0.0767300205982728"
      ]
     },
     "execution_count": 17,
     "metadata": {},
     "output_type": "execute_result"
    }
   ],
   "source": [
    "# Calculate 20 day annualized downside volatility.\n",
    "ds_vola = bb.annualized_standard_deviation(daily_returns, timeperiod='daily', years=years, downside=True)\n",
    "ds_vola[symbol]"
   ]
  },
  {
   "cell_type": "code",
   "execution_count": 18,
   "metadata": {},
   "outputs": [
    {
     "name": "stdout",
     "output_type": "stream",
     "text": [
      "Date\n",
      "2015-01-31   172.30\n",
      "2015-02-28   181.98\n",
      "2015-03-31   179.12\n",
      "2015-04-30   180.88\n",
      "2015-05-31   183.21\n",
      "2015-06-30   179.49\n",
      "2015-07-31   183.54\n",
      "2015-08-31   172.36\n",
      "2015-09-30   167.96\n",
      "2015-10-31   182.25\n",
      "2015-11-30   182.91\n",
      "2015-12-31   179.75\n",
      "2016-01-31   170.80\n",
      "2016-02-29   170.66\n",
      "2016-03-31   182.14\n",
      "2016-04-30   182.86\n",
      "2016-05-31   185.97\n",
      "2016-06-30   186.61\n",
      "2016-07-31   193.42\n",
      "2016-08-31   193.65\n",
      "2016-09-30   193.66\n",
      "2016-10-31   190.31\n",
      "2016-11-30   197.32\n",
      "2016-12-31   201.32\n",
      "2017-01-31   204.92\n",
      "2017-02-28   212.97\n",
      "2017-03-31   213.24\n",
      "2017-04-30   215.35\n",
      "2017-05-31   218.39\n",
      "2017-06-30   219.78\n",
      "2017-07-31   224.30\n",
      "2017-08-31   224.96\n",
      "2017-09-30   229.49\n",
      "2017-10-31   234.90\n",
      "2017-11-30   242.08\n",
      "2017-12-31   245.01\n",
      "2018-01-31   258.82\n",
      "2018-02-28   249.41\n",
      "2018-03-31   242.57\n",
      "2018-04-30   243.83\n",
      "2018-05-31   249.76\n",
      "2018-06-30   251.19\n",
      "2018-07-31   260.50\n",
      "2018-08-31   268.81\n",
      "2018-09-30   270.41\n",
      "2018-10-31   251.72\n",
      "2018-11-30   256.39\n",
      "2018-12-31   233.82\n",
      "2019-01-31   252.54\n",
      "2019-02-28   260.73\n",
      "2019-03-31   265.44\n",
      "2019-04-30   276.29\n",
      "2019-05-31   258.67\n",
      "2019-06-30   276.67\n",
      "2019-07-31   280.85\n",
      "2019-08-31   276.15\n",
      "2019-09-30   281.52\n",
      "2019-10-31   287.75\n",
      "2019-11-30   298.16\n",
      "2019-12-31   306.83\n",
      "2020-01-31   306.70\n",
      "2020-02-29   282.42\n",
      "2020-03-31   247.16\n",
      "2020-04-30   278.54\n",
      "2020-05-31   291.81\n",
      "2020-06-30   296.99\n",
      "2020-07-31   314.48\n",
      "2020-08-31   336.43\n",
      "2020-09-30   323.83\n",
      "2020-10-31   315.75\n",
      "2020-11-30   350.10\n",
      "2020-12-31   363.07\n",
      "2021-01-31   359.37\n",
      "2021-02-28   369.36\n",
      "2021-03-31   386.13\n",
      "2021-04-30   406.56\n",
      "2021-05-31   409.23\n",
      "2021-06-30   418.41\n",
      "2021-07-31   428.63\n",
      "2021-08-31   441.38\n",
      "2021-09-30   420.81\n",
      "2021-10-31   450.34\n",
      "2021-11-30   446.72\n",
      "2021-12-31   467.38\n",
      "2022-01-31   442.73\n",
      "2022-02-28   429.66\n",
      "2022-03-31   445.81\n",
      "2022-04-30   406.68\n",
      "2022-05-31   407.60\n",
      "2022-06-30   373.99\n",
      "2022-07-31   408.43\n",
      "2022-08-31   391.76\n",
      "2022-09-30   355.55\n",
      "2022-10-31   384.44\n",
      "2022-11-30   405.82\n",
      "2022-12-31   382.43\n",
      "2023-01-31   406.48\n",
      "2023-02-28   416.78\n",
      "Freq: M, Name: SPY, dtype: float64\n"
     ]
    }
   ],
   "source": [
    "# Resample df on a monthly basis.\n",
    "df.index = pd.to_datetime(df.index)\n",
    "monthly = df.resample('M').ffill()\n",
    "bb.print_full(monthly[symbol])"
   ]
  },
  {
   "cell_type": "code",
   "execution_count": 19,
   "metadata": {},
   "outputs": [
    {
     "data": {
      "text/plain": [
       "Date\n",
       "2015-01-31     nan\n",
       "2015-02-28    0.06\n",
       "2015-03-31   -0.02\n",
       "2015-04-30    0.01\n",
       "2015-05-31    0.01\n",
       "              ... \n",
       "2022-10-31    0.08\n",
       "2022-11-30    0.06\n",
       "2022-12-31   -0.06\n",
       "2023-01-31    0.06\n",
       "2023-02-28    0.03\n",
       "Freq: M, Name: SPY, Length: 98, dtype: float64"
      ]
     },
     "execution_count": 19,
     "metadata": {},
     "output_type": "execute_result"
    }
   ],
   "source": [
    "# Calculate monthly returns.\n",
    "monthly_returns = monthly.pct_change()\n",
    "monthly_returns['SPY']"
   ]
  },
  {
   "cell_type": "code",
   "execution_count": 20,
   "metadata": {},
   "outputs": [
    {
     "data": {
      "text/plain": [
       "0.20419311017631858"
      ]
     },
     "execution_count": 20,
     "metadata": {},
     "output_type": "execute_result"
    }
   ],
   "source": [
    "# Calculate 3 year annualized standard deviation.\n",
    "std_dev = bb.annualized_standard_deviation(monthly_returns, timeperiod='monthly', years=3)\n",
    "std_dev[symbol]"
   ]
  },
  {
   "cell_type": "code",
   "execution_count": 21,
   "metadata": {},
   "outputs": [
    {
     "data": {
      "text/plain": [
       "['# Description: Asset Class investment options. 09/29/2020',\n",
       " '',\n",
       " '# Format',\n",
       " '\"Investment Option\",\"Asset Class\",\"1 mo\",\"3 mo\",\"1 Yr\",\"3 Yr\",\"5 Yr\",\"Vola\",\"DS Vola\",\"Std Dev\"',\n",
       " '# Note: \"Description\" field is optional']"
      ]
     },
     "execution_count": 21,
     "metadata": {},
     "output_type": "execute_result"
    }
   ],
   "source": [
    "# Read investment-options-header.csv\n",
    "lines = []\n",
    "with open('investment-options-in.csv', 'r') as f:\n",
    "    lines = [line.strip() for line in f]\n",
    "lines"
   ]
  },
  {
   "cell_type": "code",
   "execution_count": 22,
   "metadata": {},
   "outputs": [],
   "source": [
    "# For each symbol, write out the 1 Yr, 3 Yr, 5 Yr, and std dev.\n",
    "out = lines.copy()\n",
    "\n",
    "# This is still slow (2.53 s)\n",
    "for key, value in asset2etf.items():\n",
    "\n",
    "    symbol = value\n",
    "    asset_class = key\n",
    "\n",
    "    ret_1mo = annual_returns_1mo[symbol]\n",
    "    ret_3mo = annual_returns_3mo[symbol]\n",
    "    ret_1yr = annual_returns_1yr[symbol]\n",
    "    ret_3yr = annual_returns_3yr[symbol]\n",
    "    ret_5yr = annual_returns_5yr[symbol]\n",
    "\n",
    "    if np.isnan(ret_3yr): ret_3yr = ret_1yr\n",
    "    if np.isnan(ret_5yr): ret_5yr = ret_3yr\n",
    "    \n",
    "    _vola = vola[symbol]*100\n",
    "    _ds_vola = ds_vola[symbol]*100\n",
    "    sd = std_dev[symbol]*100\n",
    "\n",
    "    out.append(\n",
    "        '\"{}\",\"{}\",\"{:0.2f}\",\"{:0.2f}\",\"{:0.2f}\",\"{:0.2f}\",\"{:0.2f}\",\"{:0.2f}\",\"{:0.2f}\",\"{:0.2f}\"'\n",
    "        .format(asset_class, asset_class,\n",
    "                ret_1mo, ret_3mo, ret_1yr, ret_3yr, ret_5yr, _vola, _ds_vola, sd)) "
   ]
  },
  {
   "cell_type": "code",
   "execution_count": 23,
   "metadata": {},
   "outputs": [],
   "source": [
    "# Write out asset-classes.csv\n",
    "with open('investment-options.csv', 'w') as f:\n",
    "    for line in out:\n",
    "        f.write(line + '\\n')"
   ]
  },
  {
   "cell_type": "code",
   "execution_count": null,
   "metadata": {},
   "outputs": [],
   "source": []
  }
 ],
 "metadata": {
  "kernelspec": {
   "display_name": "Python 3 (ipykernel)",
   "language": "python",
   "name": "python3"
  },
  "language_info": {
   "codemirror_mode": {
    "name": "ipython",
    "version": 3
   },
   "file_extension": ".py",
   "mimetype": "text/x-python",
   "name": "python",
   "nbconvert_exporter": "python",
   "pygments_lexer": "ipython3",
   "version": "3.8.10"
  },
  "latex_envs": {
   "LaTeX_envs_menu_present": true,
   "autoclose": false,
   "autocomplete": true,
   "bibliofile": "biblio.bib",
   "cite_by": "apalike",
   "current_citInitial": 1,
   "eqLabelWithNumbers": true,
   "eqNumInitial": 1,
   "hotkeys": {
    "equation": "Ctrl-E",
    "itemize": "Ctrl-I"
   },
   "labels_anchors": false,
   "latex_user_defs": false,
   "report_style_numbering": false,
   "user_envs_cfg": false
  }
 },
 "nbformat": 4,
 "nbformat_minor": 1
}
