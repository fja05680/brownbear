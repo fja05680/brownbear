{
 "cells": [
  {
   "cell_type": "markdown",
   "metadata": {},
   "source": [
    "Use this utlity to update the correlations between asset classes in universe/asset-prices.csv\n",
    "\n",
    "input files:\n",
    "- asset-classes-2-etf.csv: mapping of asset classes to a representative ETF to use for calculating correlations\n",
    "- asset-classes-in.csv: asset pairs for which to calculate correlations\n",
    "\n",
    "output files:\n",
    "- symbols-cache/'symbol'.csv: timeseries for each symbol \n",
    "- symbols-timeseries.csv: compiled timeseries for symbols\n",
    "- asset-classes.csv: asset class pairs with correlations"
   ]
  },
  {
   "cell_type": "code",
   "execution_count": 1,
   "metadata": {
    "ExecuteTime": {
     "end_time": "2019-08-05T19:30:28.821735Z",
     "start_time": "2019-08-05T19:30:28.795344Z"
    }
   },
   "outputs": [
    {
     "data": {
      "application/javascript": [
       "IPython.OutputArea.prototype._should_scroll = function(lines) {\n",
       "    return false;\n",
       "}\n"
      ],
      "text/plain": [
       "<IPython.core.display.Javascript object>"
      ]
     },
     "metadata": {},
     "output_type": "display_data"
    }
   ],
   "source": [
    "%%javascript\n",
    "IPython.OutputArea.prototype._should_scroll = function(lines) {\n",
    "    return false;\n",
    "}"
   ]
  },
  {
   "cell_type": "code",
   "execution_count": 2,
   "metadata": {
    "ExecuteTime": {
     "end_time": "2019-08-05T19:30:29.630182Z",
     "start_time": "2019-08-05T19:30:28.824991Z"
    }
   },
   "outputs": [],
   "source": [
    "import matplotlib.pyplot as plt\n",
    "import numpy as np\n",
    "import pandas as pd\n",
    "\n",
    "import brownbear as bb\n",
    "\n",
    "# Format price data.\n",
    "pd.options.display.float_format = '{:0.2f}'.format\n",
    "\n",
    "%matplotlib inline"
   ]
  },
  {
   "cell_type": "code",
   "execution_count": 3,
   "metadata": {},
   "outputs": [],
   "source": [
    "# Set size of inline plots.\n",
    "'''note: rcParams can't be in same cell as import matplotlib\n",
    "   or %matplotlib inline\n",
    "   \n",
    "   %matplotlib notebook: will lead to interactive plots embedded within\n",
    "   the notebook, you can zoom and resize the figure\n",
    "   \n",
    "   %matplotlib inline: only draw static images in the notebook\n",
    "'''\n",
    "plt.rcParams[\"figure.figsize\"] = (10, 7)"
   ]
  },
  {
   "cell_type": "markdown",
   "metadata": {},
   "source": [
    "Globals"
   ]
  },
  {
   "cell_type": "code",
   "execution_count": 4,
   "metadata": {},
   "outputs": [],
   "source": [
    "# Set refresh_timeseries=True to download timeseries.  Otherwise /symbol-cache is used.\n",
    "refresh_timeseries = True"
   ]
  },
  {
   "cell_type": "code",
   "execution_count": 5,
   "metadata": {},
   "outputs": [
    {
     "data": {
      "text/plain": [
       "{'US Stocks': 'VTSMX',\n",
       " 'Global Stocks': 'VXUS',\n",
       " 'US Bonds': 'AGG',\n",
       " 'Global Bonds': 'BNDX',\n",
       " 'Cash Equivalents': 'BIL',\n",
       " 'Real Estate': 'VNQ',\n",
       " 'Commodities': 'DBC',\n",
       " 'Currencies': 'UUP',\n",
       " 'Managed Futures': 'CTA',\n",
       " 'Balanced': 'AOM',\n",
       " 'Risk-Free Asset': 'BIL',\n",
       " 'US Stocks:Large Cap': 'SPY',\n",
       " 'US Stocks:Mid Cap': 'MDY',\n",
       " 'US Stocks:Small Cap': 'IWM',\n",
       " 'US Stocks:Growth': 'QQQ',\n",
       " 'US Stocks:Growth and Income': 'VOO',\n",
       " 'US Stocks:Value': 'IWD',\n",
       " 'US Stocks:Total Stock Market': 'VTI',\n",
       " 'US Stocks:Materials': 'XLB',\n",
       " 'US Stocks:Communication Services': 'XLC',\n",
       " 'US Stocks:Energy': 'XLE',\n",
       " 'US Stocks:Financials': 'XLF',\n",
       " 'US Stocks:Industrials': 'XLI',\n",
       " 'US Stocks:Technology': 'XLK',\n",
       " 'US Stocks:Consumer Staples': 'XLP',\n",
       " 'US Stocks:Real Estate': 'XLRE',\n",
       " 'US Stocks:Utilities': 'XLU',\n",
       " 'US Stocks:Healthcare': 'XLV',\n",
       " 'US Stocks:Consumer Discretionary': 'XLY',\n",
       " 'Global Stocks:Asia': 'VPL',\n",
       " 'Global Stocks:Developed Markets': 'EFA',\n",
       " 'Global Stocks:Emerging Markets': 'EEM',\n",
       " 'Global Stocks:Europe': 'IEUR',\n",
       " 'Global Stocks:EX-US': 'VXUS',\n",
       " 'US Bonds:Investment Grade': 'LQD',\n",
       " 'US Bonds:High Yield': 'JNK',\n",
       " 'US Bonds:Preferred Stock': 'PFF',\n",
       " 'US Bonds:Treasury Bills (T-bills)': 'BIL',\n",
       " 'US Bonds:Treasury Notes (T-notes)': 'IEI',\n",
       " 'US Bonds:Treasury Bonds (T-bonds)': 'TLT',\n",
       " 'US Bonds:Treasury Inflation-Protected Securities (TIPS)': 'TIP',\n",
       " 'Global Bonds:Investment Grade Corp': 'IBND',\n",
       " 'Global Bonds:Investment Grade Treasury': 'BWX',\n",
       " 'Global Bonds:Emerging Markets Gov': 'EBND',\n",
       " 'Global Bonds:Short Term Treasury': 'BWZ',\n",
       " 'Cash Equivalents:Money Markets': 'JPST',\n",
       " 'Cash Equivalents:Treasury Bills (T-bills)': 'BIL',\n",
       " 'Real Estate:REIT': 'IYR',\n",
       " 'Real Estate:Real Estate Funds': 'VNQ',\n",
       " 'Commodities:Gold': 'GLD',\n",
       " 'Commodities:Silver': 'SLV',\n",
       " 'Commodities:Cooper': 'CPER',\n",
       " 'Commodities:Platinum': 'PPLT',\n",
       " 'Commodities:Palladium': 'PALL',\n",
       " 'Commodities:Oil': 'USO',\n",
       " 'Commodities:Natural Gas': 'UNG',\n",
       " 'Commodities:Gasoline': 'UGA',\n",
       " 'Commodities:Corn': 'CORN',\n",
       " 'Commodities:Sugar': 'CANE',\n",
       " 'Commodities:Agriculture': 'DBA',\n",
       " 'Commodities:Base Metals': 'DBB',\n",
       " 'Commodities:Energy': 'DBE',\n",
       " 'Commodities:Precious Metals': 'DBP',\n",
       " 'Currencies:US Dollar': 'UUP',\n",
       " 'Currencies:Euro': 'FXE',\n",
       " 'Currencies:Japanese Yen': 'FXY',\n",
       " 'Currencies:Swiss Franc': 'FXF',\n",
       " 'Currencies:Australian Dollar': 'FXA',\n",
       " 'Currencies:Canadian Dollar': 'FXC',\n",
       " 'Currencies:British Pound': 'FXB',\n",
       " 'Currencies:Chinese Yuan': 'CYB',\n",
       " 'Balanced:Conservative Allocation (30/70)': 'AOK',\n",
       " 'Balanced:Moderate Allocation (40/60)': 'AOM',\n",
       " 'Balanced:Growth Allocation (60/40)': 'AOR',\n",
       " 'Balanced:Aggressive Allocation (80/20)': 'AOA'}"
      ]
     },
     "execution_count": 5,
     "metadata": {},
     "output_type": "execute_result"
    }
   ],
   "source": [
    "# asset2etf dict provides a mapping from the asset name to a representative ETF.\n",
    "asset2etf = pd.read_csv('asset-classes-2-etf.csv', skip_blank_lines=True, comment='#')\n",
    "asset2etf = asset2etf.set_index(['Asset Class'])\n",
    "asset2etf = asset2etf['ETF'].to_dict()\n",
    "asset2etf"
   ]
  },
  {
   "cell_type": "code",
   "execution_count": 6,
   "metadata": {},
   "outputs": [],
   "source": [
    "symbols = set(asset2etf.values())"
   ]
  },
  {
   "cell_type": "code",
   "execution_count": 7,
   "metadata": {},
   "outputs": [
    {
     "name": "stdout",
     "output_type": "stream",
     "text": [
      "CORN UGA IEUR VOO IWD XLK DBB GLD XLI USO BNDX BWZ CYB EFA XLY VPL TIP FXA IYR XLC XLRE CPER PALL IWM BWX JNK UNG SPY MDY QQQ DBA CTA AGG AOA FXE TLT VXUS XLF BIL EBND IEI SLV PPLT XLB XLV DBE UUP VTI LQD DBP XLE FXY DBC JPST FXB IBND VTSMX AOM PFF CANE AOK XLU FXC AOR VNQ FXF XLP EEM \n"
     ]
    }
   ],
   "source": [
    "bb.fetch_timeseries(symbols, refresh=refresh_timeseries)\n",
    "bb.compile_timeseries(symbols)"
   ]
  },
  {
   "cell_type": "code",
   "execution_count": 8,
   "metadata": {},
   "outputs": [
    {
     "data": {
      "text/html": [
       "<div>\n",
       "<style scoped>\n",
       "    .dataframe tbody tr th:only-of-type {\n",
       "        vertical-align: middle;\n",
       "    }\n",
       "\n",
       "    .dataframe tbody tr th {\n",
       "        vertical-align: top;\n",
       "    }\n",
       "\n",
       "    .dataframe thead th {\n",
       "        text-align: right;\n",
       "    }\n",
       "</style>\n",
       "<table border=\"1\" class=\"dataframe\">\n",
       "  <thead>\n",
       "    <tr style=\"text-align: right;\">\n",
       "      <th></th>\n",
       "      <th>CORN</th>\n",
       "      <th>UGA</th>\n",
       "      <th>IEUR</th>\n",
       "      <th>VOO</th>\n",
       "      <th>IWD</th>\n",
       "      <th>XLK</th>\n",
       "      <th>DBB</th>\n",
       "      <th>GLD</th>\n",
       "      <th>XLI</th>\n",
       "      <th>USO</th>\n",
       "      <th>...</th>\n",
       "      <th>PFF</th>\n",
       "      <th>CANE</th>\n",
       "      <th>AOK</th>\n",
       "      <th>XLU</th>\n",
       "      <th>FXC</th>\n",
       "      <th>AOR</th>\n",
       "      <th>VNQ</th>\n",
       "      <th>FXF</th>\n",
       "      <th>XLP</th>\n",
       "      <th>EEM</th>\n",
       "    </tr>\n",
       "    <tr>\n",
       "      <th>Date</th>\n",
       "      <th></th>\n",
       "      <th></th>\n",
       "      <th></th>\n",
       "      <th></th>\n",
       "      <th></th>\n",
       "      <th></th>\n",
       "      <th></th>\n",
       "      <th></th>\n",
       "      <th></th>\n",
       "      <th></th>\n",
       "      <th></th>\n",
       "      <th></th>\n",
       "      <th></th>\n",
       "      <th></th>\n",
       "      <th></th>\n",
       "      <th></th>\n",
       "      <th></th>\n",
       "      <th></th>\n",
       "      <th></th>\n",
       "      <th></th>\n",
       "      <th></th>\n",
       "    </tr>\n",
       "  </thead>\n",
       "  <tbody>\n",
       "    <tr>\n",
       "      <th>2015-01-02</th>\n",
       "      <td>26.48</td>\n",
       "      <td>33.22</td>\n",
       "      <td>33.31</td>\n",
       "      <td>159.71</td>\n",
       "      <td>85.00</td>\n",
       "      <td>36.69</td>\n",
       "      <td>14.19</td>\n",
       "      <td>114.08</td>\n",
       "      <td>47.68</td>\n",
       "      <td>159.12</td>\n",
       "      <td>...</td>\n",
       "      <td>24.31</td>\n",
       "      <td>11.59</td>\n",
       "      <td>26.49</td>\n",
       "      <td>35.29</td>\n",
       "      <td>81.81</td>\n",
       "      <td>32.24</td>\n",
       "      <td>57.39</td>\n",
       "      <td>97.40</td>\n",
       "      <td>38.09</td>\n",
       "      <td>31.83</td>\n",
       "    </tr>\n",
       "    <tr>\n",
       "      <th>2015-01-05</th>\n",
       "      <td>27.12</td>\n",
       "      <td>31.76</td>\n",
       "      <td>32.31</td>\n",
       "      <td>156.90</td>\n",
       "      <td>83.49</td>\n",
       "      <td>36.13</td>\n",
       "      <td>14.05</td>\n",
       "      <td>115.80</td>\n",
       "      <td>46.56</td>\n",
       "      <td>150.32</td>\n",
       "      <td>...</td>\n",
       "      <td>24.22</td>\n",
       "      <td>11.45</td>\n",
       "      <td>26.31</td>\n",
       "      <td>34.86</td>\n",
       "      <td>81.90</td>\n",
       "      <td>31.85</td>\n",
       "      <td>57.70</td>\n",
       "      <td>96.90</td>\n",
       "      <td>37.83</td>\n",
       "      <td>31.26</td>\n",
       "    </tr>\n",
       "    <tr>\n",
       "      <th>2015-01-06</th>\n",
       "      <td>27.05</td>\n",
       "      <td>31.12</td>\n",
       "      <td>31.99</td>\n",
       "      <td>155.36</td>\n",
       "      <td>82.70</td>\n",
       "      <td>35.69</td>\n",
       "      <td>13.89</td>\n",
       "      <td>117.12</td>\n",
       "      <td>45.99</td>\n",
       "      <td>144.40</td>\n",
       "      <td>...</td>\n",
       "      <td>24.24</td>\n",
       "      <td>11.86</td>\n",
       "      <td>26.24</td>\n",
       "      <td>34.88</td>\n",
       "      <td>81.35</td>\n",
       "      <td>31.67</td>\n",
       "      <td>58.28</td>\n",
       "      <td>96.65</td>\n",
       "      <td>37.78</td>\n",
       "      <td>31.13</td>\n",
       "    </tr>\n",
       "    <tr>\n",
       "      <th>2015-01-07</th>\n",
       "      <td>26.52</td>\n",
       "      <td>30.69</td>\n",
       "      <td>32.28</td>\n",
       "      <td>157.30</td>\n",
       "      <td>83.56</td>\n",
       "      <td>36.00</td>\n",
       "      <td>13.85</td>\n",
       "      <td>116.43</td>\n",
       "      <td>46.34</td>\n",
       "      <td>146.96</td>\n",
       "      <td>...</td>\n",
       "      <td>24.30</td>\n",
       "      <td>11.71</td>\n",
       "      <td>26.36</td>\n",
       "      <td>35.22</td>\n",
       "      <td>81.37</td>\n",
       "      <td>31.95</td>\n",
       "      <td>59.17</td>\n",
       "      <td>96.13</td>\n",
       "      <td>38.42</td>\n",
       "      <td>31.81</td>\n",
       "    </tr>\n",
       "    <tr>\n",
       "      <th>2015-01-08</th>\n",
       "      <td>26.38</td>\n",
       "      <td>30.89</td>\n",
       "      <td>32.70</td>\n",
       "      <td>160.06</td>\n",
       "      <td>85.03</td>\n",
       "      <td>36.79</td>\n",
       "      <td>13.99</td>\n",
       "      <td>115.94</td>\n",
       "      <td>47.26</td>\n",
       "      <td>148.40</td>\n",
       "      <td>...</td>\n",
       "      <td>24.33</td>\n",
       "      <td>12.07</td>\n",
       "      <td>26.50</td>\n",
       "      <td>35.47</td>\n",
       "      <td>81.31</td>\n",
       "      <td>32.25</td>\n",
       "      <td>59.39</td>\n",
       "      <td>95.73</td>\n",
       "      <td>39.01</td>\n",
       "      <td>32.35</td>\n",
       "    </tr>\n",
       "    <tr>\n",
       "      <th>...</th>\n",
       "      <td>...</td>\n",
       "      <td>...</td>\n",
       "      <td>...</td>\n",
       "      <td>...</td>\n",
       "      <td>...</td>\n",
       "      <td>...</td>\n",
       "      <td>...</td>\n",
       "      <td>...</td>\n",
       "      <td>...</td>\n",
       "      <td>...</td>\n",
       "      <td>...</td>\n",
       "      <td>...</td>\n",
       "      <td>...</td>\n",
       "      <td>...</td>\n",
       "      <td>...</td>\n",
       "      <td>...</td>\n",
       "      <td>...</td>\n",
       "      <td>...</td>\n",
       "      <td>...</td>\n",
       "      <td>...</td>\n",
       "      <td>...</td>\n",
       "    </tr>\n",
       "    <tr>\n",
       "      <th>2023-12-22</th>\n",
       "      <td>21.62</td>\n",
       "      <td>61.57</td>\n",
       "      <td>54.69</td>\n",
       "      <td>435.29</td>\n",
       "      <td>164.28</td>\n",
       "      <td>192.05</td>\n",
       "      <td>18.01</td>\n",
       "      <td>190.27</td>\n",
       "      <td>113.13</td>\n",
       "      <td>68.69</td>\n",
       "      <td>...</td>\n",
       "      <td>31.23</td>\n",
       "      <td>12.32</td>\n",
       "      <td>36.01</td>\n",
       "      <td>62.62</td>\n",
       "      <td>73.76</td>\n",
       "      <td>52.90</td>\n",
       "      <td>87.71</td>\n",
       "      <td>104.01</td>\n",
       "      <td>71.22</td>\n",
       "      <td>39.38</td>\n",
       "    </tr>\n",
       "    <tr>\n",
       "      <th>2023-12-26</th>\n",
       "      <td>21.92</td>\n",
       "      <td>62.33</td>\n",
       "      <td>55.02</td>\n",
       "      <td>437.10</td>\n",
       "      <td>165.22</td>\n",
       "      <td>192.85</td>\n",
       "      <td>18.00</td>\n",
       "      <td>191.72</td>\n",
       "      <td>113.93</td>\n",
       "      <td>70.21</td>\n",
       "      <td>...</td>\n",
       "      <td>31.25</td>\n",
       "      <td>12.25</td>\n",
       "      <td>36.07</td>\n",
       "      <td>63.00</td>\n",
       "      <td>74.11</td>\n",
       "      <td>53.09</td>\n",
       "      <td>88.36</td>\n",
       "      <td>104.25</td>\n",
       "      <td>71.52</td>\n",
       "      <td>39.69</td>\n",
       "    </tr>\n",
       "    <tr>\n",
       "      <th>2023-12-27</th>\n",
       "      <td>21.74</td>\n",
       "      <td>62.06</td>\n",
       "      <td>55.32</td>\n",
       "      <td>437.90</td>\n",
       "      <td>165.46</td>\n",
       "      <td>192.84</td>\n",
       "      <td>18.38</td>\n",
       "      <td>192.59</td>\n",
       "      <td>114.10</td>\n",
       "      <td>68.92</td>\n",
       "      <td>...</td>\n",
       "      <td>31.40</td>\n",
       "      <td>12.38</td>\n",
       "      <td>36.27</td>\n",
       "      <td>62.96</td>\n",
       "      <td>74.11</td>\n",
       "      <td>53.32</td>\n",
       "      <td>88.79</td>\n",
       "      <td>105.59</td>\n",
       "      <td>71.85</td>\n",
       "      <td>39.92</td>\n",
       "    </tr>\n",
       "    <tr>\n",
       "      <th>2023-12-28</th>\n",
       "      <td>21.73</td>\n",
       "      <td>60.56</td>\n",
       "      <td>54.96</td>\n",
       "      <td>437.97</td>\n",
       "      <td>165.70</td>\n",
       "      <td>193.07</td>\n",
       "      <td>18.22</td>\n",
       "      <td>191.47</td>\n",
       "      <td>114.13</td>\n",
       "      <td>67.18</td>\n",
       "      <td>...</td>\n",
       "      <td>31.31</td>\n",
       "      <td>12.91</td>\n",
       "      <td>36.23</td>\n",
       "      <td>63.41</td>\n",
       "      <td>74.00</td>\n",
       "      <td>53.27</td>\n",
       "      <td>89.42</td>\n",
       "      <td>105.41</td>\n",
       "      <td>71.88</td>\n",
       "      <td>40.23</td>\n",
       "    </tr>\n",
       "    <tr>\n",
       "      <th>2023-12-29</th>\n",
       "      <td>21.57</td>\n",
       "      <td>60.70</td>\n",
       "      <td>55.02</td>\n",
       "      <td>436.80</td>\n",
       "      <td>165.25</td>\n",
       "      <td>192.48</td>\n",
       "      <td>18.30</td>\n",
       "      <td>191.17</td>\n",
       "      <td>113.99</td>\n",
       "      <td>66.65</td>\n",
       "      <td>...</td>\n",
       "      <td>31.19</td>\n",
       "      <td>12.40</td>\n",
       "      <td>36.15</td>\n",
       "      <td>63.33</td>\n",
       "      <td>73.88</td>\n",
       "      <td>53.19</td>\n",
       "      <td>88.36</td>\n",
       "      <td>105.78</td>\n",
       "      <td>72.03</td>\n",
       "      <td>40.21</td>\n",
       "    </tr>\n",
       "  </tbody>\n",
       "</table>\n",
       "<p>2264 rows × 68 columns</p>\n",
       "</div>"
      ],
      "text/plain": [
       "            CORN   UGA  IEUR    VOO    IWD    XLK   DBB    GLD    XLI    USO  \\\n",
       "Date                                                                           \n",
       "2015-01-02 26.48 33.22 33.31 159.71  85.00  36.69 14.19 114.08  47.68 159.12   \n",
       "2015-01-05 27.12 31.76 32.31 156.90  83.49  36.13 14.05 115.80  46.56 150.32   \n",
       "2015-01-06 27.05 31.12 31.99 155.36  82.70  35.69 13.89 117.12  45.99 144.40   \n",
       "2015-01-07 26.52 30.69 32.28 157.30  83.56  36.00 13.85 116.43  46.34 146.96   \n",
       "2015-01-08 26.38 30.89 32.70 160.06  85.03  36.79 13.99 115.94  47.26 148.40   \n",
       "...          ...   ...   ...    ...    ...    ...   ...    ...    ...    ...   \n",
       "2023-12-22 21.62 61.57 54.69 435.29 164.28 192.05 18.01 190.27 113.13  68.69   \n",
       "2023-12-26 21.92 62.33 55.02 437.10 165.22 192.85 18.00 191.72 113.93  70.21   \n",
       "2023-12-27 21.74 62.06 55.32 437.90 165.46 192.84 18.38 192.59 114.10  68.92   \n",
       "2023-12-28 21.73 60.56 54.96 437.97 165.70 193.07 18.22 191.47 114.13  67.18   \n",
       "2023-12-29 21.57 60.70 55.02 436.80 165.25 192.48 18.30 191.17 113.99  66.65   \n",
       "\n",
       "            ...   PFF  CANE   AOK   XLU   FXC   AOR   VNQ    FXF   XLP   EEM  \n",
       "Date        ...                                                               \n",
       "2015-01-02  ... 24.31 11.59 26.49 35.29 81.81 32.24 57.39  97.40 38.09 31.83  \n",
       "2015-01-05  ... 24.22 11.45 26.31 34.86 81.90 31.85 57.70  96.90 37.83 31.26  \n",
       "2015-01-06  ... 24.24 11.86 26.24 34.88 81.35 31.67 58.28  96.65 37.78 31.13  \n",
       "2015-01-07  ... 24.30 11.71 26.36 35.22 81.37 31.95 59.17  96.13 38.42 31.81  \n",
       "2015-01-08  ... 24.33 12.07 26.50 35.47 81.31 32.25 59.39  95.73 39.01 32.35  \n",
       "...         ...   ...   ...   ...   ...   ...   ...   ...    ...   ...   ...  \n",
       "2023-12-22  ... 31.23 12.32 36.01 62.62 73.76 52.90 87.71 104.01 71.22 39.38  \n",
       "2023-12-26  ... 31.25 12.25 36.07 63.00 74.11 53.09 88.36 104.25 71.52 39.69  \n",
       "2023-12-27  ... 31.40 12.38 36.27 62.96 74.11 53.32 88.79 105.59 71.85 39.92  \n",
       "2023-12-28  ... 31.31 12.91 36.23 63.41 74.00 53.27 89.42 105.41 71.88 40.23  \n",
       "2023-12-29  ... 31.19 12.40 36.15 63.33 73.88 53.19 88.36 105.78 72.03 40.21  \n",
       "\n",
       "[2264 rows x 68 columns]"
      ]
     },
     "execution_count": 8,
     "metadata": {},
     "output_type": "execute_result"
    }
   ],
   "source": [
    "df = pd.read_csv('symbols-timeseries.csv', skip_blank_lines=True, comment='#')\n",
    "df.set_index(\"Date\", inplace=True)\n",
    "df"
   ]
  },
  {
   "cell_type": "code",
   "execution_count": 9,
   "metadata": {},
   "outputs": [
    {
     "data": {
      "text/plain": [
       "0.7794675180588129"
      ]
     },
     "execution_count": 9,
     "metadata": {},
     "output_type": "execute_result"
    },
    {
     "data": {
      "image/png": "[encoded data removed]",
      "text/plain": [
       "<Figure size 1600x1200 with 2 Axes>"
      ]
     },
     "metadata": {},
     "output_type": "display_data"
    }
   ],
   "source": [
    "corr_map = bb.correlation_map(df, method='log', days=bb.TRADING_DAYS_PER_YEAR)\n",
    "# Sample correlation value.\n",
    "corr_map['SPY']['VXUS']"
   ]
  },
  {
   "cell_type": "code",
   "execution_count": 10,
   "metadata": {},
   "outputs": [],
   "source": [
    "# Read asset-classes-in.csv\n",
    "lines = []\n",
    "with open('asset-classes-in.csv', 'r') as f:\n",
    "    lines = [line.strip() for line in f]\n",
    "#lines"
   ]
  },
  {
   "cell_type": "code",
   "execution_count": 11,
   "metadata": {
    "scrolled": true
   },
   "outputs": [],
   "source": [
    "# Calculate the pair correlations between the assets and write the resuls to a list.\n",
    "out = []\n",
    "for line in lines:\n",
    "    # Copy empty and comment lines.\n",
    "    if not line or line.startswith('#'):\n",
    "        out.append(line)\n",
    "        continue\n",
    "    # Split line by comma delimiter; strip the fields.\n",
    "    fields = line.split(',')\n",
    "    fields = [field.strip() for field in fields]\n",
    "    assetA = fields[0].strip('\\\"')\n",
    "    assetB = fields[1].strip('\\\"')\n",
    "    # copy same asset lines and header\n",
    "    if assetA == assetB or assetA == 'Asset Class A':\n",
    "        out.append(line)\n",
    "        continue\n",
    "    # Use asset2etf to get a representative ETF for the asset,\n",
    "    # then calculate the correlation.  The ETF pair correlation is\n",
    "    # a proxy for the correlation of an asset pair.\n",
    "    etfA = asset2etf[assetA]\n",
    "    etfB = asset2etf[assetB]\n",
    "    corrAB = corr_map.loc[etfA, etfB]\n",
    "    out.append(f'\"{assetA}\",\"{assetB}\",\"{corrAB:0.2f}\"')   "
   ]
  },
  {
   "cell_type": "code",
   "execution_count": 12,
   "metadata": {},
   "outputs": [],
   "source": [
    "# Write out asset-classes.csv\n",
    "with open('asset-classes.csv', 'w') as f:\n",
    "    for line in out:\n",
    "        f.write(line + '\\n')"
   ]
  },
  {
   "cell_type": "code",
   "execution_count": 13,
   "metadata": {},
   "outputs": [],
   "source": [
    "# Sample symbol.\n",
    "symbol = 'SPY'"
   ]
  },
  {
   "cell_type": "code",
   "execution_count": 14,
   "metadata": {},
   "outputs": [
    {
     "data": {
      "text/plain": [
       "28.10866275992454"
      ]
     },
     "execution_count": 14,
     "metadata": {},
     "output_type": "execute_result"
    }
   ],
   "source": [
    "annual_returns = bb.annualized_returns(df, timeperiod='daily', years=1)\n",
    "annual_returns[symbol]"
   ]
  },
  {
   "cell_type": "code",
   "execution_count": 15,
   "metadata": {},
   "outputs": [],
   "source": [
    "# Calculate 1 month, 3 months, 1 year, 3 year, and 5 year annualized returns.\n",
    "annual_returns_1mo = bb.annualized_returns(df, timeperiod='daily', years=1/12)\n",
    "annual_returns_3mo = bb.annualized_returns(df, timeperiod='daily', years=3/12)\n",
    "annual_returns_1yr = bb.annualized_returns(df, timeperiod='daily', years=1)\n",
    "annual_returns_3yr = bb.annualized_returns(df, timeperiod='daily', years=3)\n",
    "annual_returns_5yr = bb.annualized_returns(df, timeperiod='daily', years=5)"
   ]
  },
  {
   "cell_type": "code",
   "execution_count": 16,
   "metadata": {},
   "outputs": [
    {
     "data": {
      "text/plain": [
       "0.09239438029207436"
      ]
     },
     "execution_count": 16,
     "metadata": {},
     "output_type": "execute_result"
    }
   ],
   "source": [
    "# Calculate 20 day annualized volatility.\n",
    "daily_returns = df.pct_change(fill_method=None)\n",
    "years = bb.TRADING_DAYS_PER_MONTH / bb.TRADING_DAYS_PER_YEAR\n",
    "vola = bb.annualized_standard_deviation(daily_returns, timeperiod='daily', years=years)\n",
    "vola[symbol]"
   ]
  },
  {
   "cell_type": "code",
   "execution_count": 17,
   "metadata": {},
   "outputs": [
    {
     "data": {
      "text/plain": [
       "0.05120591464078308"
      ]
     },
     "execution_count": 17,
     "metadata": {},
     "output_type": "execute_result"
    }
   ],
   "source": [
    "# Calculate 20 day annualized downside volatility.\n",
    "ds_vola = bb.annualized_standard_deviation(daily_returns, timeperiod='daily', years=years, downside=True)\n",
    "ds_vola[symbol]"
   ]
  },
  {
   "cell_type": "code",
   "execution_count": 18,
   "metadata": {},
   "outputs": [
    {
     "name": "stdout",
     "output_type": "stream",
     "text": [
      "Date\n",
      "2015-01-31   169.72\n",
      "2015-02-28   179.26\n",
      "2015-03-31   176.44\n",
      "2015-04-30   178.18\n",
      "2015-05-31   180.47\n",
      "2015-06-30   176.80\n",
      "2015-07-31   180.80\n",
      "2015-08-31   169.78\n",
      "2015-09-30   165.44\n",
      "2015-10-31   179.52\n",
      "2015-11-30   180.17\n",
      "2015-12-31   177.06\n",
      "2016-01-31   168.24\n",
      "2016-02-29   168.11\n",
      "2016-03-31   179.41\n",
      "2016-04-30   180.12\n",
      "2016-05-31   183.18\n",
      "2016-06-30   183.82\n",
      "2016-07-31   190.52\n",
      "2016-08-31   190.75\n",
      "2016-09-30   190.76\n",
      "2016-10-31   187.46\n",
      "2016-11-30   194.36\n",
      "2016-12-31   198.30\n",
      "2017-01-31   201.85\n",
      "2017-02-28   209.78\n",
      "2017-03-31   210.04\n",
      "2017-04-30   212.13\n",
      "2017-05-31   215.12\n",
      "2017-06-30   216.49\n",
      "2017-07-31   220.94\n",
      "2017-08-31   221.59\n",
      "2017-09-30   226.05\n",
      "2017-10-31   231.38\n",
      "2017-11-30   238.45\n",
      "2017-12-31   241.34\n",
      "2018-01-31   254.95\n",
      "2018-02-28   245.68\n",
      "2018-03-31   238.94\n",
      "2018-04-30   240.18\n",
      "2018-05-31   246.02\n",
      "2018-06-30   247.43\n",
      "2018-07-31   256.60\n",
      "2018-08-31   264.79\n",
      "2018-09-30   266.36\n",
      "2018-10-31   247.96\n",
      "2018-11-30   252.55\n",
      "2018-12-31   230.32\n",
      "2019-01-31   248.76\n",
      "2019-02-28   256.82\n",
      "2019-03-31   261.47\n",
      "2019-04-30   272.15\n",
      "2019-05-31   254.80\n",
      "2019-06-30   272.53\n",
      "2019-07-31   276.65\n",
      "2019-08-31   272.02\n",
      "2019-09-30   277.31\n",
      "2019-10-31   283.44\n",
      "2019-11-30   293.70\n",
      "2019-12-31   302.23\n",
      "2020-01-31   302.11\n",
      "2020-02-29   278.19\n",
      "2020-03-31   243.45\n",
      "2020-04-30   274.37\n",
      "2020-05-31   287.44\n",
      "2020-06-30   292.54\n",
      "2020-07-31   309.77\n",
      "2020-08-31   331.39\n",
      "2020-09-30   318.98\n",
      "2020-10-31   311.03\n",
      "2020-11-30   344.86\n",
      "2020-12-31   357.64\n",
      "2021-01-31   353.99\n",
      "2021-02-28   363.83\n",
      "2021-03-31   380.35\n",
      "2021-04-30   400.48\n",
      "2021-05-31   403.11\n",
      "2021-06-30   412.15\n",
      "2021-07-31   422.21\n",
      "2021-08-31   434.77\n",
      "2021-09-30   414.51\n",
      "2021-10-31   443.59\n",
      "2021-11-30   440.03\n",
      "2021-12-31   460.38\n",
      "2022-01-31   436.10\n",
      "2022-02-28   423.23\n",
      "2022-03-31   439.14\n",
      "2022-04-30   400.59\n",
      "2022-05-31   401.50\n",
      "2022-06-30   368.39\n",
      "2022-07-31   402.31\n",
      "2022-08-31   385.90\n",
      "2022-09-30   350.22\n",
      "2022-10-31   378.69\n",
      "2022-11-30   399.74\n",
      "2022-12-31   376.70\n",
      "2023-01-31   400.39\n",
      "2023-02-28   390.33\n",
      "2023-03-31   404.80\n",
      "2023-04-30   411.27\n",
      "2023-05-31   413.17\n",
      "2023-06-30   439.94\n",
      "2023-07-31   454.34\n",
      "2023-08-31   446.95\n",
      "2023-09-30   425.75\n",
      "2023-10-31   416.51\n",
      "2023-11-30   454.56\n",
      "2023-12-31   475.31\n",
      "Freq: M, Name: SPY, dtype: float64\n"
     ]
    }
   ],
   "source": [
    "# Resample df on a monthly basis.\n",
    "df.index = pd.to_datetime(df.index)\n",
    "monthly = df.resample('M').ffill()\n",
    "bb.print_full(monthly[symbol])"
   ]
  },
  {
   "cell_type": "code",
   "execution_count": 19,
   "metadata": {},
   "outputs": [
    {
     "data": {
      "text/plain": [
       "Date\n",
       "2015-01-31     NaN\n",
       "2015-02-28    0.06\n",
       "2015-03-31   -0.02\n",
       "2015-04-30    0.01\n",
       "2015-05-31    0.01\n",
       "              ... \n",
       "2023-08-31   -0.02\n",
       "2023-09-30   -0.05\n",
       "2023-10-31   -0.02\n",
       "2023-11-30    0.09\n",
       "2023-12-31    0.05\n",
       "Freq: M, Name: SPY, Length: 108, dtype: float64"
      ]
     },
     "execution_count": 19,
     "metadata": {},
     "output_type": "execute_result"
    }
   ],
   "source": [
    "# Calculate monthly returns.\n",
    "monthly_returns = monthly.pct_change(fill_method=None)\n",
    "monthly_returns['SPY']"
   ]
  },
  {
   "cell_type": "code",
   "execution_count": 20,
   "metadata": {},
   "outputs": [
    {
     "data": {
      "text/plain": [
       "0.17342415070167563"
      ]
     },
     "execution_count": 20,
     "metadata": {},
     "output_type": "execute_result"
    }
   ],
   "source": [
    "# Calculate 3 year annualized standard deviation.\n",
    "std_dev = bb.annualized_standard_deviation(monthly_returns, timeperiod='monthly', years=3)\n",
    "std_dev[symbol]"
   ]
  },
  {
   "cell_type": "code",
   "execution_count": 21,
   "metadata": {},
   "outputs": [
    {
     "data": {
      "text/plain": [
       "['# Description: Asset Class investment options. 09/29/2020',\n",
       " '',\n",
       " '# Format',\n",
       " '\"Investment Option\",\"Asset Class\",\"1 mo\",\"3 mo\",\"1 Yr\",\"3 Yr\",\"5 Yr\",\"Vola\",\"DS Vola\",\"Std Dev\"',\n",
       " '# Note: \"Description\" field is optional']"
      ]
     },
     "execution_count": 21,
     "metadata": {},
     "output_type": "execute_result"
    }
   ],
   "source": [
    "# Read investment-options-header.csv\n",
    "lines = []\n",
    "with open('investment-options-in.csv', 'r') as f:\n",
    "    lines = [line.strip() for line in f]\n",
    "lines"
   ]
  },
  {
   "cell_type": "code",
   "execution_count": 22,
   "metadata": {},
   "outputs": [],
   "source": [
    "# For each symbol, write out the 1 Yr, 3 Yr, 5 Yr, and std dev.\n",
    "out = lines.copy()\n",
    "\n",
    "# This is still slow (2.53 s)\n",
    "for key, value in asset2etf.items():\n",
    "\n",
    "    symbol = value\n",
    "    asset_class = key\n",
    "\n",
    "    ret_1mo = annual_returns_1mo[symbol]\n",
    "    ret_3mo = annual_returns_3mo[symbol]\n",
    "    ret_1yr = annual_returns_1yr[symbol]\n",
    "    ret_3yr = annual_returns_3yr[symbol]\n",
    "    ret_5yr = annual_returns_5yr[symbol]\n",
    "\n",
    "    if np.isnan(ret_3yr): ret_3yr = ret_1yr\n",
    "    if np.isnan(ret_5yr): ret_5yr = ret_3yr\n",
    "    \n",
    "    _vola = vola[symbol]*100\n",
    "    _ds_vola = ds_vola[symbol]*100\n",
    "    sd = std_dev[symbol]*100\n",
    "\n",
    "    out.append(\n",
    "        '\"{}\",\"{}\",\"{:0.2f}\",\"{:0.2f}\",\"{:0.2f}\",\"{:0.2f}\",\"{:0.2f}\",\"{:0.2f}\",\"{:0.2f}\",\"{:0.2f}\"'\n",
    "        .format(asset_class, asset_class,\n",
    "                ret_1mo, ret_3mo, ret_1yr, ret_3yr, ret_5yr, _vola, _ds_vola, sd)) "
   ]
  },
  {
   "cell_type": "code",
   "execution_count": 23,
   "metadata": {},
   "outputs": [],
   "source": [
    "# Write out asset-classes.csv\n",
    "with open('investment-options.csv', 'w') as f:\n",
    "    for line in out:\n",
    "        f.write(line + '\\n')"
   ]
  },
  {
   "cell_type": "code",
   "execution_count": null,
   "metadata": {},
   "outputs": [],
   "source": []
  }
 ],
 "metadata": {
  "kernelspec": {
   "display_name": "Python 3 (ipykernel)",
   "language": "python",
   "name": "python3"
  },
  "language_info": {
   "codemirror_mode": {
    "name": "ipython",
    "version": 3
   },
   "file_extension": ".py",
   "mimetype": "text/x-python",
   "name": "python",
   "nbconvert_exporter": "python",
   "pygments_lexer": "ipython3",
   "version": "3.10.12"
  },
  "latex_envs": {
   "LaTeX_envs_menu_present": true,
   "autoclose": false,
   "autocomplete": true,
   "bibliofile": "biblio.bib",
   "cite_by": "apalike",
   "current_citInitial": 1,
   "eqLabelWithNumbers": true,
   "eqNumInitial": 1,
   "hotkeys": {
    "equation": "Ctrl-E",
    "itemize": "Ctrl-I"
   },
   "labels_anchors": false,
   "latex_user_defs": false,
   "report_style_numbering": false,
   "user_envs_cfg": false
  }
 },
 "nbformat": 4,
 "nbformat_minor": 4
}
