{
 "cells": [
  {
   "cell_type": "markdown",
   "metadata": {},
   "source": [
    "## ASSET CLASSES\n",
    "\n",
    "Use this utlity to update the correlations between asset classes in universe/asset-classes.csv\n",
    "\n",
    "input files:\n",
    "- asset-classes-2-etf.csv: mapping of asset classes to a representative ETF to use for calculating correlations\n",
    "- asset-classes-in.csv: asset pairs for which to calculate correlations\n",
    "- investment-options-in.csv: header for investment-options.csv\n",
    "\n",
    "output files:\n",
    "- symbols-cache/'symbol'.csv: timeseries for each symbol \n",
    "- symbols-timeseries.csv: compiled timeseries for symbols\n",
    "- asset-classes.csv: asset class pairs with correlations\n",
    "- investment-options.csv: you can use asset classes as an investment galaxy"
   ]
  },
  {
   "cell_type": "markdown",
   "metadata": {},
   "source": [
    "Globals"
   ]
  },
  {
   "cell_type": "code",
   "execution_count": 1,
   "metadata": {},
   "outputs": [],
   "source": [
    "# Set refresh_timeseries=True to download timeseries.  Otherwise /symbol-cache is used.\n",
    "refresh_timeseries = True\n",
    "throttle_limit=100\n",
    "wait_time=30"
   ]
  },
  {
   "cell_type": "code",
   "execution_count": 2,
   "metadata": {
    "ExecuteTime": {
     "end_time": "2019-08-05T19:30:28.821735Z",
     "start_time": "2019-08-05T19:30:28.795344Z"
    }
   },
   "outputs": [
    {
     "data": {
      "application/javascript": [
       "IPython.OutputArea.prototype._should_scroll = function(lines) {\n",
       "    return false;\n",
       "}\n"
      ],
      "text/plain": [
       "<IPython.core.display.Javascript object>"
      ]
     },
     "metadata": {},
     "output_type": "display_data"
    }
   ],
   "source": [
    "%%javascript\n",
    "IPython.OutputArea.prototype._should_scroll = function(lines) {\n",
    "    return false;\n",
    "}"
   ]
  },
  {
   "cell_type": "code",
   "execution_count": 3,
   "metadata": {
    "ExecuteTime": {
     "end_time": "2019-08-05T19:30:29.630182Z",
     "start_time": "2019-08-05T19:30:28.824991Z"
    }
   },
   "outputs": [],
   "source": [
    "import matplotlib.pyplot as plt\n",
    "import numpy as np\n",
    "import pandas as pd\n",
    "\n",
    "import brownbear as bb\n",
    "\n",
    "# Format price data.\n",
    "pd.options.display.float_format = '{:0.2f}'.format\n",
    "\n",
    "%matplotlib inline"
   ]
  },
  {
   "cell_type": "code",
   "execution_count": 4,
   "metadata": {},
   "outputs": [],
   "source": [
    "# Set size of inline plots.\n",
    "'''note: rcParams can't be in same cell as import matplotlib\n",
    "   or %matplotlib inline\n",
    "   \n",
    "   %matplotlib notebook: will lead to interactive plots embedded within\n",
    "   the notebook, you can zoom and resize the figure\n",
    "   \n",
    "   %matplotlib inline: only draw static images in the notebook\n",
    "'''\n",
    "plt.rcParams[\"figure.figsize\"] = (10, 7)"
   ]
  },
  {
   "cell_type": "code",
   "execution_count": 5,
   "metadata": {},
   "outputs": [
    {
     "data": {
      "text/plain": [
       "{'US Stocks': 'VTSMX',\n",
       " 'Global Stocks': 'VXUS',\n",
       " 'US Bonds': 'AGG',\n",
       " 'Global Bonds': 'BNDX',\n",
       " 'Cash Equivalents': 'BIL',\n",
       " 'Real Estate': 'VNQ',\n",
       " 'Commodities': 'DBC',\n",
       " 'Currencies': 'UUP',\n",
       " 'Managed Futures': 'CTA',\n",
       " 'Balanced': 'AOM',\n",
       " 'Risk-Free Asset': 'BIL',\n",
       " 'US Stocks:Large Cap': 'SPY',\n",
       " 'US Stocks:Mid Cap': 'MDY',\n",
       " 'US Stocks:Small Cap': 'IWM',\n",
       " 'US Stocks:Growth': 'QQQ',\n",
       " 'US Stocks:Growth and Income': 'VOO',\n",
       " 'US Stocks:Value': 'IWD',\n",
       " 'US Stocks:Total Stock Market': 'VTI',\n",
       " 'US Stocks:Materials': 'XLB',\n",
       " 'US Stocks:Communication Services': 'XLC',\n",
       " 'US Stocks:Energy': 'XLE',\n",
       " 'US Stocks:Financials': 'XLF',\n",
       " 'US Stocks:Industrials': 'XLI',\n",
       " 'US Stocks:Technology': 'XLK',\n",
       " 'US Stocks:Consumer Staples': 'XLP',\n",
       " 'US Stocks:Real Estate': 'XLRE',\n",
       " 'US Stocks:Utilities': 'XLU',\n",
       " 'US Stocks:Healthcare': 'XLV',\n",
       " 'US Stocks:Consumer Discretionary': 'XLY',\n",
       " 'Global Stocks:Asia': 'VPL',\n",
       " 'Global Stocks:Developed Markets': 'EFA',\n",
       " 'Global Stocks:Emerging Markets': 'EEM',\n",
       " 'Global Stocks:Europe': 'IEUR',\n",
       " 'Global Stocks:EX-US': 'VXUS',\n",
       " 'US Bonds:Investment Grade': 'LQD',\n",
       " 'US Bonds:High Yield': 'JNK',\n",
       " 'US Bonds:Preferred Stock': 'PFF',\n",
       " 'US Bonds:Treasury Bills (T-bills)': 'BIL',\n",
       " 'US Bonds:Treasury Notes (T-notes)': 'IEF',\n",
       " 'US Bonds:Treasury Bonds (T-bonds)': 'TLT',\n",
       " 'US Bonds:Treasury Inflation-Protected Securities (TIPS)': 'TIP',\n",
       " 'Global Bonds:Investment Grade Corp': 'IBND',\n",
       " 'Global Bonds:Investment Grade Treasury': 'BWX',\n",
       " 'Global Bonds:Emerging Markets Gov': 'EBND',\n",
       " 'Global Bonds:Short Term Treasury': 'BWZ',\n",
       " 'Cash Equivalents:Money Markets': 'JPST',\n",
       " 'Cash Equivalents:Treasury Bills (T-bills)': 'BIL',\n",
       " 'Real Estate:REIT': 'IYR',\n",
       " 'Real Estate:Real Estate Funds': 'VNQ',\n",
       " 'Commodities:Gold': 'GLD',\n",
       " 'Commodities:Silver': 'SLV',\n",
       " 'Commodities:Cooper': 'CPER',\n",
       " 'Commodities:Platinum': 'PPLT',\n",
       " 'Commodities:Palladium': 'PALL',\n",
       " 'Commodities:Oil': 'USO',\n",
       " 'Commodities:Natural Gas': 'UNG',\n",
       " 'Commodities:Gasoline': 'UGA',\n",
       " 'Commodities:Corn': 'CORN',\n",
       " 'Commodities:Sugar': 'CANE',\n",
       " 'Commodities:Agriculture': 'DBA',\n",
       " 'Commodities:Base Metals': 'DBB',\n",
       " 'Commodities:Energy': 'DBE',\n",
       " 'Commodities:Precious Metals': 'DBP',\n",
       " 'Currencies:US Dollar': 'UUP',\n",
       " 'Currencies:Euro': 'FXE',\n",
       " 'Currencies:Japanese Yen': 'FXY',\n",
       " 'Currencies:Swiss Franc': 'FXF',\n",
       " 'Currencies:Australian Dollar': 'FXA',\n",
       " 'Currencies:Canadian Dollar': 'FXC',\n",
       " 'Currencies:British Pound': 'FXB',\n",
       " 'Currencies:Cryptocurrency': 'BITW',\n",
       " 'Balanced:Conservative Allocation (30/70)': 'AOK',\n",
       " 'Balanced:Moderate Allocation (40/60)': 'AOM',\n",
       " 'Balanced:Growth Allocation (60/40)': 'AOR',\n",
       " 'Balanced:Aggressive Allocation (80/20)': 'AOA'}"
      ]
     },
     "execution_count": 5,
     "metadata": {},
     "output_type": "execute_result"
    }
   ],
   "source": [
    "# asset2etf dict provides a mapping from the asset name to a representative ETF.\n",
    "asset2etf = pd.read_csv('asset-classes-2-etf.csv', skip_blank_lines=True, comment='#')\n",
    "asset2etf = asset2etf.set_index(['Asset Class'])\n",
    "asset2etf = asset2etf['ETF'].to_dict()\n",
    "asset2etf"
   ]
  },
  {
   "cell_type": "code",
   "execution_count": 6,
   "metadata": {},
   "outputs": [],
   "source": [
    "symbols = set(asset2etf.values())"
   ]
  },
  {
   "cell_type": "code",
   "execution_count": 7,
   "metadata": {},
   "outputs": [
    {
     "name": "stdout",
     "output_type": "stream",
     "text": [
      "VTSMX AOK XLP XLF FXF AOA CPER XLY IWM GLD IEUR PALL DBB USO XLB AOM DBE EFA BNDX IYR DBA XLV SLV FXE BITW UUP VPL FXC XLU FXA AGG BWZ JNK AOR TIP LQD CORN MDY CTA EBND EEM FXY JPST SPY CANE BIL IWD QQQ XLC XLE PFF PPLT IBND UGA IEF DBC UNG FXB VNQ TLT BWX VTI XLI VXUS XLK VOO DBP XLRE \n"
     ]
    }
   ],
   "source": [
    "bb.fetch_timeseries(symbols, refresh=refresh_timeseries, throttle_limit=throttle_limit, wait_time=wait_time)\n",
    "bb.compile_timeseries(symbols)"
   ]
  },
  {
   "cell_type": "code",
   "execution_count": 8,
   "metadata": {},
   "outputs": [
    {
     "data": {
      "text/html": [
       "<div>\n",
       "<style scoped>\n",
       "    .dataframe tbody tr th:only-of-type {\n",
       "        vertical-align: middle;\n",
       "    }\n",
       "\n",
       "    .dataframe tbody tr th {\n",
       "        vertical-align: top;\n",
       "    }\n",
       "\n",
       "    .dataframe thead th {\n",
       "        text-align: right;\n",
       "    }\n",
       "</style>\n",
       "<table border=\"1\" class=\"dataframe\">\n",
       "  <thead>\n",
       "    <tr style=\"text-align: right;\">\n",
       "      <th></th>\n",
       "      <th>VTSMX</th>\n",
       "      <th>AOK</th>\n",
       "      <th>XLP</th>\n",
       "      <th>XLF</th>\n",
       "      <th>FXF</th>\n",
       "      <th>AOA</th>\n",
       "      <th>CPER</th>\n",
       "      <th>XLY</th>\n",
       "      <th>IWM</th>\n",
       "      <th>GLD</th>\n",
       "      <th>...</th>\n",
       "      <th>VNQ</th>\n",
       "      <th>TLT</th>\n",
       "      <th>BWX</th>\n",
       "      <th>VTI</th>\n",
       "      <th>XLI</th>\n",
       "      <th>VXUS</th>\n",
       "      <th>XLK</th>\n",
       "      <th>VOO</th>\n",
       "      <th>DBP</th>\n",
       "      <th>XLRE</th>\n",
       "    </tr>\n",
       "    <tr>\n",
       "      <th>Date</th>\n",
       "      <th></th>\n",
       "      <th></th>\n",
       "      <th></th>\n",
       "      <th></th>\n",
       "      <th></th>\n",
       "      <th></th>\n",
       "      <th></th>\n",
       "      <th></th>\n",
       "      <th></th>\n",
       "      <th></th>\n",
       "      <th></th>\n",
       "      <th></th>\n",
       "      <th></th>\n",
       "      <th></th>\n",
       "      <th></th>\n",
       "      <th></th>\n",
       "      <th></th>\n",
       "      <th></th>\n",
       "      <th></th>\n",
       "      <th></th>\n",
       "      <th></th>\n",
       "    </tr>\n",
       "  </thead>\n",
       "  <tbody>\n",
       "    <tr>\n",
       "      <th>2019-01-02</th>\n",
       "      <td>56.90</td>\n",
       "      <td>28.11</td>\n",
       "      <td>43.05</td>\n",
       "      <td>21.33</td>\n",
       "      <td>94.11</td>\n",
       "      <td>42.66</td>\n",
       "      <td>16.28</td>\n",
       "      <td>94.30</td>\n",
       "      <td>124.58</td>\n",
       "      <td>121.33</td>\n",
       "      <td>...</td>\n",
       "      <td>58.32</td>\n",
       "      <td>104.33</td>\n",
       "      <td>25.41</td>\n",
       "      <td>116.14</td>\n",
       "      <td>58.38</td>\n",
       "      <td>39.21</td>\n",
       "      <td>58.50</td>\n",
       "      <td>208.51</td>\n",
       "      <td>32.77</td>\n",
       "      <td>24.81</td>\n",
       "    </tr>\n",
       "    <tr>\n",
       "      <th>2019-01-03</th>\n",
       "      <td>55.57</td>\n",
       "      <td>27.99</td>\n",
       "      <td>42.80</td>\n",
       "      <td>20.85</td>\n",
       "      <td>94.38</td>\n",
       "      <td>42.13</td>\n",
       "      <td>16.10</td>\n",
       "      <td>92.26</td>\n",
       "      <td>122.35</td>\n",
       "      <td>122.43</td>\n",
       "      <td>...</td>\n",
       "      <td>58.73</td>\n",
       "      <td>105.52</td>\n",
       "      <td>25.52</td>\n",
       "      <td>113.45</td>\n",
       "      <td>56.61</td>\n",
       "      <td>38.77</td>\n",
       "      <td>55.55</td>\n",
       "      <td>203.53</td>\n",
       "      <td>33.17</td>\n",
       "      <td>24.93</td>\n",
       "    </tr>\n",
       "    <tr>\n",
       "      <th>2019-01-04</th>\n",
       "      <td>57.49</td>\n",
       "      <td>28.22</td>\n",
       "      <td>43.71</td>\n",
       "      <td>21.55</td>\n",
       "      <td>94.48</td>\n",
       "      <td>43.17</td>\n",
       "      <td>16.52</td>\n",
       "      <td>95.32</td>\n",
       "      <td>126.92</td>\n",
       "      <td>121.44</td>\n",
       "      <td>...</td>\n",
       "      <td>59.42</td>\n",
       "      <td>104.30</td>\n",
       "      <td>25.50</td>\n",
       "      <td>117.21</td>\n",
       "      <td>58.75</td>\n",
       "      <td>40.03</td>\n",
       "      <td>58.01</td>\n",
       "      <td>210.25</td>\n",
       "      <td>32.95</td>\n",
       "      <td>25.18</td>\n",
       "    </tr>\n",
       "    <tr>\n",
       "      <th>2019-01-07</th>\n",
       "      <td>57.99</td>\n",
       "      <td>28.25</td>\n",
       "      <td>43.65</td>\n",
       "      <td>21.57</td>\n",
       "      <td>95.07</td>\n",
       "      <td>43.35</td>\n",
       "      <td>16.45</td>\n",
       "      <td>97.47</td>\n",
       "      <td>129.14</td>\n",
       "      <td>121.86</td>\n",
       "      <td>...</td>\n",
       "      <td>60.00</td>\n",
       "      <td>103.99</td>\n",
       "      <td>25.55</td>\n",
       "      <td>118.39</td>\n",
       "      <td>59.23</td>\n",
       "      <td>40.15</td>\n",
       "      <td>58.53</td>\n",
       "      <td>211.83</td>\n",
       "      <td>33.01</td>\n",
       "      <td>25.39</td>\n",
       "    </tr>\n",
       "    <tr>\n",
       "      <th>2019-01-08</th>\n",
       "      <td>58.60</td>\n",
       "      <td>28.29</td>\n",
       "      <td>44.05</td>\n",
       "      <td>21.59</td>\n",
       "      <td>94.92</td>\n",
       "      <td>43.62</td>\n",
       "      <td>16.57</td>\n",
       "      <td>98.55</td>\n",
       "      <td>131.12</td>\n",
       "      <td>121.53</td>\n",
       "      <td>...</td>\n",
       "      <td>61.24</td>\n",
       "      <td>103.72</td>\n",
       "      <td>25.47</td>\n",
       "      <td>119.61</td>\n",
       "      <td>60.04</td>\n",
       "      <td>40.45</td>\n",
       "      <td>59.02</td>\n",
       "      <td>213.88</td>\n",
       "      <td>32.94</td>\n",
       "      <td>25.84</td>\n",
       "    </tr>\n",
       "    <tr>\n",
       "      <th>...</th>\n",
       "      <td>...</td>\n",
       "      <td>...</td>\n",
       "      <td>...</td>\n",
       "      <td>...</td>\n",
       "      <td>...</td>\n",
       "      <td>...</td>\n",
       "      <td>...</td>\n",
       "      <td>...</td>\n",
       "      <td>...</td>\n",
       "      <td>...</td>\n",
       "      <td>...</td>\n",
       "      <td>...</td>\n",
       "      <td>...</td>\n",
       "      <td>...</td>\n",
       "      <td>...</td>\n",
       "      <td>...</td>\n",
       "      <td>...</td>\n",
       "      <td>...</td>\n",
       "      <td>...</td>\n",
       "      <td>...</td>\n",
       "      <td>...</td>\n",
       "    </tr>\n",
       "    <tr>\n",
       "      <th>2025-03-10</th>\n",
       "      <td>134.10</td>\n",
       "      <td>37.61</td>\n",
       "      <td>82.68</td>\n",
       "      <td>48.02</td>\n",
       "      <td>100.80</td>\n",
       "      <td>76.41</td>\n",
       "      <td>29.08</td>\n",
       "      <td>198.33</td>\n",
       "      <td>200.77</td>\n",
       "      <td>266.04</td>\n",
       "      <td>...</td>\n",
       "      <td>91.53</td>\n",
       "      <td>91.05</td>\n",
       "      <td>21.90</td>\n",
       "      <td>275.62</td>\n",
       "      <td>132.15</td>\n",
       "      <td>62.43</td>\n",
       "      <td>209.25</td>\n",
       "      <td>515.51</td>\n",
       "      <td>66.21</td>\n",
       "      <td>42.06</td>\n",
       "    </tr>\n",
       "    <tr>\n",
       "      <th>2025-03-11</th>\n",
       "      <td>133.24</td>\n",
       "      <td>37.45</td>\n",
       "      <td>81.47</td>\n",
       "      <td>47.61</td>\n",
       "      <td>100.66</td>\n",
       "      <td>76.14</td>\n",
       "      <td>29.90</td>\n",
       "      <td>196.39</td>\n",
       "      <td>200.75</td>\n",
       "      <td>269.16</td>\n",
       "      <td>...</td>\n",
       "      <td>90.46</td>\n",
       "      <td>90.40</td>\n",
       "      <td>21.94</td>\n",
       "      <td>273.69</td>\n",
       "      <td>130.12</td>\n",
       "      <td>62.38</td>\n",
       "      <td>208.40</td>\n",
       "      <td>511.28</td>\n",
       "      <td>67.12</td>\n",
       "      <td>41.62</td>\n",
       "    </tr>\n",
       "    <tr>\n",
       "      <th>2025-03-12</th>\n",
       "      <td>133.87</td>\n",
       "      <td>37.39</td>\n",
       "      <td>79.70</td>\n",
       "      <td>47.68</td>\n",
       "      <td>100.68</td>\n",
       "      <td>76.44</td>\n",
       "      <td>30.22</td>\n",
       "      <td>197.53</td>\n",
       "      <td>201.10</td>\n",
       "      <td>270.33</td>\n",
       "      <td>...</td>\n",
       "      <td>90.18</td>\n",
       "      <td>89.86</td>\n",
       "      <td>21.91</td>\n",
       "      <td>275.04</td>\n",
       "      <td>130.11</td>\n",
       "      <td>62.81</td>\n",
       "      <td>211.68</td>\n",
       "      <td>513.76</td>\n",
       "      <td>67.62</td>\n",
       "      <td>41.47</td>\n",
       "    </tr>\n",
       "    <tr>\n",
       "      <th>2025-03-13</th>\n",
       "      <td>131.91</td>\n",
       "      <td>37.36</td>\n",
       "      <td>79.33</td>\n",
       "      <td>47.42</td>\n",
       "      <td>100.56</td>\n",
       "      <td>75.72</td>\n",
       "      <td>30.78</td>\n",
       "      <td>192.60</td>\n",
       "      <td>198.10</td>\n",
       "      <td>275.13</td>\n",
       "      <td>...</td>\n",
       "      <td>88.40</td>\n",
       "      <td>90.65</td>\n",
       "      <td>21.91</td>\n",
       "      <td>271.18</td>\n",
       "      <td>128.78</td>\n",
       "      <td>62.43</td>\n",
       "      <td>207.66</td>\n",
       "      <td>507.05</td>\n",
       "      <td>68.85</td>\n",
       "      <td>40.66</td>\n",
       "    </tr>\n",
       "    <tr>\n",
       "      <th>2025-03-14</th>\n",
       "      <td>134.83</td>\n",
       "      <td>37.63</td>\n",
       "      <td>79.51</td>\n",
       "      <td>48.52</td>\n",
       "      <td>100.36</td>\n",
       "      <td>76.98</td>\n",
       "      <td>30.46</td>\n",
       "      <td>196.70</td>\n",
       "      <td>202.89</td>\n",
       "      <td>275.24</td>\n",
       "      <td>...</td>\n",
       "      <td>90.17</td>\n",
       "      <td>90.17</td>\n",
       "      <td>21.91</td>\n",
       "      <td>276.99</td>\n",
       "      <td>131.13</td>\n",
       "      <td>63.54</td>\n",
       "      <td>213.94</td>\n",
       "      <td>517.46</td>\n",
       "      <td>68.73</td>\n",
       "      <td>41.45</td>\n",
       "    </tr>\n",
       "  </tbody>\n",
       "</table>\n",
       "<p>1559 rows × 68 columns</p>\n",
       "</div>"
      ],
      "text/plain": [
       "            VTSMX   AOK   XLP   XLF    FXF   AOA  CPER    XLY    IWM    GLD  \\\n",
       "Date                                                                          \n",
       "2019-01-02  56.90 28.11 43.05 21.33  94.11 42.66 16.28  94.30 124.58 121.33   \n",
       "2019-01-03  55.57 27.99 42.80 20.85  94.38 42.13 16.10  92.26 122.35 122.43   \n",
       "2019-01-04  57.49 28.22 43.71 21.55  94.48 43.17 16.52  95.32 126.92 121.44   \n",
       "2019-01-07  57.99 28.25 43.65 21.57  95.07 43.35 16.45  97.47 129.14 121.86   \n",
       "2019-01-08  58.60 28.29 44.05 21.59  94.92 43.62 16.57  98.55 131.12 121.53   \n",
       "...           ...   ...   ...   ...    ...   ...   ...    ...    ...    ...   \n",
       "2025-03-10 134.10 37.61 82.68 48.02 100.80 76.41 29.08 198.33 200.77 266.04   \n",
       "2025-03-11 133.24 37.45 81.47 47.61 100.66 76.14 29.90 196.39 200.75 269.16   \n",
       "2025-03-12 133.87 37.39 79.70 47.68 100.68 76.44 30.22 197.53 201.10 270.33   \n",
       "2025-03-13 131.91 37.36 79.33 47.42 100.56 75.72 30.78 192.60 198.10 275.13   \n",
       "2025-03-14 134.83 37.63 79.51 48.52 100.36 76.98 30.46 196.70 202.89 275.24   \n",
       "\n",
       "            ...   VNQ    TLT   BWX    VTI    XLI  VXUS    XLK    VOO   DBP  \\\n",
       "Date        ...                                                              \n",
       "2019-01-02  ... 58.32 104.33 25.41 116.14  58.38 39.21  58.50 208.51 32.77   \n",
       "2019-01-03  ... 58.73 105.52 25.52 113.45  56.61 38.77  55.55 203.53 33.17   \n",
       "2019-01-04  ... 59.42 104.30 25.50 117.21  58.75 40.03  58.01 210.25 32.95   \n",
       "2019-01-07  ... 60.00 103.99 25.55 118.39  59.23 40.15  58.53 211.83 33.01   \n",
       "2019-01-08  ... 61.24 103.72 25.47 119.61  60.04 40.45  59.02 213.88 32.94   \n",
       "...         ...   ...    ...   ...    ...    ...   ...    ...    ...   ...   \n",
       "2025-03-10  ... 91.53  91.05 21.90 275.62 132.15 62.43 209.25 515.51 66.21   \n",
       "2025-03-11  ... 90.46  90.40 21.94 273.69 130.12 62.38 208.40 511.28 67.12   \n",
       "2025-03-12  ... 90.18  89.86 21.91 275.04 130.11 62.81 211.68 513.76 67.62   \n",
       "2025-03-13  ... 88.40  90.65 21.91 271.18 128.78 62.43 207.66 507.05 68.85   \n",
       "2025-03-14  ... 90.17  90.17 21.91 276.99 131.13 63.54 213.94 517.46 68.73   \n",
       "\n",
       "            XLRE  \n",
       "Date              \n",
       "2019-01-02 24.81  \n",
       "2019-01-03 24.93  \n",
       "2019-01-04 25.18  \n",
       "2019-01-07 25.39  \n",
       "2019-01-08 25.84  \n",
       "...          ...  \n",
       "2025-03-10 42.06  \n",
       "2025-03-11 41.62  \n",
       "2025-03-12 41.47  \n",
       "2025-03-13 40.66  \n",
       "2025-03-14 41.45  \n",
       "\n",
       "[1559 rows x 68 columns]"
      ]
     },
     "execution_count": 8,
     "metadata": {},
     "output_type": "execute_result"
    }
   ],
   "source": [
    "df = pd.read_csv('symbols-timeseries.csv', skip_blank_lines=True, comment='#')\n",
    "df.set_index(\"Date\", inplace=True)\n",
    "df"
   ]
  },
  {
   "cell_type": "code",
   "execution_count": 9,
   "metadata": {},
   "outputs": [
    {
     "data": {
      "text/plain": [
       "np.float64(0.700903598011685)"
      ]
     },
     "execution_count": 9,
     "metadata": {},
     "output_type": "execute_result"
    },
    {
     "data": {
      "image/png": "[encoded data removed]",
      "text/plain": [
       "<Figure size 1600x1200 with 2 Axes>"
      ]
     },
     "metadata": {},
     "output_type": "display_data"
    }
   ],
   "source": [
    "corr_map = bb.correlation_map(df, method='log', days=bb.TRADING_DAYS_PER_YEAR)\n",
    "# Sample correlation value.\n",
    "corr_map['SPY']['VXUS']"
   ]
  },
  {
   "cell_type": "code",
   "execution_count": 10,
   "metadata": {},
   "outputs": [],
   "source": [
    "# Read asset-classes-in.csv\n",
    "lines = []\n",
    "with open('asset-classes-in.csv', 'r') as f:\n",
    "    lines = [line.strip() for line in f]\n",
    "#lines"
   ]
  },
  {
   "cell_type": "code",
   "execution_count": 11,
   "metadata": {
    "scrolled": true
   },
   "outputs": [],
   "source": [
    "# Calculate the pair correlations between the assets and write the resuls to a list.\n",
    "out = []\n",
    "for line in lines:\n",
    "    # Copy empty and comment lines.\n",
    "    if not line or line.startswith('#'):\n",
    "        out.append(line)\n",
    "        continue\n",
    "    # Split line by comma delimiter; strip the fields.\n",
    "    fields = line.split(',')\n",
    "    fields = [field.strip() for field in fields]\n",
    "    assetA = fields[0].strip('\\\"')\n",
    "    assetB = fields[1].strip('\\\"')\n",
    "    # copy same asset lines and header\n",
    "    if assetA == assetB or assetA == 'Asset Class A':\n",
    "        out.append(line)\n",
    "        continue\n",
    "    # Use asset2etf to get a representative ETF for the asset,\n",
    "    # then calculate the correlation.  The ETF pair correlation is\n",
    "    # a proxy for the correlation of an asset pair.\n",
    "    etfA = asset2etf[assetA]\n",
    "    etfB = asset2etf[assetB]\n",
    "    corrAB = corr_map.loc[etfA, etfB]\n",
    "    out.append(f'\"{assetA}\",\"{assetB}\",\"{corrAB:0.2f}\"')   "
   ]
  },
  {
   "cell_type": "code",
   "execution_count": 12,
   "metadata": {},
   "outputs": [],
   "source": [
    "# Write out asset-classes.csv\n",
    "with open('asset-classes.csv', 'w') as f:\n",
    "    for line in out:\n",
    "        f.write(line + '\\n')"
   ]
  },
  {
   "cell_type": "code",
   "execution_count": 13,
   "metadata": {},
   "outputs": [],
   "source": [
    "# Sample symbol.\n",
    "symbol = 'SPY'"
   ]
  },
  {
   "cell_type": "code",
   "execution_count": 14,
   "metadata": {},
   "outputs": [
    {
     "data": {
      "text/plain": [
       "np.float64(10.304058469143262)"
      ]
     },
     "execution_count": 14,
     "metadata": {},
     "output_type": "execute_result"
    }
   ],
   "source": [
    "annual_returns = bb.annualized_returns(df, timeperiod='daily', years=1)\n",
    "annual_returns[symbol]"
   ]
  },
  {
   "cell_type": "code",
   "execution_count": 15,
   "metadata": {},
   "outputs": [],
   "source": [
    "# Calculate 1 month, 3 months, 1 year, 3 year, and 5 year annualized returns.\n",
    "annual_returns_1mo = bb.annualized_returns(df, timeperiod='daily', years=1/12)\n",
    "annual_returns_3mo = bb.annualized_returns(df, timeperiod='daily', years=3/12)\n",
    "annual_returns_1yr = bb.annualized_returns(df, timeperiod='daily', years=1)\n",
    "annual_returns_3yr = bb.annualized_returns(df, timeperiod='daily', years=3)\n",
    "annual_returns_5yr = bb.annualized_returns(df, timeperiod='daily', years=5)"
   ]
  },
  {
   "cell_type": "code",
   "execution_count": 16,
   "metadata": {},
   "outputs": [
    {
     "data": {
      "text/plain": [
       "np.float64(0.1905050903169383)"
      ]
     },
     "execution_count": 16,
     "metadata": {},
     "output_type": "execute_result"
    }
   ],
   "source": [
    "# Calculate 20 day annualized volatility.\n",
    "daily_returns = df.pct_change(fill_method=None)\n",
    "years = bb.TRADING_DAYS_PER_MONTH / bb.TRADING_DAYS_PER_YEAR\n",
    "vola = bb.annualized_standard_deviation(daily_returns, timeperiod='daily', years=years)\n",
    "vola[symbol]"
   ]
  },
  {
   "cell_type": "code",
   "execution_count": 17,
   "metadata": {},
   "outputs": [
    {
     "data": {
      "text/plain": [
       "np.float64(0.12885085078441355)"
      ]
     },
     "execution_count": 17,
     "metadata": {},
     "output_type": "execute_result"
    }
   ],
   "source": [
    "# Calculate 20 day annualized downside volatility.\n",
    "ds_vola = bb.annualized_standard_deviation(daily_returns, timeperiod='daily', years=years, downside=True)\n",
    "ds_vola[symbol]"
   ]
  },
  {
   "cell_type": "code",
   "execution_count": 18,
   "metadata": {},
   "outputs": [
    {
     "name": "stdout",
     "output_type": "stream",
     "text": [
      "Date\n",
      "2019-01-31   245.61\n",
      "2019-02-28   253.57\n",
      "2019-03-31   258.16\n",
      "2019-04-30   268.71\n",
      "2019-05-31   251.57\n",
      "2019-06-30   269.08\n",
      "2019-07-31   273.14\n",
      "2019-08-31   268.57\n",
      "2019-09-30   273.80\n",
      "2019-10-31   279.85\n",
      "2019-11-30   289.98\n",
      "2019-12-31   298.40\n",
      "2020-01-31   298.28\n",
      "2020-02-29   274.67\n",
      "2020-03-31   240.37\n",
      "2020-04-30   270.89\n",
      "2020-05-31   283.80\n",
      "2020-06-30   288.83\n",
      "2020-07-31   305.84\n",
      "2020-08-31   327.19\n",
      "2020-09-30   314.94\n",
      "2020-10-31   307.09\n",
      "2020-11-30   340.49\n",
      "2020-12-31   353.11\n",
      "2021-01-31   349.51\n",
      "2021-02-28   359.23\n",
      "2021-03-31   375.54\n",
      "2021-04-30   395.40\n",
      "2021-05-31   398.00\n",
      "2021-06-30   406.93\n",
      "2021-07-31   416.86\n",
      "2021-08-31   429.27\n",
      "2021-09-30   409.26\n",
      "2021-10-31   437.98\n",
      "2021-11-30   434.46\n",
      "2021-12-31   454.55\n",
      "2022-01-31   430.58\n",
      "2022-02-28   417.87\n",
      "2022-03-31   433.57\n",
      "2022-04-30   395.52\n",
      "2022-05-31   396.41\n",
      "2022-06-30   363.72\n",
      "2022-07-31   397.22\n",
      "2022-08-31   381.01\n",
      "2022-09-30   345.79\n",
      "2022-10-31   373.89\n",
      "2022-11-30   394.68\n",
      "2022-12-31   371.93\n",
      "2023-01-31   395.32\n",
      "2023-02-28   385.38\n",
      "2023-03-31   399.67\n",
      "2023-04-30   406.06\n",
      "2023-05-31   407.93\n",
      "2023-06-30   434.37\n",
      "2023-07-31   448.58\n",
      "2023-08-31   441.29\n",
      "2023-09-30   420.36\n",
      "2023-10-31   411.24\n",
      "2023-11-30   448.80\n",
      "2023-12-31   469.29\n",
      "2024-01-31   476.76\n",
      "2024-02-29   501.65\n",
      "2024-03-31   518.05\n",
      "2024-04-30   497.16\n",
      "2024-05-31   522.31\n",
      "2024-06-30   540.74\n",
      "2024-07-31   547.28\n",
      "2024-08-31   560.07\n",
      "2024-09-30   571.84\n",
      "2024-10-31   566.73\n",
      "2024-11-30   600.53\n",
      "2024-12-31   586.08\n",
      "2025-01-31   601.82\n",
      "2025-02-28   594.18\n",
      "2025-03-31   562.81\n",
      "Freq: ME, Name: SPY, dtype: float64\n"
     ]
    }
   ],
   "source": [
    "# Resample df on a monthly basis.\n",
    "df.index = pd.to_datetime(df.index)\n",
    "monthly = df.resample('ME').ffill()\n",
    "bb.print_full(monthly[symbol])"
   ]
  },
  {
   "cell_type": "code",
   "execution_count": 19,
   "metadata": {},
   "outputs": [
    {
     "data": {
      "text/plain": [
       "Date\n",
       "2019-01-31     NaN\n",
       "2019-02-28    0.03\n",
       "2019-03-31    0.02\n",
       "2019-04-30    0.04\n",
       "2019-05-31   -0.06\n",
       "              ... \n",
       "2024-11-30    0.06\n",
       "2024-12-31   -0.02\n",
       "2025-01-31    0.03\n",
       "2025-02-28   -0.01\n",
       "2025-03-31   -0.05\n",
       "Freq: ME, Name: SPY, Length: 75, dtype: float64"
      ]
     },
     "execution_count": 19,
     "metadata": {},
     "output_type": "execute_result"
    }
   ],
   "source": [
    "# Calculate monthly returns.\n",
    "monthly_returns = monthly.pct_change(fill_method=None)\n",
    "monthly_returns[symbol]"
   ]
  },
  {
   "cell_type": "code",
   "execution_count": 20,
   "metadata": {},
   "outputs": [
    {
     "data": {
      "text/plain": [
       "np.float64(0.17033255059726563)"
      ]
     },
     "execution_count": 20,
     "metadata": {},
     "output_type": "execute_result"
    }
   ],
   "source": [
    "# Calculate 1 year, 3 year, and 5 year annualized standard deviation.\n",
    "std_dev_1yr = bb.annualized_standard_deviation(monthly_returns, timeperiod='monthly', years=1)\n",
    "std_dev_3yr = bb.annualized_standard_deviation(monthly_returns, timeperiod='monthly', years=3)\n",
    "std_dev_5yr = bb.annualized_standard_deviation(monthly_returns, timeperiod='monthly', years=5)\n",
    "std_dev_3yr[symbol]"
   ]
  },
  {
   "cell_type": "code",
   "execution_count": 21,
   "metadata": {},
   "outputs": [],
   "source": [
    "# Read investment-options-header.csv\n",
    "lines = []\n",
    "with open('investment-options-in.csv', 'r') as f:\n",
    "    lines = [line.strip() for line in f]\n",
    "# lines"
   ]
  },
  {
   "cell_type": "code",
   "execution_count": 22,
   "metadata": {},
   "outputs": [],
   "source": [
    "# For each symbol, output the performance metrics \n",
    "out = lines.copy()\n",
    "\n",
    "# This is still slow (2.53 s)\n",
    "for key, value in asset2etf.items():\n",
    "\n",
    "    symbol = value\n",
    "    asset_class = key\n",
    "\n",
    "    ret_1mo = annual_returns_1mo[symbol]\n",
    "    ret_3mo = annual_returns_3mo[symbol]\n",
    "    ret_1yr = annual_returns_1yr[symbol]\n",
    "    ret_3yr = annual_returns_3yr[symbol]\n",
    "    ret_5yr = annual_returns_5yr[symbol]\n",
    "\n",
    "    if np.isnan(ret_3yr): ret_3yr = ret_1yr\n",
    "    if np.isnan(ret_5yr): ret_5yr = ret_3yr\n",
    "    \n",
    "    _vola = vola[symbol]*100\n",
    "    _ds_vola = ds_vola[symbol]*100\n",
    "    sd_1yr = std_dev_1yr[symbol]*100\n",
    "    sd_3yr = std_dev_3yr[symbol]*100\n",
    "    sd_5yr = std_dev_5yr[symbol]*100\n",
    "\n",
    "    out.append((\n",
    "        '\"{}\",\"{}\",\"{}\",\"{:0.2f}\",\"{:0.2f}\",\"{:0.2f}\",\"{:0.2f}\",'\n",
    "        '\"{:0.2f}\",\"{:0.2f}\",\"{:0.2f}\",\"{:0.2f}\",\"{:0.2f}\",\"{:0.2f}\"'\n",
    "    ).format(\n",
    "        asset_class, asset_class, asset_class, ret_1mo, ret_3mo, ret_1yr, ret_3yr,\n",
    "        ret_5yr, _vola, _ds_vola, sd_1yr, sd_3yr, sd_5yr\n",
    "    ))"
   ]
  },
  {
   "cell_type": "code",
   "execution_count": 23,
   "metadata": {},
   "outputs": [],
   "source": [
    "# Write out asset-classes.csv\n",
    "with open('investment-options.csv', 'w') as f:\n",
    "    for line in out:\n",
    "        f.write(line + '\\n')"
   ]
  },
  {
   "cell_type": "code",
   "execution_count": null,
   "metadata": {},
   "outputs": [],
   "source": []
  }
 ],
 "metadata": {
  "kernelspec": {
   "display_name": "Python 3 (ipykernel)",
   "language": "python",
   "name": "python3"
  },
  "language_info": {
   "codemirror_mode": {
    "name": "ipython",
    "version": 3
   },
   "file_extension": ".py",
   "mimetype": "text/x-python",
   "name": "python",
   "nbconvert_exporter": "python",
   "pygments_lexer": "ipython3",
   "version": "3.10.12"
  },
  "latex_envs": {
   "LaTeX_envs_menu_present": true,
   "autoclose": false,
   "autocomplete": true,
   "bibliofile": "biblio.bib",
   "cite_by": "apalike",
   "current_citInitial": 1,
   "eqLabelWithNumbers": true,
   "eqNumInitial": 1,
   "hotkeys": {
    "equation": "Ctrl-E",
    "itemize": "Ctrl-I"
   },
   "labels_anchors": false,
   "latex_user_defs": false,
   "report_style_numbering": false,
   "user_envs_cfg": false
  }
 },
 "nbformat": 4,
 "nbformat_minor": 4
}
