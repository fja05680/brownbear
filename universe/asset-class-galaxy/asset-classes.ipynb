{
 "cells": [
  {
   "cell_type": "markdown",
   "metadata": {},
   "source": [
    "Use this utlity to update the correlations between asset classes in universe/asset-prices.csv\n",
    "\n",
    "input files:\n",
    "- asset-classes-2-etf.csv: mapping of asset classes to a representative ETF to use for calculating correlations\n",
    "- asset-classes-in.csv: asset pairs for which to calculate correlations\n",
    "\n",
    "output files:\n",
    "- symbols-cache/'symbol'.csv: timeseries for each symbol \n",
    "- symbols-timeseries.csv: compiled timeseries for symbols\n",
    "- asset-classes.csv: asset class pairs with correlations"
   ]
  },
  {
   "cell_type": "code",
   "execution_count": 1,
   "metadata": {
    "ExecuteTime": {
     "end_time": "2019-08-05T19:30:28.821735Z",
     "start_time": "2019-08-05T19:30:28.795344Z"
    }
   },
   "outputs": [
    {
     "data": {
      "application/javascript": [
       "IPython.OutputArea.prototype._should_scroll = function(lines) {\n",
       "    return false;\n",
       "}\n"
      ],
      "text/plain": [
       "<IPython.core.display.Javascript object>"
      ]
     },
     "metadata": {},
     "output_type": "display_data"
    }
   ],
   "source": [
    "%%javascript\n",
    "IPython.OutputArea.prototype._should_scroll = function(lines) {\n",
    "    return false;\n",
    "}"
   ]
  },
  {
   "cell_type": "code",
   "execution_count": 2,
   "metadata": {
    "ExecuteTime": {
     "end_time": "2019-08-05T19:30:29.630182Z",
     "start_time": "2019-08-05T19:30:28.824991Z"
    }
   },
   "outputs": [],
   "source": [
    "import matplotlib.pyplot as plt\n",
    "import numpy as np\n",
    "import pandas as pd\n",
    "\n",
    "import brownbear as bb\n",
    "\n",
    "# Format price data.\n",
    "pd.options.display.float_format = '{:0.2f}'.format\n",
    "\n",
    "%matplotlib inline"
   ]
  },
  {
   "cell_type": "code",
   "execution_count": 3,
   "metadata": {},
   "outputs": [],
   "source": [
    "# Set size of inline plots.\n",
    "'''note: rcParams can't be in same cell as import matplotlib\n",
    "   or %matplotlib inline\n",
    "   \n",
    "   %matplotlib notebook: will lead to interactive plots embedded within\n",
    "   the notebook, you can zoom and resize the figure\n",
    "   \n",
    "   %matplotlib inline: only draw static images in the notebook\n",
    "'''\n",
    "plt.rcParams[\"figure.figsize\"] = (10, 7)"
   ]
  },
  {
   "cell_type": "markdown",
   "metadata": {},
   "source": [
    "Globals"
   ]
  },
  {
   "cell_type": "code",
   "execution_count": 4,
   "metadata": {},
   "outputs": [],
   "source": [
    "# Set refresh_timeseries=True to download timeseries.  Otherwise /symbol-cache is used.\n",
    "refresh_timeseries = True"
   ]
  },
  {
   "cell_type": "code",
   "execution_count": 5,
   "metadata": {},
   "outputs": [
    {
     "data": {
      "text/plain": [
       "{'US Stocks': 'VTSMX',\n",
       " 'Global Stocks': 'VXUS',\n",
       " 'US Bonds': 'AGG',\n",
       " 'Global Bonds': 'BNDX',\n",
       " 'Cash Equivalents': 'BIL',\n",
       " 'Real Estate': 'VNQ',\n",
       " 'Commodities': 'DBC',\n",
       " 'Currencies': 'UUP',\n",
       " 'Managed Futures': 'CTA',\n",
       " 'Balanced': 'AOM',\n",
       " 'Risk-Free Asset': 'BIL',\n",
       " 'US Stocks:Large Cap': 'SPY',\n",
       " 'US Stocks:Mid Cap': 'MDY',\n",
       " 'US Stocks:Small Cap': 'IWM',\n",
       " 'US Stocks:Growth': 'QQQ',\n",
       " 'US Stocks:Growth and Income': 'VOO',\n",
       " 'US Stocks:Value': 'IWD',\n",
       " 'US Stocks:Total Stock Market': 'VTI',\n",
       " 'US Stocks:Materials': 'XLB',\n",
       " 'US Stocks:Communication Services': 'XLC',\n",
       " 'US Stocks:Energy': 'XLE',\n",
       " 'US Stocks:Financials': 'XLF',\n",
       " 'US Stocks:Industrials': 'XLI',\n",
       " 'US Stocks:Technology': 'XLK',\n",
       " 'US Stocks:Consumer Staples': 'XLP',\n",
       " 'US Stocks:Real Estate': 'XLRE',\n",
       " 'US Stocks:Utilities': 'XLU',\n",
       " 'US Stocks:Healthcare': 'XLV',\n",
       " 'US Stocks:Consumer Discretionary': 'XLY',\n",
       " 'Global Stocks:Asia': 'VPL',\n",
       " 'Global Stocks:Developed Markets': 'EFA',\n",
       " 'Global Stocks:Emerging Markets': 'EEM',\n",
       " 'Global Stocks:Europe': 'IEUR',\n",
       " 'Global Stocks:EX-US': 'VXUS',\n",
       " 'US Bonds:Investment Grade': 'LQD',\n",
       " 'US Bonds:High Yield': 'JNK',\n",
       " 'US Bonds:Preferred Stock': 'PFF',\n",
       " 'US Bonds:Treasury Bills (T-bills)': 'BIL',\n",
       " 'US Bonds:Treasury Notes (T-notes)': 'IEI',\n",
       " 'US Bonds:Treasury Bonds (T-bonds)': 'TLT',\n",
       " 'US Bonds:Treasury Inflation-Protected Securities (TIPS)': 'TIP',\n",
       " 'Global Bonds:Investment Grade Corp': 'IBND',\n",
       " 'Global Bonds:Investment Grade Treasury': 'BWX',\n",
       " 'Global Bonds:Emerging Markets Gov': 'EBND',\n",
       " 'Global Bonds:Short Term Treasury': 'BWZ',\n",
       " 'Cash Equivalents:Money Markets': 'JPST',\n",
       " 'Cash Equivalents:Treasury Bills (T-bills)': 'BIL',\n",
       " 'Real Estate:REIT': 'IYR',\n",
       " 'Real Estate:Real Estate Funds': 'VNQ',\n",
       " 'Commodities:Gold': 'GLD',\n",
       " 'Commodities:Silver': 'SLV',\n",
       " 'Commodities:Cooper': 'CPER',\n",
       " 'Commodities:Platinum': 'PPLT',\n",
       " 'Commodities:Palladium': 'PALL',\n",
       " 'Commodities:Oil': 'USO',\n",
       " 'Commodities:Natural Gas': 'UNG',\n",
       " 'Commodities:Gasoline': 'UGA',\n",
       " 'Commodities:Corn': 'CORN',\n",
       " 'Commodities:Sugar': 'CANE',\n",
       " 'Commodities:Agriculture': 'DBA',\n",
       " 'Commodities:Base Metals': 'DBB',\n",
       " 'Commodities:Energy': 'DBE',\n",
       " 'Commodities:Precious Metals': 'DBP',\n",
       " 'Currencies:US Dollar': 'UUP',\n",
       " 'Currencies:Euro': 'FXE',\n",
       " 'Currencies:Japanese Yen': 'FXY',\n",
       " 'Currencies:Swiss Franc': 'FXF',\n",
       " 'Currencies:Australian Dollar': 'FXA',\n",
       " 'Currencies:Canadian Dollar': 'FXC',\n",
       " 'Currencies:British Pound': 'FXB',\n",
       " 'Currencies:Cryptocurrency': 'BITW',\n",
       " 'Balanced:Conservative Allocation (30/70)': 'AOK',\n",
       " 'Balanced:Moderate Allocation (40/60)': 'AOM',\n",
       " 'Balanced:Growth Allocation (60/40)': 'AOR',\n",
       " 'Balanced:Aggressive Allocation (80/20)': 'AOA'}"
      ]
     },
     "execution_count": 5,
     "metadata": {},
     "output_type": "execute_result"
    }
   ],
   "source": [
    "# asset2etf dict provides a mapping from the asset name to a representative ETF.\n",
    "asset2etf = pd.read_csv('asset-classes-2-etf.csv', skip_blank_lines=True, comment='#')\n",
    "asset2etf = asset2etf.set_index(['Asset Class'])\n",
    "asset2etf = asset2etf['ETF'].to_dict()\n",
    "asset2etf"
   ]
  },
  {
   "cell_type": "code",
   "execution_count": 6,
   "metadata": {},
   "outputs": [],
   "source": [
    "symbols = set(asset2etf.values())"
   ]
  },
  {
   "cell_type": "code",
   "execution_count": 7,
   "metadata": {},
   "outputs": [
    {
     "name": "stdout",
     "output_type": "stream",
     "text": [
      "UUP IEI GLD DBC SPY XLY TIP CPER AOR EEM PALL CANE VNQ JPST FXC UGA XLE VPL TLT IWM CORN XLI DBA FXY EBND CTA FXE FXA BWX XLK EFA SLV VXUS LQD VOO USO JNK QQQ BWZ AOA FXB BNDX XLRE XLV IYR DBP VTSMX UNG IWD XLP PPLT XLF VTI PFF IBND DBE XLB XLU IEUR AOK BITW BIL AGG MDY XLC DBB AOM FXF \n"
     ]
    }
   ],
   "source": [
    "bb.fetch_timeseries(symbols, refresh=refresh_timeseries)\n",
    "bb.compile_timeseries(symbols)"
   ]
  },
  {
   "cell_type": "code",
   "execution_count": 8,
   "metadata": {},
   "outputs": [
    {
     "data": {
      "text/html": [
       "<div>\n",
       "<style scoped>\n",
       "    .dataframe tbody tr th:only-of-type {\n",
       "        vertical-align: middle;\n",
       "    }\n",
       "\n",
       "    .dataframe tbody tr th {\n",
       "        vertical-align: top;\n",
       "    }\n",
       "\n",
       "    .dataframe thead th {\n",
       "        text-align: right;\n",
       "    }\n",
       "</style>\n",
       "<table border=\"1\" class=\"dataframe\">\n",
       "  <thead>\n",
       "    <tr style=\"text-align: right;\">\n",
       "      <th></th>\n",
       "      <th>UUP</th>\n",
       "      <th>IEI</th>\n",
       "      <th>GLD</th>\n",
       "      <th>DBC</th>\n",
       "      <th>SPY</th>\n",
       "      <th>XLY</th>\n",
       "      <th>TIP</th>\n",
       "      <th>CPER</th>\n",
       "      <th>AOR</th>\n",
       "      <th>EEM</th>\n",
       "      <th>...</th>\n",
       "      <th>IEUR</th>\n",
       "      <th>AOK</th>\n",
       "      <th>BITW</th>\n",
       "      <th>BIL</th>\n",
       "      <th>AGG</th>\n",
       "      <th>MDY</th>\n",
       "      <th>XLC</th>\n",
       "      <th>DBB</th>\n",
       "      <th>AOM</th>\n",
       "      <th>FXF</th>\n",
       "    </tr>\n",
       "    <tr>\n",
       "      <th>Date</th>\n",
       "      <th></th>\n",
       "      <th></th>\n",
       "      <th></th>\n",
       "      <th></th>\n",
       "      <th></th>\n",
       "      <th></th>\n",
       "      <th></th>\n",
       "      <th></th>\n",
       "      <th></th>\n",
       "      <th></th>\n",
       "      <th></th>\n",
       "      <th></th>\n",
       "      <th></th>\n",
       "      <th></th>\n",
       "      <th></th>\n",
       "      <th></th>\n",
       "      <th></th>\n",
       "      <th></th>\n",
       "      <th></th>\n",
       "      <th></th>\n",
       "      <th></th>\n",
       "    </tr>\n",
       "  </thead>\n",
       "  <tbody>\n",
       "    <tr>\n",
       "      <th>2019-01-02</th>\n",
       "      <td>22.41</td>\n",
       "      <td>109.16</td>\n",
       "      <td>121.33</td>\n",
       "      <td>12.86</td>\n",
       "      <td>227.64</td>\n",
       "      <td>94.30</td>\n",
       "      <td>90.83</td>\n",
       "      <td>16.28</td>\n",
       "      <td>36.00</td>\n",
       "      <td>34.12</td>\n",
       "      <td>...</td>\n",
       "      <td>34.24</td>\n",
       "      <td>28.22</td>\n",
       "      <td>NaN</td>\n",
       "      <td>79.80</td>\n",
       "      <td>90.68</td>\n",
       "      <td>279.83</td>\n",
       "      <td>39.62</td>\n",
       "      <td>13.04</td>\n",
       "      <td>30.84</td>\n",
       "      <td>94.11</td>\n",
       "    </tr>\n",
       "    <tr>\n",
       "      <th>2019-01-03</th>\n",
       "      <td>22.29</td>\n",
       "      <td>109.78</td>\n",
       "      <td>122.43</td>\n",
       "      <td>12.97</td>\n",
       "      <td>222.21</td>\n",
       "      <td>92.26</td>\n",
       "      <td>91.36</td>\n",
       "      <td>16.10</td>\n",
       "      <td>35.61</td>\n",
       "      <td>33.50</td>\n",
       "      <td>...</td>\n",
       "      <td>34.00</td>\n",
       "      <td>28.10</td>\n",
       "      <td>NaN</td>\n",
       "      <td>79.83</td>\n",
       "      <td>91.06</td>\n",
       "      <td>275.23</td>\n",
       "      <td>38.96</td>\n",
       "      <td>13.12</td>\n",
       "      <td>30.68</td>\n",
       "      <td>94.38</td>\n",
       "    </tr>\n",
       "    <tr>\n",
       "      <th>2019-01-04</th>\n",
       "      <td>22.25</td>\n",
       "      <td>109.17</td>\n",
       "      <td>121.44</td>\n",
       "      <td>13.15</td>\n",
       "      <td>229.65</td>\n",
       "      <td>95.32</td>\n",
       "      <td>91.17</td>\n",
       "      <td>16.52</td>\n",
       "      <td>36.32</td>\n",
       "      <td>34.59</td>\n",
       "      <td>...</td>\n",
       "      <td>35.00</td>\n",
       "      <td>28.33</td>\n",
       "      <td>NaN</td>\n",
       "      <td>79.83</td>\n",
       "      <td>90.78</td>\n",
       "      <td>284.24</td>\n",
       "      <td>40.63</td>\n",
       "      <td>13.31</td>\n",
       "      <td>31.04</td>\n",
       "      <td>94.48</td>\n",
       "    </tr>\n",
       "    <tr>\n",
       "      <th>2019-01-07</th>\n",
       "      <td>22.16</td>\n",
       "      <td>108.96</td>\n",
       "      <td>121.86</td>\n",
       "      <td>13.24</td>\n",
       "      <td>231.46</td>\n",
       "      <td>97.47</td>\n",
       "      <td>91.11</td>\n",
       "      <td>16.45</td>\n",
       "      <td>36.39</td>\n",
       "      <td>34.66</td>\n",
       "      <td>...</td>\n",
       "      <td>35.08</td>\n",
       "      <td>28.37</td>\n",
       "      <td>NaN</td>\n",
       "      <td>79.83</td>\n",
       "      <td>90.63</td>\n",
       "      <td>287.41</td>\n",
       "      <td>41.10</td>\n",
       "      <td>13.45</td>\n",
       "      <td>31.07</td>\n",
       "      <td>95.07</td>\n",
       "    </tr>\n",
       "    <tr>\n",
       "      <th>2019-01-08</th>\n",
       "      <td>22.23</td>\n",
       "      <td>108.76</td>\n",
       "      <td>121.53</td>\n",
       "      <td>13.38</td>\n",
       "      <td>233.63</td>\n",
       "      <td>98.55</td>\n",
       "      <td>91.18</td>\n",
       "      <td>16.57</td>\n",
       "      <td>36.53</td>\n",
       "      <td>34.79</td>\n",
       "      <td>...</td>\n",
       "      <td>35.39</td>\n",
       "      <td>28.40</td>\n",
       "      <td>NaN</td>\n",
       "      <td>79.83</td>\n",
       "      <td>90.56</td>\n",
       "      <td>292.22</td>\n",
       "      <td>41.79</td>\n",
       "      <td>13.39</td>\n",
       "      <td>31.15</td>\n",
       "      <td>94.92</td>\n",
       "    </tr>\n",
       "    <tr>\n",
       "      <th>...</th>\n",
       "      <td>...</td>\n",
       "      <td>...</td>\n",
       "      <td>...</td>\n",
       "      <td>...</td>\n",
       "      <td>...</td>\n",
       "      <td>...</td>\n",
       "      <td>...</td>\n",
       "      <td>...</td>\n",
       "      <td>...</td>\n",
       "      <td>...</td>\n",
       "      <td>...</td>\n",
       "      <td>...</td>\n",
       "      <td>...</td>\n",
       "      <td>...</td>\n",
       "      <td>...</td>\n",
       "      <td>...</td>\n",
       "      <td>...</td>\n",
       "      <td>...</td>\n",
       "      <td>...</td>\n",
       "      <td>...</td>\n",
       "      <td>...</td>\n",
       "    </tr>\n",
       "    <tr>\n",
       "      <th>2025-01-27</th>\n",
       "      <td>29.21</td>\n",
       "      <td>116.11</td>\n",
       "      <td>252.99</td>\n",
       "      <td>21.93</td>\n",
       "      <td>599.37</td>\n",
       "      <td>231.32</td>\n",
       "      <td>107.88</td>\n",
       "      <td>26.63</td>\n",
       "      <td>58.31</td>\n",
       "      <td>42.17</td>\n",
       "      <td>...</td>\n",
       "      <td>57.44</td>\n",
       "      <td>37.73</td>\n",
       "      <td>66.90</td>\n",
       "      <td>91.70</td>\n",
       "      <td>97.55</td>\n",
       "      <td>591.30</td>\n",
       "      <td>100.93</td>\n",
       "      <td>18.92</td>\n",
       "      <td>43.93</td>\n",
       "      <td>98.46</td>\n",
       "    </tr>\n",
       "    <tr>\n",
       "      <th>2025-01-28</th>\n",
       "      <td>29.33</td>\n",
       "      <td>116.13</td>\n",
       "      <td>255.18</td>\n",
       "      <td>21.95</td>\n",
       "      <td>604.52</td>\n",
       "      <td>231.60</td>\n",
       "      <td>107.95</td>\n",
       "      <td>26.69</td>\n",
       "      <td>58.56</td>\n",
       "      <td>42.48</td>\n",
       "      <td>...</td>\n",
       "      <td>57.25</td>\n",
       "      <td>37.80</td>\n",
       "      <td>66.31</td>\n",
       "      <td>91.70</td>\n",
       "      <td>97.52</td>\n",
       "      <td>592.03</td>\n",
       "      <td>101.42</td>\n",
       "      <td>18.65</td>\n",
       "      <td>44.09</td>\n",
       "      <td>98.21</td>\n",
       "    </tr>\n",
       "    <tr>\n",
       "      <th>2025-01-29</th>\n",
       "      <td>29.39</td>\n",
       "      <td>116.03</td>\n",
       "      <td>254.20</td>\n",
       "      <td>21.99</td>\n",
       "      <td>601.81</td>\n",
       "      <td>230.94</td>\n",
       "      <td>107.82</td>\n",
       "      <td>26.90</td>\n",
       "      <td>58.45</td>\n",
       "      <td>42.49</td>\n",
       "      <td>...</td>\n",
       "      <td>57.29</td>\n",
       "      <td>37.70</td>\n",
       "      <td>67.05</td>\n",
       "      <td>91.71</td>\n",
       "      <td>97.46</td>\n",
       "      <td>589.68</td>\n",
       "      <td>101.87</td>\n",
       "      <td>18.87</td>\n",
       "      <td>44.04</td>\n",
       "      <td>97.86</td>\n",
       "    </tr>\n",
       "    <tr>\n",
       "      <th>2025-01-30</th>\n",
       "      <td>29.39</td>\n",
       "      <td>116.17</td>\n",
       "      <td>258.05</td>\n",
       "      <td>22.01</td>\n",
       "      <td>605.04</td>\n",
       "      <td>233.20</td>\n",
       "      <td>107.93</td>\n",
       "      <td>27.17</td>\n",
       "      <td>58.72</td>\n",
       "      <td>43.21</td>\n",
       "      <td>...</td>\n",
       "      <td>57.84</td>\n",
       "      <td>37.91</td>\n",
       "      <td>68.68</td>\n",
       "      <td>91.72</td>\n",
       "      <td>97.60</td>\n",
       "      <td>596.41</td>\n",
       "      <td>101.97</td>\n",
       "      <td>18.85</td>\n",
       "      <td>44.23</td>\n",
       "      <td>97.63</td>\n",
       "    </tr>\n",
       "    <tr>\n",
       "      <th>2025-01-31</th>\n",
       "      <td>29.51</td>\n",
       "      <td>116.13</td>\n",
       "      <td>258.56</td>\n",
       "      <td>21.97</td>\n",
       "      <td>601.82</td>\n",
       "      <td>232.17</td>\n",
       "      <td>108.01</td>\n",
       "      <td>26.85</td>\n",
       "      <td>58.50</td>\n",
       "      <td>42.72</td>\n",
       "      <td>...</td>\n",
       "      <td>57.44</td>\n",
       "      <td>37.77</td>\n",
       "      <td>67.30</td>\n",
       "      <td>91.75</td>\n",
       "      <td>97.40</td>\n",
       "      <td>590.68</td>\n",
       "      <td>102.38</td>\n",
       "      <td>18.68</td>\n",
       "      <td>44.08</td>\n",
       "      <td>97.50</td>\n",
       "    </tr>\n",
       "  </tbody>\n",
       "</table>\n",
       "<p>1530 rows × 68 columns</p>\n",
       "</div>"
      ],
      "text/plain": [
       "             UUP    IEI    GLD   DBC    SPY    XLY    TIP  CPER   AOR   EEM  \\\n",
       "Date                                                                          \n",
       "2019-01-02 22.41 109.16 121.33 12.86 227.64  94.30  90.83 16.28 36.00 34.12   \n",
       "2019-01-03 22.29 109.78 122.43 12.97 222.21  92.26  91.36 16.10 35.61 33.50   \n",
       "2019-01-04 22.25 109.17 121.44 13.15 229.65  95.32  91.17 16.52 36.32 34.59   \n",
       "2019-01-07 22.16 108.96 121.86 13.24 231.46  97.47  91.11 16.45 36.39 34.66   \n",
       "2019-01-08 22.23 108.76 121.53 13.38 233.63  98.55  91.18 16.57 36.53 34.79   \n",
       "...          ...    ...    ...   ...    ...    ...    ...   ...   ...   ...   \n",
       "2025-01-27 29.21 116.11 252.99 21.93 599.37 231.32 107.88 26.63 58.31 42.17   \n",
       "2025-01-28 29.33 116.13 255.18 21.95 604.52 231.60 107.95 26.69 58.56 42.48   \n",
       "2025-01-29 29.39 116.03 254.20 21.99 601.81 230.94 107.82 26.90 58.45 42.49   \n",
       "2025-01-30 29.39 116.17 258.05 22.01 605.04 233.20 107.93 27.17 58.72 43.21   \n",
       "2025-01-31 29.51 116.13 258.56 21.97 601.82 232.17 108.01 26.85 58.50 42.72   \n",
       "\n",
       "            ...  IEUR   AOK  BITW   BIL   AGG    MDY    XLC   DBB   AOM   FXF  \n",
       "Date        ...                                                                \n",
       "2019-01-02  ... 34.24 28.22   NaN 79.80 90.68 279.83  39.62 13.04 30.84 94.11  \n",
       "2019-01-03  ... 34.00 28.10   NaN 79.83 91.06 275.23  38.96 13.12 30.68 94.38  \n",
       "2019-01-04  ... 35.00 28.33   NaN 79.83 90.78 284.24  40.63 13.31 31.04 94.48  \n",
       "2019-01-07  ... 35.08 28.37   NaN 79.83 90.63 287.41  41.10 13.45 31.07 95.07  \n",
       "2019-01-08  ... 35.39 28.40   NaN 79.83 90.56 292.22  41.79 13.39 31.15 94.92  \n",
       "...         ...   ...   ...   ...   ...   ...    ...    ...   ...   ...   ...  \n",
       "2025-01-27  ... 57.44 37.73 66.90 91.70 97.55 591.30 100.93 18.92 43.93 98.46  \n",
       "2025-01-28  ... 57.25 37.80 66.31 91.70 97.52 592.03 101.42 18.65 44.09 98.21  \n",
       "2025-01-29  ... 57.29 37.70 67.05 91.71 97.46 589.68 101.87 18.87 44.04 97.86  \n",
       "2025-01-30  ... 57.84 37.91 68.68 91.72 97.60 596.41 101.97 18.85 44.23 97.63  \n",
       "2025-01-31  ... 57.44 37.77 67.30 91.75 97.40 590.68 102.38 18.68 44.08 97.50  \n",
       "\n",
       "[1530 rows x 68 columns]"
      ]
     },
     "execution_count": 8,
     "metadata": {},
     "output_type": "execute_result"
    }
   ],
   "source": [
    "df = pd.read_csv('symbols-timeseries.csv', skip_blank_lines=True, comment='#')\n",
    "df.set_index(\"Date\", inplace=True)\n",
    "df"
   ]
  },
  {
   "cell_type": "code",
   "execution_count": 9,
   "metadata": {},
   "outputs": [
    {
     "data": {
      "text/plain": [
       "np.float64(0.704408365392893)"
      ]
     },
     "execution_count": 9,
     "metadata": {},
     "output_type": "execute_result"
    },
    {
     "data": {
      "image/png": "[encoded data removed]",
      "text/plain": [
       "<Figure size 1600x1200 with 2 Axes>"
      ]
     },
     "metadata": {},
     "output_type": "display_data"
    }
   ],
   "source": [
    "corr_map = bb.correlation_map(df, method='log', days=bb.TRADING_DAYS_PER_YEAR)\n",
    "# Sample correlation value.\n",
    "corr_map['SPY']['VXUS']"
   ]
  },
  {
   "cell_type": "code",
   "execution_count": 10,
   "metadata": {},
   "outputs": [],
   "source": [
    "# Read asset-classes-in.csv\n",
    "lines = []\n",
    "with open('asset-classes-in.csv', 'r') as f:\n",
    "    lines = [line.strip() for line in f]\n",
    "#lines"
   ]
  },
  {
   "cell_type": "code",
   "execution_count": 11,
   "metadata": {
    "scrolled": true
   },
   "outputs": [],
   "source": [
    "# Calculate the pair correlations between the assets and write the resuls to a list.\n",
    "out = []\n",
    "for line in lines:\n",
    "    # Copy empty and comment lines.\n",
    "    if not line or line.startswith('#'):\n",
    "        out.append(line)\n",
    "        continue\n",
    "    # Split line by comma delimiter; strip the fields.\n",
    "    fields = line.split(',')\n",
    "    fields = [field.strip() for field in fields]\n",
    "    assetA = fields[0].strip('\\\"')\n",
    "    assetB = fields[1].strip('\\\"')\n",
    "    # copy same asset lines and header\n",
    "    if assetA == assetB or assetA == 'Asset Class A':\n",
    "        out.append(line)\n",
    "        continue\n",
    "    # Use asset2etf to get a representative ETF for the asset,\n",
    "    # then calculate the correlation.  The ETF pair correlation is\n",
    "    # a proxy for the correlation of an asset pair.\n",
    "    etfA = asset2etf[assetA]\n",
    "    etfB = asset2etf[assetB]\n",
    "    corrAB = corr_map.loc[etfA, etfB]\n",
    "    out.append(f'\"{assetA}\",\"{assetB}\",\"{corrAB:0.2f}\"')   "
   ]
  },
  {
   "cell_type": "code",
   "execution_count": 12,
   "metadata": {},
   "outputs": [],
   "source": [
    "# Write out asset-classes.csv\n",
    "with open('asset-classes.csv', 'w') as f:\n",
    "    for line in out:\n",
    "        f.write(line + '\\n')"
   ]
  },
  {
   "cell_type": "code",
   "execution_count": 13,
   "metadata": {},
   "outputs": [],
   "source": [
    "# Sample symbol.\n",
    "symbol = 'SPY'"
   ]
  },
  {
   "cell_type": "code",
   "execution_count": 14,
   "metadata": {},
   "outputs": [
    {
     "data": {
      "text/plain": [
       "np.float64(24.17033297877571)"
      ]
     },
     "execution_count": 14,
     "metadata": {},
     "output_type": "execute_result"
    }
   ],
   "source": [
    "annual_returns = bb.annualized_returns(df, timeperiod='daily', years=1)\n",
    "annual_returns[symbol]"
   ]
  },
  {
   "cell_type": "code",
   "execution_count": 15,
   "metadata": {},
   "outputs": [],
   "source": [
    "# Calculate 1 month, 3 months, 1 year, 3 year, and 5 year annualized returns.\n",
    "annual_returns_1mo = bb.annualized_returns(df, timeperiod='daily', years=1/12)\n",
    "annual_returns_3mo = bb.annualized_returns(df, timeperiod='daily', years=3/12)\n",
    "annual_returns_1yr = bb.annualized_returns(df, timeperiod='daily', years=1)\n",
    "annual_returns_3yr = bb.annualized_returns(df, timeperiod='daily', years=3)\n",
    "annual_returns_5yr = bb.annualized_returns(df, timeperiod='daily', years=5)"
   ]
  },
  {
   "cell_type": "code",
   "execution_count": 16,
   "metadata": {},
   "outputs": [
    {
     "data": {
      "text/plain": [
       "np.float64(0.13590794918811078)"
      ]
     },
     "execution_count": 16,
     "metadata": {},
     "output_type": "execute_result"
    }
   ],
   "source": [
    "# Calculate 20 day annualized volatility.\n",
    "daily_returns = df.pct_change(fill_method=None)\n",
    "years = bb.TRADING_DAYS_PER_MONTH / bb.TRADING_DAYS_PER_YEAR\n",
    "vola = bb.annualized_standard_deviation(daily_returns, timeperiod='daily', years=years)\n",
    "vola[symbol]"
   ]
  },
  {
   "cell_type": "code",
   "execution_count": 17,
   "metadata": {},
   "outputs": [
    {
     "data": {
      "text/plain": [
       "np.float64(0.07617125973186976)"
      ]
     },
     "execution_count": 17,
     "metadata": {},
     "output_type": "execute_result"
    }
   ],
   "source": [
    "# Calculate 20 day annualized downside volatility.\n",
    "ds_vola = bb.annualized_standard_deviation(daily_returns, timeperiod='daily', years=years, downside=True)\n",
    "ds_vola[symbol]"
   ]
  },
  {
   "cell_type": "code",
   "execution_count": 18,
   "metadata": {},
   "outputs": [
    {
     "name": "stdout",
     "output_type": "stream",
     "text": [
      "Date\n",
      "2019-01-31   245.61\n",
      "2019-02-28   253.57\n",
      "2019-03-31   258.16\n",
      "2019-04-30   268.71\n",
      "2019-05-31   251.57\n",
      "2019-06-30   269.08\n",
      "2019-07-31   273.14\n",
      "2019-08-31   268.57\n",
      "2019-09-30   273.80\n",
      "2019-10-31   279.85\n",
      "2019-11-30   289.98\n",
      "2019-12-31   298.40\n",
      "2020-01-31   298.28\n",
      "2020-02-29   274.67\n",
      "2020-03-31   240.37\n",
      "2020-04-30   270.89\n",
      "2020-05-31   283.80\n",
      "2020-06-30   288.83\n",
      "2020-07-31   305.84\n",
      "2020-08-31   327.19\n",
      "2020-09-30   314.94\n",
      "2020-10-31   307.09\n",
      "2020-11-30   340.49\n",
      "2020-12-31   353.11\n",
      "2021-01-31   349.51\n",
      "2021-02-28   359.23\n",
      "2021-03-31   375.54\n",
      "2021-04-30   395.40\n",
      "2021-05-31   398.00\n",
      "2021-06-30   406.93\n",
      "2021-07-31   416.86\n",
      "2021-08-31   429.27\n",
      "2021-09-30   409.26\n",
      "2021-10-31   437.98\n",
      "2021-11-30   434.46\n",
      "2021-12-31   454.55\n",
      "2022-01-31   430.58\n",
      "2022-02-28   417.87\n",
      "2022-03-31   433.57\n",
      "2022-04-30   395.52\n",
      "2022-05-31   396.41\n",
      "2022-06-30   363.72\n",
      "2022-07-31   397.22\n",
      "2022-08-31   381.01\n",
      "2022-09-30   345.79\n",
      "2022-10-31   373.89\n",
      "2022-11-30   394.68\n",
      "2022-12-31   371.93\n",
      "2023-01-31   395.32\n",
      "2023-02-28   385.38\n",
      "2023-03-31   399.67\n",
      "2023-04-30   406.06\n",
      "2023-05-31   407.93\n",
      "2023-06-30   434.37\n",
      "2023-07-31   448.58\n",
      "2023-08-31   441.29\n",
      "2023-09-30   420.36\n",
      "2023-10-31   411.24\n",
      "2023-11-30   448.80\n",
      "2023-12-31   469.29\n",
      "2024-01-31   476.76\n",
      "2024-02-29   501.65\n",
      "2024-03-31   518.05\n",
      "2024-04-30   497.16\n",
      "2024-05-31   522.31\n",
      "2024-06-30   540.74\n",
      "2024-07-31   547.28\n",
      "2024-08-31   560.07\n",
      "2024-09-30   571.84\n",
      "2024-10-31   566.73\n",
      "2024-11-30   600.53\n",
      "2024-12-31   586.08\n",
      "2025-01-31   601.82\n",
      "Freq: ME, Name: SPY, dtype: float64\n"
     ]
    }
   ],
   "source": [
    "# Resample df on a monthly basis.\n",
    "df.index = pd.to_datetime(df.index)\n",
    "monthly = df.resample('ME').ffill()\n",
    "bb.print_full(monthly[symbol])"
   ]
  },
  {
   "cell_type": "code",
   "execution_count": 19,
   "metadata": {},
   "outputs": [
    {
     "data": {
      "text/plain": [
       "Date\n",
       "2019-01-31     NaN\n",
       "2019-02-28    0.03\n",
       "2019-03-31    0.02\n",
       "2019-04-30    0.04\n",
       "2019-05-31   -0.06\n",
       "              ... \n",
       "2024-09-30    0.02\n",
       "2024-10-31   -0.01\n",
       "2024-11-30    0.06\n",
       "2024-12-31   -0.02\n",
       "2025-01-31    0.03\n",
       "Freq: ME, Name: SPY, Length: 73, dtype: float64"
      ]
     },
     "execution_count": 19,
     "metadata": {},
     "output_type": "execute_result"
    }
   ],
   "source": [
    "# Calculate monthly returns.\n",
    "monthly_returns = monthly.pct_change(fill_method=None)\n",
    "monthly_returns['SPY']"
   ]
  },
  {
   "cell_type": "code",
   "execution_count": 20,
   "metadata": {},
   "outputs": [
    {
     "data": {
      "text/plain": [
       "np.float64(0.16830163702228063)"
      ]
     },
     "execution_count": 20,
     "metadata": {},
     "output_type": "execute_result"
    }
   ],
   "source": [
    "# Calculate 3 year annualized standard deviation.\n",
    "std_dev = bb.annualized_standard_deviation(monthly_returns, timeperiod='monthly', years=3)\n",
    "std_dev[symbol]"
   ]
  },
  {
   "cell_type": "code",
   "execution_count": 21,
   "metadata": {},
   "outputs": [
    {
     "data": {
      "text/plain": [
       "['# Description: Asset Class investment options. 09/29/2020',\n",
       " '',\n",
       " '# Format',\n",
       " '\"Investment Option\",\"Asset Class\",\"1 mo\",\"3 mo\",\"1 Yr\",\"3 Yr\",\"5 Yr\",\"Vola\",\"DS Vola\",\"Std Dev\"',\n",
       " '# Note: \"Description\" field is optional']"
      ]
     },
     "execution_count": 21,
     "metadata": {},
     "output_type": "execute_result"
    }
   ],
   "source": [
    "# Read investment-options-header.csv\n",
    "lines = []\n",
    "with open('investment-options-in.csv', 'r') as f:\n",
    "    lines = [line.strip() for line in f]\n",
    "lines"
   ]
  },
  {
   "cell_type": "code",
   "execution_count": 22,
   "metadata": {},
   "outputs": [],
   "source": [
    "# For each symbol, write out the 1 Yr, 3 Yr, 5 Yr, and std dev.\n",
    "out = lines.copy()\n",
    "\n",
    "# This is still slow (2.53 s)\n",
    "for key, value in asset2etf.items():\n",
    "\n",
    "    symbol = value\n",
    "    asset_class = key\n",
    "\n",
    "    ret_1mo = annual_returns_1mo[symbol]\n",
    "    ret_3mo = annual_returns_3mo[symbol]\n",
    "    ret_1yr = annual_returns_1yr[symbol]\n",
    "    ret_3yr = annual_returns_3yr[symbol]\n",
    "    ret_5yr = annual_returns_5yr[symbol]\n",
    "\n",
    "    if np.isnan(ret_3yr): ret_3yr = ret_1yr\n",
    "    if np.isnan(ret_5yr): ret_5yr = ret_3yr\n",
    "    \n",
    "    _vola = vola[symbol]*100\n",
    "    _ds_vola = ds_vola[symbol]*100\n",
    "    sd = std_dev[symbol]*100\n",
    "\n",
    "    out.append(\n",
    "        '\"{}\",\"{}\",\"{:0.2f}\",\"{:0.2f}\",\"{:0.2f}\",\"{:0.2f}\",\"{:0.2f}\",\"{:0.2f}\",\"{:0.2f}\",\"{:0.2f}\"'\n",
    "        .format(asset_class, asset_class,\n",
    "                ret_1mo, ret_3mo, ret_1yr, ret_3yr, ret_5yr, _vola, _ds_vola, sd)) "
   ]
  },
  {
   "cell_type": "code",
   "execution_count": 23,
   "metadata": {},
   "outputs": [],
   "source": [
    "# Write out asset-classes.csv\n",
    "with open('investment-options.csv', 'w') as f:\n",
    "    for line in out:\n",
    "        f.write(line + '\\n')"
   ]
  },
  {
   "cell_type": "code",
   "execution_count": null,
   "metadata": {},
   "outputs": [],
   "source": []
  }
 ],
 "metadata": {
  "kernelspec": {
   "display_name": "Python 3 (ipykernel)",
   "language": "python",
   "name": "python3"
  },
  "language_info": {
   "codemirror_mode": {
    "name": "ipython",
    "version": 3
   },
   "file_extension": ".py",
   "mimetype": "text/x-python",
   "name": "python",
   "nbconvert_exporter": "python",
   "pygments_lexer": "ipython3",
   "version": "3.10.12"
  },
  "latex_envs": {
   "LaTeX_envs_menu_present": true,
   "autoclose": false,
   "autocomplete": true,
   "bibliofile": "biblio.bib",
   "cite_by": "apalike",
   "current_citInitial": 1,
   "eqLabelWithNumbers": true,
   "eqNumInitial": 1,
   "hotkeys": {
    "equation": "Ctrl-E",
    "itemize": "Ctrl-I"
   },
   "labels_anchors": false,
   "latex_user_defs": false,
   "report_style_numbering": false,
   "user_envs_cfg": false
  }
 },
 "nbformat": 4,
 "nbformat_minor": 4
}
