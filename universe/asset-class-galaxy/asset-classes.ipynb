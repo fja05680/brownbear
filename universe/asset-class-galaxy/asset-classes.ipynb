{
 "cells": [
  {
   "cell_type": "markdown",
   "metadata": {},
   "source": [
    "Use this utlity to update the correlations between asset classes in universe/asset-prices.csv\n",
    "\n",
    "input files:\n",
    "- asset-classes-2-etf.csv: mapping of asset classes to a representative ETF to use for calculating correlations\n",
    "- asset-classes-in.csv: asset pairs for which to calculate correlations\n",
    "\n",
    "output files:\n",
    "- symbols-cache/'symbol'.csv: timeseries for each symbol \n",
    "- symbols-timeseries.csv: compiled timeseries for symbols\n",
    "- asset-classes.csv: asset class pairs with correlations"
   ]
  },
  {
   "cell_type": "code",
   "execution_count": 1,
   "metadata": {
    "ExecuteTime": {
     "end_time": "2019-08-05T19:30:28.821735Z",
     "start_time": "2019-08-05T19:30:28.795344Z"
    }
   },
   "outputs": [
    {
     "data": {
      "application/javascript": [
       "IPython.OutputArea.prototype._should_scroll = function(lines) {\n",
       "    return false;\n",
       "}\n"
      ],
      "text/plain": [
       "<IPython.core.display.Javascript object>"
      ]
     },
     "metadata": {},
     "output_type": "display_data"
    }
   ],
   "source": [
    "%%javascript\n",
    "IPython.OutputArea.prototype._should_scroll = function(lines) {\n",
    "    return false;\n",
    "}"
   ]
  },
  {
   "cell_type": "code",
   "execution_count": 2,
   "metadata": {
    "ExecuteTime": {
     "end_time": "2019-08-05T19:30:29.630182Z",
     "start_time": "2019-08-05T19:30:28.824991Z"
    }
   },
   "outputs": [],
   "source": [
    "import matplotlib.pyplot as plt\n",
    "import numpy as np\n",
    "import pandas as pd\n",
    "\n",
    "import brownbear as bb\n",
    "\n",
    "# Format price data.\n",
    "pd.options.display.float_format = '{:0.2f}'.format\n",
    "\n",
    "%matplotlib inline"
   ]
  },
  {
   "cell_type": "code",
   "execution_count": 3,
   "metadata": {},
   "outputs": [],
   "source": [
    "# Set size of inline plots.\n",
    "'''note: rcParams can't be in same cell as import matplotlib\n",
    "   or %matplotlib inline\n",
    "   \n",
    "   %matplotlib notebook: will lead to interactive plots embedded within\n",
    "   the notebook, you can zoom and resize the figure\n",
    "   \n",
    "   %matplotlib inline: only draw static images in the notebook\n",
    "'''\n",
    "plt.rcParams[\"figure.figsize\"] = (10, 7)"
   ]
  },
  {
   "cell_type": "markdown",
   "metadata": {},
   "source": [
    "Globals"
   ]
  },
  {
   "cell_type": "code",
   "execution_count": 4,
   "metadata": {},
   "outputs": [],
   "source": [
    "# Set refresh_timeseries=True to download timeseries.  Otherwise /symbol-cache is used.\n",
    "refresh_timeseries = False"
   ]
  },
  {
   "cell_type": "code",
   "execution_count": 5,
   "metadata": {},
   "outputs": [
    {
     "data": {
      "text/plain": [
       "{'US Stocks': 'VTSMX',\n",
       " 'Global Stocks': 'VXUS',\n",
       " 'US Bonds': 'AGG',\n",
       " 'Global Bonds': 'BNDX',\n",
       " 'Cash Equivalents': 'BIL',\n",
       " 'Real Estate': 'VNQ',\n",
       " 'Commodities': 'DBC',\n",
       " 'Currencies': 'DBV',\n",
       " 'Managed Futures': 'FUT',\n",
       " 'Balanced': 'AOM',\n",
       " 'Risk-Free Asset': 'BIL',\n",
       " 'US Stocks:Large Cap': 'SPY',\n",
       " 'US Stocks:Mid Cap': 'MDY',\n",
       " 'US Stocks:Small Cap': 'IWM',\n",
       " 'US Stocks:Growth': 'QQQ',\n",
       " 'US Stocks:Growth and Income': 'VOO',\n",
       " 'US Stocks:Value': 'IWD',\n",
       " 'US Stocks:Total Stock Market': 'VTI',\n",
       " 'US Stocks:Materials': 'XLB',\n",
       " 'US Stocks:Communication Services': 'XLC',\n",
       " 'US Stocks:Energy': 'XLE',\n",
       " 'US Stocks:Financials': 'XLF',\n",
       " 'US Stocks:Industrials': 'XLI',\n",
       " 'US Stocks:Technology': 'XLK',\n",
       " 'US Stocks:Consumer Staples': 'XLP',\n",
       " 'US Stocks:Real Estate': 'XLRE',\n",
       " 'US Stocks:Utilities': 'XLU',\n",
       " 'US Stocks:Healthcare': 'XLV',\n",
       " 'US Stocks:Consumer Discretionary': 'XLY',\n",
       " 'Global Stocks:Asia': 'VPL',\n",
       " 'Global Stocks:Developed Markets': 'EFA',\n",
       " 'Global Stocks:Emerging Markets': 'EEM',\n",
       " 'Global Stocks:Europe': 'IEUR',\n",
       " 'Global Stocks:EX-US': 'VXUS',\n",
       " 'US Bonds:Investment Grade': 'LQD',\n",
       " 'US Bonds:High Yield': 'JNK',\n",
       " 'US Bonds:Preferred Stock': 'PFF',\n",
       " 'US Bonds:Treasury notes (T-notes)': 'IEI',\n",
       " 'US Bonds:Treasury bonds (T-bonds)': 'TLT',\n",
       " 'US Bonds:Treasury Inflation-Protected Securities (TIPS)': 'TIP',\n",
       " 'Global Bonds:Investment Grade Corp': 'IBND',\n",
       " 'Global Bonds:Investment Grade Treasury': 'BWX',\n",
       " 'Global Bonds:Emerging Markets Gov': 'EBND',\n",
       " 'Global Bonds:Short Term Treasury': 'BWZ',\n",
       " 'Cash Equivalents:Money Markets': 'JPST',\n",
       " 'Cash Equivalents:Treasury Bills (T-bills)': 'BIL',\n",
       " 'Real Estate:REIT': 'IYR',\n",
       " 'Real Estate:Real Estate Funds': 'VNQ',\n",
       " 'Commodities:Gold': 'GLD',\n",
       " 'Commodities:Silver': 'SLV',\n",
       " 'Commodities:Cooper': 'CPER',\n",
       " 'Commodities:Platinum': 'PPLT',\n",
       " 'Commodities:Palladium': 'PALL',\n",
       " 'Commodities:Oil': 'USO',\n",
       " 'Commodities:Natural Gas': 'UNG',\n",
       " 'Commodities:Gasoline': 'UGA',\n",
       " 'Commodities:Corn': 'CORN',\n",
       " 'Commodities:Sugar': 'CANE',\n",
       " 'Commodities:Agriculture': 'DBA',\n",
       " 'Commodities:Base Metals': 'DBB',\n",
       " 'Commodities:Energy': 'DBE',\n",
       " 'Commodities:Precious Metals': 'DBP',\n",
       " 'Currencies:US Dollar': 'UUP',\n",
       " 'Currencies:Euro': 'FXE',\n",
       " 'Currencies:Japanese Yen': 'FXY',\n",
       " 'Currencies:Swiss Franc': 'FXF',\n",
       " 'Currencies:Australian Dollar': 'FXA',\n",
       " 'Currencies:Canadian Dollar': 'FXC',\n",
       " 'Currencies:British Pound': 'FXB',\n",
       " 'Currencies:Chinese Yuan': 'CYB',\n",
       " 'Balanced:Conservative Allocation (30/70)': 'AOK',\n",
       " 'Balanced:Moderate Allocation (40/60)': 'AOM',\n",
       " 'Balanced:Growth Allocation (60/40)': 'AOR',\n",
       " 'Balanced:Aggressive Allocation (80/20)': 'AOA'}"
      ]
     },
     "execution_count": 5,
     "metadata": {},
     "output_type": "execute_result"
    }
   ],
   "source": [
    "# asset2etf dict provides a mapping from the asset name to a representative ETF.\n",
    "asset2etf = pd.read_csv('asset-classes-2-etf.csv', skip_blank_lines=True, comment='#')\n",
    "asset2etf = asset2etf.set_index(['Asset Class'])\n",
    "asset2etf = asset2etf['ETF'].to_dict()\n",
    "asset2etf"
   ]
  },
  {
   "cell_type": "code",
   "execution_count": 6,
   "metadata": {},
   "outputs": [],
   "source": [
    "symbols = set(asset2etf.values())"
   ]
  },
  {
   "cell_type": "code",
   "execution_count": 7,
   "metadata": {},
   "outputs": [
    {
     "name": "stdout",
     "output_type": "stream",
     "text": [
      ".....................................................................\n"
     ]
    }
   ],
   "source": [
    "bb.fetch_timeseries(symbols, refresh=refresh_timeseries)\n",
    "bb.compile_timeseries(symbols)"
   ]
  },
  {
   "cell_type": "code",
   "execution_count": 10,
   "metadata": {},
   "outputs": [
    {
     "data": {
      "text/html": [
       "<div>\n",
       "<style scoped>\n",
       "    .dataframe tbody tr th:only-of-type {\n",
       "        vertical-align: middle;\n",
       "    }\n",
       "\n",
       "    .dataframe tbody tr th {\n",
       "        vertical-align: top;\n",
       "    }\n",
       "\n",
       "    .dataframe thead th {\n",
       "        text-align: right;\n",
       "    }\n",
       "</style>\n",
       "<table border=\"1\" class=\"dataframe\">\n",
       "  <thead>\n",
       "    <tr style=\"text-align: right;\">\n",
       "      <th></th>\n",
       "      <th>XLB</th>\n",
       "      <th>EFA</th>\n",
       "      <th>CANE</th>\n",
       "      <th>IWM</th>\n",
       "      <th>EEM</th>\n",
       "      <th>BNDX</th>\n",
       "      <th>JPST</th>\n",
       "      <th>BWX</th>\n",
       "      <th>BIL</th>\n",
       "      <th>VPL</th>\n",
       "      <th>...</th>\n",
       "      <th>XLY</th>\n",
       "      <th>TIP</th>\n",
       "      <th>SLV</th>\n",
       "      <th>IEI</th>\n",
       "      <th>DBV</th>\n",
       "      <th>XLU</th>\n",
       "      <th>CORN</th>\n",
       "      <th>XLC</th>\n",
       "      <th>VOO</th>\n",
       "      <th>FUT</th>\n",
       "    </tr>\n",
       "    <tr>\n",
       "      <th>Date</th>\n",
       "      <th></th>\n",
       "      <th></th>\n",
       "      <th></th>\n",
       "      <th></th>\n",
       "      <th></th>\n",
       "      <th></th>\n",
       "      <th></th>\n",
       "      <th></th>\n",
       "      <th></th>\n",
       "      <th></th>\n",
       "      <th></th>\n",
       "      <th></th>\n",
       "      <th></th>\n",
       "      <th></th>\n",
       "      <th></th>\n",
       "      <th></th>\n",
       "      <th></th>\n",
       "      <th></th>\n",
       "      <th></th>\n",
       "      <th></th>\n",
       "      <th></th>\n",
       "    </tr>\n",
       "  </thead>\n",
       "  <tbody>\n",
       "    <tr>\n",
       "      <th>2015-01-02</th>\n",
       "      <td>42.14</td>\n",
       "      <td>50.45</td>\n",
       "      <td>11.59</td>\n",
       "      <td>109.13</td>\n",
       "      <td>33.47</td>\n",
       "      <td>44.97</td>\n",
       "      <td>NaN</td>\n",
       "      <td>26.38</td>\n",
       "      <td>87.21</td>\n",
       "      <td>48.20</td>\n",
       "      <td>...</td>\n",
       "      <td>65.50</td>\n",
       "      <td>100.66</td>\n",
       "      <td>15.11</td>\n",
       "      <td>110.66</td>\n",
       "      <td>24.63</td>\n",
       "      <td>38.14</td>\n",
       "      <td>26.48</td>\n",
       "      <td>NaN</td>\n",
       "      <td>166.14</td>\n",
       "      <td>NaN</td>\n",
       "    </tr>\n",
       "    <tr>\n",
       "      <th>2015-01-05</th>\n",
       "      <td>41.07</td>\n",
       "      <td>49.26</td>\n",
       "      <td>11.45</td>\n",
       "      <td>107.67</td>\n",
       "      <td>32.87</td>\n",
       "      <td>44.96</td>\n",
       "      <td>NaN</td>\n",
       "      <td>26.32</td>\n",
       "      <td>87.23</td>\n",
       "      <td>47.60</td>\n",
       "      <td>...</td>\n",
       "      <td>64.25</td>\n",
       "      <td>100.75</td>\n",
       "      <td>15.50</td>\n",
       "      <td>110.91</td>\n",
       "      <td>24.62</td>\n",
       "      <td>37.67</td>\n",
       "      <td>27.12</td>\n",
       "      <td>NaN</td>\n",
       "      <td>163.22</td>\n",
       "      <td>NaN</td>\n",
       "    </tr>\n",
       "    <tr>\n",
       "      <th>2015-01-06</th>\n",
       "      <td>40.70</td>\n",
       "      <td>48.70</td>\n",
       "      <td>11.86</td>\n",
       "      <td>105.81</td>\n",
       "      <td>32.73</td>\n",
       "      <td>45.06</td>\n",
       "      <td>NaN</td>\n",
       "      <td>26.41</td>\n",
       "      <td>87.21</td>\n",
       "      <td>47.11</td>\n",
       "      <td>...</td>\n",
       "      <td>63.61</td>\n",
       "      <td>100.75</td>\n",
       "      <td>15.83</td>\n",
       "      <td>111.25</td>\n",
       "      <td>24.53</td>\n",
       "      <td>37.70</td>\n",
       "      <td>27.05</td>\n",
       "      <td>NaN</td>\n",
       "      <td>161.62</td>\n",
       "      <td>NaN</td>\n",
       "    </tr>\n",
       "    <tr>\n",
       "      <th>2015-01-07</th>\n",
       "      <td>41.16</td>\n",
       "      <td>49.24</td>\n",
       "      <td>11.71</td>\n",
       "      <td>107.11</td>\n",
       "      <td>33.44</td>\n",
       "      <td>45.03</td>\n",
       "      <td>NaN</td>\n",
       "      <td>26.33</td>\n",
       "      <td>87.21</td>\n",
       "      <td>47.72</td>\n",
       "      <td>...</td>\n",
       "      <td>64.62</td>\n",
       "      <td>100.83</td>\n",
       "      <td>15.85</td>\n",
       "      <td>111.35</td>\n",
       "      <td>24.71</td>\n",
       "      <td>38.07</td>\n",
       "      <td>26.52</td>\n",
       "      <td>NaN</td>\n",
       "      <td>163.64</td>\n",
       "      <td>NaN</td>\n",
       "    </tr>\n",
       "    <tr>\n",
       "      <th>2015-01-08</th>\n",
       "      <td>42.14</td>\n",
       "      <td>49.91</td>\n",
       "      <td>12.07</td>\n",
       "      <td>108.93</td>\n",
       "      <td>34.01</td>\n",
       "      <td>45.01</td>\n",
       "      <td>NaN</td>\n",
       "      <td>26.30</td>\n",
       "      <td>87.21</td>\n",
       "      <td>48.30</td>\n",
       "      <td>...</td>\n",
       "      <td>65.59</td>\n",
       "      <td>100.67</td>\n",
       "      <td>15.64</td>\n",
       "      <td>111.22</td>\n",
       "      <td>24.99</td>\n",
       "      <td>38.33</td>\n",
       "      <td>26.38</td>\n",
       "      <td>NaN</td>\n",
       "      <td>166.51</td>\n",
       "      <td>NaN</td>\n",
       "    </tr>\n",
       "    <tr>\n",
       "      <th>...</th>\n",
       "      <td>...</td>\n",
       "      <td>...</td>\n",
       "      <td>...</td>\n",
       "      <td>...</td>\n",
       "      <td>...</td>\n",
       "      <td>...</td>\n",
       "      <td>...</td>\n",
       "      <td>...</td>\n",
       "      <td>...</td>\n",
       "      <td>...</td>\n",
       "      <td>...</td>\n",
       "      <td>...</td>\n",
       "      <td>...</td>\n",
       "      <td>...</td>\n",
       "      <td>...</td>\n",
       "      <td>...</td>\n",
       "      <td>...</td>\n",
       "      <td>...</td>\n",
       "      <td>...</td>\n",
       "      <td>...</td>\n",
       "      <td>...</td>\n",
       "    </tr>\n",
       "    <tr>\n",
       "      <th>2022-04-18</th>\n",
       "      <td>89.14</td>\n",
       "      <td>71.60</td>\n",
       "      <td>10.12</td>\n",
       "      <td>197.62</td>\n",
       "      <td>44.08</td>\n",
       "      <td>51.33</td>\n",
       "      <td>50.22</td>\n",
       "      <td>25.03</td>\n",
       "      <td>91.42</td>\n",
       "      <td>70.81</td>\n",
       "      <td>...</td>\n",
       "      <td>178.94</td>\n",
       "      <td>121.13</td>\n",
       "      <td>23.87</td>\n",
       "      <td>120.16</td>\n",
       "      <td>26.79</td>\n",
       "      <td>75.68</td>\n",
       "      <td>29.85</td>\n",
       "      <td>66.26</td>\n",
       "      <td>402.59</td>\n",
       "      <td>42.03</td>\n",
       "    </tr>\n",
       "    <tr>\n",
       "      <th>2022-04-19</th>\n",
       "      <td>89.98</td>\n",
       "      <td>71.94</td>\n",
       "      <td>9.84</td>\n",
       "      <td>201.56</td>\n",
       "      <td>43.86</td>\n",
       "      <td>51.23</td>\n",
       "      <td>50.22</td>\n",
       "      <td>24.86</td>\n",
       "      <td>91.41</td>\n",
       "      <td>71.14</td>\n",
       "      <td>...</td>\n",
       "      <td>184.13</td>\n",
       "      <td>120.53</td>\n",
       "      <td>23.24</td>\n",
       "      <td>119.53</td>\n",
       "      <td>26.82</td>\n",
       "      <td>76.17</td>\n",
       "      <td>29.67</td>\n",
       "      <td>67.58</td>\n",
       "      <td>409.02</td>\n",
       "      <td>41.95</td>\n",
       "    </tr>\n",
       "    <tr>\n",
       "      <th>2022-04-20</th>\n",
       "      <td>90.55</td>\n",
       "      <td>72.42</td>\n",
       "      <td>9.82</td>\n",
       "      <td>202.33</td>\n",
       "      <td>43.60</td>\n",
       "      <td>51.31</td>\n",
       "      <td>50.22</td>\n",
       "      <td>25.03</td>\n",
       "      <td>91.43</td>\n",
       "      <td>71.58</td>\n",
       "      <td>...</td>\n",
       "      <td>181.76</td>\n",
       "      <td>121.42</td>\n",
       "      <td>23.28</td>\n",
       "      <td>119.90</td>\n",
       "      <td>26.82</td>\n",
       "      <td>76.79</td>\n",
       "      <td>29.88</td>\n",
       "      <td>64.65</td>\n",
       "      <td>408.71</td>\n",
       "      <td>41.84</td>\n",
       "    </tr>\n",
       "    <tr>\n",
       "      <th>2022-04-21</th>\n",
       "      <td>89.07</td>\n",
       "      <td>71.64</td>\n",
       "      <td>9.91</td>\n",
       "      <td>197.80</td>\n",
       "      <td>42.76</td>\n",
       "      <td>51.12</td>\n",
       "      <td>50.20</td>\n",
       "      <td>24.83</td>\n",
       "      <td>91.43</td>\n",
       "      <td>70.75</td>\n",
       "      <td>...</td>\n",
       "      <td>180.00</td>\n",
       "      <td>121.90</td>\n",
       "      <td>22.79</td>\n",
       "      <td>119.41</td>\n",
       "      <td>26.68</td>\n",
       "      <td>75.52</td>\n",
       "      <td>29.40</td>\n",
       "      <td>62.81</td>\n",
       "      <td>402.65</td>\n",
       "      <td>41.75</td>\n",
       "    </tr>\n",
       "    <tr>\n",
       "      <th>2022-04-22</th>\n",
       "      <td>85.74</td>\n",
       "      <td>70.47</td>\n",
       "      <td>9.57</td>\n",
       "      <td>192.68</td>\n",
       "      <td>42.38</td>\n",
       "      <td>51.03</td>\n",
       "      <td>50.21</td>\n",
       "      <td>24.66</td>\n",
       "      <td>91.42</td>\n",
       "      <td>69.55</td>\n",
       "      <td>...</td>\n",
       "      <td>175.82</td>\n",
       "      <td>121.42</td>\n",
       "      <td>22.31</td>\n",
       "      <td>119.46</td>\n",
       "      <td>26.73</td>\n",
       "      <td>74.25</td>\n",
       "      <td>28.94</td>\n",
       "      <td>61.32</td>\n",
       "      <td>391.66</td>\n",
       "      <td>41.60</td>\n",
       "    </tr>\n",
       "  </tbody>\n",
       "</table>\n",
       "<p>1840 rows × 69 columns</p>\n",
       "</div>"
      ],
      "text/plain": [
       "             XLB   EFA  CANE    IWM   EEM  BNDX  JPST   BWX   BIL   VPL  ...  \\\n",
       "Date                                                                     ...   \n",
       "2015-01-02 42.14 50.45 11.59 109.13 33.47 44.97   NaN 26.38 87.21 48.20  ...   \n",
       "2015-01-05 41.07 49.26 11.45 107.67 32.87 44.96   NaN 26.32 87.23 47.60  ...   \n",
       "2015-01-06 40.70 48.70 11.86 105.81 32.73 45.06   NaN 26.41 87.21 47.11  ...   \n",
       "2015-01-07 41.16 49.24 11.71 107.11 33.44 45.03   NaN 26.33 87.21 47.72  ...   \n",
       "2015-01-08 42.14 49.91 12.07 108.93 34.01 45.01   NaN 26.30 87.21 48.30  ...   \n",
       "...          ...   ...   ...    ...   ...   ...   ...   ...   ...   ...  ...   \n",
       "2022-04-18 89.14 71.60 10.12 197.62 44.08 51.33 50.22 25.03 91.42 70.81  ...   \n",
       "2022-04-19 89.98 71.94  9.84 201.56 43.86 51.23 50.22 24.86 91.41 71.14  ...   \n",
       "2022-04-20 90.55 72.42  9.82 202.33 43.60 51.31 50.22 25.03 91.43 71.58  ...   \n",
       "2022-04-21 89.07 71.64  9.91 197.80 42.76 51.12 50.20 24.83 91.43 70.75  ...   \n",
       "2022-04-22 85.74 70.47  9.57 192.68 42.38 51.03 50.21 24.66 91.42 69.55  ...   \n",
       "\n",
       "              XLY    TIP   SLV    IEI   DBV   XLU  CORN   XLC    VOO   FUT  \n",
       "Date                                                                        \n",
       "2015-01-02  65.50 100.66 15.11 110.66 24.63 38.14 26.48   NaN 166.14   NaN  \n",
       "2015-01-05  64.25 100.75 15.50 110.91 24.62 37.67 27.12   NaN 163.22   NaN  \n",
       "2015-01-06  63.61 100.75 15.83 111.25 24.53 37.70 27.05   NaN 161.62   NaN  \n",
       "2015-01-07  64.62 100.83 15.85 111.35 24.71 38.07 26.52   NaN 163.64   NaN  \n",
       "2015-01-08  65.59 100.67 15.64 111.22 24.99 38.33 26.38   NaN 166.51   NaN  \n",
       "...           ...    ...   ...    ...   ...   ...   ...   ...    ...   ...  \n",
       "2022-04-18 178.94 121.13 23.87 120.16 26.79 75.68 29.85 66.26 402.59 42.03  \n",
       "2022-04-19 184.13 120.53 23.24 119.53 26.82 76.17 29.67 67.58 409.02 41.95  \n",
       "2022-04-20 181.76 121.42 23.28 119.90 26.82 76.79 29.88 64.65 408.71 41.84  \n",
       "2022-04-21 180.00 121.90 22.79 119.41 26.68 75.52 29.40 62.81 402.65 41.75  \n",
       "2022-04-22 175.82 121.42 22.31 119.46 26.73 74.25 28.94 61.32 391.66 41.60  \n",
       "\n",
       "[1840 rows x 69 columns]"
      ]
     },
     "execution_count": 10,
     "metadata": {},
     "output_type": "execute_result"
    }
   ],
   "source": [
    "df = pd.read_csv('symbols-timeseries.csv', skip_blank_lines=True, comment='#')\n",
    "df.set_index(\"Date\", inplace=True)\n",
    "df"
   ]
  },
  {
   "cell_type": "code",
   "execution_count": 9,
   "metadata": {},
   "outputs": [
    {
     "data": {
      "text/plain": [
       "0.7968472191390736"
      ]
     },
     "execution_count": 9,
     "metadata": {},
     "output_type": "execute_result"
    },
    {
     "data": {
      "image/png": "[encoded data removed]",
      "text/plain": [
       "<Figure size 1152x864 with 2 Axes>"
      ]
     },
     "metadata": {
      "needs_background": "light"
     },
     "output_type": "display_data"
    }
   ],
   "source": [
    "corr_map = bb.correlation_map(df, method='log', days=bb.TRADING_DAYS_PER_YEAR)\n",
    "# Sample correlation value.\n",
    "corr_map['SPY']['VXUS']"
   ]
  },
  {
   "cell_type": "code",
   "execution_count": 10,
   "metadata": {},
   "outputs": [],
   "source": [
    "# Read asset-classes-in.csv\n",
    "lines = []\n",
    "with open('asset-classes-in.csv', 'r') as f:\n",
    "    lines = [line.strip() for line in f]\n",
    "#lines"
   ]
  },
  {
   "cell_type": "code",
   "execution_count": 11,
   "metadata": {
    "scrolled": true
   },
   "outputs": [],
   "source": [
    "# Calculate the pair correlations between the assets and write the resuls to a list.\n",
    "out = []\n",
    "for line in lines:\n",
    "    # Copy empty and comment lines.\n",
    "    if not line or line.startswith('#'):\n",
    "        out.append(line)\n",
    "        continue\n",
    "    # Split line by comma delimiter; strip the fields.\n",
    "    fields = line.split(',')\n",
    "    fields = [field.strip() for field in fields]\n",
    "    assetA = fields[0].strip('\\\"')\n",
    "    assetB = fields[1].strip('\\\"')\n",
    "    # copy same asset lines and header\n",
    "    if assetA == assetB or assetA == 'Asset Class A':\n",
    "        out.append(line)\n",
    "        continue\n",
    "    # Use asset2etf to get a representative ETF for the asset,\n",
    "    # then calculate the correlation.  The ETF pair correlation is\n",
    "    # a proxy for the correlation of an asset pair.\n",
    "    etfA = asset2etf[assetA]\n",
    "    etfB = asset2etf[assetB]\n",
    "    corrAB = corr_map.loc[etfA, etfB]\n",
    "    out.append(f'\"{assetA}\",\"{assetB}\",\"{corrAB:0.2f}\"')   "
   ]
  },
  {
   "cell_type": "code",
   "execution_count": 12,
   "metadata": {},
   "outputs": [],
   "source": [
    "# Write out asset-classes.csv\n",
    "with open('asset-classes.csv', 'w') as f:\n",
    "    for line in out:\n",
    "        f.write(line + '\\n')"
   ]
  },
  {
   "cell_type": "code",
   "execution_count": 13,
   "metadata": {},
   "outputs": [],
   "source": [
    "# Sample symbol.\n",
    "symbol = 'SPY'"
   ]
  },
  {
   "cell_type": "code",
   "execution_count": 14,
   "metadata": {},
   "outputs": [
    {
     "data": {
      "text/plain": [
       "2.566069457768827"
      ]
     },
     "execution_count": 14,
     "metadata": {},
     "output_type": "execute_result"
    }
   ],
   "source": [
    "annual_returns = bb.annualized_returns(df, timeperiod='daily', years=1)\n",
    "annual_returns[symbol]"
   ]
  },
  {
   "cell_type": "code",
   "execution_count": 15,
   "metadata": {},
   "outputs": [],
   "source": [
    "# Calculate 1 month, 3 months, 1 year, 3 year, and 5 year annualized returns.\n",
    "annual_returns_1mo = bb.annualized_returns(df, timeperiod='daily', years=1/12)\n",
    "annual_returns_3mo = bb.annualized_returns(df, timeperiod='daily', years=3/12)\n",
    "annual_returns_1yr = bb.annualized_returns(df, timeperiod='daily', years=1)\n",
    "annual_returns_3yr = bb.annualized_returns(df, timeperiod='daily', years=3)\n",
    "annual_returns_5yr = bb.annualized_returns(df, timeperiod='daily', years=5)"
   ]
  },
  {
   "cell_type": "code",
   "execution_count": 16,
   "metadata": {},
   "outputs": [
    {
     "data": {
      "text/plain": [
       "0.179520311561159"
      ]
     },
     "execution_count": 16,
     "metadata": {},
     "output_type": "execute_result"
    }
   ],
   "source": [
    "# Calculate 20 day annualized volatility.\n",
    "daily_returns = df.pct_change()\n",
    "years = bb.TRADING_DAYS_PER_MONTH / bb.TRADING_DAYS_PER_YEAR\n",
    "vola = bb.annualized_standard_deviation(daily_returns, timeperiod='daily', years=years)\n",
    "vola[symbol]"
   ]
  },
  {
   "cell_type": "code",
   "execution_count": 17,
   "metadata": {},
   "outputs": [
    {
     "data": {
      "text/plain": [
       "0.12398966075855984"
      ]
     },
     "execution_count": 17,
     "metadata": {},
     "output_type": "execute_result"
    }
   ],
   "source": [
    "# Calculate 20 day annualized downside volatility.\n",
    "ds_vola = bb.annualized_standard_deviation(daily_returns, timeperiod='daily', years=years, downside=True)\n",
    "ds_vola[symbol]"
   ]
  },
  {
   "cell_type": "code",
   "execution_count": 18,
   "metadata": {},
   "outputs": [
    {
     "name": "stdout",
     "output_type": "stream",
     "text": [
      "Date\n",
      "2015-01-31   176.27\n",
      "2015-02-28   186.18\n",
      "2015-03-31   183.25\n",
      "2015-04-30   185.06\n",
      "2015-05-31   187.44\n",
      "2015-06-30   183.63\n",
      "2015-07-31   187.78\n",
      "2015-08-31   176.33\n",
      "2015-09-30   171.83\n",
      "2015-10-31   186.45\n",
      "2015-11-30   187.13\n",
      "2015-12-31   183.90\n",
      "2016-01-31   174.74\n",
      "2016-02-29   174.60\n",
      "2016-03-31   186.34\n",
      "2016-04-30   187.07\n",
      "2016-05-31   190.26\n",
      "2016-06-30   190.92\n",
      "2016-07-31   197.88\n",
      "2016-08-31   198.12\n",
      "2016-09-30   198.13\n",
      "2016-10-31   194.69\n",
      "2016-11-30   201.87\n",
      "2016-12-31   205.96\n",
      "2017-01-31   209.64\n",
      "2017-02-28   217.88\n",
      "2017-03-31   218.15\n",
      "2017-04-30   220.32\n",
      "2017-05-31   223.43\n",
      "2017-06-30   224.85\n",
      "2017-07-31   229.47\n",
      "2017-08-31   230.14\n",
      "2017-09-30   234.78\n",
      "2017-10-31   240.31\n",
      "2017-11-30   247.66\n",
      "2017-12-31   250.66\n",
      "2018-01-31   264.79\n",
      "2018-02-28   255.16\n",
      "2018-03-31   248.17\n",
      "2018-04-30   249.45\n",
      "2018-05-31   255.51\n",
      "2018-06-30   256.98\n",
      "2018-07-31   266.50\n",
      "2018-08-31   275.01\n",
      "2018-09-30   276.65\n",
      "2018-10-31   257.53\n",
      "2018-11-30   262.31\n",
      "2018-12-31   239.21\n",
      "2019-01-31   258.36\n",
      "2019-02-28   266.74\n",
      "2019-03-31   271.57\n",
      "2019-04-30   282.66\n",
      "2019-05-31   264.63\n",
      "2019-06-30   283.05\n",
      "2019-07-31   287.33\n",
      "2019-08-31   282.52\n",
      "2019-09-30   288.02\n",
      "2019-10-31   294.38\n",
      "2019-11-30   305.04\n",
      "2019-12-31   313.90\n",
      "2020-01-31   313.77\n",
      "2020-02-29   288.93\n",
      "2020-03-31   252.85\n",
      "2020-04-30   284.96\n",
      "2020-05-31   298.54\n",
      "2020-06-30   303.83\n",
      "2020-07-31   321.73\n",
      "2020-08-31   344.18\n",
      "2020-09-30   331.30\n",
      "2020-10-31   323.04\n",
      "2020-11-30   358.17\n",
      "2020-12-31   371.44\n",
      "2021-01-31   367.66\n",
      "2021-02-28   377.88\n",
      "2021-03-31   395.04\n",
      "2021-04-30   415.94\n",
      "2021-05-31   418.67\n",
      "2021-06-30   428.06\n",
      "2021-07-31   438.51\n",
      "2021-08-31   451.56\n",
      "2021-09-30   429.14\n",
      "2021-10-31   459.25\n",
      "2021-11-30   455.56\n",
      "2021-12-31   474.96\n",
      "2022-01-31   449.91\n",
      "2022-02-28   436.63\n",
      "2022-03-31   451.64\n",
      "2022-04-30   426.04\n",
      "Freq: M, Name: SPY, dtype: float64\n"
     ]
    }
   ],
   "source": [
    "# Resample df on a monthly basis.\n",
    "df.index = pd.to_datetime(df.index)\n",
    "monthly = df.resample('M').ffill()\n",
    "bb.print_full(monthly[symbol])"
   ]
  },
  {
   "cell_type": "code",
   "execution_count": 19,
   "metadata": {},
   "outputs": [
    {
     "data": {
      "text/plain": [
       "Date\n",
       "2015-01-31     NaN\n",
       "2015-02-28    0.06\n",
       "2015-03-31   -0.02\n",
       "2015-04-30    0.01\n",
       "2015-05-31    0.01\n",
       "              ... \n",
       "2021-12-31    0.04\n",
       "2022-01-31   -0.05\n",
       "2022-02-28   -0.03\n",
       "2022-03-31    0.03\n",
       "2022-04-30   -0.06\n",
       "Freq: M, Name: SPY, Length: 88, dtype: float64"
      ]
     },
     "execution_count": 19,
     "metadata": {},
     "output_type": "execute_result"
    }
   ],
   "source": [
    "# Calculate monthly returns.\n",
    "monthly_returns = monthly.pct_change()\n",
    "monthly_returns['SPY']"
   ]
  },
  {
   "cell_type": "code",
   "execution_count": 20,
   "metadata": {},
   "outputs": [
    {
     "data": {
      "text/plain": [
       "0.17866380552169678"
      ]
     },
     "execution_count": 20,
     "metadata": {},
     "output_type": "execute_result"
    }
   ],
   "source": [
    "# Calculate 3 year annualized standard deviation.\n",
    "std_dev = bb.annualized_standard_deviation(monthly_returns, timeperiod='monthly', years=3)\n",
    "std_dev[symbol]"
   ]
  },
  {
   "cell_type": "code",
   "execution_count": 21,
   "metadata": {},
   "outputs": [
    {
     "data": {
      "text/plain": [
       "['# Description: S&P 500 investment options. 09/29/2020',\n",
       " '',\n",
       " '# Format',\n",
       " '\"Investment Option\",\"Asset Class\",\"1 mo\",\"3 mo\",\"1 Yr\",\"3 Yr\",\"5 Yr\",\"Vola\",\"DS Vola\",\"Std Dev\"',\n",
       " '# Note: \"Description\" field is optional']"
      ]
     },
     "execution_count": 21,
     "metadata": {},
     "output_type": "execute_result"
    }
   ],
   "source": [
    "# Read investment-options-header.csv\n",
    "lines = []\n",
    "with open('investment-options-in.csv', 'r') as f:\n",
    "    lines = [line.strip() for line in f]\n",
    "lines"
   ]
  },
  {
   "cell_type": "code",
   "execution_count": 22,
   "metadata": {},
   "outputs": [],
   "source": [
    "# For each symbol, write out the 1 Yr, 3 Yr, 5 Yr, and std dev.\n",
    "out = lines.copy()\n",
    "\n",
    "# This is still slow (2.53 s)\n",
    "for key, value in asset2etf.items():\n",
    "\n",
    "    symbol = value\n",
    "    asset_class = key\n",
    "\n",
    "    ret_1mo = annual_returns_1mo[symbol]\n",
    "    ret_3mo = annual_returns_3mo[symbol]\n",
    "    ret_1yr = annual_returns_1yr[symbol]\n",
    "    ret_3yr = annual_returns_3yr[symbol]\n",
    "    ret_5yr = annual_returns_5yr[symbol]\n",
    "\n",
    "    if np.isnan(ret_3yr): ret_3yr = ret_1yr\n",
    "    if np.isnan(ret_5yr): ret_5yr = ret_3yr\n",
    "    \n",
    "    _vola = vola[symbol]*100\n",
    "    _ds_vola = ds_vola[symbol]*100\n",
    "    sd = std_dev[symbol]*100\n",
    "\n",
    "    out.append(\n",
    "        '\"{}\",\"{}\",\"{:0.2f}\",\"{:0.2f}\",\"{:0.2f}\",\"{:0.2f}\",\"{:0.2f}\",\"{:0.2f}\",\"{:0.2f}\",\"{:0.2f}\"'\n",
    "        .format(asset_class, asset_class,\n",
    "                ret_1mo, ret_3mo, ret_1yr, ret_3yr, ret_5yr, _vola, _ds_vola, sd)) "
   ]
  },
  {
   "cell_type": "code",
   "execution_count": 23,
   "metadata": {},
   "outputs": [],
   "source": [
    "# Write out asset-classes.csv\n",
    "with open('investment-options.csv', 'w') as f:\n",
    "    for line in out:\n",
    "        f.write(line + '\\n')"
   ]
  },
  {
   "cell_type": "code",
   "execution_count": null,
   "metadata": {},
   "outputs": [],
   "source": []
  }
 ],
 "metadata": {
  "kernelspec": {
   "display_name": "Python 3 (ipykernel)",
   "language": "python",
   "name": "python3"
  },
  "language_info": {
   "codemirror_mode": {
    "name": "ipython",
    "version": 3
   },
   "file_extension": ".py",
   "mimetype": "text/x-python",
   "name": "python",
   "nbconvert_exporter": "python",
   "pygments_lexer": "ipython3",
   "version": "3.8.10"
  },
  "latex_envs": {
   "LaTeX_envs_menu_present": true,
   "autoclose": false,
   "autocomplete": true,
   "bibliofile": "biblio.bib",
   "cite_by": "apalike",
   "current_citInitial": 1,
   "eqLabelWithNumbers": true,
   "eqNumInitial": 1,
   "hotkeys": {
    "equation": "Ctrl-E",
    "itemize": "Ctrl-I"
   },
   "labels_anchors": false,
   "latex_user_defs": false,
   "report_style_numbering": false,
   "user_envs_cfg": false
  }
 },
 "nbformat": 4,
 "nbformat_minor": 1
}
