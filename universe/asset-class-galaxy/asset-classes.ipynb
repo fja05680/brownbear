{
 "cells": [
  {
   "cell_type": "markdown",
   "metadata": {},
   "source": [
    "Use this utlity to update the correlations between asset classes in universe/asset-prices.csv\n",
    "\n",
    "input files:\n",
    "- asset-classes-2-etf.csv: mapping of asset classes to a representative ETF to use for calculating correlations\n",
    "- asset-classes-in.csv: asset pairs for which to calculate correlations\n",
    "\n",
    "output files:\n",
    "- symbols-cache/'symbol'.csv: timeseries for each symbol \n",
    "- symbols-timeseries.csv: compiled timeseries for symbols\n",
    "- asset-classes.csv: asset class pairs with correlations"
   ]
  },
  {
   "cell_type": "code",
   "execution_count": 24,
   "metadata": {
    "ExecuteTime": {
     "end_time": "2019-08-05T19:30:28.821735Z",
     "start_time": "2019-08-05T19:30:28.795344Z"
    }
   },
   "outputs": [
    {
     "data": {
      "application/javascript": [
       "IPython.OutputArea.prototype._should_scroll = function(lines) {\n",
       "    return false;\n",
       "}\n"
      ],
      "text/plain": [
       "<IPython.core.display.Javascript object>"
      ]
     },
     "metadata": {},
     "output_type": "display_data"
    }
   ],
   "source": [
    "%%javascript\n",
    "IPython.OutputArea.prototype._should_scroll = function(lines) {\n",
    "    return false;\n",
    "}"
   ]
  },
  {
   "cell_type": "code",
   "execution_count": 25,
   "metadata": {
    "ExecuteTime": {
     "end_time": "2019-08-05T19:30:29.630182Z",
     "start_time": "2019-08-05T19:30:28.824991Z"
    }
   },
   "outputs": [],
   "source": [
    "import matplotlib.pyplot as plt\n",
    "import numpy as np\n",
    "import pandas as pd\n",
    "\n",
    "import brownbear as bb\n",
    "\n",
    "# Format price data.\n",
    "pd.options.display.float_format = '{:0.2f}'.format\n",
    "\n",
    "%matplotlib inline"
   ]
  },
  {
   "cell_type": "code",
   "execution_count": 26,
   "metadata": {},
   "outputs": [],
   "source": [
    "# Set size of inline plots.\n",
    "'''note: rcParams can't be in same cell as import matplotlib\n",
    "   or %matplotlib inline\n",
    "   \n",
    "   %matplotlib notebook: will lead to interactive plots embedded within\n",
    "   the notebook, you can zoom and resize the figure\n",
    "   \n",
    "   %matplotlib inline: only draw static images in the notebook\n",
    "'''\n",
    "plt.rcParams[\"figure.figsize\"] = (10, 7)"
   ]
  },
  {
   "cell_type": "markdown",
   "metadata": {},
   "source": [
    "Globals"
   ]
  },
  {
   "cell_type": "code",
   "execution_count": 27,
   "metadata": {},
   "outputs": [],
   "source": [
    "# Set refresh_timeseries=True to download timeseries.  Otherwise /symbol-cache is used.\n",
    "refresh_timeseries = True"
   ]
  },
  {
   "cell_type": "code",
   "execution_count": 28,
   "metadata": {},
   "outputs": [
    {
     "data": {
      "text/plain": [
       "{'US Stocks': 'VTSMX',\n",
       " 'Global Stocks': 'VXUS',\n",
       " 'US Bonds': 'AGG',\n",
       " 'Global Bonds': 'BNDX',\n",
       " 'Cash Equivalents': 'BIL',\n",
       " 'Real Estate': 'VNQ',\n",
       " 'Commodities': 'DBC',\n",
       " 'Currencies': 'UUP',\n",
       " 'Managed Futures': 'CTA',\n",
       " 'Balanced': 'AOM',\n",
       " 'Risk-Free Asset': 'BIL',\n",
       " 'US Stocks:Large Cap': 'SPY',\n",
       " 'US Stocks:Mid Cap': 'MDY',\n",
       " 'US Stocks:Small Cap': 'IWM',\n",
       " 'US Stocks:Growth': 'QQQ',\n",
       " 'US Stocks:Growth and Income': 'VOO',\n",
       " 'US Stocks:Value': 'IWD',\n",
       " 'US Stocks:Total Stock Market': 'VTI',\n",
       " 'US Stocks:Materials': 'XLB',\n",
       " 'US Stocks:Communication Services': 'XLC',\n",
       " 'US Stocks:Energy': 'XLE',\n",
       " 'US Stocks:Financials': 'XLF',\n",
       " 'US Stocks:Industrials': 'XLI',\n",
       " 'US Stocks:Technology': 'XLK',\n",
       " 'US Stocks:Consumer Staples': 'XLP',\n",
       " 'US Stocks:Real Estate': 'XLRE',\n",
       " 'US Stocks:Utilities': 'XLU',\n",
       " 'US Stocks:Healthcare': 'XLV',\n",
       " 'US Stocks:Consumer Discretionary': 'XLY',\n",
       " 'Global Stocks:Asia': 'VPL',\n",
       " 'Global Stocks:Developed Markets': 'EFA',\n",
       " 'Global Stocks:Emerging Markets': 'EEM',\n",
       " 'Global Stocks:Europe': 'IEUR',\n",
       " 'Global Stocks:EX-US': 'VXUS',\n",
       " 'US Bonds:Investment Grade': 'LQD',\n",
       " 'US Bonds:High Yield': 'JNK',\n",
       " 'US Bonds:Preferred Stock': 'PFF',\n",
       " 'US Bonds:Treasury Bills (T-bills)': 'BIL',\n",
       " 'US Bonds:Treasury Notes (T-notes)': 'IEI',\n",
       " 'US Bonds:Treasury Bonds (T-bonds)': 'TLT',\n",
       " 'US Bonds:Treasury Inflation-Protected Securities (TIPS)': 'TIP',\n",
       " 'Global Bonds:Investment Grade Corp': 'IBND',\n",
       " 'Global Bonds:Investment Grade Treasury': 'BWX',\n",
       " 'Global Bonds:Emerging Markets Gov': 'EBND',\n",
       " 'Global Bonds:Short Term Treasury': 'BWZ',\n",
       " 'Cash Equivalents:Money Markets': 'JPST',\n",
       " 'Cash Equivalents:Treasury Bills (T-bills)': 'BIL',\n",
       " 'Real Estate:REIT': 'IYR',\n",
       " 'Real Estate:Real Estate Funds': 'VNQ',\n",
       " 'Commodities:Gold': 'GLD',\n",
       " 'Commodities:Silver': 'SLV',\n",
       " 'Commodities:Cooper': 'CPER',\n",
       " 'Commodities:Platinum': 'PPLT',\n",
       " 'Commodities:Palladium': 'PALL',\n",
       " 'Commodities:Oil': 'USO',\n",
       " 'Commodities:Natural Gas': 'UNG',\n",
       " 'Commodities:Gasoline': 'UGA',\n",
       " 'Commodities:Corn': 'CORN',\n",
       " 'Commodities:Sugar': 'CANE',\n",
       " 'Commodities:Agriculture': 'DBA',\n",
       " 'Commodities:Base Metals': 'DBB',\n",
       " 'Commodities:Energy': 'DBE',\n",
       " 'Commodities:Precious Metals': 'DBP',\n",
       " 'Currencies:US Dollar': 'UUP',\n",
       " 'Currencies:Euro': 'FXE',\n",
       " 'Currencies:Japanese Yen': 'FXY',\n",
       " 'Currencies:Swiss Franc': 'FXF',\n",
       " 'Currencies:Australian Dollar': 'FXA',\n",
       " 'Currencies:Canadian Dollar': 'FXC',\n",
       " 'Currencies:British Pound': 'FXB',\n",
       " 'Currencies:Cryptocurrency': 'BITW',\n",
       " 'Balanced:Conservative Allocation (30/70)': 'AOK',\n",
       " 'Balanced:Moderate Allocation (40/60)': 'AOM',\n",
       " 'Balanced:Growth Allocation (60/40)': 'AOR',\n",
       " 'Balanced:Aggressive Allocation (80/20)': 'AOA'}"
      ]
     },
     "execution_count": 28,
     "metadata": {},
     "output_type": "execute_result"
    }
   ],
   "source": [
    "# asset2etf dict provides a mapping from the asset name to a representative ETF.\n",
    "asset2etf = pd.read_csv('asset-classes-2-etf.csv', skip_blank_lines=True, comment='#')\n",
    "asset2etf = asset2etf.set_index(['Asset Class'])\n",
    "asset2etf = asset2etf['ETF'].to_dict()\n",
    "asset2etf"
   ]
  },
  {
   "cell_type": "code",
   "execution_count": 29,
   "metadata": {},
   "outputs": [],
   "source": [
    "symbols = set(asset2etf.values())"
   ]
  },
  {
   "cell_type": "code",
   "execution_count": 30,
   "metadata": {},
   "outputs": [
    {
     "name": "stdout",
     "output_type": "stream",
     "text": [
      "VOO DBE XLY IWM FXF IBND JPST BNDX XLB AOA IEUR QQQ AOK VTSMX SLV CORN XLE VNQ DBP PFF PPLT UGA IEI CPER FXY LQD GLD BIL UNG FXB PALL FXA XLP CTA IWD SPY EFA USO VPL FXC EBND XLI DBA XLU VXUS IYR AOR FXE XLF MDY AGG AOM XLV CANE DBB XLRE BITW JNK BWX EEM DBC XLK TLT UUP XLC TIP VTI BWZ \n"
     ]
    }
   ],
   "source": [
    "bb.fetch_timeseries(symbols, refresh=refresh_timeseries)\n",
    "bb.compile_timeseries(symbols)"
   ]
  },
  {
   "cell_type": "code",
   "execution_count": 31,
   "metadata": {},
   "outputs": [
    {
     "data": {
      "text/html": [
       "<div>\n",
       "<style scoped>\n",
       "    .dataframe tbody tr th:only-of-type {\n",
       "        vertical-align: middle;\n",
       "    }\n",
       "\n",
       "    .dataframe tbody tr th {\n",
       "        vertical-align: top;\n",
       "    }\n",
       "\n",
       "    .dataframe thead th {\n",
       "        text-align: right;\n",
       "    }\n",
       "</style>\n",
       "<table border=\"1\" class=\"dataframe\">\n",
       "  <thead>\n",
       "    <tr style=\"text-align: right;\">\n",
       "      <th></th>\n",
       "      <th>VOO</th>\n",
       "      <th>DBE</th>\n",
       "      <th>XLY</th>\n",
       "      <th>IWM</th>\n",
       "      <th>FXF</th>\n",
       "      <th>IBND</th>\n",
       "      <th>JPST</th>\n",
       "      <th>BNDX</th>\n",
       "      <th>XLB</th>\n",
       "      <th>AOA</th>\n",
       "      <th>...</th>\n",
       "      <th>BWX</th>\n",
       "      <th>EEM</th>\n",
       "      <th>DBC</th>\n",
       "      <th>XLK</th>\n",
       "      <th>TLT</th>\n",
       "      <th>UUP</th>\n",
       "      <th>XLC</th>\n",
       "      <th>TIP</th>\n",
       "      <th>VTI</th>\n",
       "      <th>BWZ</th>\n",
       "    </tr>\n",
       "    <tr>\n",
       "      <th>Date</th>\n",
       "      <th></th>\n",
       "      <th></th>\n",
       "      <th></th>\n",
       "      <th></th>\n",
       "      <th></th>\n",
       "      <th></th>\n",
       "      <th></th>\n",
       "      <th></th>\n",
       "      <th></th>\n",
       "      <th></th>\n",
       "      <th></th>\n",
       "      <th></th>\n",
       "      <th></th>\n",
       "      <th></th>\n",
       "      <th></th>\n",
       "      <th></th>\n",
       "      <th></th>\n",
       "      <th></th>\n",
       "      <th></th>\n",
       "      <th></th>\n",
       "      <th></th>\n",
       "    </tr>\n",
       "  </thead>\n",
       "  <tbody>\n",
       "    <tr>\n",
       "      <th>2019-01-02</th>\n",
       "      <td>208.51</td>\n",
       "      <td>11.06</td>\n",
       "      <td>94.30</td>\n",
       "      <td>124.58</td>\n",
       "      <td>94.11</td>\n",
       "      <td>30.44</td>\n",
       "      <td>42.25</td>\n",
       "      <td>45.21</td>\n",
       "      <td>44.93</td>\n",
       "      <td>42.66</td>\n",
       "      <td>...</td>\n",
       "      <td>25.45</td>\n",
       "      <td>34.12</td>\n",
       "      <td>12.86</td>\n",
       "      <td>58.50</td>\n",
       "      <td>104.66</td>\n",
       "      <td>22.41</td>\n",
       "      <td>39.62</td>\n",
       "      <td>90.83</td>\n",
       "      <td>116.14</td>\n",
       "      <td>28.86</td>\n",
       "    </tr>\n",
       "    <tr>\n",
       "      <th>2019-01-03</th>\n",
       "      <td>203.53</td>\n",
       "      <td>11.19</td>\n",
       "      <td>92.26</td>\n",
       "      <td>122.35</td>\n",
       "      <td>94.38</td>\n",
       "      <td>30.45</td>\n",
       "      <td>42.28</td>\n",
       "      <td>45.21</td>\n",
       "      <td>43.66</td>\n",
       "      <td>42.13</td>\n",
       "      <td>...</td>\n",
       "      <td>25.56</td>\n",
       "      <td>33.50</td>\n",
       "      <td>12.97</td>\n",
       "      <td>55.55</td>\n",
       "      <td>105.85</td>\n",
       "      <td>22.29</td>\n",
       "      <td>38.96</td>\n",
       "      <td>91.36</td>\n",
       "      <td>113.45</td>\n",
       "      <td>29.06</td>\n",
       "    </tr>\n",
       "    <tr>\n",
       "      <th>2019-01-04</th>\n",
       "      <td>210.25</td>\n",
       "      <td>11.40</td>\n",
       "      <td>95.32</td>\n",
       "      <td>126.92</td>\n",
       "      <td>94.48</td>\n",
       "      <td>30.53</td>\n",
       "      <td>42.28</td>\n",
       "      <td>45.17</td>\n",
       "      <td>45.38</td>\n",
       "      <td>43.17</td>\n",
       "      <td>...</td>\n",
       "      <td>25.54</td>\n",
       "      <td>34.59</td>\n",
       "      <td>13.15</td>\n",
       "      <td>58.01</td>\n",
       "      <td>104.63</td>\n",
       "      <td>22.25</td>\n",
       "      <td>40.63</td>\n",
       "      <td>91.17</td>\n",
       "      <td>117.21</td>\n",
       "      <td>29.07</td>\n",
       "    </tr>\n",
       "    <tr>\n",
       "      <th>2019-01-07</th>\n",
       "      <td>211.83</td>\n",
       "      <td>11.46</td>\n",
       "      <td>97.47</td>\n",
       "      <td>129.14</td>\n",
       "      <td>95.07</td>\n",
       "      <td>30.74</td>\n",
       "      <td>42.28</td>\n",
       "      <td>45.06</td>\n",
       "      <td>45.54</td>\n",
       "      <td>43.35</td>\n",
       "      <td>...</td>\n",
       "      <td>25.59</td>\n",
       "      <td>34.66</td>\n",
       "      <td>13.24</td>\n",
       "      <td>58.53</td>\n",
       "      <td>104.32</td>\n",
       "      <td>22.16</td>\n",
       "      <td>41.10</td>\n",
       "      <td>91.11</td>\n",
       "      <td>118.39</td>\n",
       "      <td>29.19</td>\n",
       "    </tr>\n",
       "    <tr>\n",
       "      <th>2019-01-08</th>\n",
       "      <td>213.88</td>\n",
       "      <td>11.68</td>\n",
       "      <td>98.55</td>\n",
       "      <td>131.12</td>\n",
       "      <td>94.92</td>\n",
       "      <td>30.48</td>\n",
       "      <td>42.28</td>\n",
       "      <td>45.03</td>\n",
       "      <td>46.01</td>\n",
       "      <td>43.62</td>\n",
       "      <td>...</td>\n",
       "      <td>25.51</td>\n",
       "      <td>34.79</td>\n",
       "      <td>13.38</td>\n",
       "      <td>59.02</td>\n",
       "      <td>104.04</td>\n",
       "      <td>22.23</td>\n",
       "      <td>41.79</td>\n",
       "      <td>91.18</td>\n",
       "      <td>119.61</td>\n",
       "      <td>29.15</td>\n",
       "    </tr>\n",
       "    <tr>\n",
       "      <th>...</th>\n",
       "      <td>...</td>\n",
       "      <td>...</td>\n",
       "      <td>...</td>\n",
       "      <td>...</td>\n",
       "      <td>...</td>\n",
       "      <td>...</td>\n",
       "      <td>...</td>\n",
       "      <td>...</td>\n",
       "      <td>...</td>\n",
       "      <td>...</td>\n",
       "      <td>...</td>\n",
       "      <td>...</td>\n",
       "      <td>...</td>\n",
       "      <td>...</td>\n",
       "      <td>...</td>\n",
       "      <td>...</td>\n",
       "      <td>...</td>\n",
       "      <td>...</td>\n",
       "      <td>...</td>\n",
       "      <td>...</td>\n",
       "      <td>...</td>\n",
       "    </tr>\n",
       "    <tr>\n",
       "      <th>2025-02-24</th>\n",
       "      <td>549.14</td>\n",
       "      <td>19.44</td>\n",
       "      <td>217.57</td>\n",
       "      <td>216.23</td>\n",
       "      <td>99.01</td>\n",
       "      <td>28.79</td>\n",
       "      <td>50.58</td>\n",
       "      <td>49.09</td>\n",
       "      <td>87.97</td>\n",
       "      <td>78.85</td>\n",
       "      <td>...</td>\n",
       "      <td>21.76</td>\n",
       "      <td>44.21</td>\n",
       "      <td>22.58</td>\n",
       "      <td>231.51</td>\n",
       "      <td>89.87</td>\n",
       "      <td>29.10</td>\n",
       "      <td>103.22</td>\n",
       "      <td>109.16</td>\n",
       "      <td>294.41</td>\n",
       "      <td>25.93</td>\n",
       "    </tr>\n",
       "    <tr>\n",
       "      <th>2025-02-25</th>\n",
       "      <td>546.41</td>\n",
       "      <td>19.15</td>\n",
       "      <td>216.43</td>\n",
       "      <td>215.41</td>\n",
       "      <td>99.53</td>\n",
       "      <td>28.96</td>\n",
       "      <td>50.58</td>\n",
       "      <td>49.28</td>\n",
       "      <td>88.65</td>\n",
       "      <td>78.89</td>\n",
       "      <td>...</td>\n",
       "      <td>21.88</td>\n",
       "      <td>44.24</td>\n",
       "      <td>22.33</td>\n",
       "      <td>228.51</td>\n",
       "      <td>91.42</td>\n",
       "      <td>28.99</td>\n",
       "      <td>101.69</td>\n",
       "      <td>109.62</td>\n",
       "      <td>292.95</td>\n",
       "      <td>26.05</td>\n",
       "    </tr>\n",
       "    <tr>\n",
       "      <th>2025-02-26</th>\n",
       "      <td>546.75</td>\n",
       "      <td>18.96</td>\n",
       "      <td>215.54</td>\n",
       "      <td>215.68</td>\n",
       "      <td>99.35</td>\n",
       "      <td>28.96</td>\n",
       "      <td>50.60</td>\n",
       "      <td>49.38</td>\n",
       "      <td>88.61</td>\n",
       "      <td>78.92</td>\n",
       "      <td>...</td>\n",
       "      <td>21.86</td>\n",
       "      <td>44.68</td>\n",
       "      <td>22.14</td>\n",
       "      <td>231.00</td>\n",
       "      <td>91.96</td>\n",
       "      <td>29.05</td>\n",
       "      <td>101.51</td>\n",
       "      <td>109.71</td>\n",
       "      <td>293.05</td>\n",
       "      <td>25.98</td>\n",
       "    </tr>\n",
       "    <tr>\n",
       "      <th>2025-02-27</th>\n",
       "      <td>537.97</td>\n",
       "      <td>19.19</td>\n",
       "      <td>212.43</td>\n",
       "      <td>212.39</td>\n",
       "      <td>98.77</td>\n",
       "      <td>28.72</td>\n",
       "      <td>50.60</td>\n",
       "      <td>49.33</td>\n",
       "      <td>88.01</td>\n",
       "      <td>78.00</td>\n",
       "      <td>...</td>\n",
       "      <td>21.69</td>\n",
       "      <td>43.81</td>\n",
       "      <td>22.17</td>\n",
       "      <td>222.59</td>\n",
       "      <td>91.31</td>\n",
       "      <td>29.26</td>\n",
       "      <td>100.53</td>\n",
       "      <td>109.58</td>\n",
       "      <td>288.51</td>\n",
       "      <td>25.83</td>\n",
       "    </tr>\n",
       "    <tr>\n",
       "      <th>2025-02-28</th>\n",
       "      <td>546.33</td>\n",
       "      <td>19.03</td>\n",
       "      <td>215.96</td>\n",
       "      <td>214.65</td>\n",
       "      <td>98.34</td>\n",
       "      <td>28.70</td>\n",
       "      <td>50.66</td>\n",
       "      <td>49.50</td>\n",
       "      <td>88.76</td>\n",
       "      <td>78.55</td>\n",
       "      <td>...</td>\n",
       "      <td>21.67</td>\n",
       "      <td>43.21</td>\n",
       "      <td>22.00</td>\n",
       "      <td>225.53</td>\n",
       "      <td>92.43</td>\n",
       "      <td>29.39</td>\n",
       "      <td>102.00</td>\n",
       "      <td>110.34</td>\n",
       "      <td>292.96</td>\n",
       "      <td>25.76</td>\n",
       "    </tr>\n",
       "  </tbody>\n",
       "</table>\n",
       "<p>1549 rows × 68 columns</p>\n",
       "</div>"
      ],
      "text/plain": [
       "              VOO   DBE    XLY    IWM   FXF  IBND  JPST  BNDX   XLB   AOA  \\\n",
       "Date                                                                        \n",
       "2019-01-02 208.51 11.06  94.30 124.58 94.11 30.44 42.25 45.21 44.93 42.66   \n",
       "2019-01-03 203.53 11.19  92.26 122.35 94.38 30.45 42.28 45.21 43.66 42.13   \n",
       "2019-01-04 210.25 11.40  95.32 126.92 94.48 30.53 42.28 45.17 45.38 43.17   \n",
       "2019-01-07 211.83 11.46  97.47 129.14 95.07 30.74 42.28 45.06 45.54 43.35   \n",
       "2019-01-08 213.88 11.68  98.55 131.12 94.92 30.48 42.28 45.03 46.01 43.62   \n",
       "...           ...   ...    ...    ...   ...   ...   ...   ...   ...   ...   \n",
       "2025-02-24 549.14 19.44 217.57 216.23 99.01 28.79 50.58 49.09 87.97 78.85   \n",
       "2025-02-25 546.41 19.15 216.43 215.41 99.53 28.96 50.58 49.28 88.65 78.89   \n",
       "2025-02-26 546.75 18.96 215.54 215.68 99.35 28.96 50.60 49.38 88.61 78.92   \n",
       "2025-02-27 537.97 19.19 212.43 212.39 98.77 28.72 50.60 49.33 88.01 78.00   \n",
       "2025-02-28 546.33 19.03 215.96 214.65 98.34 28.70 50.66 49.50 88.76 78.55   \n",
       "\n",
       "            ...   BWX   EEM   DBC    XLK    TLT   UUP    XLC    TIP    VTI  \\\n",
       "Date        ...                                                              \n",
       "2019-01-02  ... 25.45 34.12 12.86  58.50 104.66 22.41  39.62  90.83 116.14   \n",
       "2019-01-03  ... 25.56 33.50 12.97  55.55 105.85 22.29  38.96  91.36 113.45   \n",
       "2019-01-04  ... 25.54 34.59 13.15  58.01 104.63 22.25  40.63  91.17 117.21   \n",
       "2019-01-07  ... 25.59 34.66 13.24  58.53 104.32 22.16  41.10  91.11 118.39   \n",
       "2019-01-08  ... 25.51 34.79 13.38  59.02 104.04 22.23  41.79  91.18 119.61   \n",
       "...         ...   ...   ...   ...    ...    ...   ...    ...    ...    ...   \n",
       "2025-02-24  ... 21.76 44.21 22.58 231.51  89.87 29.10 103.22 109.16 294.41   \n",
       "2025-02-25  ... 21.88 44.24 22.33 228.51  91.42 28.99 101.69 109.62 292.95   \n",
       "2025-02-26  ... 21.86 44.68 22.14 231.00  91.96 29.05 101.51 109.71 293.05   \n",
       "2025-02-27  ... 21.69 43.81 22.17 222.59  91.31 29.26 100.53 109.58 288.51   \n",
       "2025-02-28  ... 21.67 43.21 22.00 225.53  92.43 29.39 102.00 110.34 292.96   \n",
       "\n",
       "             BWZ  \n",
       "Date              \n",
       "2019-01-02 28.86  \n",
       "2019-01-03 29.06  \n",
       "2019-01-04 29.07  \n",
       "2019-01-07 29.19  \n",
       "2019-01-08 29.15  \n",
       "...          ...  \n",
       "2025-02-24 25.93  \n",
       "2025-02-25 26.05  \n",
       "2025-02-26 25.98  \n",
       "2025-02-27 25.83  \n",
       "2025-02-28 25.76  \n",
       "\n",
       "[1549 rows x 68 columns]"
      ]
     },
     "execution_count": 31,
     "metadata": {},
     "output_type": "execute_result"
    }
   ],
   "source": [
    "df = pd.read_csv('symbols-timeseries.csv', skip_blank_lines=True, comment='#')\n",
    "df.set_index(\"Date\", inplace=True)\n",
    "df"
   ]
  },
  {
   "cell_type": "code",
   "execution_count": 32,
   "metadata": {},
   "outputs": [
    {
     "data": {
      "text/plain": [
       "np.float64(0.7004249860601457)"
      ]
     },
     "execution_count": 32,
     "metadata": {},
     "output_type": "execute_result"
    },
    {
     "data": {
      "image/png": "[encoded data removed]",
      "text/plain": [
       "<Figure size 1600x1200 with 2 Axes>"
      ]
     },
     "metadata": {},
     "output_type": "display_data"
    }
   ],
   "source": [
    "corr_map = bb.correlation_map(df, method='log', days=bb.TRADING_DAYS_PER_YEAR)\n",
    "# Sample correlation value.\n",
    "corr_map['SPY']['VXUS']"
   ]
  },
  {
   "cell_type": "code",
   "execution_count": 33,
   "metadata": {},
   "outputs": [],
   "source": [
    "# Read asset-classes-in.csv\n",
    "lines = []\n",
    "with open('asset-classes-in.csv', 'r') as f:\n",
    "    lines = [line.strip() for line in f]\n",
    "#lines"
   ]
  },
  {
   "cell_type": "code",
   "execution_count": 34,
   "metadata": {
    "scrolled": true
   },
   "outputs": [],
   "source": [
    "# Calculate the pair correlations between the assets and write the resuls to a list.\n",
    "out = []\n",
    "for line in lines:\n",
    "    # Copy empty and comment lines.\n",
    "    if not line or line.startswith('#'):\n",
    "        out.append(line)\n",
    "        continue\n",
    "    # Split line by comma delimiter; strip the fields.\n",
    "    fields = line.split(',')\n",
    "    fields = [field.strip() for field in fields]\n",
    "    assetA = fields[0].strip('\\\"')\n",
    "    assetB = fields[1].strip('\\\"')\n",
    "    # copy same asset lines and header\n",
    "    if assetA == assetB or assetA == 'Asset Class A':\n",
    "        out.append(line)\n",
    "        continue\n",
    "    # Use asset2etf to get a representative ETF for the asset,\n",
    "    # then calculate the correlation.  The ETF pair correlation is\n",
    "    # a proxy for the correlation of an asset pair.\n",
    "    etfA = asset2etf[assetA]\n",
    "    etfB = asset2etf[assetB]\n",
    "    corrAB = corr_map.loc[etfA, etfB]\n",
    "    out.append(f'\"{assetA}\",\"{assetB}\",\"{corrAB:0.2f}\"')   "
   ]
  },
  {
   "cell_type": "code",
   "execution_count": 35,
   "metadata": {},
   "outputs": [],
   "source": [
    "# Write out asset-classes.csv\n",
    "with open('asset-classes.csv', 'w') as f:\n",
    "    for line in out:\n",
    "        f.write(line + '\\n')"
   ]
  },
  {
   "cell_type": "code",
   "execution_count": 36,
   "metadata": {},
   "outputs": [],
   "source": [
    "# Sample symbol.\n",
    "symbol = 'SPY'"
   ]
  },
  {
   "cell_type": "code",
   "execution_count": 37,
   "metadata": {},
   "outputs": [
    {
     "data": {
      "text/plain": [
       "np.float64(18.714957680172905)"
      ]
     },
     "execution_count": 37,
     "metadata": {},
     "output_type": "execute_result"
    }
   ],
   "source": [
    "annual_returns = bb.annualized_returns(df, timeperiod='daily', years=1)\n",
    "annual_returns[symbol]"
   ]
  },
  {
   "cell_type": "code",
   "execution_count": 38,
   "metadata": {},
   "outputs": [],
   "source": [
    "# Calculate 1 month, 3 months, 1 year, 3 year, and 5 year annualized returns.\n",
    "annual_returns_1mo = bb.annualized_returns(df, timeperiod='daily', years=1/12)\n",
    "annual_returns_3mo = bb.annualized_returns(df, timeperiod='daily', years=3/12)\n",
    "annual_returns_1yr = bb.annualized_returns(df, timeperiod='daily', years=1)\n",
    "annual_returns_3yr = bb.annualized_returns(df, timeperiod='daily', years=3)\n",
    "annual_returns_5yr = bb.annualized_returns(df, timeperiod='daily', years=5)"
   ]
  },
  {
   "cell_type": "code",
   "execution_count": 39,
   "metadata": {},
   "outputs": [
    {
     "data": {
      "text/plain": [
       "np.float64(0.12561031730900207)"
      ]
     },
     "execution_count": 39,
     "metadata": {},
     "output_type": "execute_result"
    }
   ],
   "source": [
    "# Calculate 20 day annualized volatility.\n",
    "daily_returns = df.pct_change(fill_method=None)\n",
    "years = bb.TRADING_DAYS_PER_MONTH / bb.TRADING_DAYS_PER_YEAR\n",
    "vola = bb.annualized_standard_deviation(daily_returns, timeperiod='daily', years=years)\n",
    "vola[symbol]"
   ]
  },
  {
   "cell_type": "code",
   "execution_count": 40,
   "metadata": {},
   "outputs": [
    {
     "data": {
      "text/plain": [
       "np.float64(0.08127092189658827)"
      ]
     },
     "execution_count": 40,
     "metadata": {},
     "output_type": "execute_result"
    }
   ],
   "source": [
    "# Calculate 20 day annualized downside volatility.\n",
    "ds_vola = bb.annualized_standard_deviation(daily_returns, timeperiod='daily', years=years, downside=True)\n",
    "ds_vola[symbol]"
   ]
  },
  {
   "cell_type": "code",
   "execution_count": 41,
   "metadata": {},
   "outputs": [
    {
     "name": "stdout",
     "output_type": "stream",
     "text": [
      "Date\n",
      "2019-01-31   245.61\n",
      "2019-02-28   253.57\n",
      "2019-03-31   258.16\n",
      "2019-04-30   268.71\n",
      "2019-05-31   251.57\n",
      "2019-06-30   269.08\n",
      "2019-07-31   273.14\n",
      "2019-08-31   268.57\n",
      "2019-09-30   273.80\n",
      "2019-10-31   279.85\n",
      "2019-11-30   289.98\n",
      "2019-12-31   298.40\n",
      "2020-01-31   298.28\n",
      "2020-02-29   274.67\n",
      "2020-03-31   240.37\n",
      "2020-04-30   270.89\n",
      "2020-05-31   283.80\n",
      "2020-06-30   288.83\n",
      "2020-07-31   305.84\n",
      "2020-08-31   327.19\n",
      "2020-09-30   314.94\n",
      "2020-10-31   307.09\n",
      "2020-11-30   340.49\n",
      "2020-12-31   353.11\n",
      "2021-01-31   349.51\n",
      "2021-02-28   359.23\n",
      "2021-03-31   375.54\n",
      "2021-04-30   395.40\n",
      "2021-05-31   398.00\n",
      "2021-06-30   406.93\n",
      "2021-07-31   416.86\n",
      "2021-08-31   429.27\n",
      "2021-09-30   409.26\n",
      "2021-10-31   437.98\n",
      "2021-11-30   434.46\n",
      "2021-12-31   454.55\n",
      "2022-01-31   430.58\n",
      "2022-02-28   417.87\n",
      "2022-03-31   433.57\n",
      "2022-04-30   395.52\n",
      "2022-05-31   396.41\n",
      "2022-06-30   363.72\n",
      "2022-07-31   397.22\n",
      "2022-08-31   381.01\n",
      "2022-09-30   345.79\n",
      "2022-10-31   373.89\n",
      "2022-11-30   394.68\n",
      "2022-12-31   371.93\n",
      "2023-01-31   395.32\n",
      "2023-02-28   385.38\n",
      "2023-03-31   399.67\n",
      "2023-04-30   406.06\n",
      "2023-05-31   407.93\n",
      "2023-06-30   434.37\n",
      "2023-07-31   448.58\n",
      "2023-08-31   441.29\n",
      "2023-09-30   420.36\n",
      "2023-10-31   411.24\n",
      "2023-11-30   448.80\n",
      "2023-12-31   469.29\n",
      "2024-01-31   476.76\n",
      "2024-02-29   501.65\n",
      "2024-03-31   518.05\n",
      "2024-04-30   497.16\n",
      "2024-05-31   522.31\n",
      "2024-06-30   540.74\n",
      "2024-07-31   547.28\n",
      "2024-08-31   560.07\n",
      "2024-09-30   571.84\n",
      "2024-10-31   566.73\n",
      "2024-11-30   600.53\n",
      "2024-12-31   586.08\n",
      "2025-01-31   601.82\n",
      "2025-02-28   594.18\n",
      "Freq: ME, Name: SPY, dtype: float64\n"
     ]
    }
   ],
   "source": [
    "# Resample df on a monthly basis.\n",
    "df.index = pd.to_datetime(df.index)\n",
    "monthly = df.resample('ME').ffill()\n",
    "bb.print_full(monthly[symbol])"
   ]
  },
  {
   "cell_type": "code",
   "execution_count": 42,
   "metadata": {},
   "outputs": [
    {
     "data": {
      "text/plain": [
       "Date\n",
       "2019-01-31     NaN\n",
       "2019-02-28    0.03\n",
       "2019-03-31    0.02\n",
       "2019-04-30    0.04\n",
       "2019-05-31   -0.06\n",
       "              ... \n",
       "2024-10-31   -0.01\n",
       "2024-11-30    0.06\n",
       "2024-12-31   -0.02\n",
       "2025-01-31    0.03\n",
       "2025-02-28   -0.01\n",
       "Freq: ME, Name: SPY, Length: 74, dtype: float64"
      ]
     },
     "execution_count": 42,
     "metadata": {},
     "output_type": "execute_result"
    }
   ],
   "source": [
    "# Calculate monthly returns.\n",
    "monthly_returns = monthly.pct_change(fill_method=None)\n",
    "monthly_returns['SPY']"
   ]
  },
  {
   "cell_type": "code",
   "execution_count": 43,
   "metadata": {},
   "outputs": [
    {
     "data": {
      "text/plain": [
       "np.float64(0.16723668350850646)"
      ]
     },
     "execution_count": 43,
     "metadata": {},
     "output_type": "execute_result"
    }
   ],
   "source": [
    "# Calculate 3 year annualized standard deviation.\n",
    "std_dev = bb.annualized_standard_deviation(monthly_returns, timeperiod='monthly', years=3)\n",
    "std_dev[symbol]"
   ]
  },
  {
   "cell_type": "code",
   "execution_count": 44,
   "metadata": {},
   "outputs": [
    {
     "data": {
      "text/plain": [
       "['# Description: Asset Class investment options. 09/29/2020',\n",
       " '',\n",
       " '# Format',\n",
       " '\"Investment Option\",\"Asset Class\",\"1 mo\",\"3 mo\",\"1 Yr\",\"3 Yr\",\"5 Yr\",\"Vola\",\"DS Vola\",\"Std Dev\"',\n",
       " '# Note: \"Description\" field is optional']"
      ]
     },
     "execution_count": 44,
     "metadata": {},
     "output_type": "execute_result"
    }
   ],
   "source": [
    "# Read investment-options-header.csv\n",
    "lines = []\n",
    "with open('investment-options-in.csv', 'r') as f:\n",
    "    lines = [line.strip() for line in f]\n",
    "lines"
   ]
  },
  {
   "cell_type": "code",
   "execution_count": 45,
   "metadata": {},
   "outputs": [],
   "source": [
    "# For each symbol, write out the 1 Yr, 3 Yr, 5 Yr, and std dev.\n",
    "out = lines.copy()\n",
    "\n",
    "# This is still slow (2.53 s)\n",
    "for key, value in asset2etf.items():\n",
    "\n",
    "    symbol = value\n",
    "    asset_class = key\n",
    "\n",
    "    ret_1mo = annual_returns_1mo[symbol]\n",
    "    ret_3mo = annual_returns_3mo[symbol]\n",
    "    ret_1yr = annual_returns_1yr[symbol]\n",
    "    ret_3yr = annual_returns_3yr[symbol]\n",
    "    ret_5yr = annual_returns_5yr[symbol]\n",
    "\n",
    "    if np.isnan(ret_3yr): ret_3yr = ret_1yr\n",
    "    if np.isnan(ret_5yr): ret_5yr = ret_3yr\n",
    "    \n",
    "    _vola = vola[symbol]*100\n",
    "    _ds_vola = ds_vola[symbol]*100\n",
    "    sd = std_dev[symbol]*100\n",
    "\n",
    "    out.append(\n",
    "        '\"{}\",\"{}\",\"{:0.2f}\",\"{:0.2f}\",\"{:0.2f}\",\"{:0.2f}\",\"{:0.2f}\",\"{:0.2f}\",\"{:0.2f}\",\"{:0.2f}\"'\n",
    "        .format(asset_class, asset_class,\n",
    "                ret_1mo, ret_3mo, ret_1yr, ret_3yr, ret_5yr, _vola, _ds_vola, sd)) "
   ]
  },
  {
   "cell_type": "code",
   "execution_count": 46,
   "metadata": {},
   "outputs": [],
   "source": [
    "# Write out asset-classes.csv\n",
    "with open('investment-options.csv', 'w') as f:\n",
    "    for line in out:\n",
    "        f.write(line + '\\n')"
   ]
  },
  {
   "cell_type": "code",
   "execution_count": null,
   "metadata": {},
   "outputs": [],
   "source": []
  }
 ],
 "metadata": {
  "kernelspec": {
   "display_name": "Python 3 (ipykernel)",
   "language": "python",
   "name": "python3"
  },
  "language_info": {
   "codemirror_mode": {
    "name": "ipython",
    "version": 3
   },
   "file_extension": ".py",
   "mimetype": "text/x-python",
   "name": "python",
   "nbconvert_exporter": "python",
   "pygments_lexer": "ipython3",
   "version": "3.10.12"
  },
  "latex_envs": {
   "LaTeX_envs_menu_present": true,
   "autoclose": false,
   "autocomplete": true,
   "bibliofile": "biblio.bib",
   "cite_by": "apalike",
   "current_citInitial": 1,
   "eqLabelWithNumbers": true,
   "eqNumInitial": 1,
   "hotkeys": {
    "equation": "Ctrl-E",
    "itemize": "Ctrl-I"
   },
   "labels_anchors": false,
   "latex_user_defs": false,
   "report_style_numbering": false,
   "user_envs_cfg": false
  }
 },
 "nbformat": 4,
 "nbformat_minor": 4
}
