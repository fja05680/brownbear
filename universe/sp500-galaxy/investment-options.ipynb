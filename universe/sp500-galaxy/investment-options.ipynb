{
 "cells": [
  {
   "cell_type": "markdown",
   "metadata": {},
   "source": [
    "## S&P 500 Galaxy\n",
    "\n",
    "Use this utility to update the returns and std_dev fields within investment-options.csv"
   ]
  },
  {
   "cell_type": "markdown",
   "metadata": {},
   "source": [
    "Globals"
   ]
  },
  {
   "cell_type": "code",
   "execution_count": 1,
   "metadata": {},
   "outputs": [],
   "source": [
    "# Set refresh_timeseries=True to download timeseries.  Otherwise /symbol-cache is used.\n",
    "refresh_timeseries = True\n",
    "throttle_limit=100\n",
    "wait_time=30"
   ]
  },
  {
   "cell_type": "code",
   "execution_count": 2,
   "metadata": {
    "ExecuteTime": {
     "end_time": "2019-08-05T19:30:28.821735Z",
     "start_time": "2019-08-05T19:30:28.795344Z"
    }
   },
   "outputs": [
    {
     "data": {
      "application/javascript": [
       "IPython.OutputArea.prototype._should_scroll = function(lines) {\n",
       "    return false;\n",
       "}\n"
      ],
      "text/plain": [
       "<IPython.core.display.Javascript object>"
      ]
     },
     "metadata": {},
     "output_type": "display_data"
    }
   ],
   "source": [
    "%%javascript\n",
    "IPython.OutputArea.prototype._should_scroll = function(lines) {\n",
    "    return false;\n",
    "}"
   ]
  },
  {
   "cell_type": "code",
   "execution_count": 3,
   "metadata": {
    "ExecuteTime": {
     "end_time": "2019-08-05T19:30:29.630182Z",
     "start_time": "2019-08-05T19:30:28.824991Z"
    }
   },
   "outputs": [],
   "source": [
    "import matplotlib.pyplot as plt\n",
    "import numpy as np\n",
    "import pandas as pd\n",
    "\n",
    "import brownbear as bb\n",
    "\n",
    "# format price data\n",
    "pd.options.display.float_format = '{:0.2f}'.format\n",
    "\n",
    "%matplotlib inline"
   ]
  },
  {
   "cell_type": "code",
   "execution_count": 4,
   "metadata": {
    "ExecuteTime": {
     "end_time": "2019-08-05T19:30:29.646391Z",
     "start_time": "2019-08-05T19:30:29.636429Z"
    }
   },
   "outputs": [],
   "source": [
    "# set size of inline plots.\n",
    "'''note: rcParams can't be in same cell as import matplotlib\n",
    "   or %matplotlib inline\n",
    "   \n",
    "   %matplotlib notebook: will lead to interactive plots embedded within\n",
    "   the notebook, you can zoom and resize the figure\n",
    "   \n",
    "   %matplotlib inline: only draw static images in the notebook\n",
    "'''\n",
    "plt.rcParams[\"figure.figsize\"] = (10, 7)"
   ]
  },
  {
   "cell_type": "code",
   "execution_count": 5,
   "metadata": {},
   "outputs": [
    {
     "data": {
      "text/html": [
       "<div>\n",
       "<style scoped>\n",
       "    .dataframe tbody tr th:only-of-type {\n",
       "        vertical-align: middle;\n",
       "    }\n",
       "\n",
       "    .dataframe tbody tr th {\n",
       "        vertical-align: top;\n",
       "    }\n",
       "\n",
       "    .dataframe thead th {\n",
       "        text-align: right;\n",
       "    }\n",
       "</style>\n",
       "<table border=\"1\" class=\"dataframe\">\n",
       "  <thead>\n",
       "    <tr style=\"text-align: right;\">\n",
       "      <th></th>\n",
       "      <th>Description</th>\n",
       "      <th>Asset Class</th>\n",
       "      <th>GICS Sub-Industry</th>\n",
       "    </tr>\n",
       "    <tr>\n",
       "      <th>Symbol</th>\n",
       "      <th></th>\n",
       "      <th></th>\n",
       "      <th></th>\n",
       "    </tr>\n",
       "  </thead>\n",
       "  <tbody>\n",
       "    <tr>\n",
       "      <th>MMM</th>\n",
       "      <td>3M</td>\n",
       "      <td>Industrials</td>\n",
       "      <td>Industrial Conglomerates</td>\n",
       "    </tr>\n",
       "    <tr>\n",
       "      <th>AOS</th>\n",
       "      <td>A. O. Smith</td>\n",
       "      <td>Industrials</td>\n",
       "      <td>Building Products</td>\n",
       "    </tr>\n",
       "    <tr>\n",
       "      <th>ABT</th>\n",
       "      <td>Abbott Laboratories</td>\n",
       "      <td>Health Care</td>\n",
       "      <td>Health Care Equipment</td>\n",
       "    </tr>\n",
       "    <tr>\n",
       "      <th>ABBV</th>\n",
       "      <td>AbbVie</td>\n",
       "      <td>Health Care</td>\n",
       "      <td>Biotechnology</td>\n",
       "    </tr>\n",
       "    <tr>\n",
       "      <th>ACN</th>\n",
       "      <td>Accenture</td>\n",
       "      <td>Information Technology</td>\n",
       "      <td>IT Consulting &amp; Other Services</td>\n",
       "    </tr>\n",
       "    <tr>\n",
       "      <th>...</th>\n",
       "      <td>...</td>\n",
       "      <td>...</td>\n",
       "      <td>...</td>\n",
       "    </tr>\n",
       "    <tr>\n",
       "      <th>XYL</th>\n",
       "      <td>Xylem Inc.</td>\n",
       "      <td>Industrials</td>\n",
       "      <td>Industrial Machinery &amp; Supplies &amp; Components</td>\n",
       "    </tr>\n",
       "    <tr>\n",
       "      <th>YUM</th>\n",
       "      <td>Yum! Brands</td>\n",
       "      <td>Consumer Discretionary</td>\n",
       "      <td>Restaurants</td>\n",
       "    </tr>\n",
       "    <tr>\n",
       "      <th>ZBRA</th>\n",
       "      <td>Zebra Technologies</td>\n",
       "      <td>Information Technology</td>\n",
       "      <td>Electronic Equipment &amp; Instruments</td>\n",
       "    </tr>\n",
       "    <tr>\n",
       "      <th>ZBH</th>\n",
       "      <td>Zimmer Biomet</td>\n",
       "      <td>Health Care</td>\n",
       "      <td>Health Care Equipment</td>\n",
       "    </tr>\n",
       "    <tr>\n",
       "      <th>ZTS</th>\n",
       "      <td>Zoetis</td>\n",
       "      <td>Health Care</td>\n",
       "      <td>Pharmaceuticals</td>\n",
       "    </tr>\n",
       "  </tbody>\n",
       "</table>\n",
       "<p>503 rows × 3 columns</p>\n",
       "</div>"
      ],
      "text/plain": [
       "                Description             Asset Class  \\\n",
       "Symbol                                                \n",
       "MMM                      3M             Industrials   \n",
       "AOS             A. O. Smith             Industrials   \n",
       "ABT     Abbott Laboratories             Health Care   \n",
       "ABBV                 AbbVie             Health Care   \n",
       "ACN               Accenture  Information Technology   \n",
       "...                     ...                     ...   \n",
       "XYL              Xylem Inc.             Industrials   \n",
       "YUM             Yum! Brands  Consumer Discretionary   \n",
       "ZBRA     Zebra Technologies  Information Technology   \n",
       "ZBH           Zimmer Biomet             Health Care   \n",
       "ZTS                  Zoetis             Health Care   \n",
       "\n",
       "                                   GICS Sub-Industry  \n",
       "Symbol                                                \n",
       "MMM                         Industrial Conglomerates  \n",
       "AOS                                Building Products  \n",
       "ABT                            Health Care Equipment  \n",
       "ABBV                                   Biotechnology  \n",
       "ACN                   IT Consulting & Other Services  \n",
       "...                                              ...  \n",
       "XYL     Industrial Machinery & Supplies & Components  \n",
       "YUM                                      Restaurants  \n",
       "ZBRA              Electronic Equipment & Instruments  \n",
       "ZBH                            Health Care Equipment  \n",
       "ZTS                                  Pharmaceuticals  \n",
       "\n",
       "[503 rows x 3 columns]"
      ]
     },
     "execution_count": 5,
     "metadata": {},
     "output_type": "execute_result"
    }
   ],
   "source": [
    "# read in sp500.csv\n",
    "sp500 = pd.read_csv('sp500.csv')\n",
    "sp500.drop(columns=['Headquarters Location', 'Date added','CIK', 'Founded'], inplace=True)\n",
    "sp500.rename(columns={'Security':'Description',\n",
    "                      'GICS Sector':'Asset Class'}, inplace=True)\n",
    "sp500.set_index(\"Symbol\", inplace=True)\n",
    "sp500"
   ]
  },
  {
   "cell_type": "code",
   "execution_count": 6,
   "metadata": {},
   "outputs": [
    {
     "data": {
      "text/plain": [
       "{'Energy': 'US Stocks:Energy',\n",
       " 'Materials': 'US Stocks:Materials',\n",
       " 'Industrials': 'US Stocks:Industrials',\n",
       " 'Consumer Discretionary': 'US Stocks:Consumer Discretionary',\n",
       " 'Consumer Staples': 'US Stocks:Consumer Staples',\n",
       " 'Health Care': 'US Stocks:Healthcare',\n",
       " 'Financials': 'US Stocks:Financials',\n",
       " 'Information Technology': 'US Stocks:Technology',\n",
       " 'Communication Services': 'US Stocks:Communication Services',\n",
       " 'Utilities': 'US Stocks:Utilities',\n",
       " 'Real Estate': 'US Stocks:Real Estate'}"
      ]
     },
     "execution_count": 6,
     "metadata": {},
     "output_type": "execute_result"
    }
   ],
   "source": [
    "# read in gics-2-asset-class.csv\n",
    "gics2asset_class = pd.read_csv('gics-2-asset-class.csv', skip_blank_lines=True, comment='#')\n",
    "gics2asset_class.set_index(\"GICS\", inplace=True)\n",
    "gics2asset_class = gics2asset_class['Asset Class'].to_dict()\n",
    "gics2asset_class"
   ]
  },
  {
   "cell_type": "code",
   "execution_count": 7,
   "metadata": {},
   "outputs": [
    {
     "data": {
      "text/html": [
       "<div>\n",
       "<style scoped>\n",
       "    .dataframe tbody tr th:only-of-type {\n",
       "        vertical-align: middle;\n",
       "    }\n",
       "\n",
       "    .dataframe tbody tr th {\n",
       "        vertical-align: top;\n",
       "    }\n",
       "\n",
       "    .dataframe thead th {\n",
       "        text-align: right;\n",
       "    }\n",
       "</style>\n",
       "<table border=\"1\" class=\"dataframe\">\n",
       "  <thead>\n",
       "    <tr style=\"text-align: right;\">\n",
       "      <th></th>\n",
       "      <th>Description</th>\n",
       "      <th>Asset Class</th>\n",
       "      <th>GICS Sub-Industry</th>\n",
       "    </tr>\n",
       "    <tr>\n",
       "      <th>Symbol</th>\n",
       "      <th></th>\n",
       "      <th></th>\n",
       "      <th></th>\n",
       "    </tr>\n",
       "  </thead>\n",
       "  <tbody>\n",
       "    <tr>\n",
       "      <th>MMM</th>\n",
       "      <td>3M</td>\n",
       "      <td>US Stocks:Industrials</td>\n",
       "      <td>Industrial Conglomerates</td>\n",
       "    </tr>\n",
       "    <tr>\n",
       "      <th>AOS</th>\n",
       "      <td>A. O. Smith</td>\n",
       "      <td>US Stocks:Industrials</td>\n",
       "      <td>Building Products</td>\n",
       "    </tr>\n",
       "    <tr>\n",
       "      <th>ABT</th>\n",
       "      <td>Abbott Laboratories</td>\n",
       "      <td>US Stocks:Healthcare</td>\n",
       "      <td>Health Care Equipment</td>\n",
       "    </tr>\n",
       "    <tr>\n",
       "      <th>ABBV</th>\n",
       "      <td>AbbVie</td>\n",
       "      <td>US Stocks:Healthcare</td>\n",
       "      <td>Biotechnology</td>\n",
       "    </tr>\n",
       "    <tr>\n",
       "      <th>ACN</th>\n",
       "      <td>Accenture</td>\n",
       "      <td>US Stocks:Technology</td>\n",
       "      <td>IT Consulting &amp; Other Services</td>\n",
       "    </tr>\n",
       "    <tr>\n",
       "      <th>...</th>\n",
       "      <td>...</td>\n",
       "      <td>...</td>\n",
       "      <td>...</td>\n",
       "    </tr>\n",
       "    <tr>\n",
       "      <th>XYL</th>\n",
       "      <td>Xylem Inc.</td>\n",
       "      <td>US Stocks:Industrials</td>\n",
       "      <td>Industrial Machinery &amp; Supplies &amp; Components</td>\n",
       "    </tr>\n",
       "    <tr>\n",
       "      <th>YUM</th>\n",
       "      <td>Yum! Brands</td>\n",
       "      <td>US Stocks:Consumer Discretionary</td>\n",
       "      <td>Restaurants</td>\n",
       "    </tr>\n",
       "    <tr>\n",
       "      <th>ZBRA</th>\n",
       "      <td>Zebra Technologies</td>\n",
       "      <td>US Stocks:Technology</td>\n",
       "      <td>Electronic Equipment &amp; Instruments</td>\n",
       "    </tr>\n",
       "    <tr>\n",
       "      <th>ZBH</th>\n",
       "      <td>Zimmer Biomet</td>\n",
       "      <td>US Stocks:Healthcare</td>\n",
       "      <td>Health Care Equipment</td>\n",
       "    </tr>\n",
       "    <tr>\n",
       "      <th>ZTS</th>\n",
       "      <td>Zoetis</td>\n",
       "      <td>US Stocks:Healthcare</td>\n",
       "      <td>Pharmaceuticals</td>\n",
       "    </tr>\n",
       "  </tbody>\n",
       "</table>\n",
       "<p>503 rows × 3 columns</p>\n",
       "</div>"
      ],
      "text/plain": [
       "                Description                       Asset Class  \\\n",
       "Symbol                                                          \n",
       "MMM                      3M             US Stocks:Industrials   \n",
       "AOS             A. O. Smith             US Stocks:Industrials   \n",
       "ABT     Abbott Laboratories              US Stocks:Healthcare   \n",
       "ABBV                 AbbVie              US Stocks:Healthcare   \n",
       "ACN               Accenture              US Stocks:Technology   \n",
       "...                     ...                               ...   \n",
       "XYL              Xylem Inc.             US Stocks:Industrials   \n",
       "YUM             Yum! Brands  US Stocks:Consumer Discretionary   \n",
       "ZBRA     Zebra Technologies              US Stocks:Technology   \n",
       "ZBH           Zimmer Biomet              US Stocks:Healthcare   \n",
       "ZTS                  Zoetis              US Stocks:Healthcare   \n",
       "\n",
       "                                   GICS Sub-Industry  \n",
       "Symbol                                                \n",
       "MMM                         Industrial Conglomerates  \n",
       "AOS                                Building Products  \n",
       "ABT                            Health Care Equipment  \n",
       "ABBV                                   Biotechnology  \n",
       "ACN                   IT Consulting & Other Services  \n",
       "...                                              ...  \n",
       "XYL     Industrial Machinery & Supplies & Components  \n",
       "YUM                                      Restaurants  \n",
       "ZBRA              Electronic Equipment & Instruments  \n",
       "ZBH                            Health Care Equipment  \n",
       "ZTS                                  Pharmaceuticals  \n",
       "\n",
       "[503 rows x 3 columns]"
      ]
     },
     "execution_count": 7,
     "metadata": {},
     "output_type": "execute_result"
    }
   ],
   "source": [
    "# Map sp500 GICS sectors to brownbear defined asset classes.\n",
    "def _asset_class(row):\n",
    "    return gics2asset_class[row['Asset Class']]\n",
    "\n",
    "sp500['Asset Class'] = sp500.apply(_asset_class, axis=1)\n",
    "\n",
    "# Yahoo finance uses '-' where '.' is used in symbol names.\n",
    "sp500.index = sp500.index.str.replace('.', '-', regex=False)\n",
    "sp500"
   ]
  },
  {
   "cell_type": "code",
   "execution_count": 8,
   "metadata": {},
   "outputs": [],
   "source": [
    "# Make symbols list.\n",
    "symbols = list(sp500.index)\n",
    "#symbols"
   ]
  },
  {
   "cell_type": "code",
   "execution_count": 9,
   "metadata": {},
   "outputs": [
    {
     "name": "stdout",
     "output_type": "stream",
     "text": [
      "MMM AOS ABT ABBV ACN ADBE AMD AES AFL A APD ABNB AKAM ALB ARE ALGN ALLE LNT ALL GOOGL GOOG MO AMZN AMCR AEE AEP AXP AIG AMT AWK AMP AME AMGN APH ADI ANSS AON APA APO AAPL AMAT APTV ACGL ADM ANET AJG AIZ T ATO ADSK ADP AZO AVB AVY AXON BKR BALL BAC BAX BDX BRK-B BBY TECH BIIB BLK BX BK BA BKNG BWA BSX BMY AVGO BR BRO BF-B BLDR BG BXP CHRW CDNS CZR CPT CPB COF CAH KMX CCL CARR CAT CBOE CBRE CDW CE COR CNC CNP CF CRL SCHW \n",
      "Throttle limit reached. Waiting for 0 seconds...\n",
      "CHTR CVX CMG CB CHD CI CINF CTAS CSCO C CFG CLX CME CMS KO CTSH CL CMCSA CAG COP ED STZ CEG COO CPRT GLW CPAY CTVA CSGP COST CTRA CRWD CCI CSX CMI CVS DHR DRI DVA DAY DECK DE DELL DAL DVN DXCM FANG DLR DFS DG DLTR D DPZ DOV DOW DHI DTE DUK DD EMN ETN EBAY ECL EIX EW EA ELV EMR ENPH ETR EOG EPAM EQT EFX EQIX EQR ERIE ESS EL EG EVRG ES EXC EXPE EXPD EXR XOM FFIV FDS FICO FAST FRT FDX FIS FITB FSLR FE FI FMC F \n",
      "Throttle limit reached. Waiting for 0 seconds...\n",
      "FTNT FTV FOXA FOX BEN FCX GRMN IT GE GEHC GEV GEN GNRC GD GIS GM GPC GILD GPN GL GDDY GS HAL HIG HAS HCA DOC HSIC HSY HES HPE HLT HOLX HD HON HRL HST HWM HPQ HUBB HUM HBAN HII IBM IEX IDXX ITW INCY IR PODD INTC ICE IFF IP IPG INTU ISRG IVZ INVH IQV IRM JBHT JBL JKHY J JNJ JCI JPM JNPR K KVUE KDP KEY KEYS KMB KIM KMI KKR KLAC KHC KR LHX LH LRCX LW LVS LDOS LEN LII LLY LIN LYV LKQ LMT L LOW LULU LYB MTB MPC \n",
      "Throttle limit reached. Waiting for 0 seconds...\n",
      "MKTX MAR MMC MLM MAS MA MTCH MKC MCD MCK MDT MRK META MET MTD MGM MCHP MU MSFT MAA MRNA MHK MOH TAP MDLZ MPWR MNST MCO MS MOS MSI MSCI NDAQ NTAP NFLX NEM NWSA NWS NEE NKE NI NDSN NSC NTRS NOC NCLH NRG NUE NVDA NVR NXPI ORLY OXY ODFL OMC ON OKE ORCL OTIS PCAR PKG PLTR PANW PARA PH PAYX PAYC PYPL PNR PEP PFE PCG PM PSX PNW PNC POOL PPG PPL PFG PG PGR PLD PRU PEG PTC PSA PHM PWR QCOM DGX RL RJF RTX O REG REGN RF RSG RMD \n",
      "Throttle limit reached. Waiting for 0 seconds...\n",
      "RVTY ROK ROL ROP ROST RCL SPGI CRM SBAC SLB STX SRE NOW SHW SPG SWKS SJM SW SNA SOLV SO LUV SWK SBUX STT STLD STE SYK SMCI SYF SNPS SYY TMUS TROW TTWO TPR TRGP TGT TEL TDY TFX TER TSLA TXN TPL TXT TMO TJX TSCO TT TDG TRV TRMB TFC TYL TSN USB UBER UDR ULTA UNP UAL UPS URI UNH UHS VLO VTR VLTO VRSN VRSK VZ VRTX VTRS VICI V VST VMC WRB GWW WAB WBA WMT DIS WBD WM WAT WEC WFC WELL WST WDC WY WMB WTW WDAY WYNN XEL XYL YUM \n",
      "Throttle limit reached. Waiting for 0 seconds...\n",
      "ZBRA ZBH ZTS \n"
     ]
    }
   ],
   "source": [
    "# Get the timeseries for the symbols and compile into a single csv.\n",
    "bb.fetch_timeseries(symbols, refresh=refresh_timeseries, throttle_limit=throttle_limit, wait_time=wait_time)\n",
    "bb.compile_timeseries(symbols)"
   ]
  },
  {
   "cell_type": "code",
   "execution_count": 10,
   "metadata": {},
   "outputs": [
    {
     "data": {
      "text/html": [
       "<div>\n",
       "<style scoped>\n",
       "    .dataframe tbody tr th:only-of-type {\n",
       "        vertical-align: middle;\n",
       "    }\n",
       "\n",
       "    .dataframe tbody tr th {\n",
       "        vertical-align: top;\n",
       "    }\n",
       "\n",
       "    .dataframe thead th {\n",
       "        text-align: right;\n",
       "    }\n",
       "</style>\n",
       "<table border=\"1\" class=\"dataframe\">\n",
       "  <thead>\n",
       "    <tr style=\"text-align: right;\">\n",
       "      <th></th>\n",
       "      <th>NVDA</th>\n",
       "      <th>WST</th>\n",
       "      <th>ADBE</th>\n",
       "      <th>NOW</th>\n",
       "      <th>AMD</th>\n",
       "      <th>PYPL</th>\n",
       "      <th>AAPL</th>\n",
       "      <th>MSFT</th>\n",
       "      <th>DHR</th>\n",
       "      <th>TMO</th>\n",
       "      <th>AMZN</th>\n",
       "      <th>DXCM</th>\n",
       "      <th>ODFL</th>\n",
       "      <th>REGN</th>\n",
       "      <th>ROL</th>\n",
       "      <th>FDX</th>\n",
       "      <th>TMUS</th>\n",
       "      <th>CDNS</th>\n",
       "      <th>CRM</th>\n",
       "      <th>MSCI</th>\n",
       "    </tr>\n",
       "    <tr>\n",
       "      <th>Date</th>\n",
       "      <th></th>\n",
       "      <th></th>\n",
       "      <th></th>\n",
       "      <th></th>\n",
       "      <th></th>\n",
       "      <th></th>\n",
       "      <th></th>\n",
       "      <th></th>\n",
       "      <th></th>\n",
       "      <th></th>\n",
       "      <th></th>\n",
       "      <th></th>\n",
       "      <th></th>\n",
       "      <th></th>\n",
       "      <th></th>\n",
       "      <th></th>\n",
       "      <th></th>\n",
       "      <th></th>\n",
       "      <th></th>\n",
       "      <th></th>\n",
       "    </tr>\n",
       "  </thead>\n",
       "  <tbody>\n",
       "    <tr>\n",
       "      <th>2025-03-10</th>\n",
       "      <td>106.97</td>\n",
       "      <td>226.04</td>\n",
       "      <td>435.08</td>\n",
       "      <td>783.83</td>\n",
       "      <td>96.63</td>\n",
       "      <td>68.16</td>\n",
       "      <td>227.48</td>\n",
       "      <td>380.16</td>\n",
       "      <td>205.23</td>\n",
       "      <td>526.35</td>\n",
       "      <td>194.54</td>\n",
       "      <td>70.72</td>\n",
       "      <td>177.97</td>\n",
       "      <td>744.83</td>\n",
       "      <td>52.28</td>\n",
       "      <td>246.51</td>\n",
       "      <td>266.63</td>\n",
       "      <td>233.96</td>\n",
       "      <td>272.90</td>\n",
       "      <td>545.34</td>\n",
       "    </tr>\n",
       "    <tr>\n",
       "      <th>2025-03-11</th>\n",
       "      <td>108.75</td>\n",
       "      <td>230.77</td>\n",
       "      <td>433.66</td>\n",
       "      <td>808.40</td>\n",
       "      <td>96.76</td>\n",
       "      <td>67.98</td>\n",
       "      <td>220.84</td>\n",
       "      <td>380.45</td>\n",
       "      <td>205.61</td>\n",
       "      <td>513.77</td>\n",
       "      <td>196.59</td>\n",
       "      <td>70.26</td>\n",
       "      <td>167.03</td>\n",
       "      <td>718.16</td>\n",
       "      <td>51.91</td>\n",
       "      <td>242.96</td>\n",
       "      <td>256.67</td>\n",
       "      <td>234.25</td>\n",
       "      <td>277.05</td>\n",
       "      <td>541.72</td>\n",
       "    </tr>\n",
       "    <tr>\n",
       "      <th>2025-03-12</th>\n",
       "      <td>115.74</td>\n",
       "      <td>224.23</td>\n",
       "      <td>438.60</td>\n",
       "      <td>843.14</td>\n",
       "      <td>100.79</td>\n",
       "      <td>68.62</td>\n",
       "      <td>216.98</td>\n",
       "      <td>383.27</td>\n",
       "      <td>204.96</td>\n",
       "      <td>512.22</td>\n",
       "      <td>198.89</td>\n",
       "      <td>70.76</td>\n",
       "      <td>164.54</td>\n",
       "      <td>689.50</td>\n",
       "      <td>50.56</td>\n",
       "      <td>243.51</td>\n",
       "      <td>255.61</td>\n",
       "      <td>239.22</td>\n",
       "      <td>284.58</td>\n",
       "      <td>545.07</td>\n",
       "    </tr>\n",
       "    <tr>\n",
       "      <th>2025-03-13</th>\n",
       "      <td>115.58</td>\n",
       "      <td>223.73</td>\n",
       "      <td>377.84</td>\n",
       "      <td>811.62</td>\n",
       "      <td>98.11</td>\n",
       "      <td>66.91</td>\n",
       "      <td>209.68</td>\n",
       "      <td>378.77</td>\n",
       "      <td>204.09</td>\n",
       "      <td>508.47</td>\n",
       "      <td>193.89</td>\n",
       "      <td>68.48</td>\n",
       "      <td>162.98</td>\n",
       "      <td>680.61</td>\n",
       "      <td>50.73</td>\n",
       "      <td>240.98</td>\n",
       "      <td>259.10</td>\n",
       "      <td>241.56</td>\n",
       "      <td>271.74</td>\n",
       "      <td>541.46</td>\n",
       "    </tr>\n",
       "    <tr>\n",
       "      <th>2025-03-14</th>\n",
       "      <td>121.67</td>\n",
       "      <td>230.11</td>\n",
       "      <td>394.74</td>\n",
       "      <td>844.33</td>\n",
       "      <td>100.97</td>\n",
       "      <td>68.95</td>\n",
       "      <td>213.49</td>\n",
       "      <td>388.56</td>\n",
       "      <td>210.74</td>\n",
       "      <td>522.05</td>\n",
       "      <td>197.95</td>\n",
       "      <td>70.69</td>\n",
       "      <td>162.50</td>\n",
       "      <td>666.87</td>\n",
       "      <td>51.40</td>\n",
       "      <td>242.20</td>\n",
       "      <td>255.98</td>\n",
       "      <td>247.43</td>\n",
       "      <td>279.40</td>\n",
       "      <td>554.71</td>\n",
       "    </tr>\n",
       "  </tbody>\n",
       "</table>\n",
       "</div>"
      ],
      "text/plain": [
       "             NVDA    WST   ADBE    NOW    AMD  PYPL   AAPL   MSFT    DHR  \\\n",
       "Date                                                                       \n",
       "2025-03-10 106.97 226.04 435.08 783.83  96.63 68.16 227.48 380.16 205.23   \n",
       "2025-03-11 108.75 230.77 433.66 808.40  96.76 67.98 220.84 380.45 205.61   \n",
       "2025-03-12 115.74 224.23 438.60 843.14 100.79 68.62 216.98 383.27 204.96   \n",
       "2025-03-13 115.58 223.73 377.84 811.62  98.11 66.91 209.68 378.77 204.09   \n",
       "2025-03-14 121.67 230.11 394.74 844.33 100.97 68.95 213.49 388.56 210.74   \n",
       "\n",
       "              TMO   AMZN  DXCM   ODFL   REGN   ROL    FDX   TMUS   CDNS  \\\n",
       "Date                                                                      \n",
       "2025-03-10 526.35 194.54 70.72 177.97 744.83 52.28 246.51 266.63 233.96   \n",
       "2025-03-11 513.77 196.59 70.26 167.03 718.16 51.91 242.96 256.67 234.25   \n",
       "2025-03-12 512.22 198.89 70.76 164.54 689.50 50.56 243.51 255.61 239.22   \n",
       "2025-03-13 508.47 193.89 68.48 162.98 680.61 50.73 240.98 259.10 241.56   \n",
       "2025-03-14 522.05 197.95 70.69 162.50 666.87 51.40 242.20 255.98 247.43   \n",
       "\n",
       "              CRM   MSCI  \n",
       "Date                      \n",
       "2025-03-10 272.90 545.34  \n",
       "2025-03-11 277.05 541.72  \n",
       "2025-03-12 284.58 545.07  \n",
       "2025-03-13 271.74 541.46  \n",
       "2025-03-14 279.40 554.71  "
      ]
     },
     "execution_count": 10,
     "metadata": {},
     "output_type": "execute_result"
    }
   ],
   "source": [
    "# Read symbols timeseries into a dataframe.\n",
    "df = pd.read_csv('symbols-timeseries.csv', skip_blank_lines=True, comment='#')\n",
    "df.set_index(\"Date\", inplace=True)\n",
    "df = df[:]\n",
    "df.tail()[['NVDA', 'WST', 'ADBE', 'NOW', 'AMD', 'PYPL', 'AAPL', 'MSFT', 'DHR', 'TMO', 'AMZN', 'DXCM', 'ODFL', 'REGN', 'ROL', 'FDX', 'TMUS', 'CDNS', 'CRM', 'MSCI']]"
   ]
  },
  {
   "cell_type": "code",
   "execution_count": 11,
   "metadata": {},
   "outputs": [],
   "source": [
    "# Sample symbol.\n",
    "symbol = 'MMM'"
   ]
  },
  {
   "cell_type": "code",
   "execution_count": 12,
   "metadata": {},
   "outputs": [
    {
     "data": {
      "text/plain": [
       "np.float64(86.37346123681884)"
      ]
     },
     "execution_count": 12,
     "metadata": {},
     "output_type": "execute_result"
    }
   ],
   "source": [
    "annual_returns = bb.annualized_returns(df, timeperiod='daily', years=1)\n",
    "annual_returns[symbol]"
   ]
  },
  {
   "cell_type": "code",
   "execution_count": 13,
   "metadata": {},
   "outputs": [],
   "source": [
    "# Calculate 1 month, 3 months, 1 year, 3 year, and 5 year annualized returns.\n",
    "annual_returns_1mo = bb.annualized_returns(df, timeperiod='daily', years=1/12)\n",
    "annual_returns_3mo = bb.annualized_returns(df, timeperiod='daily', years=3/12)\n",
    "annual_returns_1yr = bb.annualized_returns(df, timeperiod='daily', years=1)\n",
    "annual_returns_3yr = bb.annualized_returns(df, timeperiod='daily', years=3)\n",
    "annual_returns_5yr = bb.annualized_returns(df, timeperiod='daily', years=5)"
   ]
  },
  {
   "cell_type": "code",
   "execution_count": 14,
   "metadata": {},
   "outputs": [
    {
     "data": {
      "text/plain": [
       "np.float64(0.29984923664055585)"
      ]
     },
     "execution_count": 14,
     "metadata": {},
     "output_type": "execute_result"
    }
   ],
   "source": [
    "# Calculate 20 day annualized volatility.\n",
    "daily_returns = df.pct_change()\n",
    "years = bb.TRADING_DAYS_PER_MONTH / bb.TRADING_DAYS_PER_YEAR\n",
    "vola = bb.annualized_standard_deviation(daily_returns, timeperiod='daily', years=years)\n",
    "vola[symbol]"
   ]
  },
  {
   "cell_type": "code",
   "execution_count": 15,
   "metadata": {},
   "outputs": [
    {
     "data": {
      "text/plain": [
       "np.float64(0.20347157781308872)"
      ]
     },
     "execution_count": 15,
     "metadata": {},
     "output_type": "execute_result"
    }
   ],
   "source": [
    "# Calculate 20 day annualized downside volatility.\n",
    "ds_vola = bb.annualized_standard_deviation(daily_returns, timeperiod='daily', years=years, downside=True)\n",
    "ds_vola[symbol]"
   ]
  },
  {
   "cell_type": "code",
   "execution_count": 16,
   "metadata": {},
   "outputs": [],
   "source": [
    "# Resample df on a monthly basis.\n",
    "df.index = pd.to_datetime(df.index)\n",
    "monthly = df.resample('ME').ffill()"
   ]
  },
  {
   "cell_type": "code",
   "execution_count": 17,
   "metadata": {},
   "outputs": [
    {
     "data": {
      "text/plain": [
       "Date\n",
       "2019-01-31     NaN\n",
       "2019-02-28    0.04\n",
       "2019-03-31    0.00\n",
       "2019-04-30   -0.09\n",
       "2019-05-31   -0.15\n",
       "              ... \n",
       "2024-11-30    0.04\n",
       "2024-12-31   -0.03\n",
       "2025-01-31    0.18\n",
       "2025-02-28    0.02\n",
       "2025-03-31   -0.03\n",
       "Freq: ME, Name: MMM, Length: 75, dtype: float64"
      ]
     },
     "execution_count": 17,
     "metadata": {},
     "output_type": "execute_result"
    }
   ],
   "source": [
    "# Calculate monthly returns.\n",
    "monthly_returns = monthly.pct_change()\n",
    "monthly_returns[symbol]"
   ]
  },
  {
   "cell_type": "code",
   "execution_count": 18,
   "metadata": {},
   "outputs": [],
   "source": [
    "# Calculate 1 year, 3 year, and 5 year annualized standard deviation.\n",
    "std_dev_1yr = bb.annualized_standard_deviation(monthly_returns, timeperiod='monthly', years=1)\n",
    "std_dev_3yr = bb.annualized_standard_deviation(monthly_returns, timeperiod='monthly', years=3)\n",
    "std_dev_5yr = bb.annualized_standard_deviation(monthly_returns, timeperiod='monthly', years=5)"
   ]
  },
  {
   "cell_type": "code",
   "execution_count": 19,
   "metadata": {},
   "outputs": [
    {
     "data": {
      "text/plain": [
       "['# Description: S&P 500 investment options. 09/29/2020',\n",
       " '',\n",
       " '# Format',\n",
       " '\"Investment Option\",\"Description\",\"Asset Class\",\"1 mo\",\"3 mo\",\"1 Yr\",\"3 Yr\",\"5 Yr\",\"Vola\",\"DS Vola\",\"SD 1 Yr\",\"SD 3 Yr\",\"SD 5 Yr\"']"
      ]
     },
     "execution_count": 19,
     "metadata": {},
     "output_type": "execute_result"
    }
   ],
   "source": [
    "# Read investment-options-header.csv\n",
    "lines = []\n",
    "with open('investment-options-in.csv', 'r') as f:\n",
    "    lines = [line.strip() for line in f]\n",
    "lines"
   ]
  },
  {
   "cell_type": "code",
   "execution_count": 20,
   "metadata": {},
   "outputs": [],
   "source": [
    "# For each symbol, write out the 1 Yr, 3 Yr, 5 Yr, and std dev.\n",
    "out = lines.copy()\n",
    "\n",
    "# This is still slow (2.53 s).\n",
    "for i, (index, row) in enumerate(sp500.iterrows()):\n",
    "\n",
    "    symbol = index\n",
    "    description = row['Description']\n",
    "    asset_class = row['Asset Class']\n",
    "\n",
    "    ret_1mo = annual_returns_1mo[symbol]\n",
    "    ret_3mo = annual_returns_3mo[symbol]\n",
    "    ret_1yr = annual_returns_1yr[symbol]\n",
    "    ret_3yr = annual_returns_3yr[symbol]\n",
    "    ret_5yr = annual_returns_5yr[symbol]\n",
    "    \n",
    "    if np.isnan(ret_3yr): ret_3yr = ret_1yr\n",
    "    if np.isnan(ret_5yr): ret_5yr = ret_3yr\n",
    "\n",
    "    _vola = vola[symbol]*100\n",
    "    _ds_vola = ds_vola[symbol]*100\n",
    "    sd_1yr = std_dev_1yr[symbol]*100\n",
    "    sd_3yr = std_dev_3yr[symbol]*100\n",
    "    sd_5yr = std_dev_5yr[symbol]*100\n",
    "\n",
    "    out.append((\n",
    "        '\"{}\",\"{}\",\"{}\",\"{:0.2f}\",\"{:0.2f}\",\"{:0.2f}\",\"{:0.2f}\",'\n",
    "        '\"{:0.2f}\",\"{:0.2f}\",\"{:0.2f}\",\"{:0.2f}\",\"{:0.2f}\",\"{:0.2f}\"'\n",
    "    ).format(\n",
    "        symbol, description, asset_class, ret_1mo, ret_3mo, ret_1yr, ret_3yr,\n",
    "        ret_5yr, _vola, _ds_vola, sd_1yr, sd_3yr, sd_5yr\n",
    "    ))"
   ]
  },
  {
   "cell_type": "code",
   "execution_count": 21,
   "metadata": {},
   "outputs": [],
   "source": [
    "# Write out asset-classes.csv\n",
    "with open('investment-options.csv', 'w') as f:\n",
    "    for line in out:\n",
    "        f.write(line + '\\n')"
   ]
  },
  {
   "cell_type": "code",
   "execution_count": null,
   "metadata": {},
   "outputs": [],
   "source": []
  }
 ],
 "metadata": {
  "kernelspec": {
   "display_name": "Python 3 (ipykernel)",
   "language": "python",
   "name": "python3"
  },
  "language_info": {
   "codemirror_mode": {
    "name": "ipython",
    "version": 3
   },
   "file_extension": ".py",
   "mimetype": "text/x-python",
   "name": "python",
   "nbconvert_exporter": "python",
   "pygments_lexer": "ipython3",
   "version": "3.10.12"
  },
  "latex_envs": {
   "LaTeX_envs_menu_present": true,
   "autoclose": false,
   "autocomplete": true,
   "bibliofile": "biblio.bib",
   "cite_by": "apalike",
   "current_citInitial": 1,
   "eqLabelWithNumbers": true,
   "eqNumInitial": 1,
   "hotkeys": {
    "equation": "Ctrl-E",
    "itemize": "Ctrl-I"
   },
   "labels_anchors": false,
   "latex_user_defs": false,
   "report_style_numbering": false,
   "user_envs_cfg": false
  }
 },
 "nbformat": 4,
 "nbformat_minor": 1
}
