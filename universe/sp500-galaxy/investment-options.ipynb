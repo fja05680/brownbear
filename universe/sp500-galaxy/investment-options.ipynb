{
 "cells": [
  {
   "cell_type": "markdown",
   "metadata": {},
   "source": [
    "Use this utlity to update the returns and std_dev fields within investment-options.csv"
   ]
  },
  {
   "cell_type": "code",
   "execution_count": 1,
   "metadata": {
    "ExecuteTime": {
     "end_time": "2019-08-05T19:30:28.821735Z",
     "start_time": "2019-08-05T19:30:28.795344Z"
    }
   },
   "outputs": [
    {
     "data": {
      "application/javascript": [
       "IPython.OutputArea.prototype._should_scroll = function(lines) {\n",
       "    return false;\n",
       "}\n"
      ],
      "text/plain": [
       "<IPython.core.display.Javascript object>"
      ]
     },
     "metadata": {},
     "output_type": "display_data"
    }
   ],
   "source": [
    "%%javascript\n",
    "IPython.OutputArea.prototype._should_scroll = function(lines) {\n",
    "    return false;\n",
    "}"
   ]
  },
  {
   "cell_type": "code",
   "execution_count": 2,
   "metadata": {
    "ExecuteTime": {
     "end_time": "2019-08-05T19:30:29.630182Z",
     "start_time": "2019-08-05T19:30:28.824991Z"
    }
   },
   "outputs": [],
   "source": [
    "# imports\n",
    "import pandas as pd\n",
    "import numpy as np\n",
    "import matplotlib.pyplot as plt\n",
    "from pathlib import Path\n",
    "import brownbear as bb\n",
    "\n",
    "# format price data\n",
    "pd.options.display.float_format = '{:0.2f}'.format\n",
    "\n",
    "%matplotlib inline"
   ]
  },
  {
   "cell_type": "code",
   "execution_count": 3,
   "metadata": {
    "ExecuteTime": {
     "end_time": "2019-08-05T19:30:29.646391Z",
     "start_time": "2019-08-05T19:30:29.636429Z"
    }
   },
   "outputs": [],
   "source": [
    "# set size of inline plots\n",
    "'''note: rcParams can't be in same cell as import matplotlib\n",
    "   or %matplotlib inline\n",
    "   \n",
    "   %matplotlib notebook: will lead to interactive plots embedded within\n",
    "   the notebook, you can zoom and resize the figure\n",
    "   \n",
    "   %matplotlib inline: only draw static images in the notebook\n",
    "'''\n",
    "plt.rcParams[\"figure.figsize\"] = (10, 7)"
   ]
  },
  {
   "cell_type": "markdown",
   "metadata": {},
   "source": [
    "Globals"
   ]
  },
  {
   "cell_type": "code",
   "execution_count": 4,
   "metadata": {},
   "outputs": [],
   "source": [
    "# set refresh_timeseries=True to download timeseries.  Otherwise /symbol-cache is used.\n",
    "refresh_timeseries = True"
   ]
  },
  {
   "cell_type": "code",
   "execution_count": 5,
   "metadata": {},
   "outputs": [
    {
     "data": {
      "text/html": [
       "<div>\n",
       "<style scoped>\n",
       "    .dataframe tbody tr th:only-of-type {\n",
       "        vertical-align: middle;\n",
       "    }\n",
       "\n",
       "    .dataframe tbody tr th {\n",
       "        vertical-align: top;\n",
       "    }\n",
       "\n",
       "    .dataframe thead th {\n",
       "        text-align: right;\n",
       "    }\n",
       "</style>\n",
       "<table border=\"1\" class=\"dataframe\">\n",
       "  <thead>\n",
       "    <tr style=\"text-align: right;\">\n",
       "      <th></th>\n",
       "      <th>Description</th>\n",
       "      <th>Asset Class</th>\n",
       "      <th>GICS Sub-Industry</th>\n",
       "    </tr>\n",
       "    <tr>\n",
       "      <th>Symbol</th>\n",
       "      <th></th>\n",
       "      <th></th>\n",
       "      <th></th>\n",
       "    </tr>\n",
       "  </thead>\n",
       "  <tbody>\n",
       "    <tr>\n",
       "      <th>MMM</th>\n",
       "      <td>3M Company</td>\n",
       "      <td>Industrials</td>\n",
       "      <td>Industrial Conglomerates</td>\n",
       "    </tr>\n",
       "    <tr>\n",
       "      <th>ABT</th>\n",
       "      <td>Abbott Laboratories</td>\n",
       "      <td>Health Care</td>\n",
       "      <td>Health Care Equipment</td>\n",
       "    </tr>\n",
       "    <tr>\n",
       "      <th>ABBV</th>\n",
       "      <td>AbbVie Inc.</td>\n",
       "      <td>Health Care</td>\n",
       "      <td>Pharmaceuticals</td>\n",
       "    </tr>\n",
       "    <tr>\n",
       "      <th>ABMD</th>\n",
       "      <td>Abiomed</td>\n",
       "      <td>Health Care</td>\n",
       "      <td>Health Care Equipment</td>\n",
       "    </tr>\n",
       "    <tr>\n",
       "      <th>ACN</th>\n",
       "      <td>Accenture</td>\n",
       "      <td>Information Technology</td>\n",
       "      <td>IT Consulting &amp; Other Services</td>\n",
       "    </tr>\n",
       "    <tr>\n",
       "      <th>...</th>\n",
       "      <td>...</td>\n",
       "      <td>...</td>\n",
       "      <td>...</td>\n",
       "    </tr>\n",
       "    <tr>\n",
       "      <th>YUM</th>\n",
       "      <td>Yum! Brands Inc</td>\n",
       "      <td>Consumer Discretionary</td>\n",
       "      <td>Restaurants</td>\n",
       "    </tr>\n",
       "    <tr>\n",
       "      <th>ZBRA</th>\n",
       "      <td>Zebra Technologies</td>\n",
       "      <td>Information Technology</td>\n",
       "      <td>Electronic Equipment &amp; Instruments</td>\n",
       "    </tr>\n",
       "    <tr>\n",
       "      <th>ZBH</th>\n",
       "      <td>Zimmer Biomet</td>\n",
       "      <td>Health Care</td>\n",
       "      <td>Health Care Equipment</td>\n",
       "    </tr>\n",
       "    <tr>\n",
       "      <th>ZION</th>\n",
       "      <td>Zions Bancorp</td>\n",
       "      <td>Financials</td>\n",
       "      <td>Regional Banks</td>\n",
       "    </tr>\n",
       "    <tr>\n",
       "      <th>ZTS</th>\n",
       "      <td>Zoetis</td>\n",
       "      <td>Health Care</td>\n",
       "      <td>Pharmaceuticals</td>\n",
       "    </tr>\n",
       "  </tbody>\n",
       "</table>\n",
       "<p>505 rows × 3 columns</p>\n",
       "</div>"
      ],
      "text/plain": [
       "                Description             Asset Class  \\\n",
       "Symbol                                                \n",
       "MMM              3M Company             Industrials   \n",
       "ABT     Abbott Laboratories             Health Care   \n",
       "ABBV            AbbVie Inc.             Health Care   \n",
       "ABMD                Abiomed             Health Care   \n",
       "ACN               Accenture  Information Technology   \n",
       "...                     ...                     ...   \n",
       "YUM         Yum! Brands Inc  Consumer Discretionary   \n",
       "ZBRA     Zebra Technologies  Information Technology   \n",
       "ZBH           Zimmer Biomet             Health Care   \n",
       "ZION          Zions Bancorp              Financials   \n",
       "ZTS                  Zoetis             Health Care   \n",
       "\n",
       "                         GICS Sub-Industry  \n",
       "Symbol                                      \n",
       "MMM               Industrial Conglomerates  \n",
       "ABT                  Health Care Equipment  \n",
       "ABBV                       Pharmaceuticals  \n",
       "ABMD                 Health Care Equipment  \n",
       "ACN         IT Consulting & Other Services  \n",
       "...                                    ...  \n",
       "YUM                            Restaurants  \n",
       "ZBRA    Electronic Equipment & Instruments  \n",
       "ZBH                  Health Care Equipment  \n",
       "ZION                        Regional Banks  \n",
       "ZTS                        Pharmaceuticals  \n",
       "\n",
       "[505 rows x 3 columns]"
      ]
     },
     "execution_count": 5,
     "metadata": {},
     "output_type": "execute_result"
    }
   ],
   "source": [
    "# read in sp500.csv\n",
    "sp500 = pd.read_csv('sp500.csv')\n",
    "sp500.drop(columns=['SEC filings', 'Headquarters Location', 'Date first added','CIK', 'Founded'], inplace=True)\n",
    "sp500.rename(columns={'Security':'Description',\n",
    "                      'GICS Sector':'Asset Class'}, inplace=True)\n",
    "sp500.set_index(\"Symbol\", inplace=True)\n",
    "sp500"
   ]
  },
  {
   "cell_type": "code",
   "execution_count": 6,
   "metadata": {},
   "outputs": [
    {
     "data": {
      "text/plain": [
       "{'Energy': 'US Stocks:Energy',\n",
       " 'Materials': 'US Stocks:Materials',\n",
       " 'Industrials': 'US Stocks:Industrials',\n",
       " 'Consumer Discretionary': 'US Stocks:Consumer Discretionary',\n",
       " 'Consumer Staples': 'US Stocks:Consumer Staples',\n",
       " 'Health Care': 'US Stocks:Healthcare',\n",
       " 'Financials': 'US Stocks:Financials',\n",
       " 'Information Technology': 'US Stocks:Technology',\n",
       " 'Communication Services': 'US Stocks:Communication Services',\n",
       " 'Utilities': 'US Stocks:Utilities',\n",
       " 'Real Estate': 'US Stocks:Real Estate'}"
      ]
     },
     "execution_count": 6,
     "metadata": {},
     "output_type": "execute_result"
    }
   ],
   "source": [
    "# read in gics-2-asset-class.csv\n",
    "gics2asset_class = pd.read_csv('gics-2-asset-class.csv', skip_blank_lines=True, comment='#')\n",
    "gics2asset_class.set_index(\"GICS\", inplace=True)\n",
    "gics2asset_class = gics2asset_class['Asset Class'].to_dict()\n",
    "gics2asset_class"
   ]
  },
  {
   "cell_type": "code",
   "execution_count": 7,
   "metadata": {},
   "outputs": [
    {
     "data": {
      "text/html": [
       "<div>\n",
       "<style scoped>\n",
       "    .dataframe tbody tr th:only-of-type {\n",
       "        vertical-align: middle;\n",
       "    }\n",
       "\n",
       "    .dataframe tbody tr th {\n",
       "        vertical-align: top;\n",
       "    }\n",
       "\n",
       "    .dataframe thead th {\n",
       "        text-align: right;\n",
       "    }\n",
       "</style>\n",
       "<table border=\"1\" class=\"dataframe\">\n",
       "  <thead>\n",
       "    <tr style=\"text-align: right;\">\n",
       "      <th></th>\n",
       "      <th>Description</th>\n",
       "      <th>Asset Class</th>\n",
       "      <th>GICS Sub-Industry</th>\n",
       "    </tr>\n",
       "    <tr>\n",
       "      <th>Symbol</th>\n",
       "      <th></th>\n",
       "      <th></th>\n",
       "      <th></th>\n",
       "    </tr>\n",
       "  </thead>\n",
       "  <tbody>\n",
       "    <tr>\n",
       "      <th>MMM</th>\n",
       "      <td>3M Company</td>\n",
       "      <td>US Stocks:Industrials</td>\n",
       "      <td>Industrial Conglomerates</td>\n",
       "    </tr>\n",
       "    <tr>\n",
       "      <th>ABT</th>\n",
       "      <td>Abbott Laboratories</td>\n",
       "      <td>US Stocks:Healthcare</td>\n",
       "      <td>Health Care Equipment</td>\n",
       "    </tr>\n",
       "    <tr>\n",
       "      <th>ABBV</th>\n",
       "      <td>AbbVie Inc.</td>\n",
       "      <td>US Stocks:Healthcare</td>\n",
       "      <td>Pharmaceuticals</td>\n",
       "    </tr>\n",
       "    <tr>\n",
       "      <th>ABMD</th>\n",
       "      <td>Abiomed</td>\n",
       "      <td>US Stocks:Healthcare</td>\n",
       "      <td>Health Care Equipment</td>\n",
       "    </tr>\n",
       "    <tr>\n",
       "      <th>ACN</th>\n",
       "      <td>Accenture</td>\n",
       "      <td>US Stocks:Technology</td>\n",
       "      <td>IT Consulting &amp; Other Services</td>\n",
       "    </tr>\n",
       "    <tr>\n",
       "      <th>...</th>\n",
       "      <td>...</td>\n",
       "      <td>...</td>\n",
       "      <td>...</td>\n",
       "    </tr>\n",
       "    <tr>\n",
       "      <th>YUM</th>\n",
       "      <td>Yum! Brands Inc</td>\n",
       "      <td>US Stocks:Consumer Discretionary</td>\n",
       "      <td>Restaurants</td>\n",
       "    </tr>\n",
       "    <tr>\n",
       "      <th>ZBRA</th>\n",
       "      <td>Zebra Technologies</td>\n",
       "      <td>US Stocks:Technology</td>\n",
       "      <td>Electronic Equipment &amp; Instruments</td>\n",
       "    </tr>\n",
       "    <tr>\n",
       "      <th>ZBH</th>\n",
       "      <td>Zimmer Biomet</td>\n",
       "      <td>US Stocks:Healthcare</td>\n",
       "      <td>Health Care Equipment</td>\n",
       "    </tr>\n",
       "    <tr>\n",
       "      <th>ZION</th>\n",
       "      <td>Zions Bancorp</td>\n",
       "      <td>US Stocks:Financials</td>\n",
       "      <td>Regional Banks</td>\n",
       "    </tr>\n",
       "    <tr>\n",
       "      <th>ZTS</th>\n",
       "      <td>Zoetis</td>\n",
       "      <td>US Stocks:Healthcare</td>\n",
       "      <td>Pharmaceuticals</td>\n",
       "    </tr>\n",
       "  </tbody>\n",
       "</table>\n",
       "<p>505 rows × 3 columns</p>\n",
       "</div>"
      ],
      "text/plain": [
       "                Description                       Asset Class  \\\n",
       "Symbol                                                          \n",
       "MMM              3M Company             US Stocks:Industrials   \n",
       "ABT     Abbott Laboratories              US Stocks:Healthcare   \n",
       "ABBV            AbbVie Inc.              US Stocks:Healthcare   \n",
       "ABMD                Abiomed              US Stocks:Healthcare   \n",
       "ACN               Accenture              US Stocks:Technology   \n",
       "...                     ...                               ...   \n",
       "YUM         Yum! Brands Inc  US Stocks:Consumer Discretionary   \n",
       "ZBRA     Zebra Technologies              US Stocks:Technology   \n",
       "ZBH           Zimmer Biomet              US Stocks:Healthcare   \n",
       "ZION          Zions Bancorp              US Stocks:Financials   \n",
       "ZTS                  Zoetis              US Stocks:Healthcare   \n",
       "\n",
       "                         GICS Sub-Industry  \n",
       "Symbol                                      \n",
       "MMM               Industrial Conglomerates  \n",
       "ABT                  Health Care Equipment  \n",
       "ABBV                       Pharmaceuticals  \n",
       "ABMD                 Health Care Equipment  \n",
       "ACN         IT Consulting & Other Services  \n",
       "...                                    ...  \n",
       "YUM                            Restaurants  \n",
       "ZBRA    Electronic Equipment & Instruments  \n",
       "ZBH                  Health Care Equipment  \n",
       "ZION                        Regional Banks  \n",
       "ZTS                        Pharmaceuticals  \n",
       "\n",
       "[505 rows x 3 columns]"
      ]
     },
     "execution_count": 7,
     "metadata": {},
     "output_type": "execute_result"
    }
   ],
   "source": [
    "# map sp500 GICS sectors to brownbear defined asset classes\n",
    "def _asset_class(row):\n",
    "    return gics2asset_class[row['Asset Class']]\n",
    "\n",
    "sp500['Asset Class'] = sp500.apply(_asset_class, axis=1)\n",
    "\n",
    "# yahoo finance uses '-' where '.' is used in symbol names\n",
    "sp500.index = sp500.index.str.replace('.', '-')\n",
    "sp500"
   ]
  },
  {
   "cell_type": "code",
   "execution_count": 8,
   "metadata": {},
   "outputs": [],
   "source": [
    "# make symbols list\n",
    "symbols = list(sp500.index)\n",
    "#symbols"
   ]
  },
  {
   "cell_type": "code",
   "execution_count": 9,
   "metadata": {},
   "outputs": [
    {
     "name": "stdout",
     "output_type": "stream",
     "text": [
      ".........................................................................................................................................................................................................................................................................................................................................................................................................................................................................................................................\n"
     ]
    }
   ],
   "source": [
    "# get the timeseries for the symbols and compile into a single csv\n",
    "bb.fetch_timeseries(symbols, refresh=refresh_timeseries)\n",
    "bb.compile_timeseries(symbols)"
   ]
  },
  {
   "cell_type": "code",
   "execution_count": 10,
   "metadata": {},
   "outputs": [
    {
     "data": {
      "text/html": [
       "<div>\n",
       "<style scoped>\n",
       "    .dataframe tbody tr th:only-of-type {\n",
       "        vertical-align: middle;\n",
       "    }\n",
       "\n",
       "    .dataframe tbody tr th {\n",
       "        vertical-align: top;\n",
       "    }\n",
       "\n",
       "    .dataframe thead th {\n",
       "        text-align: right;\n",
       "    }\n",
       "</style>\n",
       "<table border=\"1\" class=\"dataframe\">\n",
       "  <thead>\n",
       "    <tr style=\"text-align: right;\">\n",
       "      <th></th>\n",
       "      <th>NVDA</th>\n",
       "      <th>WST</th>\n",
       "      <th>ADBE</th>\n",
       "      <th>NOW</th>\n",
       "      <th>AMD</th>\n",
       "      <th>PYPL</th>\n",
       "      <th>AAPL</th>\n",
       "      <th>MSFT</th>\n",
       "      <th>DHR</th>\n",
       "      <th>TMO</th>\n",
       "      <th>AMZN</th>\n",
       "      <th>DXCM</th>\n",
       "      <th>ODFL</th>\n",
       "      <th>REGN</th>\n",
       "      <th>ROL</th>\n",
       "      <th>FDX</th>\n",
       "      <th>TMUS</th>\n",
       "      <th>CDNS</th>\n",
       "      <th>CRM</th>\n",
       "      <th>MSCI</th>\n",
       "    </tr>\n",
       "    <tr>\n",
       "      <th>Date</th>\n",
       "      <th></th>\n",
       "      <th></th>\n",
       "      <th></th>\n",
       "      <th></th>\n",
       "      <th></th>\n",
       "      <th></th>\n",
       "      <th></th>\n",
       "      <th></th>\n",
       "      <th></th>\n",
       "      <th></th>\n",
       "      <th></th>\n",
       "      <th></th>\n",
       "      <th></th>\n",
       "      <th></th>\n",
       "      <th></th>\n",
       "      <th></th>\n",
       "      <th></th>\n",
       "      <th></th>\n",
       "      <th></th>\n",
       "      <th></th>\n",
       "    </tr>\n",
       "  </thead>\n",
       "  <tbody>\n",
       "    <tr>\n",
       "      <th>2021-05-28</th>\n",
       "      <td>649.78</td>\n",
       "      <td>347.51</td>\n",
       "      <td>504.58</td>\n",
       "      <td>473.88</td>\n",
       "      <td>80.08</td>\n",
       "      <td>260.02</td>\n",
       "      <td>124.61</td>\n",
       "      <td>249.68</td>\n",
       "      <td>256.14</td>\n",
       "      <td>469.50</td>\n",
       "      <td>3223.07</td>\n",
       "      <td>369.39</td>\n",
       "      <td>265.25</td>\n",
       "      <td>502.43</td>\n",
       "      <td>34.09</td>\n",
       "      <td>314.81</td>\n",
       "      <td>141.45</td>\n",
       "      <td>126.99</td>\n",
       "      <td>238.10</td>\n",
       "      <td>468.13</td>\n",
       "    </tr>\n",
       "    <tr>\n",
       "      <th>2021-06-01</th>\n",
       "      <td>650.58</td>\n",
       "      <td>340.16</td>\n",
       "      <td>495.91</td>\n",
       "      <td>469.17</td>\n",
       "      <td>80.81</td>\n",
       "      <td>259.27</td>\n",
       "      <td>124.28</td>\n",
       "      <td>247.40</td>\n",
       "      <td>245.21</td>\n",
       "      <td>447.01</td>\n",
       "      <td>3218.65</td>\n",
       "      <td>365.67</td>\n",
       "      <td>267.85</td>\n",
       "      <td>503.23</td>\n",
       "      <td>33.76</td>\n",
       "      <td>310.85</td>\n",
       "      <td>141.70</td>\n",
       "      <td>125.75</td>\n",
       "      <td>236.20</td>\n",
       "      <td>461.97</td>\n",
       "    </tr>\n",
       "    <tr>\n",
       "      <th>2021-06-02</th>\n",
       "      <td>671.13</td>\n",
       "      <td>333.77</td>\n",
       "      <td>495.77</td>\n",
       "      <td>467.01</td>\n",
       "      <td>81.97</td>\n",
       "      <td>262.17</td>\n",
       "      <td>125.06</td>\n",
       "      <td>247.30</td>\n",
       "      <td>242.01</td>\n",
       "      <td>449.21</td>\n",
       "      <td>3233.99</td>\n",
       "      <td>370.99</td>\n",
       "      <td>263.42</td>\n",
       "      <td>505.36</td>\n",
       "      <td>33.92</td>\n",
       "      <td>306.57</td>\n",
       "      <td>140.98</td>\n",
       "      <td>124.53</td>\n",
       "      <td>234.62</td>\n",
       "      <td>468.87</td>\n",
       "    </tr>\n",
       "    <tr>\n",
       "      <th>2021-06-03</th>\n",
       "      <td>678.79</td>\n",
       "      <td>332.77</td>\n",
       "      <td>493.14</td>\n",
       "      <td>459.20</td>\n",
       "      <td>80.28</td>\n",
       "      <td>257.79</td>\n",
       "      <td>123.54</td>\n",
       "      <td>245.71</td>\n",
       "      <td>241.01</td>\n",
       "      <td>445.33</td>\n",
       "      <td>3187.01</td>\n",
       "      <td>376.74</td>\n",
       "      <td>264.18</td>\n",
       "      <td>505.66</td>\n",
       "      <td>33.09</td>\n",
       "      <td>306.31</td>\n",
       "      <td>142.32</td>\n",
       "      <td>123.94</td>\n",
       "      <td>230.84</td>\n",
       "      <td>461.98</td>\n",
       "    </tr>\n",
       "    <tr>\n",
       "      <th>2021-06-04</th>\n",
       "      <td>703.13</td>\n",
       "      <td>333.43</td>\n",
       "      <td>504.50</td>\n",
       "      <td>460.65</td>\n",
       "      <td>81.58</td>\n",
       "      <td>263.04</td>\n",
       "      <td>125.89</td>\n",
       "      <td>250.79</td>\n",
       "      <td>242.27</td>\n",
       "      <td>448.76</td>\n",
       "      <td>3206.22</td>\n",
       "      <td>382.91</td>\n",
       "      <td>260.27</td>\n",
       "      <td>511.89</td>\n",
       "      <td>33.19</td>\n",
       "      <td>302.12</td>\n",
       "      <td>144.51</td>\n",
       "      <td>126.75</td>\n",
       "      <td>237.48</td>\n",
       "      <td>466.36</td>\n",
       "    </tr>\n",
       "  </tbody>\n",
       "</table>\n",
       "</div>"
      ],
      "text/plain": [
       "             NVDA    WST   ADBE    NOW   AMD   PYPL   AAPL   MSFT    DHR  \\\n",
       "Date                                                                       \n",
       "2021-05-28 649.78 347.51 504.58 473.88 80.08 260.02 124.61 249.68 256.14   \n",
       "2021-06-01 650.58 340.16 495.91 469.17 80.81 259.27 124.28 247.40 245.21   \n",
       "2021-06-02 671.13 333.77 495.77 467.01 81.97 262.17 125.06 247.30 242.01   \n",
       "2021-06-03 678.79 332.77 493.14 459.20 80.28 257.79 123.54 245.71 241.01   \n",
       "2021-06-04 703.13 333.43 504.50 460.65 81.58 263.04 125.89 250.79 242.27   \n",
       "\n",
       "              TMO    AMZN   DXCM   ODFL   REGN   ROL    FDX   TMUS   CDNS  \\\n",
       "Date                                                                        \n",
       "2021-05-28 469.50 3223.07 369.39 265.25 502.43 34.09 314.81 141.45 126.99   \n",
       "2021-06-01 447.01 3218.65 365.67 267.85 503.23 33.76 310.85 141.70 125.75   \n",
       "2021-06-02 449.21 3233.99 370.99 263.42 505.36 33.92 306.57 140.98 124.53   \n",
       "2021-06-03 445.33 3187.01 376.74 264.18 505.66 33.09 306.31 142.32 123.94   \n",
       "2021-06-04 448.76 3206.22 382.91 260.27 511.89 33.19 302.12 144.51 126.75   \n",
       "\n",
       "              CRM   MSCI  \n",
       "Date                      \n",
       "2021-05-28 238.10 468.13  \n",
       "2021-06-01 236.20 461.97  \n",
       "2021-06-02 234.62 468.87  \n",
       "2021-06-03 230.84 461.98  \n",
       "2021-06-04 237.48 466.36  "
      ]
     },
     "execution_count": 10,
     "metadata": {},
     "output_type": "execute_result"
    }
   ],
   "source": [
    "# read symbols timeseries into a dataframe\n",
    "df = pd.read_csv('symbols-timeseries.csv', skip_blank_lines=True, comment='#')\n",
    "df.set_index(\"Date\", inplace=True)\n",
    "df = df[:]\n",
    "df.tail()[['NVDA', 'WST', 'ADBE', 'NOW', 'AMD', 'PYPL', 'AAPL', 'MSFT', 'DHR', 'TMO', 'AMZN', 'DXCM', 'ODFL', 'REGN', 'ROL', 'FDX', 'TMUS', 'CDNS', 'CRM', 'MSCI']]"
   ]
  },
  {
   "cell_type": "code",
   "execution_count": 11,
   "metadata": {},
   "outputs": [],
   "source": [
    "# sample symbol\n",
    "symbol = 'MMM'"
   ]
  },
  {
   "cell_type": "code",
   "execution_count": 12,
   "metadata": {},
   "outputs": [
    {
     "data": {
      "text/plain": [
       "31.041818758950246"
      ]
     },
     "execution_count": 12,
     "metadata": {},
     "output_type": "execute_result"
    }
   ],
   "source": [
    "annual_returns = bb.annualize_returns(df, timeperiod='daily', years=1)\n",
    "annual_returns[symbol]"
   ]
  },
  {
   "cell_type": "code",
   "execution_count": 13,
   "metadata": {},
   "outputs": [],
   "source": [
    "# calculate annualized returns\n",
    "annual_returns_1mo = bb.annualize_returns(df, timeperiod='daily', years=1/12)\n",
    "annual_returns_3mo = bb.annualize_returns(df, timeperiod='daily', years=3/12)\n",
    "annual_returns_1yr = bb.annualize_returns(df, timeperiod='daily', years=1)\n",
    "annual_returns_3yr = bb.annualize_returns(df, timeperiod='daily', years=3)\n",
    "annual_returns_5yr = bb.annualize_returns(df, timeperiod='daily', years=5)"
   ]
  },
  {
   "cell_type": "code",
   "execution_count": 14,
   "metadata": {},
   "outputs": [
    {
     "data": {
      "text/plain": [
       "0.16655976817076731"
      ]
     },
     "execution_count": 14,
     "metadata": {},
     "output_type": "execute_result"
    }
   ],
   "source": [
    "# calculate volatility\n",
    "daily_returns = df.pct_change()\n",
    "years = bb.TRADING_DAYS_PER_MONTH / bb.TRADING_DAYS_PER_YEAR\n",
    "vola = bb.annualized_standard_deviation(daily_returns, timeperiod='daily', years=years)\n",
    "vola[symbol]"
   ]
  },
  {
   "cell_type": "code",
   "execution_count": 15,
   "metadata": {},
   "outputs": [
    {
     "data": {
      "text/plain": [
       "0.10171409149432402"
      ]
     },
     "execution_count": 15,
     "metadata": {},
     "output_type": "execute_result"
    }
   ],
   "source": [
    "# calculate downside volatility\n",
    "ds_vola = bb.annualized_standard_deviation(daily_returns, timeperiod='daily', years=years, downside=True)\n",
    "ds_vola[symbol]"
   ]
  },
  {
   "cell_type": "code",
   "execution_count": 16,
   "metadata": {},
   "outputs": [
    {
     "name": "stdout",
     "output_type": "stream",
     "text": [
      "Date\n",
      "2015-01-31   134.61\n",
      "2015-02-28   140.75\n",
      "2015-03-31   137.66\n",
      "2015-04-30   130.52\n",
      "2015-05-31   133.60\n",
      "2015-06-30   129.59\n",
      "2015-07-31   127.10\n",
      "2015-08-31   120.20\n",
      "2015-09-30   119.89\n",
      "2015-10-31   132.95\n",
      "2015-11-30   133.29\n",
      "2015-12-31   128.23\n",
      "2016-01-31   128.54\n",
      "2016-02-29   134.50\n",
      "2016-03-31   142.87\n",
      "2016-04-30   143.51\n",
      "2016-05-31   145.28\n",
      "2016-06-30   151.14\n",
      "2016-07-31   153.94\n",
      "2016-08-31   155.66\n",
      "2016-09-30   153.05\n",
      "2016-10-31   143.56\n",
      "2016-11-30   150.11\n",
      "2016-12-31   156.08\n",
      "2017-01-31   152.80\n",
      "2017-02-28   163.94\n",
      "2017-03-31   168.32\n",
      "2017-04-30   172.28\n",
      "2017-05-31   180.95\n",
      "2017-06-30   184.24\n",
      "2017-07-31   178.03\n",
      "2017-08-31   181.86\n",
      "2017-09-30   186.83\n",
      "2017-10-31   204.89\n",
      "2017-11-30   217.50\n",
      "2017-12-31   210.55\n",
      "2018-01-31   224.09\n",
      "2018-02-28   211.92\n",
      "2018-03-31   197.53\n",
      "2018-04-30   174.92\n",
      "2018-05-31   178.69\n",
      "2018-06-30   178.23\n",
      "2018-07-31   192.36\n",
      "2018-08-31   192.37\n",
      "2018-09-30   192.18\n",
      "2018-10-31   173.53\n",
      "2018-11-30   190.93\n",
      "2018-12-31   174.97\n",
      "2019-01-31   183.93\n",
      "2019-02-28   191.76\n",
      "2019-03-31   192.12\n",
      "2019-04-30   175.23\n",
      "2019-05-31   148.98\n",
      "2019-06-30   161.65\n",
      "2019-07-31   162.94\n",
      "2019-08-31   152.19\n",
      "2019-09-30   154.72\n",
      "2019-10-31   155.27\n",
      "2019-11-30   161.15\n",
      "2019-12-31   167.46\n",
      "2020-01-31   150.61\n",
      "2020-02-29   142.95\n",
      "2020-03-31   130.75\n",
      "2020-04-30   145.51\n",
      "2020-05-31   151.33\n",
      "2020-06-30   150.89\n",
      "2020-07-31   145.55\n",
      "2020-08-31   159.13\n",
      "2020-09-30   156.36\n",
      "2020-10-31   156.14\n",
      "2020-11-30   170.07\n",
      "2020-12-31   172.10\n",
      "2021-01-31   172.95\n",
      "2021-02-28   173.78\n",
      "2021-03-31   191.27\n",
      "2021-04-30   195.70\n",
      "2021-05-31   203.04\n",
      "2021-06-30   206.05\n",
      "Freq: M, Name: MMM, dtype: float64\n"
     ]
    }
   ],
   "source": [
    "# resample df on a monthly basis\n",
    "df.index = pd.to_datetime(df.index)\n",
    "monthly = df.resample('M').ffill()\n",
    "bb.print_full(monthly[symbol])"
   ]
  },
  {
   "cell_type": "code",
   "execution_count": 17,
   "metadata": {},
   "outputs": [
    {
     "data": {
      "text/plain": [
       "Date\n",
       "2015-01-31     nan\n",
       "2015-02-28    0.05\n",
       "2015-03-31   -0.02\n",
       "2015-04-30   -0.05\n",
       "2015-05-31    0.02\n",
       "              ... \n",
       "2021-02-28    0.00\n",
       "2021-03-31    0.10\n",
       "2021-04-30    0.02\n",
       "2021-05-31    0.04\n",
       "2021-06-30    0.01\n",
       "Freq: M, Name: MMM, Length: 78, dtype: float64"
      ]
     },
     "execution_count": 17,
     "metadata": {},
     "output_type": "execute_result"
    }
   ],
   "source": [
    "# calculate monthly returns\n",
    "monthly_returns = monthly.pct_change()\n",
    "monthly_returns[symbol]"
   ]
  },
  {
   "cell_type": "code",
   "execution_count": 18,
   "metadata": {},
   "outputs": [
    {
     "data": {
      "text/plain": [
       "0.22058470745508066"
      ]
     },
     "execution_count": 18,
     "metadata": {},
     "output_type": "execute_result"
    }
   ],
   "source": [
    "# calculate standard deviation\n",
    "std_dev = bb.annualized_standard_deviation(monthly_returns, timeperiod='monthly', years=3)\n",
    "std_dev[symbol]"
   ]
  },
  {
   "cell_type": "code",
   "execution_count": 19,
   "metadata": {},
   "outputs": [
    {
     "data": {
      "text/plain": [
       "['# Description: S&P 500 investment options. 09/29/2020',\n",
       " '',\n",
       " '# Format',\n",
       " '\"Investment Option\",\"Description\",\"Asset Class\",\"1 mo\",\"3 mo\",\"1 Yr\",\"3 Yr\",\"5 Yr\",\"Vola\",\"DS Vola\",\"Std Dev\"',\n",
       " '# Note: \"Description\" field is optional']"
      ]
     },
     "execution_count": 19,
     "metadata": {},
     "output_type": "execute_result"
    }
   ],
   "source": [
    "# read investment-options-header.csv\n",
    "lines = []\n",
    "with open('investment-options-in.csv', 'r') as f:\n",
    "    lines = [line.strip() for line in f]\n",
    "lines"
   ]
  },
  {
   "cell_type": "code",
   "execution_count": 20,
   "metadata": {},
   "outputs": [],
   "source": [
    "# for each symbol, write out the 1 Yr, 3 Yr, 5 Yr, and std dev\n",
    "out = lines.copy()\n",
    "\n",
    "# This is still slow (2.53 s)\n",
    "for i, (index, row) in enumerate(sp500.iterrows()):\n",
    "\n",
    "    symbol = index\n",
    "    description = row['Description']\n",
    "    asset_class = row['Asset Class']\n",
    "\n",
    "    ret_1mo = annual_returns_1mo[symbol]\n",
    "    ret_3mo = annual_returns_3mo[symbol]\n",
    "    ret_1yr = annual_returns_1yr[symbol]\n",
    "    ret_3yr = annual_returns_3yr[symbol]\n",
    "    ret_5yr = annual_returns_5yr[symbol]\n",
    "    \n",
    "    if np.isnan(ret_3yr): ret_3yr = ret_1yr\n",
    "    if np.isnan(ret_5yr): ret_5yr = ret_3yr\n",
    "\n",
    "    _vola = vola[symbol]*100\n",
    "    _ds_vola = ds_vola[symbol]*100\n",
    "    sd = std_dev[symbol]*100\n",
    "\n",
    "    out.append(\n",
    "        '\"{}\",\"{}\",\"{}\",\"{:0.2f}\",\"{:0.2f}\",\"{:0.2f}\",\"{:0.2f}\",\"{:0.2f}\",\"{:0.2f}\",\"{:0.2f}\",\"{:0.2f}\"'\n",
    "        .format(symbol, description, asset_class,\n",
    "                ret_1mo, ret_3mo, ret_1yr, ret_3yr, ret_5yr, _vola, _ds_vola, sd)) "
   ]
  },
  {
   "cell_type": "code",
   "execution_count": 21,
   "metadata": {},
   "outputs": [],
   "source": [
    "# write out asset-classes.csv\n",
    "with open('investment-options.csv', 'w') as f:\n",
    "    for line in out:\n",
    "        f.write(line + '\\n')"
   ]
  }
 ],
 "metadata": {
  "kernelspec": {
   "display_name": "Python 3",
   "language": "python",
   "name": "python3"
  },
  "language_info": {
   "codemirror_mode": {
    "name": "ipython",
    "version": 3
   },
   "file_extension": ".py",
   "mimetype": "text/x-python",
   "name": "python",
   "nbconvert_exporter": "python",
   "pygments_lexer": "ipython3",
   "version": "3.8.5"
  },
  "latex_envs": {
   "LaTeX_envs_menu_present": true,
   "autoclose": false,
   "autocomplete": true,
   "bibliofile": "biblio.bib",
   "cite_by": "apalike",
   "current_citInitial": 1,
   "eqLabelWithNumbers": true,
   "eqNumInitial": 1,
   "hotkeys": {
    "equation": "Ctrl-E",
    "itemize": "Ctrl-I"
   },
   "labels_anchors": false,
   "latex_user_defs": false,
   "report_style_numbering": false,
   "user_envs_cfg": false
  }
 },
 "nbformat": 4,
 "nbformat_minor": 1
}
