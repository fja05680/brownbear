{
 "cells": [
  {
   "cell_type": "markdown",
   "metadata": {},
   "source": [
    "Use this utility to update the returns and std_dev fields within investment-options.csv"
   ]
  },
  {
   "cell_type": "code",
   "execution_count": 27,
   "metadata": {
    "ExecuteTime": {
     "end_time": "2019-08-05T19:30:28.821735Z",
     "start_time": "2019-08-05T19:30:28.795344Z"
    }
   },
   "outputs": [
    {
     "data": {
      "application/javascript": [
       "IPython.OutputArea.prototype._should_scroll = function(lines) {\n",
       "    return false;\n",
       "}\n"
      ],
      "text/plain": [
       "<IPython.core.display.Javascript object>"
      ]
     },
     "metadata": {},
     "output_type": "display_data"
    }
   ],
   "source": [
    "%%javascript\n",
    "IPython.OutputArea.prototype._should_scroll = function(lines) {\n",
    "    return false;\n",
    "}"
   ]
  },
  {
   "cell_type": "code",
   "execution_count": 28,
   "metadata": {
    "ExecuteTime": {
     "end_time": "2019-08-05T19:30:29.630182Z",
     "start_time": "2019-08-05T19:30:28.824991Z"
    }
   },
   "outputs": [],
   "source": [
    "import matplotlib.pyplot as plt\n",
    "import numpy as np\n",
    "import pandas as pd\n",
    "\n",
    "import brownbear as bb\n",
    "\n",
    "# format price data\n",
    "pd.options.display.float_format = '{:0.2f}'.format\n",
    "\n",
    "%matplotlib inline"
   ]
  },
  {
   "cell_type": "code",
   "execution_count": 29,
   "metadata": {
    "ExecuteTime": {
     "end_time": "2019-08-05T19:30:29.646391Z",
     "start_time": "2019-08-05T19:30:29.636429Z"
    }
   },
   "outputs": [],
   "source": [
    "# set size of inline plots.\n",
    "'''note: rcParams can't be in same cell as import matplotlib\n",
    "   or %matplotlib inline\n",
    "   \n",
    "   %matplotlib notebook: will lead to interactive plots embedded within\n",
    "   the notebook, you can zoom and resize the figure\n",
    "   \n",
    "   %matplotlib inline: only draw static images in the notebook\n",
    "'''\n",
    "plt.rcParams[\"figure.figsize\"] = (10, 7)"
   ]
  },
  {
   "cell_type": "markdown",
   "metadata": {},
   "source": [
    "Globals"
   ]
  },
  {
   "cell_type": "code",
   "execution_count": 30,
   "metadata": {},
   "outputs": [],
   "source": [
    "# set refresh_timeseries=True to download timeseries.  Otherwise /symbol-cache is used.\n",
    "refresh_timeseries = True"
   ]
  },
  {
   "cell_type": "code",
   "execution_count": 31,
   "metadata": {},
   "outputs": [
    {
     "data": {
      "text/html": [
       "<div>\n",
       "<style scoped>\n",
       "    .dataframe tbody tr th:only-of-type {\n",
       "        vertical-align: middle;\n",
       "    }\n",
       "\n",
       "    .dataframe tbody tr th {\n",
       "        vertical-align: top;\n",
       "    }\n",
       "\n",
       "    .dataframe thead th {\n",
       "        text-align: right;\n",
       "    }\n",
       "</style>\n",
       "<table border=\"1\" class=\"dataframe\">\n",
       "  <thead>\n",
       "    <tr style=\"text-align: right;\">\n",
       "      <th></th>\n",
       "      <th>Description</th>\n",
       "      <th>Asset Class</th>\n",
       "      <th>GICS Sub-Industry</th>\n",
       "    </tr>\n",
       "    <tr>\n",
       "      <th>Symbol</th>\n",
       "      <th></th>\n",
       "      <th></th>\n",
       "      <th></th>\n",
       "    </tr>\n",
       "  </thead>\n",
       "  <tbody>\n",
       "    <tr>\n",
       "      <th>MMM</th>\n",
       "      <td>3M</td>\n",
       "      <td>Industrials</td>\n",
       "      <td>Industrial Conglomerates</td>\n",
       "    </tr>\n",
       "    <tr>\n",
       "      <th>AOS</th>\n",
       "      <td>A. O. Smith</td>\n",
       "      <td>Industrials</td>\n",
       "      <td>Building Products</td>\n",
       "    </tr>\n",
       "    <tr>\n",
       "      <th>ABT</th>\n",
       "      <td>Abbott</td>\n",
       "      <td>Health Care</td>\n",
       "      <td>Health Care Equipment</td>\n",
       "    </tr>\n",
       "    <tr>\n",
       "      <th>ABBV</th>\n",
       "      <td>AbbVie</td>\n",
       "      <td>Health Care</td>\n",
       "      <td>Pharmaceuticals</td>\n",
       "    </tr>\n",
       "    <tr>\n",
       "      <th>ACN</th>\n",
       "      <td>Accenture</td>\n",
       "      <td>Information Technology</td>\n",
       "      <td>IT Consulting &amp; Other Services</td>\n",
       "    </tr>\n",
       "    <tr>\n",
       "      <th>...</th>\n",
       "      <td>...</td>\n",
       "      <td>...</td>\n",
       "      <td>...</td>\n",
       "    </tr>\n",
       "    <tr>\n",
       "      <th>YUM</th>\n",
       "      <td>Yum! Brands</td>\n",
       "      <td>Consumer Discretionary</td>\n",
       "      <td>Restaurants</td>\n",
       "    </tr>\n",
       "    <tr>\n",
       "      <th>ZBRA</th>\n",
       "      <td>Zebra Technologies</td>\n",
       "      <td>Information Technology</td>\n",
       "      <td>Electronic Equipment &amp; Instruments</td>\n",
       "    </tr>\n",
       "    <tr>\n",
       "      <th>ZBH</th>\n",
       "      <td>Zimmer Biomet</td>\n",
       "      <td>Health Care</td>\n",
       "      <td>Health Care Equipment</td>\n",
       "    </tr>\n",
       "    <tr>\n",
       "      <th>ZION</th>\n",
       "      <td>Zions Bancorporation</td>\n",
       "      <td>Financials</td>\n",
       "      <td>Regional Banks</td>\n",
       "    </tr>\n",
       "    <tr>\n",
       "      <th>ZTS</th>\n",
       "      <td>Zoetis</td>\n",
       "      <td>Health Care</td>\n",
       "      <td>Pharmaceuticals</td>\n",
       "    </tr>\n",
       "  </tbody>\n",
       "</table>\n",
       "<p>503 rows × 3 columns</p>\n",
       "</div>"
      ],
      "text/plain": [
       "                 Description             Asset Class  \\\n",
       "Symbol                                                 \n",
       "MMM                       3M             Industrials   \n",
       "AOS              A. O. Smith             Industrials   \n",
       "ABT                   Abbott             Health Care   \n",
       "ABBV                  AbbVie             Health Care   \n",
       "ACN                Accenture  Information Technology   \n",
       "...                      ...                     ...   \n",
       "YUM              Yum! Brands  Consumer Discretionary   \n",
       "ZBRA      Zebra Technologies  Information Technology   \n",
       "ZBH            Zimmer Biomet             Health Care   \n",
       "ZION    Zions Bancorporation              Financials   \n",
       "ZTS                   Zoetis             Health Care   \n",
       "\n",
       "                         GICS Sub-Industry  \n",
       "Symbol                                      \n",
       "MMM               Industrial Conglomerates  \n",
       "AOS                      Building Products  \n",
       "ABT                  Health Care Equipment  \n",
       "ABBV                       Pharmaceuticals  \n",
       "ACN         IT Consulting & Other Services  \n",
       "...                                    ...  \n",
       "YUM                            Restaurants  \n",
       "ZBRA    Electronic Equipment & Instruments  \n",
       "ZBH                  Health Care Equipment  \n",
       "ZION                        Regional Banks  \n",
       "ZTS                        Pharmaceuticals  \n",
       "\n",
       "[503 rows x 3 columns]"
      ]
     },
     "execution_count": 31,
     "metadata": {},
     "output_type": "execute_result"
    }
   ],
   "source": [
    "# read in sp500.csv\n",
    "sp500 = pd.read_csv('sp500.csv')\n",
    "sp500.drop(columns=['SEC filings', 'Headquarters Location', 'Date added','CIK', 'Founded'], inplace=True)\n",
    "sp500.rename(columns={'Security':'Description',\n",
    "                      'GICS Sector':'Asset Class'}, inplace=True)\n",
    "sp500.set_index(\"Symbol\", inplace=True)\n",
    "sp500"
   ]
  },
  {
   "cell_type": "code",
   "execution_count": 32,
   "metadata": {},
   "outputs": [
    {
     "data": {
      "text/plain": [
       "{'Energy': 'US Stocks:Energy',\n",
       " 'Materials': 'US Stocks:Materials',\n",
       " 'Industrials': 'US Stocks:Industrials',\n",
       " 'Consumer Discretionary': 'US Stocks:Consumer Discretionary',\n",
       " 'Consumer Staples': 'US Stocks:Consumer Staples',\n",
       " 'Health Care': 'US Stocks:Healthcare',\n",
       " 'Financials': 'US Stocks:Financials',\n",
       " 'Information Technology': 'US Stocks:Technology',\n",
       " 'Communication Services': 'US Stocks:Communication Services',\n",
       " 'Utilities': 'US Stocks:Utilities',\n",
       " 'Real Estate': 'US Stocks:Real Estate'}"
      ]
     },
     "execution_count": 32,
     "metadata": {},
     "output_type": "execute_result"
    }
   ],
   "source": [
    "# read in gics-2-asset-class.csv\n",
    "gics2asset_class = pd.read_csv('gics-2-asset-class.csv', skip_blank_lines=True, comment='#')\n",
    "gics2asset_class.set_index(\"GICS\", inplace=True)\n",
    "gics2asset_class = gics2asset_class['Asset Class'].to_dict()\n",
    "gics2asset_class"
   ]
  },
  {
   "cell_type": "code",
   "execution_count": 33,
   "metadata": {},
   "outputs": [
    {
     "data": {
      "text/html": [
       "<div>\n",
       "<style scoped>\n",
       "    .dataframe tbody tr th:only-of-type {\n",
       "        vertical-align: middle;\n",
       "    }\n",
       "\n",
       "    .dataframe tbody tr th {\n",
       "        vertical-align: top;\n",
       "    }\n",
       "\n",
       "    .dataframe thead th {\n",
       "        text-align: right;\n",
       "    }\n",
       "</style>\n",
       "<table border=\"1\" class=\"dataframe\">\n",
       "  <thead>\n",
       "    <tr style=\"text-align: right;\">\n",
       "      <th></th>\n",
       "      <th>Description</th>\n",
       "      <th>Asset Class</th>\n",
       "      <th>GICS Sub-Industry</th>\n",
       "    </tr>\n",
       "    <tr>\n",
       "      <th>Symbol</th>\n",
       "      <th></th>\n",
       "      <th></th>\n",
       "      <th></th>\n",
       "    </tr>\n",
       "  </thead>\n",
       "  <tbody>\n",
       "    <tr>\n",
       "      <th>MMM</th>\n",
       "      <td>3M</td>\n",
       "      <td>US Stocks:Industrials</td>\n",
       "      <td>Industrial Conglomerates</td>\n",
       "    </tr>\n",
       "    <tr>\n",
       "      <th>AOS</th>\n",
       "      <td>A. O. Smith</td>\n",
       "      <td>US Stocks:Industrials</td>\n",
       "      <td>Building Products</td>\n",
       "    </tr>\n",
       "    <tr>\n",
       "      <th>ABT</th>\n",
       "      <td>Abbott</td>\n",
       "      <td>US Stocks:Healthcare</td>\n",
       "      <td>Health Care Equipment</td>\n",
       "    </tr>\n",
       "    <tr>\n",
       "      <th>ABBV</th>\n",
       "      <td>AbbVie</td>\n",
       "      <td>US Stocks:Healthcare</td>\n",
       "      <td>Pharmaceuticals</td>\n",
       "    </tr>\n",
       "    <tr>\n",
       "      <th>ACN</th>\n",
       "      <td>Accenture</td>\n",
       "      <td>US Stocks:Technology</td>\n",
       "      <td>IT Consulting &amp; Other Services</td>\n",
       "    </tr>\n",
       "    <tr>\n",
       "      <th>...</th>\n",
       "      <td>...</td>\n",
       "      <td>...</td>\n",
       "      <td>...</td>\n",
       "    </tr>\n",
       "    <tr>\n",
       "      <th>YUM</th>\n",
       "      <td>Yum! Brands</td>\n",
       "      <td>US Stocks:Consumer Discretionary</td>\n",
       "      <td>Restaurants</td>\n",
       "    </tr>\n",
       "    <tr>\n",
       "      <th>ZBRA</th>\n",
       "      <td>Zebra Technologies</td>\n",
       "      <td>US Stocks:Technology</td>\n",
       "      <td>Electronic Equipment &amp; Instruments</td>\n",
       "    </tr>\n",
       "    <tr>\n",
       "      <th>ZBH</th>\n",
       "      <td>Zimmer Biomet</td>\n",
       "      <td>US Stocks:Healthcare</td>\n",
       "      <td>Health Care Equipment</td>\n",
       "    </tr>\n",
       "    <tr>\n",
       "      <th>ZION</th>\n",
       "      <td>Zions Bancorporation</td>\n",
       "      <td>US Stocks:Financials</td>\n",
       "      <td>Regional Banks</td>\n",
       "    </tr>\n",
       "    <tr>\n",
       "      <th>ZTS</th>\n",
       "      <td>Zoetis</td>\n",
       "      <td>US Stocks:Healthcare</td>\n",
       "      <td>Pharmaceuticals</td>\n",
       "    </tr>\n",
       "  </tbody>\n",
       "</table>\n",
       "<p>503 rows × 3 columns</p>\n",
       "</div>"
      ],
      "text/plain": [
       "                 Description                       Asset Class  \\\n",
       "Symbol                                                           \n",
       "MMM                       3M             US Stocks:Industrials   \n",
       "AOS              A. O. Smith             US Stocks:Industrials   \n",
       "ABT                   Abbott              US Stocks:Healthcare   \n",
       "ABBV                  AbbVie              US Stocks:Healthcare   \n",
       "ACN                Accenture              US Stocks:Technology   \n",
       "...                      ...                               ...   \n",
       "YUM              Yum! Brands  US Stocks:Consumer Discretionary   \n",
       "ZBRA      Zebra Technologies              US Stocks:Technology   \n",
       "ZBH            Zimmer Biomet              US Stocks:Healthcare   \n",
       "ZION    Zions Bancorporation              US Stocks:Financials   \n",
       "ZTS                   Zoetis              US Stocks:Healthcare   \n",
       "\n",
       "                         GICS Sub-Industry  \n",
       "Symbol                                      \n",
       "MMM               Industrial Conglomerates  \n",
       "AOS                      Building Products  \n",
       "ABT                  Health Care Equipment  \n",
       "ABBV                       Pharmaceuticals  \n",
       "ACN         IT Consulting & Other Services  \n",
       "...                                    ...  \n",
       "YUM                            Restaurants  \n",
       "ZBRA    Electronic Equipment & Instruments  \n",
       "ZBH                  Health Care Equipment  \n",
       "ZION                        Regional Banks  \n",
       "ZTS                        Pharmaceuticals  \n",
       "\n",
       "[503 rows x 3 columns]"
      ]
     },
     "execution_count": 33,
     "metadata": {},
     "output_type": "execute_result"
    }
   ],
   "source": [
    "# Map sp500 GICS sectors to brownbear defined asset classes.\n",
    "def _asset_class(row):\n",
    "    return gics2asset_class[row['Asset Class']]\n",
    "\n",
    "sp500['Asset Class'] = sp500.apply(_asset_class, axis=1)\n",
    "\n",
    "# Yahoo finance uses '-' where '.' is used in symbol names.\n",
    "sp500.index = sp500.index.str.replace('.', '-', regex=False)\n",
    "sp500"
   ]
  },
  {
   "cell_type": "code",
   "execution_count": 34,
   "metadata": {},
   "outputs": [],
   "source": [
    "# Make symbols list.\n",
    "symbols = list(sp500.index)\n",
    "#symbols"
   ]
  },
  {
   "cell_type": "code",
   "execution_count": 35,
   "metadata": {},
   "outputs": [
    {
     "name": "stdout",
     "output_type": "stream",
     "text": [
      "MMM AOS ABT ABBV ACN ATVI ADM ADBE ADP AAP AES AFL A APD AKAM ALK ALB ARE ALGN ALLE LNT ALL GOOGL GOOG MO AMZN AMCR AMD AEE AAL AEP AXP AIG AMT AWK AMP ABC AME AMGN APH ADI ANSS AON APA AAPL AMAT APTV ACGL ANET AJG AIZ T ATO ADSK AZO AVB AVY BKR BALL BAC BBWI BAX BDX WRB BRK-B BBY BIO TECH BIIB BLK BK BA BKNG BWA BXP BSX BMY AVGO BR BRO BF-B CHRW CDNS CZR CPT CPB COF CAH KMX CCL CARR CTLT CAT CBOE CBRE CDW CE CNC CNP CDAY CF CRL SCHW CHTR CVX CMG CB CHD CI CINF CTAS CSCO C CFG CLX CME CMS KO CTSH CL CMCSA CMA CAG COP ED STZ CEG COO CPRT GLW CTVA CSGP COST CTRA CCI CSX CMI CVS DHI DHR DRI DVA DE DAL XRAY DVN DXCM FANG DLR DFS DISH DIS DG DLTR D DPZ DOV DOW DTE DUK DD DXC EMN ETN EBAY ECL EIX EW EA ELV LLY EMR ENPH ETR EOG EPAM EQT EFX EQIX EQR ESS EL ETSY RE EVRG ES EXC EXPE EXPD EXR XOM FFIV FDS FAST FRT FDX FITB FRC FSLR FE FIS FISV FLT FMC F FTNT FTV FOXA FOX BEN FCX GRMN IT GEHC GEN GNRC GD GE GIS GM GPC GILD GL GPN GS HAL HIG HAS HCA PEAK HSIC HSY HES HPE HLT HOLX HD HON HRL HST HWM HPQ HUM HBAN HII IBM IEX IDXX ITW ILMN INCY IR INTC ICE IP IPG IFF INTU ISRG IVZ INVH IQV IRM JBHT JKHY J JNJ JCI JPM JNPR K KDP KEY KEYS KMB KIM KMI KLAC KHC KR LHX LH LRCX LW LVS LDOS LEN LNC LIN LYV LKQ LMT L LOW LUMN LYB MTB MRO MPC MKTX MAR MMC MLM MAS MA MTCH MKC MCD MCK MDT MRK META MET MTD MGM MCHP MU MSFT MAA MRNA MHK MOH TAP MDLZ MPWR MNST MCO MS MOS MSI MSCI NDAQ NTAP NFLX NWL NEM NWSA NWS NEE NKE NI NDSN NSC NTRS NOC NCLH NRG NUE NVDA NVR NXPI ORLY OXY ODFL OMC ON OKE ORCL OGN OTIS PCAR PKG PARA PH PAYX PAYC PYPL PNR PEP PKI PFE PCG PM PSX PNW PXD PNC POOL PPG PPL PFG PG PGR PLD PRU PEG PTC PSA PHM QRVO PWR QCOM DGX RL RJF RTX O REG REGN RF RSG RMD RHI ROK ROL ROP ROST RCL SPGI CRM SBAC SLB STX SEE SRE NOW SHW SBNY SPG SWKS SJM SNA SEDG SO LUV SWK SBUX STT STLD STE SYK SIVB SYF SNPS SYY TMUS TROW TTWO TPR TRGP TGT TEL TDY TFX TER TSLA TXN TXT TMO TJX TSCO TT TDG TRV TRMB TFC TYL TSN USB UDR ULTA UNP UAL UPS URI UNH UHS VLO VTR VRSN VRSK VZ VRTX VFC VTRS VICI V VMC WAB WBA WMT WBD WM WAT WEC WFC WELL WST WDC WRK WY WHR WMB WTW GWW WYNN XEL XYL YUM ZBRA ZBH ZION ZTS \n"
     ]
    }
   ],
   "source": [
    "# Get the timeseries for the symbols and compile into a single csv.\n",
    "bb.fetch_timeseries(symbols, refresh=refresh_timeseries)\n",
    "bb.compile_timeseries(symbols)"
   ]
  },
  {
   "cell_type": "code",
   "execution_count": 36,
   "metadata": {},
   "outputs": [
    {
     "data": {
      "text/html": [
       "<div>\n",
       "<style scoped>\n",
       "    .dataframe tbody tr th:only-of-type {\n",
       "        vertical-align: middle;\n",
       "    }\n",
       "\n",
       "    .dataframe tbody tr th {\n",
       "        vertical-align: top;\n",
       "    }\n",
       "\n",
       "    .dataframe thead th {\n",
       "        text-align: right;\n",
       "    }\n",
       "</style>\n",
       "<table border=\"1\" class=\"dataframe\">\n",
       "  <thead>\n",
       "    <tr style=\"text-align: right;\">\n",
       "      <th></th>\n",
       "      <th>NVDA</th>\n",
       "      <th>WST</th>\n",
       "      <th>ADBE</th>\n",
       "      <th>NOW</th>\n",
       "      <th>AMD</th>\n",
       "      <th>PYPL</th>\n",
       "      <th>AAPL</th>\n",
       "      <th>MSFT</th>\n",
       "      <th>DHR</th>\n",
       "      <th>TMO</th>\n",
       "      <th>AMZN</th>\n",
       "      <th>DXCM</th>\n",
       "      <th>ODFL</th>\n",
       "      <th>REGN</th>\n",
       "      <th>ROL</th>\n",
       "      <th>FDX</th>\n",
       "      <th>TMUS</th>\n",
       "      <th>CDNS</th>\n",
       "      <th>CRM</th>\n",
       "      <th>MSCI</th>\n",
       "    </tr>\n",
       "    <tr>\n",
       "      <th>Date</th>\n",
       "      <th></th>\n",
       "      <th></th>\n",
       "      <th></th>\n",
       "      <th></th>\n",
       "      <th></th>\n",
       "      <th></th>\n",
       "      <th></th>\n",
       "      <th></th>\n",
       "      <th></th>\n",
       "      <th></th>\n",
       "      <th></th>\n",
       "      <th></th>\n",
       "      <th></th>\n",
       "      <th></th>\n",
       "      <th></th>\n",
       "      <th></th>\n",
       "      <th></th>\n",
       "      <th></th>\n",
       "      <th></th>\n",
       "      <th></th>\n",
       "    </tr>\n",
       "  </thead>\n",
       "  <tbody>\n",
       "    <tr>\n",
       "      <th>2023-01-30</th>\n",
       "      <td>191.62</td>\n",
       "      <td>261.82</td>\n",
       "      <td>363.42</td>\n",
       "      <td>442.57</td>\n",
       "      <td>72.45</td>\n",
       "      <td>79.64</td>\n",
       "      <td>143.00</td>\n",
       "      <td>242.71</td>\n",
       "      <td>262.75</td>\n",
       "      <td>564.29</td>\n",
       "      <td>100.55</td>\n",
       "      <td>105.49</td>\n",
       "      <td>321.88</td>\n",
       "      <td>736.46</td>\n",
       "      <td>35.68</td>\n",
       "      <td>184.08</td>\n",
       "      <td>146.98</td>\n",
       "      <td>180.74</td>\n",
       "      <td>164.75</td>\n",
       "      <td>506.56</td>\n",
       "    </tr>\n",
       "    <tr>\n",
       "      <th>2023-01-31</th>\n",
       "      <td>195.37</td>\n",
       "      <td>265.60</td>\n",
       "      <td>370.34</td>\n",
       "      <td>455.13</td>\n",
       "      <td>75.15</td>\n",
       "      <td>81.49</td>\n",
       "      <td>144.29</td>\n",
       "      <td>247.81</td>\n",
       "      <td>264.38</td>\n",
       "      <td>570.33</td>\n",
       "      <td>103.13</td>\n",
       "      <td>107.09</td>\n",
       "      <td>333.24</td>\n",
       "      <td>758.47</td>\n",
       "      <td>36.40</td>\n",
       "      <td>193.86</td>\n",
       "      <td>149.31</td>\n",
       "      <td>182.83</td>\n",
       "      <td>167.97</td>\n",
       "      <td>531.56</td>\n",
       "    </tr>\n",
       "    <tr>\n",
       "      <th>2023-02-01</th>\n",
       "      <td>209.43</td>\n",
       "      <td>271.59</td>\n",
       "      <td>383.92</td>\n",
       "      <td>473.81</td>\n",
       "      <td>84.64</td>\n",
       "      <td>82.91</td>\n",
       "      <td>145.43</td>\n",
       "      <td>252.75</td>\n",
       "      <td>267.50</td>\n",
       "      <td>587.36</td>\n",
       "      <td>105.15</td>\n",
       "      <td>107.71</td>\n",
       "      <td>367.62</td>\n",
       "      <td>758.00</td>\n",
       "      <td>36.34</td>\n",
       "      <td>202.11</td>\n",
       "      <td>150.97</td>\n",
       "      <td>188.89</td>\n",
       "      <td>171.82</td>\n",
       "      <td>554.52</td>\n",
       "    </tr>\n",
       "    <tr>\n",
       "      <th>2023-02-02</th>\n",
       "      <td>217.09</td>\n",
       "      <td>281.88</td>\n",
       "      <td>392.23</td>\n",
       "      <td>491.27</td>\n",
       "      <td>88.31</td>\n",
       "      <td>86.96</td>\n",
       "      <td>150.82</td>\n",
       "      <td>264.60</td>\n",
       "      <td>270.68</td>\n",
       "      <td>587.07</td>\n",
       "      <td>112.91</td>\n",
       "      <td>108.03</td>\n",
       "      <td>371.41</td>\n",
       "      <td>751.20</td>\n",
       "      <td>36.11</td>\n",
       "      <td>214.50</td>\n",
       "      <td>146.95</td>\n",
       "      <td>189.22</td>\n",
       "      <td>174.64</td>\n",
       "      <td>568.44</td>\n",
       "    </tr>\n",
       "    <tr>\n",
       "      <th>2023-02-03</th>\n",
       "      <td>211.00</td>\n",
       "      <td>272.88</td>\n",
       "      <td>379.33</td>\n",
       "      <td>472.22</td>\n",
       "      <td>86.09</td>\n",
       "      <td>85.52</td>\n",
       "      <td>154.50</td>\n",
       "      <td>258.35</td>\n",
       "      <td>269.85</td>\n",
       "      <td>587.76</td>\n",
       "      <td>103.39</td>\n",
       "      <td>108.43</td>\n",
       "      <td>371.01</td>\n",
       "      <td>783.13</td>\n",
       "      <td>35.68</td>\n",
       "      <td>214.67</td>\n",
       "      <td>145.19</td>\n",
       "      <td>185.85</td>\n",
       "      <td>171.04</td>\n",
       "      <td>567.43</td>\n",
       "    </tr>\n",
       "  </tbody>\n",
       "</table>\n",
       "</div>"
      ],
      "text/plain": [
       "             NVDA    WST   ADBE    NOW   AMD  PYPL   AAPL   MSFT    DHR  \\\n",
       "Date                                                                      \n",
       "2023-01-30 191.62 261.82 363.42 442.57 72.45 79.64 143.00 242.71 262.75   \n",
       "2023-01-31 195.37 265.60 370.34 455.13 75.15 81.49 144.29 247.81 264.38   \n",
       "2023-02-01 209.43 271.59 383.92 473.81 84.64 82.91 145.43 252.75 267.50   \n",
       "2023-02-02 217.09 281.88 392.23 491.27 88.31 86.96 150.82 264.60 270.68   \n",
       "2023-02-03 211.00 272.88 379.33 472.22 86.09 85.52 154.50 258.35 269.85   \n",
       "\n",
       "              TMO   AMZN   DXCM   ODFL   REGN   ROL    FDX   TMUS   CDNS  \\\n",
       "Date                                                                       \n",
       "2023-01-30 564.29 100.55 105.49 321.88 736.46 35.68 184.08 146.98 180.74   \n",
       "2023-01-31 570.33 103.13 107.09 333.24 758.47 36.40 193.86 149.31 182.83   \n",
       "2023-02-01 587.36 105.15 107.71 367.62 758.00 36.34 202.11 150.97 188.89   \n",
       "2023-02-02 587.07 112.91 108.03 371.41 751.20 36.11 214.50 146.95 189.22   \n",
       "2023-02-03 587.76 103.39 108.43 371.01 783.13 35.68 214.67 145.19 185.85   \n",
       "\n",
       "              CRM   MSCI  \n",
       "Date                      \n",
       "2023-01-30 164.75 506.56  \n",
       "2023-01-31 167.97 531.56  \n",
       "2023-02-01 171.82 554.52  \n",
       "2023-02-02 174.64 568.44  \n",
       "2023-02-03 171.04 567.43  "
      ]
     },
     "execution_count": 36,
     "metadata": {},
     "output_type": "execute_result"
    }
   ],
   "source": [
    "# Read symbols timeseries into a dataframe.\n",
    "df = pd.read_csv('symbols-timeseries.csv', skip_blank_lines=True, comment='#')\n",
    "df.set_index(\"Date\", inplace=True)\n",
    "df = df[:]\n",
    "df.tail()[['NVDA', 'WST', 'ADBE', 'NOW', 'AMD', 'PYPL', 'AAPL', 'MSFT', 'DHR', 'TMO', 'AMZN', 'DXCM', 'ODFL', 'REGN', 'ROL', 'FDX', 'TMUS', 'CDNS', 'CRM', 'MSCI']]"
   ]
  },
  {
   "cell_type": "code",
   "execution_count": 37,
   "metadata": {},
   "outputs": [],
   "source": [
    "# Sample symbol.\n",
    "symbol = 'MMM'"
   ]
  },
  {
   "cell_type": "code",
   "execution_count": 38,
   "metadata": {},
   "outputs": [
    {
     "data": {
      "text/plain": [
       "-26.514059612390064"
      ]
     },
     "execution_count": 38,
     "metadata": {},
     "output_type": "execute_result"
    }
   ],
   "source": [
    "annual_returns = bb.annualized_returns(df, timeperiod='daily', years=1)\n",
    "annual_returns[symbol]"
   ]
  },
  {
   "cell_type": "code",
   "execution_count": 39,
   "metadata": {},
   "outputs": [],
   "source": [
    "# Calculate 1 month, 3 months, 1 year, 3 year, and 5 year annualized returns.\n",
    "annual_returns_1mo = bb.annualized_returns(df, timeperiod='daily', years=1/12)\n",
    "annual_returns_3mo = bb.annualized_returns(df, timeperiod='daily', years=3/12)\n",
    "annual_returns_1yr = bb.annualized_returns(df, timeperiod='daily', years=1)\n",
    "annual_returns_3yr = bb.annualized_returns(df, timeperiod='daily', years=3)\n",
    "annual_returns_5yr = bb.annualized_returns(df, timeperiod='daily', years=5)"
   ]
  },
  {
   "cell_type": "code",
   "execution_count": 40,
   "metadata": {},
   "outputs": [
    {
     "data": {
      "text/plain": [
       "0.3862356606377836"
      ]
     },
     "execution_count": 40,
     "metadata": {},
     "output_type": "execute_result"
    }
   ],
   "source": [
    "# Calculate 20 day annualized volatility.\n",
    "daily_returns = df.pct_change()\n",
    "years = bb.TRADING_DAYS_PER_MONTH / bb.TRADING_DAYS_PER_YEAR\n",
    "vola = bb.annualized_standard_deviation(daily_returns, timeperiod='daily', years=years)\n",
    "vola[symbol]"
   ]
  },
  {
   "cell_type": "code",
   "execution_count": 41,
   "metadata": {},
   "outputs": [
    {
     "data": {
      "text/plain": [
       "0.26630907945362287"
      ]
     },
     "execution_count": 41,
     "metadata": {},
     "output_type": "execute_result"
    }
   ],
   "source": [
    "# Calculate 20 day annualized downside volatility.\n",
    "ds_vola = bb.annualized_standard_deviation(daily_returns, timeperiod='daily', years=years, downside=True)\n",
    "ds_vola[symbol]"
   ]
  },
  {
   "cell_type": "code",
   "execution_count": 42,
   "metadata": {},
   "outputs": [],
   "source": [
    "# Resample df on a monthly basis.\n",
    "df.index = pd.to_datetime(df.index)\n",
    "monthly = df.resample('M').ffill()"
   ]
  },
  {
   "cell_type": "code",
   "execution_count": 43,
   "metadata": {},
   "outputs": [
    {
     "data": {
      "text/plain": [
       "Date\n",
       "2015-01-31     nan\n",
       "2015-02-28    0.05\n",
       "2015-03-31   -0.02\n",
       "2015-04-30   -0.05\n",
       "2015-05-31    0.02\n",
       "              ... \n",
       "2022-10-31    0.14\n",
       "2022-11-30    0.01\n",
       "2022-12-31   -0.05\n",
       "2023-01-31   -0.04\n",
       "2023-02-28    0.02\n",
       "Freq: M, Name: MMM, Length: 98, dtype: float64"
      ]
     },
     "execution_count": 43,
     "metadata": {},
     "output_type": "execute_result"
    }
   ],
   "source": [
    "# Calculate monthly returns.\n",
    "monthly_returns = monthly.pct_change()\n",
    "monthly_returns[symbol]"
   ]
  },
  {
   "cell_type": "code",
   "execution_count": 44,
   "metadata": {},
   "outputs": [
    {
     "data": {
      "text/plain": [
       "0.2333199265514623"
      ]
     },
     "execution_count": 44,
     "metadata": {},
     "output_type": "execute_result"
    }
   ],
   "source": [
    "# Calculate 3 year annualized standard deviation.\n",
    "std_dev = bb.annualized_standard_deviation(monthly_returns, timeperiod='monthly', years=3)\n",
    "std_dev[symbol]"
   ]
  },
  {
   "cell_type": "code",
   "execution_count": 45,
   "metadata": {},
   "outputs": [
    {
     "data": {
      "text/plain": [
       "['# Description: S&P 500 investment options. 09/29/2020',\n",
       " '',\n",
       " '# Format',\n",
       " '\"Investment Option\",\"Description\",\"Asset Class\",\"1 mo\",\"3 mo\",\"1 Yr\",\"3 Yr\",\"5 Yr\",\"Vola\",\"DS Vola\",\"Std Dev\"',\n",
       " '# Note: \"Description\" field is optional']"
      ]
     },
     "execution_count": 45,
     "metadata": {},
     "output_type": "execute_result"
    }
   ],
   "source": [
    "# Read investment-options-header.csv\n",
    "lines = []\n",
    "with open('investment-options-in.csv', 'r') as f:\n",
    "    lines = [line.strip() for line in f]\n",
    "lines"
   ]
  },
  {
   "cell_type": "code",
   "execution_count": 46,
   "metadata": {},
   "outputs": [],
   "source": [
    "# For each symbol, write out the 1 Yr, 3 Yr, 5 Yr, and std dev.\n",
    "out = lines.copy()\n",
    "\n",
    "# This is still slow (2.53 s).\n",
    "for i, (index, row) in enumerate(sp500.iterrows()):\n",
    "\n",
    "    symbol = index\n",
    "    description = row['Description']\n",
    "    asset_class = row['Asset Class']\n",
    "\n",
    "    ret_1mo = annual_returns_1mo[symbol]\n",
    "    ret_3mo = annual_returns_3mo[symbol]\n",
    "    ret_1yr = annual_returns_1yr[symbol]\n",
    "    ret_3yr = annual_returns_3yr[symbol]\n",
    "    ret_5yr = annual_returns_5yr[symbol]\n",
    "    \n",
    "    if np.isnan(ret_3yr): ret_3yr = ret_1yr\n",
    "    if np.isnan(ret_5yr): ret_5yr = ret_3yr\n",
    "\n",
    "    _vola = vola[symbol]*100\n",
    "    _ds_vola = ds_vola[symbol]*100\n",
    "    sd = std_dev[symbol]*100\n",
    "\n",
    "    out.append(\n",
    "        '\"{}\",\"{}\",\"{}\",\"{:0.2f}\",\"{:0.2f}\",\"{:0.2f}\",\"{:0.2f}\",\"{:0.2f}\",\"{:0.2f}\",\"{:0.2f}\",\"{:0.2f}\"'\n",
    "        .format(symbol, description, asset_class,\n",
    "                ret_1mo, ret_3mo, ret_1yr, ret_3yr, ret_5yr, _vola, _ds_vola, sd)) "
   ]
  },
  {
   "cell_type": "code",
   "execution_count": 47,
   "metadata": {},
   "outputs": [],
   "source": [
    "# Write out asset-classes.csv\n",
    "with open('investment-options.csv', 'w') as f:\n",
    "    for line in out:\n",
    "        f.write(line + '\\n')"
   ]
  }
 ],
 "metadata": {
  "kernelspec": {
   "display_name": "Python 3 (ipykernel)",
   "language": "python",
   "name": "python3"
  },
  "language_info": {
   "codemirror_mode": {
    "name": "ipython",
    "version": 3
   },
   "file_extension": ".py",
   "mimetype": "text/x-python",
   "name": "python",
   "nbconvert_exporter": "python",
   "pygments_lexer": "ipython3",
   "version": "3.8.10"
  },
  "latex_envs": {
   "LaTeX_envs_menu_present": true,
   "autoclose": false,
   "autocomplete": true,
   "bibliofile": "biblio.bib",
   "cite_by": "apalike",
   "current_citInitial": 1,
   "eqLabelWithNumbers": true,
   "eqNumInitial": 1,
   "hotkeys": {
    "equation": "Ctrl-E",
    "itemize": "Ctrl-I"
   },
   "labels_anchors": false,
   "latex_user_defs": false,
   "report_style_numbering": false,
   "user_envs_cfg": false
  }
 },
 "nbformat": 4,
 "nbformat_minor": 1
}
