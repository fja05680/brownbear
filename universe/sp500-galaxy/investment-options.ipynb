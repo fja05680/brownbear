{
 "cells": [
  {
   "cell_type": "markdown",
   "metadata": {},
   "source": [
    "Use this utility to update the returns and std_dev fields within investment-options.csv"
   ]
  },
  {
   "cell_type": "code",
   "execution_count": 1,
   "metadata": {
    "ExecuteTime": {
     "end_time": "2019-08-05T19:30:28.821735Z",
     "start_time": "2019-08-05T19:30:28.795344Z"
    }
   },
   "outputs": [
    {
     "data": {
      "application/javascript": [
       "IPython.OutputArea.prototype._should_scroll = function(lines) {\n",
       "    return false;\n",
       "}\n"
      ],
      "text/plain": [
       "<IPython.core.display.Javascript object>"
      ]
     },
     "metadata": {},
     "output_type": "display_data"
    }
   ],
   "source": [
    "%%javascript\n",
    "IPython.OutputArea.prototype._should_scroll = function(lines) {\n",
    "    return false;\n",
    "}"
   ]
  },
  {
   "cell_type": "code",
   "execution_count": 2,
   "metadata": {
    "ExecuteTime": {
     "end_time": "2019-08-05T19:30:29.630182Z",
     "start_time": "2019-08-05T19:30:28.824991Z"
    }
   },
   "outputs": [],
   "source": [
    "import matplotlib.pyplot as plt\n",
    "import numpy as np\n",
    "import pandas as pd\n",
    "\n",
    "import brownbear as bb\n",
    "\n",
    "# format price data\n",
    "pd.options.display.float_format = '{:0.2f}'.format\n",
    "\n",
    "%matplotlib inline"
   ]
  },
  {
   "cell_type": "code",
   "execution_count": 3,
   "metadata": {
    "ExecuteTime": {
     "end_time": "2019-08-05T19:30:29.646391Z",
     "start_time": "2019-08-05T19:30:29.636429Z"
    }
   },
   "outputs": [],
   "source": [
    "# set size of inline plots.\n",
    "'''note: rcParams can't be in same cell as import matplotlib\n",
    "   or %matplotlib inline\n",
    "   \n",
    "   %matplotlib notebook: will lead to interactive plots embedded within\n",
    "   the notebook, you can zoom and resize the figure\n",
    "   \n",
    "   %matplotlib inline: only draw static images in the notebook\n",
    "'''\n",
    "plt.rcParams[\"figure.figsize\"] = (10, 7)"
   ]
  },
  {
   "cell_type": "markdown",
   "metadata": {},
   "source": [
    "Globals"
   ]
  },
  {
   "cell_type": "code",
   "execution_count": 4,
   "metadata": {},
   "outputs": [],
   "source": [
    "# set refresh_timeseries=True to download timeseries.  Otherwise /symbol-cache is used.\n",
    "refresh_timeseries = True"
   ]
  },
  {
   "cell_type": "code",
   "execution_count": 6,
   "metadata": {},
   "outputs": [
    {
     "data": {
      "text/html": [
       "<div>\n",
       "<style scoped>\n",
       "    .dataframe tbody tr th:only-of-type {\n",
       "        vertical-align: middle;\n",
       "    }\n",
       "\n",
       "    .dataframe tbody tr th {\n",
       "        vertical-align: top;\n",
       "    }\n",
       "\n",
       "    .dataframe thead th {\n",
       "        text-align: right;\n",
       "    }\n",
       "</style>\n",
       "<table border=\"1\" class=\"dataframe\">\n",
       "  <thead>\n",
       "    <tr style=\"text-align: right;\">\n",
       "      <th></th>\n",
       "      <th>Description</th>\n",
       "      <th>Asset Class</th>\n",
       "      <th>GICS Sub-Industry</th>\n",
       "    </tr>\n",
       "    <tr>\n",
       "      <th>Symbol</th>\n",
       "      <th></th>\n",
       "      <th></th>\n",
       "      <th></th>\n",
       "    </tr>\n",
       "  </thead>\n",
       "  <tbody>\n",
       "    <tr>\n",
       "      <th>MMM</th>\n",
       "      <td>3M</td>\n",
       "      <td>Industrials</td>\n",
       "      <td>Industrial Conglomerates</td>\n",
       "    </tr>\n",
       "    <tr>\n",
       "      <th>AOS</th>\n",
       "      <td>A. O. Smith</td>\n",
       "      <td>Industrials</td>\n",
       "      <td>Building Products</td>\n",
       "    </tr>\n",
       "    <tr>\n",
       "      <th>ABT</th>\n",
       "      <td>Abbott</td>\n",
       "      <td>Health Care</td>\n",
       "      <td>Health Care Equipment</td>\n",
       "    </tr>\n",
       "    <tr>\n",
       "      <th>ABBV</th>\n",
       "      <td>AbbVie</td>\n",
       "      <td>Health Care</td>\n",
       "      <td>Biotechnology</td>\n",
       "    </tr>\n",
       "    <tr>\n",
       "      <th>ACN</th>\n",
       "      <td>Accenture</td>\n",
       "      <td>Information Technology</td>\n",
       "      <td>IT Consulting &amp; Other Services</td>\n",
       "    </tr>\n",
       "    <tr>\n",
       "      <th>...</th>\n",
       "      <td>...</td>\n",
       "      <td>...</td>\n",
       "      <td>...</td>\n",
       "    </tr>\n",
       "    <tr>\n",
       "      <th>YUM</th>\n",
       "      <td>Yum! Brands</td>\n",
       "      <td>Consumer Discretionary</td>\n",
       "      <td>Restaurants</td>\n",
       "    </tr>\n",
       "    <tr>\n",
       "      <th>ZBRA</th>\n",
       "      <td>Zebra Technologies</td>\n",
       "      <td>Information Technology</td>\n",
       "      <td>Electronic Equipment &amp; Instruments</td>\n",
       "    </tr>\n",
       "    <tr>\n",
       "      <th>ZBH</th>\n",
       "      <td>Zimmer Biomet</td>\n",
       "      <td>Health Care</td>\n",
       "      <td>Health Care Equipment</td>\n",
       "    </tr>\n",
       "    <tr>\n",
       "      <th>ZION</th>\n",
       "      <td>Zions Bancorporation</td>\n",
       "      <td>Financials</td>\n",
       "      <td>Regional Banks</td>\n",
       "    </tr>\n",
       "    <tr>\n",
       "      <th>ZTS</th>\n",
       "      <td>Zoetis</td>\n",
       "      <td>Health Care</td>\n",
       "      <td>Pharmaceuticals</td>\n",
       "    </tr>\n",
       "  </tbody>\n",
       "</table>\n",
       "<p>503 rows × 3 columns</p>\n",
       "</div>"
      ],
      "text/plain": [
       "                 Description             Asset Class  \\\n",
       "Symbol                                                 \n",
       "MMM                       3M             Industrials   \n",
       "AOS              A. O. Smith             Industrials   \n",
       "ABT                   Abbott             Health Care   \n",
       "ABBV                  AbbVie             Health Care   \n",
       "ACN                Accenture  Information Technology   \n",
       "...                      ...                     ...   \n",
       "YUM              Yum! Brands  Consumer Discretionary   \n",
       "ZBRA      Zebra Technologies  Information Technology   \n",
       "ZBH            Zimmer Biomet             Health Care   \n",
       "ZION    Zions Bancorporation              Financials   \n",
       "ZTS                   Zoetis             Health Care   \n",
       "\n",
       "                         GICS Sub-Industry  \n",
       "Symbol                                      \n",
       "MMM               Industrial Conglomerates  \n",
       "AOS                      Building Products  \n",
       "ABT                  Health Care Equipment  \n",
       "ABBV                         Biotechnology  \n",
       "ACN         IT Consulting & Other Services  \n",
       "...                                    ...  \n",
       "YUM                            Restaurants  \n",
       "ZBRA    Electronic Equipment & Instruments  \n",
       "ZBH                  Health Care Equipment  \n",
       "ZION                        Regional Banks  \n",
       "ZTS                        Pharmaceuticals  \n",
       "\n",
       "[503 rows x 3 columns]"
      ]
     },
     "execution_count": 6,
     "metadata": {},
     "output_type": "execute_result"
    }
   ],
   "source": [
    "# read in sp500.csv\n",
    "sp500 = pd.read_csv('sp500.csv')\n",
    "sp500.drop(columns=['Headquarters Location', 'Date added','CIK', 'Founded'], inplace=True)\n",
    "sp500.rename(columns={'Security':'Description',\n",
    "                      'GICS Sector':'Asset Class'}, inplace=True)\n",
    "sp500.set_index(\"Symbol\", inplace=True)\n",
    "sp500"
   ]
  },
  {
   "cell_type": "code",
   "execution_count": 7,
   "metadata": {},
   "outputs": [
    {
     "data": {
      "text/plain": [
       "{'Energy': 'US Stocks:Energy',\n",
       " 'Materials': 'US Stocks:Materials',\n",
       " 'Industrials': 'US Stocks:Industrials',\n",
       " 'Consumer Discretionary': 'US Stocks:Consumer Discretionary',\n",
       " 'Consumer Staples': 'US Stocks:Consumer Staples',\n",
       " 'Health Care': 'US Stocks:Healthcare',\n",
       " 'Financials': 'US Stocks:Financials',\n",
       " 'Information Technology': 'US Stocks:Technology',\n",
       " 'Communication Services': 'US Stocks:Communication Services',\n",
       " 'Utilities': 'US Stocks:Utilities',\n",
       " 'Real Estate': 'US Stocks:Real Estate'}"
      ]
     },
     "execution_count": 7,
     "metadata": {},
     "output_type": "execute_result"
    }
   ],
   "source": [
    "# read in gics-2-asset-class.csv\n",
    "gics2asset_class = pd.read_csv('gics-2-asset-class.csv', skip_blank_lines=True, comment='#')\n",
    "gics2asset_class.set_index(\"GICS\", inplace=True)\n",
    "gics2asset_class = gics2asset_class['Asset Class'].to_dict()\n",
    "gics2asset_class"
   ]
  },
  {
   "cell_type": "code",
   "execution_count": 8,
   "metadata": {},
   "outputs": [
    {
     "data": {
      "text/html": [
       "<div>\n",
       "<style scoped>\n",
       "    .dataframe tbody tr th:only-of-type {\n",
       "        vertical-align: middle;\n",
       "    }\n",
       "\n",
       "    .dataframe tbody tr th {\n",
       "        vertical-align: top;\n",
       "    }\n",
       "\n",
       "    .dataframe thead th {\n",
       "        text-align: right;\n",
       "    }\n",
       "</style>\n",
       "<table border=\"1\" class=\"dataframe\">\n",
       "  <thead>\n",
       "    <tr style=\"text-align: right;\">\n",
       "      <th></th>\n",
       "      <th>Description</th>\n",
       "      <th>Asset Class</th>\n",
       "      <th>GICS Sub-Industry</th>\n",
       "    </tr>\n",
       "    <tr>\n",
       "      <th>Symbol</th>\n",
       "      <th></th>\n",
       "      <th></th>\n",
       "      <th></th>\n",
       "    </tr>\n",
       "  </thead>\n",
       "  <tbody>\n",
       "    <tr>\n",
       "      <th>MMM</th>\n",
       "      <td>3M</td>\n",
       "      <td>US Stocks:Industrials</td>\n",
       "      <td>Industrial Conglomerates</td>\n",
       "    </tr>\n",
       "    <tr>\n",
       "      <th>AOS</th>\n",
       "      <td>A. O. Smith</td>\n",
       "      <td>US Stocks:Industrials</td>\n",
       "      <td>Building Products</td>\n",
       "    </tr>\n",
       "    <tr>\n",
       "      <th>ABT</th>\n",
       "      <td>Abbott</td>\n",
       "      <td>US Stocks:Healthcare</td>\n",
       "      <td>Health Care Equipment</td>\n",
       "    </tr>\n",
       "    <tr>\n",
       "      <th>ABBV</th>\n",
       "      <td>AbbVie</td>\n",
       "      <td>US Stocks:Healthcare</td>\n",
       "      <td>Biotechnology</td>\n",
       "    </tr>\n",
       "    <tr>\n",
       "      <th>ACN</th>\n",
       "      <td>Accenture</td>\n",
       "      <td>US Stocks:Technology</td>\n",
       "      <td>IT Consulting &amp; Other Services</td>\n",
       "    </tr>\n",
       "    <tr>\n",
       "      <th>...</th>\n",
       "      <td>...</td>\n",
       "      <td>...</td>\n",
       "      <td>...</td>\n",
       "    </tr>\n",
       "    <tr>\n",
       "      <th>YUM</th>\n",
       "      <td>Yum! Brands</td>\n",
       "      <td>US Stocks:Consumer Discretionary</td>\n",
       "      <td>Restaurants</td>\n",
       "    </tr>\n",
       "    <tr>\n",
       "      <th>ZBRA</th>\n",
       "      <td>Zebra Technologies</td>\n",
       "      <td>US Stocks:Technology</td>\n",
       "      <td>Electronic Equipment &amp; Instruments</td>\n",
       "    </tr>\n",
       "    <tr>\n",
       "      <th>ZBH</th>\n",
       "      <td>Zimmer Biomet</td>\n",
       "      <td>US Stocks:Healthcare</td>\n",
       "      <td>Health Care Equipment</td>\n",
       "    </tr>\n",
       "    <tr>\n",
       "      <th>ZION</th>\n",
       "      <td>Zions Bancorporation</td>\n",
       "      <td>US Stocks:Financials</td>\n",
       "      <td>Regional Banks</td>\n",
       "    </tr>\n",
       "    <tr>\n",
       "      <th>ZTS</th>\n",
       "      <td>Zoetis</td>\n",
       "      <td>US Stocks:Healthcare</td>\n",
       "      <td>Pharmaceuticals</td>\n",
       "    </tr>\n",
       "  </tbody>\n",
       "</table>\n",
       "<p>503 rows × 3 columns</p>\n",
       "</div>"
      ],
      "text/plain": [
       "                 Description                       Asset Class  \\\n",
       "Symbol                                                           \n",
       "MMM                       3M             US Stocks:Industrials   \n",
       "AOS              A. O. Smith             US Stocks:Industrials   \n",
       "ABT                   Abbott              US Stocks:Healthcare   \n",
       "ABBV                  AbbVie              US Stocks:Healthcare   \n",
       "ACN                Accenture              US Stocks:Technology   \n",
       "...                      ...                               ...   \n",
       "YUM              Yum! Brands  US Stocks:Consumer Discretionary   \n",
       "ZBRA      Zebra Technologies              US Stocks:Technology   \n",
       "ZBH            Zimmer Biomet              US Stocks:Healthcare   \n",
       "ZION    Zions Bancorporation              US Stocks:Financials   \n",
       "ZTS                   Zoetis              US Stocks:Healthcare   \n",
       "\n",
       "                         GICS Sub-Industry  \n",
       "Symbol                                      \n",
       "MMM               Industrial Conglomerates  \n",
       "AOS                      Building Products  \n",
       "ABT                  Health Care Equipment  \n",
       "ABBV                         Biotechnology  \n",
       "ACN         IT Consulting & Other Services  \n",
       "...                                    ...  \n",
       "YUM                            Restaurants  \n",
       "ZBRA    Electronic Equipment & Instruments  \n",
       "ZBH                  Health Care Equipment  \n",
       "ZION                        Regional Banks  \n",
       "ZTS                        Pharmaceuticals  \n",
       "\n",
       "[503 rows x 3 columns]"
      ]
     },
     "execution_count": 8,
     "metadata": {},
     "output_type": "execute_result"
    }
   ],
   "source": [
    "# Map sp500 GICS sectors to brownbear defined asset classes.\n",
    "def _asset_class(row):\n",
    "    return gics2asset_class[row['Asset Class']]\n",
    "\n",
    "sp500['Asset Class'] = sp500.apply(_asset_class, axis=1)\n",
    "\n",
    "# Yahoo finance uses '-' where '.' is used in symbol names.\n",
    "sp500.index = sp500.index.str.replace('.', '-', regex=False)\n",
    "sp500"
   ]
  },
  {
   "cell_type": "code",
   "execution_count": 9,
   "metadata": {},
   "outputs": [],
   "source": [
    "# Make symbols list.\n",
    "symbols = list(sp500.index)\n",
    "#symbols"
   ]
  },
  {
   "cell_type": "code",
   "execution_count": 10,
   "metadata": {},
   "outputs": [
    {
     "name": "stdout",
     "output_type": "stream",
     "text": [
      "MMM AOS ABT ABBV ACN ADBE AMD AES AFL A APD ABNB AKAM ALB ARE ALGN ALLE LNT ALL GOOGL GOOG MO AMZN AMCR AEE AAL AEP AXP AIG AMT AWK AMP AME AMGN APH ADI ANSS AON APA AAPL AMAT APTV ACGL ADM ANET AJG AIZ T ATO ADSK ADP AZO AVB AVY AXON BKR BALL BAC BK BBWI BAX BDX BRK-B BBY BIO TECH BIIB BLK BX BA BKNG BWA BXP BSX BMY AVGO BR BRO BF-B BLDR BG CDNS CZR CPT CPB COF CAH KMX CCL CARR CTLT CAT CBOE CBRE CDW CE COR CNC CNP CDAY CF CHRW CRL SCHW CHTR CVX CMG CB CHD CI CINF CTAS CSCO C CFG CLX CME CMS KO CTSH CL CMCSA CMA CAG COP ED STZ CEG COO CPRT GLW CTVA CSGP COST CTRA CCI CSX CMI CVS DHR DRI DVA DE DAL XRAY DVN DXCM FANG DLR DFS DG DLTR D DPZ DOV DOW DHI DTE DUK DD EMN ETN EBAY ECL EIX EW EA ELV LLY EMR ENPH ETR EOG EPAM EQT EFX EQIX EQR ESS EL ETSY EG EVRG ES EXC EXPE EXPD EXR XOM FFIV FDS FICO FAST FRT FDX FIS FITB FSLR FE FI FLT FMC F FTNT FTV FOXA FOX BEN FCX GRMN IT GEHC GEN GNRC GD GE GIS GM GPC GILD GPN GL GS HAL HIG HAS HCA PEAK HSIC HSY HES HPE HLT HOLX HD HON HRL HST HWM HPQ HUBB HUM HBAN HII IBM IEX IDXX ITW ILMN INCY IR PODD INTC ICE IFF IP IPG INTU ISRG IVZ INVH IQV IRM JBHT JBL JKHY J JNJ JCI JPM JNPR K KVUE KDP KEY KEYS KMB KIM KMI KLAC KHC KR LHX LH LRCX LW LVS LDOS LEN LIN LYV LKQ LMT L LOW LULU LYB MTB MRO MPC MKTX MAR MMC MLM MAS MA MTCH MKC MCD MCK MDT MRK META MET MTD MGM MCHP MU MSFT MAA MRNA MHK MOH TAP MDLZ MPWR MNST MCO MS MOS MSI MSCI NDAQ NTAP NFLX NEM NWSA NWS NEE NKE NI NDSN NSC NTRS NOC NCLH NRG NUE NVDA NVR NXPI ORLY OXY ODFL OMC ON OKE ORCL OTIS PCAR PKG PANW PARA PH PAYX PAYC PYPL PNR PEP PFE PCG PM PSX PNW PXD PNC POOL PPG PPL PFG PG PGR PLD PRU PEG PTC PSA PHM QRVO PWR QCOM DGX RL RJF RTX O REG REGN RF RSG RMD RVTY RHI ROK ROL ROP ROST RCL SPGI CRM SBAC SLB STX SRE NOW SHW SPG SWKS SJM SNA SO LUV SWK SBUX STT STLD STE SYK SYF SNPS SYY TMUS TROW TTWO TPR TRGP TGT TEL TDY TFX TER TSLA TXN TXT TMO TJX TSCO TT TDG TRV TRMB TFC TYL TSN USB UBER UDR ULTA UNP UAL UPS URI UNH UHS VLO VTR VLTO VRSN VRSK VZ VRTX VFC VTRS VICI V VMC WRB WAB WBA WMT DIS WBD WM WAT WEC WFC WELL WST WDC WRK WY WHR WMB WTW GWW WYNN XEL XYL YUM ZBRA ZBH ZION ZTS \n"
     ]
    }
   ],
   "source": [
    "# Get the timeseries for the symbols and compile into a single csv.\n",
    "bb.fetch_timeseries(symbols, refresh=refresh_timeseries)\n",
    "bb.compile_timeseries(symbols)"
   ]
  },
  {
   "cell_type": "code",
   "execution_count": 11,
   "metadata": {},
   "outputs": [
    {
     "data": {
      "text/html": [
       "<div>\n",
       "<style scoped>\n",
       "    .dataframe tbody tr th:only-of-type {\n",
       "        vertical-align: middle;\n",
       "    }\n",
       "\n",
       "    .dataframe tbody tr th {\n",
       "        vertical-align: top;\n",
       "    }\n",
       "\n",
       "    .dataframe thead th {\n",
       "        text-align: right;\n",
       "    }\n",
       "</style>\n",
       "<table border=\"1\" class=\"dataframe\">\n",
       "  <thead>\n",
       "    <tr style=\"text-align: right;\">\n",
       "      <th></th>\n",
       "      <th>NVDA</th>\n",
       "      <th>WST</th>\n",
       "      <th>ADBE</th>\n",
       "      <th>NOW</th>\n",
       "      <th>AMD</th>\n",
       "      <th>PYPL</th>\n",
       "      <th>AAPL</th>\n",
       "      <th>MSFT</th>\n",
       "      <th>DHR</th>\n",
       "      <th>TMO</th>\n",
       "      <th>AMZN</th>\n",
       "      <th>DXCM</th>\n",
       "      <th>ODFL</th>\n",
       "      <th>REGN</th>\n",
       "      <th>ROL</th>\n",
       "      <th>FDX</th>\n",
       "      <th>TMUS</th>\n",
       "      <th>CDNS</th>\n",
       "      <th>CRM</th>\n",
       "      <th>MSCI</th>\n",
       "    </tr>\n",
       "    <tr>\n",
       "      <th>Date</th>\n",
       "      <th></th>\n",
       "      <th></th>\n",
       "      <th></th>\n",
       "      <th></th>\n",
       "      <th></th>\n",
       "      <th></th>\n",
       "      <th></th>\n",
       "      <th></th>\n",
       "      <th></th>\n",
       "      <th></th>\n",
       "      <th></th>\n",
       "      <th></th>\n",
       "      <th></th>\n",
       "      <th></th>\n",
       "      <th></th>\n",
       "      <th></th>\n",
       "      <th></th>\n",
       "      <th></th>\n",
       "      <th></th>\n",
       "      <th></th>\n",
       "    </tr>\n",
       "  </thead>\n",
       "  <tbody>\n",
       "    <tr>\n",
       "      <th>2023-12-22</th>\n",
       "      <td>488.30</td>\n",
       "      <td>354.93</td>\n",
       "      <td>598.75</td>\n",
       "      <td>697.55</td>\n",
       "      <td>139.60</td>\n",
       "      <td>61.84</td>\n",
       "      <td>193.60</td>\n",
       "      <td>374.58</td>\n",
       "      <td>230.12</td>\n",
       "      <td>529.05</td>\n",
       "      <td>153.42</td>\n",
       "      <td>122.17</td>\n",
       "      <td>412.97</td>\n",
       "      <td>846.72</td>\n",
       "      <td>42.98</td>\n",
       "      <td>248.03</td>\n",
       "      <td>155.71</td>\n",
       "      <td>275.82</td>\n",
       "      <td>266.34</td>\n",
       "      <td>562.28</td>\n",
       "    </tr>\n",
       "    <tr>\n",
       "      <th>2023-12-26</th>\n",
       "      <td>492.79</td>\n",
       "      <td>357.34</td>\n",
       "      <td>598.26</td>\n",
       "      <td>701.23</td>\n",
       "      <td>143.41</td>\n",
       "      <td>62.56</td>\n",
       "      <td>193.05</td>\n",
       "      <td>374.66</td>\n",
       "      <td>231.16</td>\n",
       "      <td>529.70</td>\n",
       "      <td>153.41</td>\n",
       "      <td>123.55</td>\n",
       "      <td>416.00</td>\n",
       "      <td>849.53</td>\n",
       "      <td>43.27</td>\n",
       "      <td>251.99</td>\n",
       "      <td>156.83</td>\n",
       "      <td>274.96</td>\n",
       "      <td>266.22</td>\n",
       "      <td>561.27</td>\n",
       "    </tr>\n",
       "    <tr>\n",
       "      <th>2023-12-27</th>\n",
       "      <td>494.17</td>\n",
       "      <td>355.88</td>\n",
       "      <td>596.08</td>\n",
       "      <td>703.76</td>\n",
       "      <td>146.07</td>\n",
       "      <td>62.68</td>\n",
       "      <td>193.15</td>\n",
       "      <td>374.07</td>\n",
       "      <td>232.62</td>\n",
       "      <td>531.65</td>\n",
       "      <td>153.34</td>\n",
       "      <td>123.73</td>\n",
       "      <td>413.60</td>\n",
       "      <td>874.37</td>\n",
       "      <td>43.64</td>\n",
       "      <td>250.94</td>\n",
       "      <td>157.94</td>\n",
       "      <td>274.64</td>\n",
       "      <td>266.72</td>\n",
       "      <td>565.62</td>\n",
       "    </tr>\n",
       "    <tr>\n",
       "      <th>2023-12-28</th>\n",
       "      <td>495.22</td>\n",
       "      <td>354.93</td>\n",
       "      <td>595.52</td>\n",
       "      <td>702.46</td>\n",
       "      <td>148.76</td>\n",
       "      <td>63.08</td>\n",
       "      <td>193.58</td>\n",
       "      <td>375.28</td>\n",
       "      <td>233.13</td>\n",
       "      <td>532.94</td>\n",
       "      <td>153.38</td>\n",
       "      <td>124.16</td>\n",
       "      <td>411.06</td>\n",
       "      <td>881.70</td>\n",
       "      <td>43.77</td>\n",
       "      <td>253.58</td>\n",
       "      <td>158.95</td>\n",
       "      <td>273.24</td>\n",
       "      <td>265.58</td>\n",
       "      <td>570.60</td>\n",
       "    </tr>\n",
       "    <tr>\n",
       "      <th>2023-12-29</th>\n",
       "      <td>495.22</td>\n",
       "      <td>352.12</td>\n",
       "      <td>596.60</td>\n",
       "      <td>706.49</td>\n",
       "      <td>147.41</td>\n",
       "      <td>61.41</td>\n",
       "      <td>192.53</td>\n",
       "      <td>376.04</td>\n",
       "      <td>231.34</td>\n",
       "      <td>530.79</td>\n",
       "      <td>151.94</td>\n",
       "      <td>124.09</td>\n",
       "      <td>405.33</td>\n",
       "      <td>878.29</td>\n",
       "      <td>43.67</td>\n",
       "      <td>252.97</td>\n",
       "      <td>160.33</td>\n",
       "      <td>272.37</td>\n",
       "      <td>263.14</td>\n",
       "      <td>565.65</td>\n",
       "    </tr>\n",
       "  </tbody>\n",
       "</table>\n",
       "</div>"
      ],
      "text/plain": [
       "             NVDA    WST   ADBE    NOW    AMD  PYPL   AAPL   MSFT    DHR  \\\n",
       "Date                                                                       \n",
       "2023-12-22 488.30 354.93 598.75 697.55 139.60 61.84 193.60 374.58 230.12   \n",
       "2023-12-26 492.79 357.34 598.26 701.23 143.41 62.56 193.05 374.66 231.16   \n",
       "2023-12-27 494.17 355.88 596.08 703.76 146.07 62.68 193.15 374.07 232.62   \n",
       "2023-12-28 495.22 354.93 595.52 702.46 148.76 63.08 193.58 375.28 233.13   \n",
       "2023-12-29 495.22 352.12 596.60 706.49 147.41 61.41 192.53 376.04 231.34   \n",
       "\n",
       "              TMO   AMZN   DXCM   ODFL   REGN   ROL    FDX   TMUS   CDNS  \\\n",
       "Date                                                                       \n",
       "2023-12-22 529.05 153.42 122.17 412.97 846.72 42.98 248.03 155.71 275.82   \n",
       "2023-12-26 529.70 153.41 123.55 416.00 849.53 43.27 251.99 156.83 274.96   \n",
       "2023-12-27 531.65 153.34 123.73 413.60 874.37 43.64 250.94 157.94 274.64   \n",
       "2023-12-28 532.94 153.38 124.16 411.06 881.70 43.77 253.58 158.95 273.24   \n",
       "2023-12-29 530.79 151.94 124.09 405.33 878.29 43.67 252.97 160.33 272.37   \n",
       "\n",
       "              CRM   MSCI  \n",
       "Date                      \n",
       "2023-12-22 266.34 562.28  \n",
       "2023-12-26 266.22 561.27  \n",
       "2023-12-27 266.72 565.62  \n",
       "2023-12-28 265.58 570.60  \n",
       "2023-12-29 263.14 565.65  "
      ]
     },
     "execution_count": 11,
     "metadata": {},
     "output_type": "execute_result"
    }
   ],
   "source": [
    "# Read symbols timeseries into a dataframe.\n",
    "df = pd.read_csv('symbols-timeseries.csv', skip_blank_lines=True, comment='#')\n",
    "df.set_index(\"Date\", inplace=True)\n",
    "df = df[:]\n",
    "df.tail()[['NVDA', 'WST', 'ADBE', 'NOW', 'AMD', 'PYPL', 'AAPL', 'MSFT', 'DHR', 'TMO', 'AMZN', 'DXCM', 'ODFL', 'REGN', 'ROL', 'FDX', 'TMUS', 'CDNS', 'CRM', 'MSCI']]"
   ]
  },
  {
   "cell_type": "code",
   "execution_count": 12,
   "metadata": {},
   "outputs": [],
   "source": [
    "# Sample symbol.\n",
    "symbol = 'MMM'"
   ]
  },
  {
   "cell_type": "code",
   "execution_count": 13,
   "metadata": {},
   "outputs": [
    {
     "data": {
      "text/plain": [
       "-1.99598963573151"
      ]
     },
     "execution_count": 13,
     "metadata": {},
     "output_type": "execute_result"
    }
   ],
   "source": [
    "annual_returns = bb.annualized_returns(df, timeperiod='daily', years=1)\n",
    "annual_returns[symbol]"
   ]
  },
  {
   "cell_type": "code",
   "execution_count": 14,
   "metadata": {},
   "outputs": [],
   "source": [
    "# Calculate 1 month, 3 months, 1 year, 3 year, and 5 year annualized returns.\n",
    "annual_returns_1mo = bb.annualized_returns(df, timeperiod='daily', years=1/12)\n",
    "annual_returns_3mo = bb.annualized_returns(df, timeperiod='daily', years=3/12)\n",
    "annual_returns_1yr = bb.annualized_returns(df, timeperiod='daily', years=1)\n",
    "annual_returns_3yr = bb.annualized_returns(df, timeperiod='daily', years=3)\n",
    "annual_returns_5yr = bb.annualized_returns(df, timeperiod='daily', years=5)"
   ]
  },
  {
   "cell_type": "code",
   "execution_count": 15,
   "metadata": {},
   "outputs": [
    {
     "data": {
      "text/plain": [
       "0.21916621882028162"
      ]
     },
     "execution_count": 15,
     "metadata": {},
     "output_type": "execute_result"
    }
   ],
   "source": [
    "# Calculate 20 day annualized volatility.\n",
    "daily_returns = df.pct_change()\n",
    "years = bb.TRADING_DAYS_PER_MONTH / bb.TRADING_DAYS_PER_YEAR\n",
    "vola = bb.annualized_standard_deviation(daily_returns, timeperiod='daily', years=years)\n",
    "vola[symbol]"
   ]
  },
  {
   "cell_type": "code",
   "execution_count": 16,
   "metadata": {},
   "outputs": [
    {
     "data": {
      "text/plain": [
       "0.10241509703980027"
      ]
     },
     "execution_count": 16,
     "metadata": {},
     "output_type": "execute_result"
    }
   ],
   "source": [
    "# Calculate 20 day annualized downside volatility.\n",
    "ds_vola = bb.annualized_standard_deviation(daily_returns, timeperiod='daily', years=years, downside=True)\n",
    "ds_vola[symbol]"
   ]
  },
  {
   "cell_type": "code",
   "execution_count": 17,
   "metadata": {},
   "outputs": [],
   "source": [
    "# Resample df on a monthly basis.\n",
    "df.index = pd.to_datetime(df.index)\n",
    "monthly = df.resample('M').ffill()"
   ]
  },
  {
   "cell_type": "code",
   "execution_count": 18,
   "metadata": {},
   "outputs": [
    {
     "data": {
      "text/plain": [
       "Date\n",
       "2015-01-31     NaN\n",
       "2015-02-28    0.05\n",
       "2015-03-31   -0.02\n",
       "2015-04-30   -0.05\n",
       "2015-05-31    0.02\n",
       "              ... \n",
       "2023-08-31   -0.03\n",
       "2023-09-30   -0.12\n",
       "2023-10-31   -0.03\n",
       "2023-11-30    0.11\n",
       "2023-12-31    0.10\n",
       "Freq: M, Name: MMM, Length: 108, dtype: float64"
      ]
     },
     "execution_count": 18,
     "metadata": {},
     "output_type": "execute_result"
    }
   ],
   "source": [
    "# Calculate monthly returns.\n",
    "monthly_returns = monthly.pct_change()\n",
    "monthly_returns[symbol]"
   ]
  },
  {
   "cell_type": "code",
   "execution_count": 19,
   "metadata": {},
   "outputs": [
    {
     "data": {
      "text/plain": [
       "0.25389051254866307"
      ]
     },
     "execution_count": 19,
     "metadata": {},
     "output_type": "execute_result"
    }
   ],
   "source": [
    "# Calculate 3 year annualized standard deviation.\n",
    "std_dev = bb.annualized_standard_deviation(monthly_returns, timeperiod='monthly', years=3)\n",
    "std_dev[symbol]"
   ]
  },
  {
   "cell_type": "code",
   "execution_count": 20,
   "metadata": {},
   "outputs": [
    {
     "data": {
      "text/plain": [
       "['# Description: S&P 500 investment options. 09/29/2020',\n",
       " '',\n",
       " '# Format',\n",
       " '\"Investment Option\",\"Description\",\"Asset Class\",\"1 mo\",\"3 mo\",\"1 Yr\",\"3 Yr\",\"5 Yr\",\"Vola\",\"DS Vola\",\"Std Dev\"',\n",
       " '# Note: \"Description\" field is optional']"
      ]
     },
     "execution_count": 20,
     "metadata": {},
     "output_type": "execute_result"
    }
   ],
   "source": [
    "# Read investment-options-header.csv\n",
    "lines = []\n",
    "with open('investment-options-in.csv', 'r') as f:\n",
    "    lines = [line.strip() for line in f]\n",
    "lines"
   ]
  },
  {
   "cell_type": "code",
   "execution_count": 21,
   "metadata": {},
   "outputs": [],
   "source": [
    "# For each symbol, write out the 1 Yr, 3 Yr, 5 Yr, and std dev.\n",
    "out = lines.copy()\n",
    "\n",
    "# This is still slow (2.53 s).\n",
    "for i, (index, row) in enumerate(sp500.iterrows()):\n",
    "\n",
    "    symbol = index\n",
    "    description = row['Description']\n",
    "    asset_class = row['Asset Class']\n",
    "\n",
    "    ret_1mo = annual_returns_1mo[symbol]\n",
    "    ret_3mo = annual_returns_3mo[symbol]\n",
    "    ret_1yr = annual_returns_1yr[symbol]\n",
    "    ret_3yr = annual_returns_3yr[symbol]\n",
    "    ret_5yr = annual_returns_5yr[symbol]\n",
    "    \n",
    "    if np.isnan(ret_3yr): ret_3yr = ret_1yr\n",
    "    if np.isnan(ret_5yr): ret_5yr = ret_3yr\n",
    "\n",
    "    _vola = vola[symbol]*100\n",
    "    _ds_vola = ds_vola[symbol]*100\n",
    "    sd = std_dev[symbol]*100\n",
    "\n",
    "    out.append(\n",
    "        '\"{}\",\"{}\",\"{}\",\"{:0.2f}\",\"{:0.2f}\",\"{:0.2f}\",\"{:0.2f}\",\"{:0.2f}\",\"{:0.2f}\",\"{:0.2f}\",\"{:0.2f}\"'\n",
    "        .format(symbol, description, asset_class,\n",
    "                ret_1mo, ret_3mo, ret_1yr, ret_3yr, ret_5yr, _vola, _ds_vola, sd)) "
   ]
  },
  {
   "cell_type": "code",
   "execution_count": 22,
   "metadata": {},
   "outputs": [],
   "source": [
    "# Write out asset-classes.csv\n",
    "with open('investment-options.csv', 'w') as f:\n",
    "    for line in out:\n",
    "        f.write(line + '\\n')"
   ]
  },
  {
   "cell_type": "code",
   "execution_count": null,
   "metadata": {},
   "outputs": [],
   "source": []
  }
 ],
 "metadata": {
  "kernelspec": {
   "display_name": "Python 3 (ipykernel)",
   "language": "python",
   "name": "python3"
  },
  "language_info": {
   "codemirror_mode": {
    "name": "ipython",
    "version": 3
   },
   "file_extension": ".py",
   "mimetype": "text/x-python",
   "name": "python",
   "nbconvert_exporter": "python",
   "pygments_lexer": "ipython3",
   "version": "3.10.12"
  },
  "latex_envs": {
   "LaTeX_envs_menu_present": true,
   "autoclose": false,
   "autocomplete": true,
   "bibliofile": "biblio.bib",
   "cite_by": "apalike",
   "current_citInitial": 1,
   "eqLabelWithNumbers": true,
   "eqNumInitial": 1,
   "hotkeys": {
    "equation": "Ctrl-E",
    "itemize": "Ctrl-I"
   },
   "labels_anchors": false,
   "latex_user_defs": false,
   "report_style_numbering": false,
   "user_envs_cfg": false
  }
 },
 "nbformat": 4,
 "nbformat_minor": 1
}
