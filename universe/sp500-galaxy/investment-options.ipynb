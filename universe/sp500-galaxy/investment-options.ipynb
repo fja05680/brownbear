{
 "cells": [
  {
   "cell_type": "markdown",
   "metadata": {},
   "source": [
    "Use this utlity to update the returns and std_dev fields within investment-options.csv"
   ]
  },
  {
   "cell_type": "code",
   "execution_count": 1,
   "metadata": {
    "ExecuteTime": {
     "end_time": "2019-08-05T19:30:28.821735Z",
     "start_time": "2019-08-05T19:30:28.795344Z"
    }
   },
   "outputs": [
    {
     "data": {
      "application/javascript": [
       "IPython.OutputArea.prototype._should_scroll = function(lines) {\n",
       "    return false;\n",
       "}\n"
      ],
      "text/plain": [
       "<IPython.core.display.Javascript object>"
      ]
     },
     "metadata": {},
     "output_type": "display_data"
    }
   ],
   "source": [
    "%%javascript\n",
    "IPython.OutputArea.prototype._should_scroll = function(lines) {\n",
    "    return false;\n",
    "}"
   ]
  },
  {
   "cell_type": "code",
   "execution_count": 2,
   "metadata": {
    "ExecuteTime": {
     "end_time": "2019-08-05T19:30:29.630182Z",
     "start_time": "2019-08-05T19:30:28.824991Z"
    }
   },
   "outputs": [],
   "source": [
    "# imports\n",
    "import pandas as pd\n",
    "import numpy as np\n",
    "import matplotlib.pyplot as plt\n",
    "from pathlib import Path\n",
    "import brownbear as bb\n",
    "\n",
    "# format price data\n",
    "pd.options.display.float_format = '{:0.2f}'.format\n",
    "\n",
    "%matplotlib inline"
   ]
  },
  {
   "cell_type": "code",
   "execution_count": 3,
   "metadata": {
    "ExecuteTime": {
     "end_time": "2019-08-05T19:30:29.646391Z",
     "start_time": "2019-08-05T19:30:29.636429Z"
    }
   },
   "outputs": [],
   "source": [
    "# set size of inline plots\n",
    "'''note: rcParams can't be in same cell as import matplotlib\n",
    "   or %matplotlib inline\n",
    "   \n",
    "   %matplotlib notebook: will lead to interactive plots embedded within\n",
    "   the notebook, you can zoom and resize the figure\n",
    "   \n",
    "   %matplotlib inline: only draw static images in the notebook\n",
    "'''\n",
    "plt.rcParams[\"figure.figsize\"] = (10, 7)"
   ]
  },
  {
   "cell_type": "markdown",
   "metadata": {},
   "source": [
    "Globals"
   ]
  },
  {
   "cell_type": "code",
   "execution_count": 4,
   "metadata": {},
   "outputs": [],
   "source": [
    "# set refresh_timeseries=True to download timeseries.  Otherwise /symbol-cache is used.\n",
    "refresh_timeseries = True"
   ]
  },
  {
   "cell_type": "code",
   "execution_count": 5,
   "metadata": {},
   "outputs": [
    {
     "data": {
      "text/html": [
       "<div>\n",
       "<style scoped>\n",
       "    .dataframe tbody tr th:only-of-type {\n",
       "        vertical-align: middle;\n",
       "    }\n",
       "\n",
       "    .dataframe tbody tr th {\n",
       "        vertical-align: top;\n",
       "    }\n",
       "\n",
       "    .dataframe thead th {\n",
       "        text-align: right;\n",
       "    }\n",
       "</style>\n",
       "<table border=\"1\" class=\"dataframe\">\n",
       "  <thead>\n",
       "    <tr style=\"text-align: right;\">\n",
       "      <th></th>\n",
       "      <th>Description</th>\n",
       "      <th>Asset Class</th>\n",
       "      <th>GICS Sub-Industry</th>\n",
       "    </tr>\n",
       "    <tr>\n",
       "      <th>Symbol</th>\n",
       "      <th></th>\n",
       "      <th></th>\n",
       "      <th></th>\n",
       "    </tr>\n",
       "  </thead>\n",
       "  <tbody>\n",
       "    <tr>\n",
       "      <th>MMM</th>\n",
       "      <td>3M Company</td>\n",
       "      <td>Industrials</td>\n",
       "      <td>Industrial Conglomerates</td>\n",
       "    </tr>\n",
       "    <tr>\n",
       "      <th>ABT</th>\n",
       "      <td>Abbott Laboratories</td>\n",
       "      <td>Health Care</td>\n",
       "      <td>Health Care Equipment</td>\n",
       "    </tr>\n",
       "    <tr>\n",
       "      <th>ABBV</th>\n",
       "      <td>AbbVie Inc.</td>\n",
       "      <td>Health Care</td>\n",
       "      <td>Pharmaceuticals</td>\n",
       "    </tr>\n",
       "    <tr>\n",
       "      <th>ABMD</th>\n",
       "      <td>ABIOMED Inc</td>\n",
       "      <td>Health Care</td>\n",
       "      <td>Health Care Equipment</td>\n",
       "    </tr>\n",
       "    <tr>\n",
       "      <th>ACN</th>\n",
       "      <td>Accenture plc</td>\n",
       "      <td>Information Technology</td>\n",
       "      <td>IT Consulting &amp; Other Services</td>\n",
       "    </tr>\n",
       "    <tr>\n",
       "      <th>...</th>\n",
       "      <td>...</td>\n",
       "      <td>...</td>\n",
       "      <td>...</td>\n",
       "    </tr>\n",
       "    <tr>\n",
       "      <th>YUM</th>\n",
       "      <td>Yum! Brands Inc</td>\n",
       "      <td>Consumer Discretionary</td>\n",
       "      <td>Restaurants</td>\n",
       "    </tr>\n",
       "    <tr>\n",
       "      <th>ZBRA</th>\n",
       "      <td>Zebra Technologies</td>\n",
       "      <td>Information Technology</td>\n",
       "      <td>Electronic Equipment &amp; Instruments</td>\n",
       "    </tr>\n",
       "    <tr>\n",
       "      <th>ZBH</th>\n",
       "      <td>Zimmer Biomet</td>\n",
       "      <td>Health Care</td>\n",
       "      <td>Health Care Equipment</td>\n",
       "    </tr>\n",
       "    <tr>\n",
       "      <th>ZION</th>\n",
       "      <td>Zions Bancorp</td>\n",
       "      <td>Financials</td>\n",
       "      <td>Regional Banks</td>\n",
       "    </tr>\n",
       "    <tr>\n",
       "      <th>ZTS</th>\n",
       "      <td>Zoetis</td>\n",
       "      <td>Health Care</td>\n",
       "      <td>Pharmaceuticals</td>\n",
       "    </tr>\n",
       "  </tbody>\n",
       "</table>\n",
       "<p>505 rows × 3 columns</p>\n",
       "</div>"
      ],
      "text/plain": [
       "                Description             Asset Class  \\\n",
       "Symbol                                                \n",
       "MMM              3M Company             Industrials   \n",
       "ABT     Abbott Laboratories             Health Care   \n",
       "ABBV            AbbVie Inc.             Health Care   \n",
       "ABMD            ABIOMED Inc             Health Care   \n",
       "ACN           Accenture plc  Information Technology   \n",
       "...                     ...                     ...   \n",
       "YUM         Yum! Brands Inc  Consumer Discretionary   \n",
       "ZBRA     Zebra Technologies  Information Technology   \n",
       "ZBH           Zimmer Biomet             Health Care   \n",
       "ZION          Zions Bancorp              Financials   \n",
       "ZTS                  Zoetis             Health Care   \n",
       "\n",
       "                         GICS Sub-Industry  \n",
       "Symbol                                      \n",
       "MMM               Industrial Conglomerates  \n",
       "ABT                  Health Care Equipment  \n",
       "ABBV                       Pharmaceuticals  \n",
       "ABMD                 Health Care Equipment  \n",
       "ACN         IT Consulting & Other Services  \n",
       "...                                    ...  \n",
       "YUM                            Restaurants  \n",
       "ZBRA    Electronic Equipment & Instruments  \n",
       "ZBH                  Health Care Equipment  \n",
       "ZION                        Regional Banks  \n",
       "ZTS                        Pharmaceuticals  \n",
       "\n",
       "[505 rows x 3 columns]"
      ]
     },
     "execution_count": 5,
     "metadata": {},
     "output_type": "execute_result"
    }
   ],
   "source": [
    "# read in sp500.csv\n",
    "sp500 = pd.read_csv('sp500.csv')\n",
    "sp500.drop(columns=['SEC filings', 'Headquarters Location', 'Date first added','CIK', 'Founded'], inplace=True)\n",
    "sp500.rename(columns={'Security':'Description',\n",
    "                      'GICS Sector':'Asset Class'}, inplace=True)\n",
    "sp500.set_index(\"Symbol\", inplace=True)\n",
    "sp500"
   ]
  },
  {
   "cell_type": "code",
   "execution_count": 6,
   "metadata": {},
   "outputs": [
    {
     "data": {
      "text/plain": [
       "{'Energy': 'US Stocks:Energy',\n",
       " 'Materials': 'US Stocks:Materials',\n",
       " 'Industrials': 'US Stocks:Industrials',\n",
       " 'Consumer Discretionary': 'US Stocks:Consumer Discretionary',\n",
       " 'Consumer Staples': 'US Stocks:Consumer Staples',\n",
       " 'Health Care': 'US Stocks:Healthcare',\n",
       " 'Financials': 'US Stocks:Financials',\n",
       " 'Information Technology': 'US Stocks:Technology',\n",
       " 'Communication Services': 'US Stocks:Communication Services',\n",
       " 'Utilities': 'US Stocks:Utilities',\n",
       " 'Real Estate': 'US Stocks:Real Estate'}"
      ]
     },
     "execution_count": 6,
     "metadata": {},
     "output_type": "execute_result"
    }
   ],
   "source": [
    "# read in gics-2-asset-class.csv\n",
    "gics2asset_class = pd.read_csv('gics-2-asset-class.csv', skip_blank_lines=True, comment='#')\n",
    "gics2asset_class.set_index(\"GICS\", inplace=True)\n",
    "gics2asset_class = gics2asset_class['Asset Class'].to_dict()\n",
    "gics2asset_class"
   ]
  },
  {
   "cell_type": "code",
   "execution_count": 7,
   "metadata": {},
   "outputs": [
    {
     "data": {
      "text/html": [
       "<div>\n",
       "<style scoped>\n",
       "    .dataframe tbody tr th:only-of-type {\n",
       "        vertical-align: middle;\n",
       "    }\n",
       "\n",
       "    .dataframe tbody tr th {\n",
       "        vertical-align: top;\n",
       "    }\n",
       "\n",
       "    .dataframe thead th {\n",
       "        text-align: right;\n",
       "    }\n",
       "</style>\n",
       "<table border=\"1\" class=\"dataframe\">\n",
       "  <thead>\n",
       "    <tr style=\"text-align: right;\">\n",
       "      <th></th>\n",
       "      <th>Description</th>\n",
       "      <th>Asset Class</th>\n",
       "      <th>GICS Sub-Industry</th>\n",
       "    </tr>\n",
       "    <tr>\n",
       "      <th>Symbol</th>\n",
       "      <th></th>\n",
       "      <th></th>\n",
       "      <th></th>\n",
       "    </tr>\n",
       "  </thead>\n",
       "  <tbody>\n",
       "    <tr>\n",
       "      <th>MMM</th>\n",
       "      <td>3M Company</td>\n",
       "      <td>US Stocks:Industrials</td>\n",
       "      <td>Industrial Conglomerates</td>\n",
       "    </tr>\n",
       "    <tr>\n",
       "      <th>ABT</th>\n",
       "      <td>Abbott Laboratories</td>\n",
       "      <td>US Stocks:Healthcare</td>\n",
       "      <td>Health Care Equipment</td>\n",
       "    </tr>\n",
       "    <tr>\n",
       "      <th>ABBV</th>\n",
       "      <td>AbbVie Inc.</td>\n",
       "      <td>US Stocks:Healthcare</td>\n",
       "      <td>Pharmaceuticals</td>\n",
       "    </tr>\n",
       "    <tr>\n",
       "      <th>ABMD</th>\n",
       "      <td>ABIOMED Inc</td>\n",
       "      <td>US Stocks:Healthcare</td>\n",
       "      <td>Health Care Equipment</td>\n",
       "    </tr>\n",
       "    <tr>\n",
       "      <th>ACN</th>\n",
       "      <td>Accenture plc</td>\n",
       "      <td>US Stocks:Technology</td>\n",
       "      <td>IT Consulting &amp; Other Services</td>\n",
       "    </tr>\n",
       "    <tr>\n",
       "      <th>...</th>\n",
       "      <td>...</td>\n",
       "      <td>...</td>\n",
       "      <td>...</td>\n",
       "    </tr>\n",
       "    <tr>\n",
       "      <th>YUM</th>\n",
       "      <td>Yum! Brands Inc</td>\n",
       "      <td>US Stocks:Consumer Discretionary</td>\n",
       "      <td>Restaurants</td>\n",
       "    </tr>\n",
       "    <tr>\n",
       "      <th>ZBRA</th>\n",
       "      <td>Zebra Technologies</td>\n",
       "      <td>US Stocks:Technology</td>\n",
       "      <td>Electronic Equipment &amp; Instruments</td>\n",
       "    </tr>\n",
       "    <tr>\n",
       "      <th>ZBH</th>\n",
       "      <td>Zimmer Biomet</td>\n",
       "      <td>US Stocks:Healthcare</td>\n",
       "      <td>Health Care Equipment</td>\n",
       "    </tr>\n",
       "    <tr>\n",
       "      <th>ZION</th>\n",
       "      <td>Zions Bancorp</td>\n",
       "      <td>US Stocks:Financials</td>\n",
       "      <td>Regional Banks</td>\n",
       "    </tr>\n",
       "    <tr>\n",
       "      <th>ZTS</th>\n",
       "      <td>Zoetis</td>\n",
       "      <td>US Stocks:Healthcare</td>\n",
       "      <td>Pharmaceuticals</td>\n",
       "    </tr>\n",
       "  </tbody>\n",
       "</table>\n",
       "<p>505 rows × 3 columns</p>\n",
       "</div>"
      ],
      "text/plain": [
       "                Description                       Asset Class  \\\n",
       "Symbol                                                          \n",
       "MMM              3M Company             US Stocks:Industrials   \n",
       "ABT     Abbott Laboratories              US Stocks:Healthcare   \n",
       "ABBV            AbbVie Inc.              US Stocks:Healthcare   \n",
       "ABMD            ABIOMED Inc              US Stocks:Healthcare   \n",
       "ACN           Accenture plc              US Stocks:Technology   \n",
       "...                     ...                               ...   \n",
       "YUM         Yum! Brands Inc  US Stocks:Consumer Discretionary   \n",
       "ZBRA     Zebra Technologies              US Stocks:Technology   \n",
       "ZBH           Zimmer Biomet              US Stocks:Healthcare   \n",
       "ZION          Zions Bancorp              US Stocks:Financials   \n",
       "ZTS                  Zoetis              US Stocks:Healthcare   \n",
       "\n",
       "                         GICS Sub-Industry  \n",
       "Symbol                                      \n",
       "MMM               Industrial Conglomerates  \n",
       "ABT                  Health Care Equipment  \n",
       "ABBV                       Pharmaceuticals  \n",
       "ABMD                 Health Care Equipment  \n",
       "ACN         IT Consulting & Other Services  \n",
       "...                                    ...  \n",
       "YUM                            Restaurants  \n",
       "ZBRA    Electronic Equipment & Instruments  \n",
       "ZBH                  Health Care Equipment  \n",
       "ZION                        Regional Banks  \n",
       "ZTS                        Pharmaceuticals  \n",
       "\n",
       "[505 rows x 3 columns]"
      ]
     },
     "execution_count": 7,
     "metadata": {},
     "output_type": "execute_result"
    }
   ],
   "source": [
    "# map sp500 GICS sectors to brownbear defined asset classes\n",
    "def _asset_class(row):\n",
    "    return gics2asset_class[row['Asset Class']]\n",
    "\n",
    "sp500['Asset Class'] = sp500.apply(_asset_class, axis=1)\n",
    "\n",
    "# yahoo finance uses '-' where '.' is used in symbol names\n",
    "sp500.index = sp500.index.str.replace('.', '-')\n",
    "sp500"
   ]
  },
  {
   "cell_type": "code",
   "execution_count": 8,
   "metadata": {},
   "outputs": [],
   "source": [
    "# make symbols list\n",
    "symbols = list(sp500.index)\n",
    "#symbols"
   ]
  },
  {
   "cell_type": "code",
   "execution_count": 9,
   "metadata": {},
   "outputs": [
    {
     "name": "stdout",
     "output_type": "stream",
     "text": [
      ".........................................................................................................................................................................................................................................................................................................................................................................................................................................................................................................................\n"
     ]
    }
   ],
   "source": [
    "# get the timeseries for the symbols and compile into a single csv\n",
    "bb.fetch_timeseries(symbols, refresh=refresh_timeseries)\n",
    "bb.compile_timeseries(symbols)"
   ]
  },
  {
   "cell_type": "code",
   "execution_count": 10,
   "metadata": {},
   "outputs": [
    {
     "data": {
      "text/html": [
       "<div>\n",
       "<style scoped>\n",
       "    .dataframe tbody tr th:only-of-type {\n",
       "        vertical-align: middle;\n",
       "    }\n",
       "\n",
       "    .dataframe tbody tr th {\n",
       "        vertical-align: top;\n",
       "    }\n",
       "\n",
       "    .dataframe thead th {\n",
       "        text-align: right;\n",
       "    }\n",
       "</style>\n",
       "<table border=\"1\" class=\"dataframe\">\n",
       "  <thead>\n",
       "    <tr style=\"text-align: right;\">\n",
       "      <th></th>\n",
       "      <th>NVDA</th>\n",
       "      <th>WST</th>\n",
       "      <th>ADBE</th>\n",
       "      <th>NOW</th>\n",
       "      <th>AMD</th>\n",
       "      <th>PYPL</th>\n",
       "      <th>AAPL</th>\n",
       "      <th>MSFT</th>\n",
       "      <th>DHR</th>\n",
       "      <th>TMO</th>\n",
       "      <th>AMZN</th>\n",
       "      <th>DXCM</th>\n",
       "      <th>ODFL</th>\n",
       "      <th>REGN</th>\n",
       "      <th>ROL</th>\n",
       "      <th>FDX</th>\n",
       "      <th>TMUS</th>\n",
       "      <th>CDNS</th>\n",
       "      <th>CRM</th>\n",
       "      <th>MSCI</th>\n",
       "    </tr>\n",
       "    <tr>\n",
       "      <th>Date</th>\n",
       "      <th></th>\n",
       "      <th></th>\n",
       "      <th></th>\n",
       "      <th></th>\n",
       "      <th></th>\n",
       "      <th></th>\n",
       "      <th></th>\n",
       "      <th></th>\n",
       "      <th></th>\n",
       "      <th></th>\n",
       "      <th></th>\n",
       "      <th></th>\n",
       "      <th></th>\n",
       "      <th></th>\n",
       "      <th></th>\n",
       "      <th></th>\n",
       "      <th></th>\n",
       "      <th></th>\n",
       "      <th></th>\n",
       "      <th></th>\n",
       "    </tr>\n",
       "  </thead>\n",
       "  <tbody>\n",
       "    <tr>\n",
       "      <th>2021-02-04</th>\n",
       "      <td>546.57</td>\n",
       "      <td>290.25</td>\n",
       "      <td>489.38</td>\n",
       "      <td>588.98</td>\n",
       "      <td>87.84</td>\n",
       "      <td>270.43</td>\n",
       "      <td>137.18</td>\n",
       "      <td>242.01</td>\n",
       "      <td>235.53</td>\n",
       "      <td>488.96</td>\n",
       "      <td>3331.00</td>\n",
       "      <td>403.25</td>\n",
       "      <td>204.36</td>\n",
       "      <td>498.84</td>\n",
       "      <td>37.10</td>\n",
       "      <td>248.12</td>\n",
       "      <td>130.60</td>\n",
       "      <td>137.10</td>\n",
       "      <td>237.98</td>\n",
       "      <td>430.19</td>\n",
       "    </tr>\n",
       "    <tr>\n",
       "      <th>2021-02-05</th>\n",
       "      <td>543.64</td>\n",
       "      <td>291.35</td>\n",
       "      <td>492.12</td>\n",
       "      <td>589.73</td>\n",
       "      <td>87.90</td>\n",
       "      <td>269.44</td>\n",
       "      <td>136.76</td>\n",
       "      <td>242.20</td>\n",
       "      <td>235.59</td>\n",
       "      <td>492.56</td>\n",
       "      <td>3352.15</td>\n",
       "      <td>411.03</td>\n",
       "      <td>209.45</td>\n",
       "      <td>498.98</td>\n",
       "      <td>37.47</td>\n",
       "      <td>255.01</td>\n",
       "      <td>125.28</td>\n",
       "      <td>135.80</td>\n",
       "      <td>238.89</td>\n",
       "      <td>429.81</td>\n",
       "    </tr>\n",
       "    <tr>\n",
       "      <th>2021-02-08</th>\n",
       "      <td>577.55</td>\n",
       "      <td>294.46</td>\n",
       "      <td>493.76</td>\n",
       "      <td>587.91</td>\n",
       "      <td>91.47</td>\n",
       "      <td>282.17</td>\n",
       "      <td>136.91</td>\n",
       "      <td>242.47</td>\n",
       "      <td>235.65</td>\n",
       "      <td>495.76</td>\n",
       "      <td>3322.94</td>\n",
       "      <td>403.30</td>\n",
       "      <td>212.25</td>\n",
       "      <td>494.90</td>\n",
       "      <td>37.15</td>\n",
       "      <td>257.45</td>\n",
       "      <td>126.10</td>\n",
       "      <td>137.58</td>\n",
       "      <td>238.93</td>\n",
       "      <td>422.73</td>\n",
       "    </tr>\n",
       "    <tr>\n",
       "      <th>2021-02-09</th>\n",
       "      <td>570.53</td>\n",
       "      <td>289.89</td>\n",
       "      <td>496.05</td>\n",
       "      <td>581.78</td>\n",
       "      <td>90.91</td>\n",
       "      <td>284.20</td>\n",
       "      <td>136.01</td>\n",
       "      <td>243.77</td>\n",
       "      <td>237.00</td>\n",
       "      <td>489.30</td>\n",
       "      <td>3305.00</td>\n",
       "      <td>401.03</td>\n",
       "      <td>215.52</td>\n",
       "      <td>490.68</td>\n",
       "      <td>37.92</td>\n",
       "      <td>259.13</td>\n",
       "      <td>124.45</td>\n",
       "      <td>139.49</td>\n",
       "      <td>236.70</td>\n",
       "      <td>417.97</td>\n",
       "    </tr>\n",
       "    <tr>\n",
       "      <th>2021-02-10</th>\n",
       "      <td>590.57</td>\n",
       "      <td>292.29</td>\n",
       "      <td>492.67</td>\n",
       "      <td>589.36</td>\n",
       "      <td>92.35</td>\n",
       "      <td>283.18</td>\n",
       "      <td>135.39</td>\n",
       "      <td>242.82</td>\n",
       "      <td>237.49</td>\n",
       "      <td>484.88</td>\n",
       "      <td>3286.58</td>\n",
       "      <td>399.44</td>\n",
       "      <td>208.99</td>\n",
       "      <td>491.22</td>\n",
       "      <td>37.93</td>\n",
       "      <td>257.46</td>\n",
       "      <td>124.49</td>\n",
       "      <td>137.86</td>\n",
       "      <td>236.72</td>\n",
       "      <td>419.66</td>\n",
       "    </tr>\n",
       "  </tbody>\n",
       "</table>\n",
       "</div>"
      ],
      "text/plain": [
       "             NVDA    WST   ADBE    NOW   AMD   PYPL   AAPL   MSFT    DHR  \\\n",
       "Date                                                                       \n",
       "2021-02-04 546.57 290.25 489.38 588.98 87.84 270.43 137.18 242.01 235.53   \n",
       "2021-02-05 543.64 291.35 492.12 589.73 87.90 269.44 136.76 242.20 235.59   \n",
       "2021-02-08 577.55 294.46 493.76 587.91 91.47 282.17 136.91 242.47 235.65   \n",
       "2021-02-09 570.53 289.89 496.05 581.78 90.91 284.20 136.01 243.77 237.00   \n",
       "2021-02-10 590.57 292.29 492.67 589.36 92.35 283.18 135.39 242.82 237.49   \n",
       "\n",
       "              TMO    AMZN   DXCM   ODFL   REGN   ROL    FDX   TMUS   CDNS  \\\n",
       "Date                                                                        \n",
       "2021-02-04 488.96 3331.00 403.25 204.36 498.84 37.10 248.12 130.60 137.10   \n",
       "2021-02-05 492.56 3352.15 411.03 209.45 498.98 37.47 255.01 125.28 135.80   \n",
       "2021-02-08 495.76 3322.94 403.30 212.25 494.90 37.15 257.45 126.10 137.58   \n",
       "2021-02-09 489.30 3305.00 401.03 215.52 490.68 37.92 259.13 124.45 139.49   \n",
       "2021-02-10 484.88 3286.58 399.44 208.99 491.22 37.93 257.46 124.49 137.86   \n",
       "\n",
       "              CRM   MSCI  \n",
       "Date                      \n",
       "2021-02-04 237.98 430.19  \n",
       "2021-02-05 238.89 429.81  \n",
       "2021-02-08 238.93 422.73  \n",
       "2021-02-09 236.70 417.97  \n",
       "2021-02-10 236.72 419.66  "
      ]
     },
     "execution_count": 10,
     "metadata": {},
     "output_type": "execute_result"
    }
   ],
   "source": [
    "# read symbols timeseries into a dataframe\n",
    "df = pd.read_csv('symbols-timeseries.csv', skip_blank_lines=True, comment='#')\n",
    "df.set_index(\"Date\", inplace=True)\n",
    "df = df[:]\n",
    "df.tail()[['NVDA', 'WST', 'ADBE', 'NOW', 'AMD', 'PYPL', 'AAPL', 'MSFT', 'DHR', 'TMO', 'AMZN', 'DXCM', 'ODFL', 'REGN', 'ROL', 'FDX', 'TMUS', 'CDNS', 'CRM', 'MSCI']]"
   ]
  },
  {
   "cell_type": "code",
   "execution_count": 11,
   "metadata": {},
   "outputs": [],
   "source": [
    "# sample symbol\n",
    "symbol = 'MMM'"
   ]
  },
  {
   "cell_type": "code",
   "execution_count": 12,
   "metadata": {},
   "outputs": [
    {
     "data": {
      "text/plain": [
       "15.61869558418707"
      ]
     },
     "execution_count": 12,
     "metadata": {},
     "output_type": "execute_result"
    }
   ],
   "source": [
    "annual_returns = bb.annualize_returns(df, timeperiod='daily', years=1)\n",
    "annual_returns[symbol]"
   ]
  },
  {
   "cell_type": "code",
   "execution_count": 13,
   "metadata": {},
   "outputs": [],
   "source": [
    "# calculate annualized returns\n",
    "annual_returns_1mo = bb.annualize_returns(df, timeperiod='daily', years=1/12)\n",
    "annual_returns_3mo = bb.annualize_returns(df, timeperiod='daily', years=3/12)\n",
    "annual_returns_1yr = bb.annualize_returns(df, timeperiod='daily', years=1)\n",
    "annual_returns_3yr = bb.annualize_returns(df, timeperiod='daily', years=3)\n",
    "annual_returns_5yr = bb.annualize_returns(df, timeperiod='daily', years=5)"
   ]
  },
  {
   "cell_type": "code",
   "execution_count": 14,
   "metadata": {},
   "outputs": [
    {
     "data": {
      "text/plain": [
       "0.30750154739082464"
      ]
     },
     "execution_count": 14,
     "metadata": {},
     "output_type": "execute_result"
    }
   ],
   "source": [
    "# calculate volatility\n",
    "daily_returns = df.pct_change()\n",
    "years = bb.TRADING_DAYS_PER_MONTH / bb.TRADING_DAYS_PER_YEAR\n",
    "vola = bb.annualized_standard_deviation(daily_returns, timeperiod='daily', years=years)\n",
    "vola[symbol]"
   ]
  },
  {
   "cell_type": "code",
   "execution_count": 15,
   "metadata": {},
   "outputs": [
    {
     "data": {
      "text/plain": [
       "0.1551151057169064"
      ]
     },
     "execution_count": 15,
     "metadata": {},
     "output_type": "execute_result"
    }
   ],
   "source": [
    "# calculate downside volatility\n",
    "ds_vola = bb.annualized_standard_deviation(daily_returns, timeperiod='daily', years=years, downside=True)\n",
    "ds_vola[symbol]"
   ]
  },
  {
   "cell_type": "code",
   "execution_count": 16,
   "metadata": {},
   "outputs": [
    {
     "name": "stdout",
     "output_type": "stream",
     "text": [
      "Date\n",
      "2015-01-31   136.72\n",
      "2015-02-28   142.95\n",
      "2015-03-31   139.82\n",
      "2015-04-30   132.56\n",
      "2015-05-31   135.69\n",
      "2015-06-30   131.62\n",
      "2015-07-31   129.09\n",
      "2015-08-31   122.09\n",
      "2015-09-30   121.77\n",
      "2015-10-31   135.03\n",
      "2015-11-30   135.37\n",
      "2015-12-31   130.24\n",
      "2016-01-31   130.55\n",
      "2016-02-29   136.60\n",
      "2016-03-31   145.10\n",
      "2016-04-30   145.76\n",
      "2016-05-31   147.55\n",
      "2016-06-30   153.51\n",
      "2016-07-31   156.35\n",
      "2016-08-31   158.10\n",
      "2016-09-30   155.45\n",
      "2016-10-31   145.81\n",
      "2016-11-30   152.46\n",
      "2016-12-31   158.52\n",
      "2017-01-31   155.19\n",
      "2017-02-28   166.51\n",
      "2017-03-31   170.95\n",
      "2017-04-30   174.98\n",
      "2017-05-31   183.79\n",
      "2017-06-30   187.13\n",
      "2017-07-31   180.82\n",
      "2017-08-31   184.71\n",
      "2017-09-30   189.75\n",
      "2017-10-31   208.09\n",
      "2017-11-30   220.91\n",
      "2017-12-31   213.85\n",
      "2018-01-31   227.60\n",
      "2018-02-28   215.24\n",
      "2018-03-31   200.63\n",
      "2018-04-30   177.66\n",
      "2018-05-31   181.49\n",
      "2018-06-30   181.02\n",
      "2018-07-31   195.37\n",
      "2018-08-31   195.39\n",
      "2018-09-30   195.19\n",
      "2018-10-31   176.25\n",
      "2018-11-30   193.92\n",
      "2018-12-31   177.71\n",
      "2019-01-31   186.81\n",
      "2019-02-28   194.76\n",
      "2019-03-31   195.13\n",
      "2019-04-30   177.97\n",
      "2019-05-31   151.31\n",
      "2019-06-30   164.18\n",
      "2019-07-31   165.49\n",
      "2019-08-31   154.58\n",
      "2019-09-30   157.14\n",
      "2019-10-31   157.70\n",
      "2019-11-30   163.68\n",
      "2019-12-31   170.09\n",
      "2020-01-31   152.96\n",
      "2020-02-29   145.19\n",
      "2020-03-31   132.80\n",
      "2020-04-30   147.79\n",
      "2020-05-31   153.70\n",
      "2020-06-30   153.26\n",
      "2020-07-31   147.83\n",
      "2020-08-31   161.62\n",
      "2020-09-30   158.81\n",
      "2020-10-31   158.59\n",
      "2020-11-30   172.73\n",
      "2020-12-31   174.79\n",
      "2021-01-31   175.66\n",
      "2021-02-28   181.08\n",
      "Freq: M, Name: MMM, dtype: float64\n"
     ]
    }
   ],
   "source": [
    "# resample df on a monthly basis\n",
    "df.index = pd.to_datetime(df.index)\n",
    "monthly = df.resample('M').ffill()\n",
    "bb.print_full(monthly[symbol])"
   ]
  },
  {
   "cell_type": "code",
   "execution_count": 17,
   "metadata": {},
   "outputs": [
    {
     "data": {
      "text/plain": [
       "Date\n",
       "2015-01-31     nan\n",
       "2015-02-28    0.05\n",
       "2015-03-31   -0.02\n",
       "2015-04-30   -0.05\n",
       "2015-05-31    0.02\n",
       "              ... \n",
       "2020-10-31   -0.00\n",
       "2020-11-30    0.09\n",
       "2020-12-31    0.01\n",
       "2021-01-31    0.00\n",
       "2021-02-28    0.03\n",
       "Freq: M, Name: MMM, Length: 74, dtype: float64"
      ]
     },
     "execution_count": 17,
     "metadata": {},
     "output_type": "execute_result"
    }
   ],
   "source": [
    "# calculate monthly returns\n",
    "monthly_returns = monthly.pct_change()\n",
    "monthly_returns[symbol]"
   ]
  },
  {
   "cell_type": "code",
   "execution_count": 18,
   "metadata": {},
   "outputs": [
    {
     "data": {
      "text/plain": [
       "0.2264854600240266"
      ]
     },
     "execution_count": 18,
     "metadata": {},
     "output_type": "execute_result"
    }
   ],
   "source": [
    "# calculate standard deviation\n",
    "std_dev = bb.annualized_standard_deviation(monthly_returns, timeperiod='monthly', years=3)\n",
    "std_dev[symbol]"
   ]
  },
  {
   "cell_type": "code",
   "execution_count": 19,
   "metadata": {},
   "outputs": [
    {
     "data": {
      "text/plain": [
       "['# Description: S&P 500 investment options. 09/29/2020',\n",
       " '',\n",
       " '# Format',\n",
       " '\"Investment Option\",\"Description\",\"Asset Class\",\"1 mo\",\"3 mo\",\"1 Yr\",\"3 Yr\",\"5 Yr\",\"Vola\",\"DS Vola\",\"Std Dev\"',\n",
       " '# Note: \"Description\" field is optional']"
      ]
     },
     "execution_count": 19,
     "metadata": {},
     "output_type": "execute_result"
    }
   ],
   "source": [
    "# read investment-options-header.csv\n",
    "lines = []\n",
    "with open('investment-options-in.csv', 'r') as f:\n",
    "    lines = [line.strip() for line in f]\n",
    "lines"
   ]
  },
  {
   "cell_type": "code",
   "execution_count": 20,
   "metadata": {},
   "outputs": [],
   "source": [
    "# for each symbol, write out the 1 Yr, 3 Yr, 5 Yr, and std dev\n",
    "out = lines.copy()\n",
    "\n",
    "# This is still slow (2.53 s)\n",
    "for i, (index, row) in enumerate(sp500.iterrows()):\n",
    "\n",
    "    symbol = index\n",
    "    description = row['Description']\n",
    "    asset_class = row['Asset Class']\n",
    "\n",
    "    ret_1mo = annual_returns_1mo[symbol]\n",
    "    ret_3mo = annual_returns_3mo[symbol]\n",
    "    ret_1yr = annual_returns_1yr[symbol]\n",
    "    ret_3yr = annual_returns_3yr[symbol]\n",
    "    ret_5yr = annual_returns_5yr[symbol]\n",
    "\n",
    "    _vola = vola[symbol]*100\n",
    "    _ds_vola = ds_vola[symbol]*100\n",
    "    sd = std_dev[symbol]*100\n",
    "\n",
    "    out.append(\n",
    "        '\"{}\",\"{}\",\"{}\",\"{:0.2f}\",\"{:0.2f}\",\"{:0.2f}\",\"{:0.2f}\",\"{:0.2f}\",\"{:0.2f}\",\"{:0.2f}\",\"{:0.2f}\"'\n",
    "        .format(symbol, description, asset_class,\n",
    "                ret_1mo, ret_3mo, ret_1yr, ret_3yr, ret_5yr, _vola, _ds_vola, sd)) "
   ]
  },
  {
   "cell_type": "code",
   "execution_count": 21,
   "metadata": {},
   "outputs": [],
   "source": [
    "# write out asset-classes.csv\n",
    "with open('investment-options.csv', 'w') as f:\n",
    "    for line in out:\n",
    "        f.write(line + '\\n')"
   ]
  }
 ],
 "metadata": {
  "kernelspec": {
   "display_name": "Python 3",
   "language": "python",
   "name": "python3"
  },
  "language_info": {
   "codemirror_mode": {
    "name": "ipython",
    "version": 3
   },
   "file_extension": ".py",
   "mimetype": "text/x-python",
   "name": "python",
   "nbconvert_exporter": "python",
   "pygments_lexer": "ipython3",
   "version": "3.8.5"
  },
  "latex_envs": {
   "LaTeX_envs_menu_present": true,
   "autoclose": false,
   "autocomplete": true,
   "bibliofile": "biblio.bib",
   "cite_by": "apalike",
   "current_citInitial": 1,
   "eqLabelWithNumbers": true,
   "eqNumInitial": 1,
   "hotkeys": {
    "equation": "Ctrl-E",
    "itemize": "Ctrl-I"
   },
   "labels_anchors": false,
   "latex_user_defs": false,
   "report_style_numbering": false,
   "user_envs_cfg": false
  }
 },
 "nbformat": 4,
 "nbformat_minor": 1
}
