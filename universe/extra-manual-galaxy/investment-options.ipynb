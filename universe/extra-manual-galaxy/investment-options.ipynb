{
 "cells": [
  {
   "cell_type": "markdown",
   "metadata": {},
   "source": [
    "## Extra Manual Galaxy\n",
    "\n",
    "Edit `investment-options.csv` directly.  (Update as necessary)  \n",
    "Use https://www.portfoliovisualizer.com/backtest-portfolio to get these values manually."
   ]
  },
  {
   "cell_type": "code",
   "execution_count": 1,
   "metadata": {
    "ExecuteTime": {
     "end_time": "2019-08-05T19:30:28.821735Z",
     "start_time": "2019-08-05T19:30:28.795344Z"
    }
   },
   "outputs": [
    {
     "data": {
      "application/javascript": [
       "IPython.OutputArea.prototype._should_scroll = function(lines) {\n",
       "    return false;\n",
       "}\n"
      ],
      "text/plain": [
       "<IPython.core.display.Javascript object>"
      ]
     },
     "metadata": {},
     "output_type": "display_data"
    }
   ],
   "source": [
    "%%javascript\n",
    "IPython.OutputArea.prototype._should_scroll = function(lines) {\n",
    "    return false;\n",
    "}"
   ]
  },
  {
   "cell_type": "code",
   "execution_count": 2,
   "metadata": {
    "ExecuteTime": {
     "end_time": "2019-08-05T19:30:29.630182Z",
     "start_time": "2019-08-05T19:30:28.824991Z"
    }
   },
   "outputs": [],
   "source": [
    "import matplotlib.pyplot as plt\n",
    "import pandas as pd\n",
    "\n",
    "import brownbear as bb\n",
    "\n",
    "# Format price data\n",
    "pd.options.display.float_format = '{:0.2f}'.format"
   ]
  },
  {
   "cell_type": "markdown",
   "metadata": {},
   "source": [
    "Globals"
   ]
  },
  {
   "cell_type": "code",
   "execution_count": 3,
   "metadata": {},
   "outputs": [
    {
     "data": {
      "text/html": [
       "<div>\n",
       "<style scoped>\n",
       "    .dataframe tbody tr th:only-of-type {\n",
       "        vertical-align: middle;\n",
       "    }\n",
       "\n",
       "    .dataframe tbody tr th {\n",
       "        vertical-align: top;\n",
       "    }\n",
       "\n",
       "    .dataframe thead th {\n",
       "        text-align: right;\n",
       "    }\n",
       "</style>\n",
       "<table border=\"1\" class=\"dataframe\">\n",
       "  <thead>\n",
       "    <tr style=\"text-align: right;\">\n",
       "      <th></th>\n",
       "      <th>Investment Option</th>\n",
       "      <th>Description</th>\n",
       "      <th>Asset Class</th>\n",
       "      <th>1 mo</th>\n",
       "      <th>3 mo</th>\n",
       "      <th>1 Yr</th>\n",
       "      <th>3 Yr</th>\n",
       "      <th>5 Yr</th>\n",
       "      <th>Vola</th>\n",
       "      <th>DS Vola</th>\n",
       "      <th>SD 1 Yr</th>\n",
       "      <th>SD 3 Yr</th>\n",
       "      <th>SD 5 Yr</th>\n",
       "    </tr>\n",
       "  </thead>\n",
       "  <tbody>\n",
       "    <tr>\n",
       "      <th>0</th>\n",
       "      <td>ROKU</td>\n",
       "      <td>Roku,Inc.</td>\n",
       "      <td>US Stocks:Technology</td>\n",
       "      <td>1.09</td>\n",
       "      <td>-12.33</td>\n",
       "      <td>216.60</td>\n",
       "      <td>109.96</td>\n",
       "      <td>74.46</td>\n",
       "      <td>79.86</td>\n",
       "      <td>39.56</td>\n",
       "      <td>79.86</td>\n",
       "      <td>79.86</td>\n",
       "      <td>79.86</td>\n",
       "    </tr>\n",
       "    <tr>\n",
       "      <th>1</th>\n",
       "      <td>LUMN</td>\n",
       "      <td>Lumen Technologies</td>\n",
       "      <td>US Stocks:Technology</td>\n",
       "      <td>9.82</td>\n",
       "      <td>16.77</td>\n",
       "      <td>52.89</td>\n",
       "      <td>0.68</td>\n",
       "      <td>-3.87</td>\n",
       "      <td>29.44</td>\n",
       "      <td>18.46</td>\n",
       "      <td>29.44</td>\n",
       "      <td>29.44</td>\n",
       "      <td>29.44</td>\n",
       "    </tr>\n",
       "    <tr>\n",
       "      <th>2</th>\n",
       "      <td>NLY</td>\n",
       "      <td>Annaly Capital Management, Inc.</td>\n",
       "      <td>US Stocks:Real Estate</td>\n",
       "      <td>2.09</td>\n",
       "      <td>14.37</td>\n",
       "      <td>68.73</td>\n",
       "      <td>8.24</td>\n",
       "      <td>9.13</td>\n",
       "      <td>23.67</td>\n",
       "      <td>15.90</td>\n",
       "      <td>23.67</td>\n",
       "      <td>23.67</td>\n",
       "      <td>23.67</td>\n",
       "    </tr>\n",
       "  </tbody>\n",
       "</table>\n",
       "</div>"
      ],
      "text/plain": [
       "  Investment Option                      Description            Asset Class  \\\n",
       "0              ROKU                        Roku,Inc.   US Stocks:Technology   \n",
       "1              LUMN               Lumen Technologies   US Stocks:Technology   \n",
       "2               NLY  Annaly Capital Management, Inc.  US Stocks:Real Estate   \n",
       "\n",
       "   1 mo   3 mo   1 Yr   3 Yr  5 Yr  Vola  DS Vola  SD 1 Yr  SD 3 Yr  SD 5 Yr  \n",
       "0  1.09 -12.33 216.60 109.96 74.46 79.86    39.56    79.86    79.86    79.86  \n",
       "1  9.82  16.77  52.89   0.68 -3.87 29.44    18.46    29.44    29.44    29.44  \n",
       "2  2.09  14.37  68.73   8.24  9.13 23.67    15.90    23.67    23.67    23.67  "
      ]
     },
     "execution_count": 3,
     "metadata": {},
     "output_type": "execute_result"
    }
   ],
   "source": [
    "# Read in investment options.\n",
    "df = pd.read_csv('investment-options.csv', skip_blank_lines=True, comment='#')\n",
    "df"
   ]
  },
  {
   "cell_type": "code",
   "execution_count": null,
   "metadata": {},
   "outputs": [],
   "source": []
  }
 ],
 "metadata": {
  "kernelspec": {
   "display_name": "Python 3 (ipykernel)",
   "language": "python",
   "name": "python3"
  },
  "language_info": {
   "codemirror_mode": {
    "name": "ipython",
    "version": 3
   },
   "file_extension": ".py",
   "mimetype": "text/x-python",
   "name": "python",
   "nbconvert_exporter": "python",
   "pygments_lexer": "ipython3",
   "version": "3.12.3"
  },
  "latex_envs": {
   "LaTeX_envs_menu_present": true,
   "autoclose": false,
   "autocomplete": true,
   "bibliofile": "biblio.bib",
   "cite_by": "apalike",
   "current_citInitial": 1,
   "eqLabelWithNumbers": true,
   "eqNumInitial": 1,
   "hotkeys": {
    "equation": "Ctrl-E",
    "itemize": "Ctrl-I"
   },
   "labels_anchors": false,
   "latex_user_defs": false,
   "report_style_numbering": false,
   "user_envs_cfg": false
  }
 },
 "nbformat": 4,
 "nbformat_minor": 1
}
