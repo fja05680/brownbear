{
 "cells": [
  {
   "cell_type": "markdown",
   "metadata": {
    "ExecuteTime": {
     "end_time": "2019-11-16T14:29:50.731803Z",
     "start_time": "2019-11-16T14:29:50.715887Z"
    }
   },
   "source": [
    "# List of S&P 600 companies\n",
    "\n",
    "Retreive from https://en.wikipedia.org/wiki/List_of_S%26P_600_companies\n",
    "\n",
    "output: 'sp600.csv'"
   ]
  },
  {
   "cell_type": "code",
   "execution_count": 1,
   "metadata": {
    "ExecuteTime": {
     "end_time": "2020-04-21T03:37:22.492890Z",
     "start_time": "2020-04-21T03:37:20.877617Z"
    }
   },
   "outputs": [],
   "source": [
    "from datetime import datetime\n",
    "import io\n",
    "import os\n",
    "\n",
    "import numpy as np\n",
    "import pandas as pd\n",
    "\n",
    "import wikipedia as wp\n",
    "\n",
    "pd.options.mode.chained_assignment = None  # default='warn'\n",
    "pd.set_option('display.max_rows', 600)\n",
    "\n",
    "# -*- encoding: utf-8 -*-\n",
    "%matplotlib inline"
   ]
  },
  {
   "cell_type": "code",
   "execution_count": 2,
   "metadata": {
    "ExecuteTime": {
     "end_time": "2020-04-21T03:37:22.520732Z",
     "start_time": "2020-04-21T03:37:22.499621Z"
    }
   },
   "outputs": [
    {
     "data": {
      "application/javascript": [
       "IPython.OutputArea.prototype._should_scroll = function(lines) {\n",
       "    return false;\n",
       "}\n"
      ],
      "text/plain": [
       "<IPython.core.display.Javascript object>"
      ]
     },
     "metadata": {},
     "output_type": "display_data"
    }
   ],
   "source": [
    "%%javascript\n",
    "IPython.OutputArea.prototype._should_scroll = function(lines) {\n",
    "    return false;\n",
    "}"
   ]
  },
  {
   "cell_type": "code",
   "execution_count": 3,
   "metadata": {
    "ExecuteTime": {
     "end_time": "2020-04-21T03:37:22.552553Z",
     "start_time": "2020-04-21T03:37:22.528530Z"
    }
   },
   "outputs": [],
   "source": [
    "def get_table(title, filename, match, use_cache=False):\n",
    "\n",
    "    if use_cache and os.path.isfile(filename):\n",
    "        pass\n",
    "    else:\n",
    "        html = wp.page(title).html()\n",
    "        df = pd.read_html(io.StringIO(html), header=0, match=match)[0]\n",
    "        \n",
    "        df.to_csv(filename, header=True, index=False, encoding='utf-8')\n",
    "            \n",
    "    df = pd.read_csv(filename)\n",
    "    return df"
   ]
  },
  {
   "cell_type": "code",
   "execution_count": 4,
   "metadata": {
    "ExecuteTime": {
     "end_time": "2020-04-21T03:37:28.272971Z",
     "start_time": "2020-04-21T03:37:22.561293Z"
    },
    "scrolled": false
   },
   "outputs": [
    {
     "name": "stdout",
     "output_type": "stream",
     "text": [
      "List of S/&P 600 companies (retrieved 03/02/2025 07:49:57)\n"
     ]
    },
    {
     "data": {
      "text/html": [
       "<div>\n",
       "<style scoped>\n",
       "    .dataframe tbody tr th:only-of-type {\n",
       "        vertical-align: middle;\n",
       "    }\n",
       "\n",
       "    .dataframe tbody tr th {\n",
       "        vertical-align: top;\n",
       "    }\n",
       "\n",
       "    .dataframe thead th {\n",
       "        text-align: right;\n",
       "    }\n",
       "</style>\n",
       "<table border=\"1\" class=\"dataframe\">\n",
       "  <thead>\n",
       "    <tr style=\"text-align: right;\">\n",
       "      <th></th>\n",
       "      <th>Symbol</th>\n",
       "      <th>Company</th>\n",
       "      <th>GICS Sector</th>\n",
       "      <th>GICS Sub-Industry</th>\n",
       "      <th>Headquarters Location</th>\n",
       "      <th>SEC filings</th>\n",
       "      <th>CIK</th>\n",
       "    </tr>\n",
       "  </thead>\n",
       "  <tbody>\n",
       "    <tr>\n",
       "      <th>0</th>\n",
       "      <td>AAP</td>\n",
       "      <td>Advance Auto Parts, Inc.</td>\n",
       "      <td>Consumer Discretionary</td>\n",
       "      <td>Automotive Retail</td>\n",
       "      <td>Raleigh, North Carolina</td>\n",
       "      <td>view</td>\n",
       "      <td>1158449</td>\n",
       "    </tr>\n",
       "    <tr>\n",
       "      <th>1</th>\n",
       "      <td>AAT</td>\n",
       "      <td>American Assets Trust</td>\n",
       "      <td>Real Estate</td>\n",
       "      <td>Diversified REITs</td>\n",
       "      <td>San Diego, California</td>\n",
       "      <td>view</td>\n",
       "      <td>1500217</td>\n",
       "    </tr>\n",
       "    <tr>\n",
       "      <th>2</th>\n",
       "      <td>ABCB</td>\n",
       "      <td>Ameris Bancorp</td>\n",
       "      <td>Financials</td>\n",
       "      <td>Regional Banks</td>\n",
       "      <td>Atlanta, Georgia</td>\n",
       "      <td>view</td>\n",
       "      <td>351569</td>\n",
       "    </tr>\n",
       "    <tr>\n",
       "      <th>3</th>\n",
       "      <td>ABG</td>\n",
       "      <td>Asbury Automotive Group</td>\n",
       "      <td>Consumer Discretionary</td>\n",
       "      <td>Automotive Retail</td>\n",
       "      <td>Duluth, Georgia</td>\n",
       "      <td>view</td>\n",
       "      <td>1144980</td>\n",
       "    </tr>\n",
       "    <tr>\n",
       "      <th>4</th>\n",
       "      <td>ABM</td>\n",
       "      <td>ABM Industries, Inc.</td>\n",
       "      <td>Industrials</td>\n",
       "      <td>Environmental &amp; Facilities Services</td>\n",
       "      <td>New York City, New York</td>\n",
       "      <td>view</td>\n",
       "      <td>771497</td>\n",
       "    </tr>\n",
       "    <tr>\n",
       "      <th>...</th>\n",
       "      <td>...</td>\n",
       "      <td>...</td>\n",
       "      <td>...</td>\n",
       "      <td>...</td>\n",
       "      <td>...</td>\n",
       "      <td>...</td>\n",
       "      <td>...</td>\n",
       "    </tr>\n",
       "    <tr>\n",
       "      <th>597</th>\n",
       "      <td>XRX</td>\n",
       "      <td>Xerox</td>\n",
       "      <td>Information Technology</td>\n",
       "      <td>Technology Hardware, Storage &amp; Peripherals</td>\n",
       "      <td>Norwalk, Connecticut</td>\n",
       "      <td>view</td>\n",
       "      <td>1770450</td>\n",
       "    </tr>\n",
       "    <tr>\n",
       "      <th>598</th>\n",
       "      <td>YELP</td>\n",
       "      <td>Yelp, Inc.</td>\n",
       "      <td>Communication Services</td>\n",
       "      <td>Interactive Media &amp; Services</td>\n",
       "      <td>San Francisco, California</td>\n",
       "      <td>view</td>\n",
       "      <td>1345016</td>\n",
       "    </tr>\n",
       "    <tr>\n",
       "      <th>599</th>\n",
       "      <td>YOU</td>\n",
       "      <td>Clear Secure, Inc.</td>\n",
       "      <td>Information Technology</td>\n",
       "      <td>Application Software</td>\n",
       "      <td>New York City, New York</td>\n",
       "      <td>view</td>\n",
       "      <td>1856314</td>\n",
       "    </tr>\n",
       "    <tr>\n",
       "      <th>600</th>\n",
       "      <td>ZD</td>\n",
       "      <td>Ziff Davis</td>\n",
       "      <td>Communication Services</td>\n",
       "      <td>Advertising</td>\n",
       "      <td>New York City, New York</td>\n",
       "      <td>view</td>\n",
       "      <td>1084048</td>\n",
       "    </tr>\n",
       "    <tr>\n",
       "      <th>601</th>\n",
       "      <td>ZWS</td>\n",
       "      <td>Zurn Elkay Water Solutions Corp.</td>\n",
       "      <td>Industrials</td>\n",
       "      <td>Industrial Machinery &amp; Supplies &amp; Components</td>\n",
       "      <td>Milwaukee, Wisconsin</td>\n",
       "      <td>view</td>\n",
       "      <td>1439288</td>\n",
       "    </tr>\n",
       "  </tbody>\n",
       "</table>\n",
       "<p>602 rows × 7 columns</p>\n",
       "</div>"
      ],
      "text/plain": [
       "    Symbol                           Company             GICS Sector  \\\n",
       "0      AAP          Advance Auto Parts, Inc.  Consumer Discretionary   \n",
       "1      AAT             American Assets Trust             Real Estate   \n",
       "2     ABCB                    Ameris Bancorp              Financials   \n",
       "3      ABG           Asbury Automotive Group  Consumer Discretionary   \n",
       "4      ABM              ABM Industries, Inc.             Industrials   \n",
       "..     ...                               ...                     ...   \n",
       "597    XRX                             Xerox  Information Technology   \n",
       "598   YELP                        Yelp, Inc.  Communication Services   \n",
       "599    YOU                Clear Secure, Inc.  Information Technology   \n",
       "600     ZD                        Ziff Davis  Communication Services   \n",
       "601    ZWS  Zurn Elkay Water Solutions Corp.             Industrials   \n",
       "\n",
       "                                GICS Sub-Industry      Headquarters Location  \\\n",
       "0                               Automotive Retail    Raleigh, North Carolina   \n",
       "1                               Diversified REITs      San Diego, California   \n",
       "2                                  Regional Banks           Atlanta, Georgia   \n",
       "3                               Automotive Retail            Duluth, Georgia   \n",
       "4             Environmental & Facilities Services    New York City, New York   \n",
       "..                                            ...                        ...   \n",
       "597    Technology Hardware, Storage & Peripherals       Norwalk, Connecticut   \n",
       "598                  Interactive Media & Services  San Francisco, California   \n",
       "599                          Application Software    New York City, New York   \n",
       "600                                   Advertising    New York City, New York   \n",
       "601  Industrial Machinery & Supplies & Components       Milwaukee, Wisconsin   \n",
       "\n",
       "    SEC filings      CIK  \n",
       "0          view  1158449  \n",
       "1          view  1500217  \n",
       "2          view   351569  \n",
       "3          view  1144980  \n",
       "4          view   771497  \n",
       "..          ...      ...  \n",
       "597        view  1770450  \n",
       "598        view  1345016  \n",
       "599        view  1856314  \n",
       "600        view  1084048  \n",
       "601        view  1439288  \n",
       "\n",
       "[602 rows x 7 columns]"
      ]
     },
     "execution_count": 4,
     "metadata": {},
     "output_type": "execute_result"
    }
   ],
   "source": [
    "title = 'List of S/&P 600 companies'\n",
    "filename = 'sp600.csv'\n",
    "sp600 = get_table(title, filename, match='Headquarters')\n",
    "\n",
    "# dd/mm/YY H:M:S\n",
    "now = datetime.now()\n",
    "dt_string = now.strftime(\"%m/%d/%Y %H:%M:%S\")\n",
    "print('{} (retrieved {})'.format(title, dt_string))\n",
    "sp600"
   ]
  },
  {
   "cell_type": "code",
   "execution_count": null,
   "metadata": {},
   "outputs": [],
   "source": []
  }
 ],
 "metadata": {
  "kernelspec": {
   "display_name": "Python 3 (ipykernel)",
   "language": "python",
   "name": "python3"
  },
  "language_info": {
   "codemirror_mode": {
    "name": "ipython",
    "version": 3
   },
   "file_extension": ".py",
   "mimetype": "text/x-python",
   "name": "python",
   "nbconvert_exporter": "python",
   "pygments_lexer": "ipython3",
   "version": "3.10.12"
  },
  "latex_envs": {
   "LaTeX_envs_menu_present": true,
   "autoclose": false,
   "autocomplete": true,
   "bibliofile": "biblio.bib",
   "cite_by": "apalike",
   "current_citInitial": 1,
   "eqLabelWithNumbers": true,
   "eqNumInitial": 1,
   "hotkeys": {
    "equation": "Ctrl-E",
    "itemize": "Ctrl-I"
   },
   "labels_anchors": false,
   "latex_user_defs": false,
   "report_style_numbering": false,
   "user_envs_cfg": false
  }
 },
 "nbformat": 4,
 "nbformat_minor": 2
}
