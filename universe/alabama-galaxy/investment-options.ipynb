{
 "cells": [
  {
   "cell_type": "markdown",
   "metadata": {},
   "source": [
    "Use this utlity to update the returns and std_dev fields within investment-options.csv"
   ]
  },
  {
   "cell_type": "code",
   "execution_count": 1,
   "metadata": {
    "ExecuteTime": {
     "end_time": "2019-08-05T19:30:28.821735Z",
     "start_time": "2019-08-05T19:30:28.795344Z"
    }
   },
   "outputs": [
    {
     "data": {
      "application/javascript": [
       "IPython.OutputArea.prototype._should_scroll = function(lines) {\n",
       "    return false;\n",
       "}\n"
      ],
      "text/plain": [
       "<IPython.core.display.Javascript object>"
      ]
     },
     "metadata": {},
     "output_type": "display_data"
    }
   ],
   "source": [
    "%%javascript\n",
    "IPython.OutputArea.prototype._should_scroll = function(lines) {\n",
    "    return false;\n",
    "}"
   ]
  },
  {
   "cell_type": "code",
   "execution_count": 2,
   "metadata": {
    "ExecuteTime": {
     "end_time": "2019-08-05T19:30:29.630182Z",
     "start_time": "2019-08-05T19:30:28.824991Z"
    }
   },
   "outputs": [],
   "source": [
    "import matplotlib.pyplot as plt\n",
    "import numpy as np\n",
    "import pandas as pd\n",
    "\n",
    "import brownbear as bb\n",
    "\n",
    "# Format price data.\n",
    "pd.options.display.float_format = '{:0.2f}'.format\n",
    "\n",
    "%matplotlib inline"
   ]
  },
  {
   "cell_type": "code",
   "execution_count": 3,
   "metadata": {
    "ExecuteTime": {
     "end_time": "2019-08-05T19:30:29.646391Z",
     "start_time": "2019-08-05T19:30:29.636429Z"
    }
   },
   "outputs": [],
   "source": [
    "# Set size of inline plots.\n",
    "'''note: rcParams can't be in same cell as import matplotlib\n",
    "   or %matplotlib inline\n",
    "   \n",
    "   %matplotlib notebook: will lead to interactive plots embedded within\n",
    "   the notebook, you can zoom and resize the figure\n",
    "   \n",
    "   %matplotlib inline: only draw static images in the notebook\n",
    "'''\n",
    "plt.rcParams[\"figure.figsize\"] = (10, 7)"
   ]
  },
  {
   "cell_type": "markdown",
   "metadata": {},
   "source": [
    "Globals"
   ]
  },
  {
   "cell_type": "code",
   "execution_count": 4,
   "metadata": {},
   "outputs": [],
   "source": [
    "# Set refresh_timeseries=True to download timeseries.  Otherwise /symbol-cache is used.\n",
    "refresh_timeseries = True"
   ]
  },
  {
   "cell_type": "code",
   "execution_count": 5,
   "metadata": {
    "scrolled": true
   },
   "outputs": [
    {
     "data": {
      "text/html": [
       "<div>\n",
       "<style scoped>\n",
       "    .dataframe tbody tr th:only-of-type {\n",
       "        vertical-align: middle;\n",
       "    }\n",
       "\n",
       "    .dataframe tbody tr th {\n",
       "        vertical-align: top;\n",
       "    }\n",
       "\n",
       "    .dataframe thead th {\n",
       "        text-align: right;\n",
       "    }\n",
       "</style>\n",
       "<table border=\"1\" class=\"dataframe\">\n",
       "  <thead>\n",
       "    <tr style=\"text-align: right;\">\n",
       "      <th></th>\n",
       "      <th>Investment Option</th>\n",
       "      <th>Description</th>\n",
       "      <th>Asset Class</th>\n",
       "      <th>1 mo</th>\n",
       "      <th>3 mo</th>\n",
       "      <th>1 Yr</th>\n",
       "      <th>3 Yr</th>\n",
       "      <th>5 Yr</th>\n",
       "      <th>Vola</th>\n",
       "      <th>DS Vola</th>\n",
       "      <th>Std Dev</th>\n",
       "    </tr>\n",
       "  </thead>\n",
       "  <tbody>\n",
       "    <tr>\n",
       "      <th>0</th>\n",
       "      <td>ROAD</td>\n",
       "      <td>Construction Partners Inc</td>\n",
       "      <td>US Stocks:Industrials</td>\n",
       "      <td>NaN</td>\n",
       "      <td>NaN</td>\n",
       "      <td>NaN</td>\n",
       "      <td>NaN</td>\n",
       "      <td>NaN</td>\n",
       "      <td>NaN</td>\n",
       "      <td>NaN</td>\n",
       "      <td>NaN</td>\n",
       "    </tr>\n",
       "    <tr>\n",
       "      <th>1</th>\n",
       "      <td>EHC</td>\n",
       "      <td>Encompass Health</td>\n",
       "      <td>US Stocks:Healthcare</td>\n",
       "      <td>NaN</td>\n",
       "      <td>NaN</td>\n",
       "      <td>NaN</td>\n",
       "      <td>NaN</td>\n",
       "      <td>NaN</td>\n",
       "      <td>NaN</td>\n",
       "      <td>NaN</td>\n",
       "      <td>NaN</td>\n",
       "    </tr>\n",
       "    <tr>\n",
       "      <th>2</th>\n",
       "      <td>RF</td>\n",
       "      <td>Regions Financial</td>\n",
       "      <td>US Stocks:Financials</td>\n",
       "      <td>NaN</td>\n",
       "      <td>NaN</td>\n",
       "      <td>NaN</td>\n",
       "      <td>NaN</td>\n",
       "      <td>NaN</td>\n",
       "      <td>NaN</td>\n",
       "      <td>NaN</td>\n",
       "      <td>NaN</td>\n",
       "    </tr>\n",
       "    <tr>\n",
       "      <th>3</th>\n",
       "      <td>VMC</td>\n",
       "      <td>Vulcan Materials Company</td>\n",
       "      <td>US Stocks:Materials</td>\n",
       "      <td>NaN</td>\n",
       "      <td>NaN</td>\n",
       "      <td>NaN</td>\n",
       "      <td>NaN</td>\n",
       "      <td>NaN</td>\n",
       "      <td>NaN</td>\n",
       "      <td>NaN</td>\n",
       "      <td>NaN</td>\n",
       "    </tr>\n",
       "    <tr>\n",
       "      <th>4</th>\n",
       "      <td>ADTN</td>\n",
       "      <td>ADTRAN</td>\n",
       "      <td>US Stocks:Technology</td>\n",
       "      <td>NaN</td>\n",
       "      <td>NaN</td>\n",
       "      <td>NaN</td>\n",
       "      <td>NaN</td>\n",
       "      <td>NaN</td>\n",
       "      <td>NaN</td>\n",
       "      <td>NaN</td>\n",
       "      <td>NaN</td>\n",
       "    </tr>\n",
       "    <tr>\n",
       "      <th>5</th>\n",
       "      <td>PRA</td>\n",
       "      <td>ProAssurance Corporation</td>\n",
       "      <td>US Stocks:Financials</td>\n",
       "      <td>NaN</td>\n",
       "      <td>NaN</td>\n",
       "      <td>NaN</td>\n",
       "      <td>NaN</td>\n",
       "      <td>NaN</td>\n",
       "      <td>NaN</td>\n",
       "      <td>NaN</td>\n",
       "      <td>NaN</td>\n",
       "    </tr>\n",
       "    <tr>\n",
       "      <th>6</th>\n",
       "      <td>TBRG</td>\n",
       "      <td>TruBridge, Inc.</td>\n",
       "      <td>US Stocks:Healthcare</td>\n",
       "      <td>NaN</td>\n",
       "      <td>NaN</td>\n",
       "      <td>NaN</td>\n",
       "      <td>NaN</td>\n",
       "      <td>NaN</td>\n",
       "      <td>NaN</td>\n",
       "      <td>NaN</td>\n",
       "      <td>NaN</td>\n",
       "    </tr>\n",
       "    <tr>\n",
       "      <th>7</th>\n",
       "      <td>MPW</td>\n",
       "      <td>Medical Properties Trust, Inc.</td>\n",
       "      <td>US Stocks:Real Estate</td>\n",
       "      <td>NaN</td>\n",
       "      <td>NaN</td>\n",
       "      <td>NaN</td>\n",
       "      <td>NaN</td>\n",
       "      <td>NaN</td>\n",
       "      <td>NaN</td>\n",
       "      <td>NaN</td>\n",
       "      <td>NaN</td>\n",
       "    </tr>\n",
       "    <tr>\n",
       "      <th>8</th>\n",
       "      <td>LAKE</td>\n",
       "      <td>Lakeland Industries, Inc.</td>\n",
       "      <td>US Stocks:Consumer Staples</td>\n",
       "      <td>NaN</td>\n",
       "      <td>NaN</td>\n",
       "      <td>NaN</td>\n",
       "      <td>NaN</td>\n",
       "      <td>NaN</td>\n",
       "      <td>NaN</td>\n",
       "      <td>NaN</td>\n",
       "      <td>NaN</td>\n",
       "    </tr>\n",
       "  </tbody>\n",
       "</table>\n",
       "</div>"
      ],
      "text/plain": [
       "  Investment Option                     Description  \\\n",
       "0              ROAD       Construction Partners Inc   \n",
       "1               EHC                Encompass Health   \n",
       "2                RF               Regions Financial   \n",
       "3               VMC        Vulcan Materials Company   \n",
       "4              ADTN                          ADTRAN   \n",
       "5               PRA        ProAssurance Corporation   \n",
       "6              TBRG                 TruBridge, Inc.   \n",
       "7               MPW  Medical Properties Trust, Inc.   \n",
       "8              LAKE       Lakeland Industries, Inc.   \n",
       "\n",
       "                  Asset Class  1 mo  3 mo  1 Yr  3 Yr  5 Yr  Vola  DS Vola  \\\n",
       "0       US Stocks:Industrials   NaN   NaN   NaN   NaN   NaN   NaN      NaN   \n",
       "1        US Stocks:Healthcare   NaN   NaN   NaN   NaN   NaN   NaN      NaN   \n",
       "2        US Stocks:Financials   NaN   NaN   NaN   NaN   NaN   NaN      NaN   \n",
       "3         US Stocks:Materials   NaN   NaN   NaN   NaN   NaN   NaN      NaN   \n",
       "4        US Stocks:Technology   NaN   NaN   NaN   NaN   NaN   NaN      NaN   \n",
       "5        US Stocks:Financials   NaN   NaN   NaN   NaN   NaN   NaN      NaN   \n",
       "6        US Stocks:Healthcare   NaN   NaN   NaN   NaN   NaN   NaN      NaN   \n",
       "7       US Stocks:Real Estate   NaN   NaN   NaN   NaN   NaN   NaN      NaN   \n",
       "8  US Stocks:Consumer Staples   NaN   NaN   NaN   NaN   NaN   NaN      NaN   \n",
       "\n",
       "   Std Dev  \n",
       "0      NaN  \n",
       "1      NaN  \n",
       "2      NaN  \n",
       "3      NaN  \n",
       "4      NaN  \n",
       "5      NaN  \n",
       "6      NaN  \n",
       "7      NaN  \n",
       "8      NaN  "
      ]
     },
     "execution_count": 5,
     "metadata": {},
     "output_type": "execute_result"
    }
   ],
   "source": [
    "# Read in investment options input csv.\n",
    "df = pd.read_csv('investment-options-in.csv', skip_blank_lines=True, comment='#')\n",
    "symbols = list(df['Investment Option'])\n",
    "df"
   ]
  },
  {
   "cell_type": "code",
   "execution_count": 6,
   "metadata": {},
   "outputs": [],
   "source": [
    "# Eliminate repeat symbols.\n",
    "symbols = set(list(symbols))"
   ]
  },
  {
   "cell_type": "code",
   "execution_count": 7,
   "metadata": {},
   "outputs": [
    {
     "name": "stdout",
     "output_type": "stream",
     "text": [
      "MPW TBRG LAKE PRA EHC ADTN ROAD RF VMC \n"
     ]
    }
   ],
   "source": [
    "# Get the timeseries for the symbols and compile into a single csv.\n",
    "bb.fetch_timeseries(symbols, refresh=refresh_timeseries)\n",
    "bb.compile_timeseries(symbols)"
   ]
  },
  {
   "cell_type": "code",
   "execution_count": 8,
   "metadata": {},
   "outputs": [
    {
     "data": {
      "text/html": [
       "<div>\n",
       "<style scoped>\n",
       "    .dataframe tbody tr th:only-of-type {\n",
       "        vertical-align: middle;\n",
       "    }\n",
       "\n",
       "    .dataframe tbody tr th {\n",
       "        vertical-align: top;\n",
       "    }\n",
       "\n",
       "    .dataframe thead th {\n",
       "        text-align: right;\n",
       "    }\n",
       "</style>\n",
       "<table border=\"1\" class=\"dataframe\">\n",
       "  <thead>\n",
       "    <tr style=\"text-align: right;\">\n",
       "      <th></th>\n",
       "      <th>MPW</th>\n",
       "      <th>TBRG</th>\n",
       "      <th>LAKE</th>\n",
       "      <th>PRA</th>\n",
       "      <th>EHC</th>\n",
       "      <th>ADTN</th>\n",
       "      <th>ROAD</th>\n",
       "      <th>RF</th>\n",
       "      <th>VMC</th>\n",
       "    </tr>\n",
       "    <tr>\n",
       "      <th>Date</th>\n",
       "      <th></th>\n",
       "      <th></th>\n",
       "      <th></th>\n",
       "      <th></th>\n",
       "      <th></th>\n",
       "      <th></th>\n",
       "      <th></th>\n",
       "      <th></th>\n",
       "      <th></th>\n",
       "    </tr>\n",
       "  </thead>\n",
       "  <tbody>\n",
       "    <tr>\n",
       "      <th>2019-01-02</th>\n",
       "      <td>9.94</td>\n",
       "      <td>25.00</td>\n",
       "      <td>10.43</td>\n",
       "      <td>36.80</td>\n",
       "      <td>44.92</td>\n",
       "      <td>9.58</td>\n",
       "      <td>9.56</td>\n",
       "      <td>10.72</td>\n",
       "      <td>92.51</td>\n",
       "    </tr>\n",
       "    <tr>\n",
       "      <th>2019-01-03</th>\n",
       "      <td>10.25</td>\n",
       "      <td>24.87</td>\n",
       "      <td>10.33</td>\n",
       "      <td>36.43</td>\n",
       "      <td>44.12</td>\n",
       "      <td>9.61</td>\n",
       "      <td>9.66</td>\n",
       "      <td>10.70</td>\n",
       "      <td>91.56</td>\n",
       "    </tr>\n",
       "    <tr>\n",
       "      <th>2019-01-04</th>\n",
       "      <td>10.21</td>\n",
       "      <td>25.42</td>\n",
       "      <td>10.67</td>\n",
       "      <td>37.99</td>\n",
       "      <td>45.20</td>\n",
       "      <td>9.94</td>\n",
       "      <td>9.55</td>\n",
       "      <td>11.10</td>\n",
       "      <td>96.25</td>\n",
       "    </tr>\n",
       "    <tr>\n",
       "      <th>2019-01-07</th>\n",
       "      <td>10.38</td>\n",
       "      <td>25.81</td>\n",
       "      <td>10.92</td>\n",
       "      <td>37.84</td>\n",
       "      <td>46.33</td>\n",
       "      <td>10.19</td>\n",
       "      <td>9.75</td>\n",
       "      <td>11.29</td>\n",
       "      <td>98.16</td>\n",
       "    </tr>\n",
       "    <tr>\n",
       "      <th>2019-01-08</th>\n",
       "      <td>10.57</td>\n",
       "      <td>26.18</td>\n",
       "      <td>11.27</td>\n",
       "      <td>37.69</td>\n",
       "      <td>47.31</td>\n",
       "      <td>10.45</td>\n",
       "      <td>10.49</td>\n",
       "      <td>11.40</td>\n",
       "      <td>97.77</td>\n",
       "    </tr>\n",
       "    <tr>\n",
       "      <th>...</th>\n",
       "      <td>...</td>\n",
       "      <td>...</td>\n",
       "      <td>...</td>\n",
       "      <td>...</td>\n",
       "      <td>...</td>\n",
       "      <td>...</td>\n",
       "      <td>...</td>\n",
       "      <td>...</td>\n",
       "      <td>...</td>\n",
       "    </tr>\n",
       "    <tr>\n",
       "      <th>2025-01-27</th>\n",
       "      <td>4.65</td>\n",
       "      <td>22.98</td>\n",
       "      <td>23.10</td>\n",
       "      <td>15.20</td>\n",
       "      <td>96.35</td>\n",
       "      <td>9.49</td>\n",
       "      <td>79.55</td>\n",
       "      <td>24.77</td>\n",
       "      <td>274.99</td>\n",
       "    </tr>\n",
       "    <tr>\n",
       "      <th>2025-01-28</th>\n",
       "      <td>4.45</td>\n",
       "      <td>23.60</td>\n",
       "      <td>24.25</td>\n",
       "      <td>15.26</td>\n",
       "      <td>96.78</td>\n",
       "      <td>9.63</td>\n",
       "      <td>78.80</td>\n",
       "      <td>24.75</td>\n",
       "      <td>275.10</td>\n",
       "    </tr>\n",
       "    <tr>\n",
       "      <th>2025-01-29</th>\n",
       "      <td>4.40</td>\n",
       "      <td>24.25</td>\n",
       "      <td>24.40</td>\n",
       "      <td>15.27</td>\n",
       "      <td>95.57</td>\n",
       "      <td>9.82</td>\n",
       "      <td>79.31</td>\n",
       "      <td>24.58</td>\n",
       "      <td>272.20</td>\n",
       "    </tr>\n",
       "    <tr>\n",
       "      <th>2025-01-30</th>\n",
       "      <td>4.70</td>\n",
       "      <td>24.60</td>\n",
       "      <td>24.24</td>\n",
       "      <td>15.01</td>\n",
       "      <td>98.41</td>\n",
       "      <td>10.65</td>\n",
       "      <td>80.02</td>\n",
       "      <td>24.77</td>\n",
       "      <td>276.36</td>\n",
       "    </tr>\n",
       "    <tr>\n",
       "      <th>2025-01-31</th>\n",
       "      <td>4.69</td>\n",
       "      <td>24.82</td>\n",
       "      <td>23.19</td>\n",
       "      <td>14.96</td>\n",
       "      <td>99.27</td>\n",
       "      <td>10.37</td>\n",
       "      <td>80.40</td>\n",
       "      <td>24.64</td>\n",
       "      <td>274.15</td>\n",
       "    </tr>\n",
       "  </tbody>\n",
       "</table>\n",
       "<p>1530 rows × 9 columns</p>\n",
       "</div>"
      ],
      "text/plain": [
       "             MPW  TBRG  LAKE   PRA   EHC  ADTN  ROAD    RF    VMC\n",
       "Date                                                             \n",
       "2019-01-02  9.94 25.00 10.43 36.80 44.92  9.58  9.56 10.72  92.51\n",
       "2019-01-03 10.25 24.87 10.33 36.43 44.12  9.61  9.66 10.70  91.56\n",
       "2019-01-04 10.21 25.42 10.67 37.99 45.20  9.94  9.55 11.10  96.25\n",
       "2019-01-07 10.38 25.81 10.92 37.84 46.33 10.19  9.75 11.29  98.16\n",
       "2019-01-08 10.57 26.18 11.27 37.69 47.31 10.45 10.49 11.40  97.77\n",
       "...          ...   ...   ...   ...   ...   ...   ...   ...    ...\n",
       "2025-01-27  4.65 22.98 23.10 15.20 96.35  9.49 79.55 24.77 274.99\n",
       "2025-01-28  4.45 23.60 24.25 15.26 96.78  9.63 78.80 24.75 275.10\n",
       "2025-01-29  4.40 24.25 24.40 15.27 95.57  9.82 79.31 24.58 272.20\n",
       "2025-01-30  4.70 24.60 24.24 15.01 98.41 10.65 80.02 24.77 276.36\n",
       "2025-01-31  4.69 24.82 23.19 14.96 99.27 10.37 80.40 24.64 274.15\n",
       "\n",
       "[1530 rows x 9 columns]"
      ]
     },
     "execution_count": 8,
     "metadata": {},
     "output_type": "execute_result"
    }
   ],
   "source": [
    "# Read symbols timeseries into a dataframe.\n",
    "df = pd.read_csv('symbols-timeseries.csv', skip_blank_lines=True, comment='#')\n",
    "df.set_index(\"Date\", inplace=True)\n",
    "df"
   ]
  },
  {
   "cell_type": "code",
   "execution_count": 9,
   "metadata": {},
   "outputs": [
    {
     "data": {
      "text/plain": [
       "MPW     63.19\n",
       "TBRG   135.26\n",
       "LAKE    27.53\n",
       "PRA      8.80\n",
       "EHC     39.13\n",
       "ADTN    61.28\n",
       "ROAD    78.95\n",
       "RF      32.37\n",
       "VMC     19.50\n",
       "dtype: float64"
      ]
     },
     "execution_count": 9,
     "metadata": {},
     "output_type": "execute_result"
    }
   ],
   "source": [
    "annual_returns = bb.annualized_returns(df, timeperiod='daily', years=1)\n",
    "annual_returns"
   ]
  },
  {
   "cell_type": "code",
   "execution_count": 10,
   "metadata": {},
   "outputs": [],
   "source": [
    "# Calculate 1 month, 3 months, 1 year, 3 year, and 5 year annualized returns.\n",
    "annual_returns_1mo = bb.annualized_returns(df, timeperiod='daily', years=1/12)\n",
    "annual_returns_3mo = bb.annualized_returns(df, timeperiod='daily', years=3/12)\n",
    "annual_returns_1yr = bb.annualized_returns(df, timeperiod='daily', years=1)\n",
    "annual_returns_3yr = bb.annualized_returns(df, timeperiod='daily', years=3)\n",
    "annual_returns_5yr = bb.annualized_returns(df, timeperiod='daily', years=5)"
   ]
  },
  {
   "cell_type": "code",
   "execution_count": 11,
   "metadata": {},
   "outputs": [],
   "source": [
    "# Calculate 20 day annualized volatility.\n",
    "daily_returns = df.pct_change()\n",
    "years = bb.TRADING_DAYS_PER_MONTH / bb.TRADING_DAYS_PER_YEAR\n",
    "vola = bb.annualized_standard_deviation(daily_returns, timeperiod='daily', years=years)"
   ]
  },
  {
   "cell_type": "code",
   "execution_count": 12,
   "metadata": {},
   "outputs": [],
   "source": [
    "# Calculate 20 day annualized downside volatility.\n",
    "ds_vola = bb.annualized_standard_deviation(daily_returns, timeperiod='daily', years=years, downside=True)"
   ]
  },
  {
   "cell_type": "code",
   "execution_count": 13,
   "metadata": {},
   "outputs": [],
   "source": [
    "# Resample df on a monthly basis.\n",
    "df.index = pd.to_datetime(df.index)\n",
    "monthly = df.resample('ME').ffill()"
   ]
  },
  {
   "cell_type": "code",
   "execution_count": 14,
   "metadata": {},
   "outputs": [],
   "source": [
    "# Calculate monthly returns.\n",
    "monthly_returns = monthly.pct_change()"
   ]
  },
  {
   "cell_type": "code",
   "execution_count": 15,
   "metadata": {},
   "outputs": [],
   "source": [
    "# Calculate 3 year annualized standard deviation.\n",
    "std_dev = bb.annualized_standard_deviation(monthly_returns, timeperiod='monthly', years=3)"
   ]
  },
  {
   "cell_type": "code",
   "execution_count": 16,
   "metadata": {},
   "outputs": [],
   "source": [
    "# Read investment-options-in.csv\n",
    "lines = []\n",
    "with open('investment-options-in.csv', 'r') as f:\n",
    "    lines = [line.strip() for line in f]\n",
    "#lines"
   ]
  },
  {
   "cell_type": "code",
   "execution_count": 17,
   "metadata": {},
   "outputs": [],
   "source": [
    "# For each etf, write out the 1 Yr, 3 Yr, 5 Yr, and std dev.\n",
    "out = []\n",
    "for line in lines:\n",
    "    # Copy empty and comment lines.\n",
    "    if not line or line.startswith('#'):\n",
    "        out.append(line)\n",
    "        continue\n",
    "    # Split line by comma delimiter; strip the fields.\n",
    "    fields = line.split(',')\n",
    "    fields = [field.strip() for field in fields]\n",
    "    symbol = fields[0].strip('\\\"')\n",
    "    # Copy header.\n",
    "    if symbol == 'Investment Option':\n",
    "        out.append(line)\n",
    "        continue\n",
    "    ret_1mo = annual_returns_1mo[symbol]\n",
    "    ret_3mo = annual_returns_3mo[symbol]\n",
    "    ret_1yr = annual_returns_1yr[symbol]\n",
    "    ret_3yr = annual_returns_3yr[symbol]\n",
    "    ret_5yr = annual_returns_5yr[symbol]\n",
    "    \n",
    "    if np.isnan(ret_3yr): ret_3yr = ret_1yr\n",
    "    if np.isnan(ret_5yr): ret_5yr = ret_3yr\n",
    "\n",
    "    _vola = vola[symbol]*100\n",
    "    _ds_vola = ds_vola[symbol]*100\n",
    "    sd = std_dev[symbol]*100\n",
    "\n",
    "    out.append('{},{},{},\"{:0.2f}\",\"{:0.2f}\",\"{:0.2f}\",\"{:0.2f}\",\"{:0.2f}\",\"{:0.2f}\",\"{:0.2f}\",\"{:0.2f}\"'\n",
    "               .format(fields[0], fields[1], fields[2],\n",
    "                       ret_1mo, ret_3mo, ret_1yr, ret_3yr, ret_5yr, _vola, _ds_vola, sd)) "
   ]
  },
  {
   "cell_type": "code",
   "execution_count": 18,
   "metadata": {},
   "outputs": [],
   "source": [
    "# Write out asset-classes.csv\n",
    "with open('investment-options.csv', 'w') as f:\n",
    "    for line in out:\n",
    "        f.write(line + '\\n')"
   ]
  },
  {
   "cell_type": "code",
   "execution_count": null,
   "metadata": {},
   "outputs": [],
   "source": []
  }
 ],
 "metadata": {
  "kernelspec": {
   "display_name": "Python 3 (ipykernel)",
   "language": "python",
   "name": "python3"
  },
  "language_info": {
   "codemirror_mode": {
    "name": "ipython",
    "version": 3
   },
   "file_extension": ".py",
   "mimetype": "text/x-python",
   "name": "python",
   "nbconvert_exporter": "python",
   "pygments_lexer": "ipython3",
   "version": "3.10.12"
  },
  "latex_envs": {
   "LaTeX_envs_menu_present": true,
   "autoclose": false,
   "autocomplete": true,
   "bibliofile": "biblio.bib",
   "cite_by": "apalike",
   "current_citInitial": 1,
   "eqLabelWithNumbers": true,
   "eqNumInitial": 1,
   "hotkeys": {
    "equation": "Ctrl-E",
    "itemize": "Ctrl-I"
   },
   "labels_anchors": false,
   "latex_user_defs": false,
   "report_style_numbering": false,
   "user_envs_cfg": false
  }
 },
 "nbformat": 4,
 "nbformat_minor": 4
}
